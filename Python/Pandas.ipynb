{
 "cells": [
  {
   "cell_type": "markdown",
   "id": "710cf042",
   "metadata": {},
   "source": [
    "# Pandas\n",
    "## Dataframe Basic"
   ]
  },
  {
   "cell_type": "code",
   "execution_count": 28,
   "id": "3c61f1e6",
   "metadata": {},
   "outputs": [],
   "source": [
    "import pandas as pd\n",
    "import sqlite3\n",
    "import numpy as np"
   ]
  },
  {
   "cell_type": "markdown",
   "id": "1896e33b",
   "metadata": {},
   "source": [
    "# 1. Creating，Reading，Writing Dataframe"
   ]
  },
  {
   "cell_type": "markdown",
   "id": "e03549a7",
   "metadata": {},
   "source": [
    "## (1) using `pd.Series([],index=[],name=)` to create series\n",
    "`series.index`: return the index of sereis\\\n",
    "`series.values`:return the values of series"
   ]
  },
  {
   "cell_type": "code",
   "execution_count": 7,
   "id": "c1a17c12",
   "metadata": {
    "scrolled": true
   },
   "outputs": [
    {
     "name": "stdout",
     "output_type": "stream",
     "text": [
      "Flour     4 cups\n",
      "Milk       1 cup\n",
      "Eggs     2 large\n",
      "Spam       1 can\n",
      "Name: Dinner, dtype: object\n",
      "Index(['Flour', 'Milk', 'Eggs', 'Spam'], dtype='object')\n",
      "['4 cups' '1 cup' '2 large' '1 can']\n"
     ]
    }
   ],
   "source": [
    "ingredients = pd.Series(['4 cups', '1 cup', '2 large', '1 can'],index=['Flour','Milk','Eggs','Spam'],name='Dinner')\n",
    "print(ingredients)\n",
    "print(ingredients.index)\n",
    "print(ingredients.values)"
   ]
  },
  {
   "cell_type": "markdown",
   "id": "241eaaf9",
   "metadata": {},
   "source": [
    "## using series to create dataframe "
   ]
  },
  {
   "cell_type": "code",
   "execution_count": 15,
   "id": "5cbf79d4",
   "metadata": {},
   "outputs": [
    {
     "data": {
      "text/html": [
       "<div>\n",
       "<style scoped>\n",
       "    .dataframe tbody tr th:only-of-type {\n",
       "        vertical-align: middle;\n",
       "    }\n",
       "\n",
       "    .dataframe tbody tr th {\n",
       "        vertical-align: top;\n",
       "    }\n",
       "\n",
       "    .dataframe thead th {\n",
       "        text-align: right;\n",
       "    }\n",
       "</style>\n",
       "<table border=\"1\" class=\"dataframe\">\n",
       "  <thead>\n",
       "    <tr style=\"text-align: right;\">\n",
       "      <th></th>\n",
       "      <th>A</th>\n",
       "    </tr>\n",
       "  </thead>\n",
       "  <tbody>\n",
       "    <tr>\n",
       "      <th>0</th>\n",
       "      <td>1</td>\n",
       "    </tr>\n",
       "    <tr>\n",
       "      <th>1</th>\n",
       "      <td>2</td>\n",
       "    </tr>\n",
       "    <tr>\n",
       "      <th>2</th>\n",
       "      <td>3</td>\n",
       "    </tr>\n",
       "  </tbody>\n",
       "</table>\n",
       "</div>"
      ],
      "text/plain": [
       "   A\n",
       "0  1\n",
       "1  2\n",
       "2  3"
      ]
     },
     "execution_count": 15,
     "metadata": {},
     "output_type": "execute_result"
    }
   ],
   "source": [
    "# 通过Series对象创建DataFrame\n",
    "series = pd.Series([1, 2, 3])\n",
    "df = pd.DataFrame({'A': series})\n",
    "df"
   ]
  },
  {
   "cell_type": "markdown",
   "id": "4b62c671",
   "metadata": {},
   "source": [
    "## (2) using `pd.DataFrame({'col_name':[],..},index=['index_name',])` to create dataframe"
   ]
  },
  {
   "cell_type": "code",
   "execution_count": 8,
   "id": "32a87ebe",
   "metadata": {
    "scrolled": true
   },
   "outputs": [
    {
     "data": {
      "text/html": [
       "<div>\n",
       "<style scoped>\n",
       "    .dataframe tbody tr th:only-of-type {\n",
       "        vertical-align: middle;\n",
       "    }\n",
       "\n",
       "    .dataframe tbody tr th {\n",
       "        vertical-align: top;\n",
       "    }\n",
       "\n",
       "    .dataframe thead th {\n",
       "        text-align: right;\n",
       "    }\n",
       "</style>\n",
       "<table border=\"1\" class=\"dataframe\">\n",
       "  <thead>\n",
       "    <tr style=\"text-align: right;\">\n",
       "      <th></th>\n",
       "      <th>Apples</th>\n",
       "      <th>Bananas</th>\n",
       "    </tr>\n",
       "  </thead>\n",
       "  <tbody>\n",
       "    <tr>\n",
       "      <th>2017 Sales</th>\n",
       "      <td>35</td>\n",
       "      <td>21</td>\n",
       "    </tr>\n",
       "    <tr>\n",
       "      <th>2018 Sales</th>\n",
       "      <td>41</td>\n",
       "      <td>34</td>\n",
       "    </tr>\n",
       "  </tbody>\n",
       "</table>\n",
       "</div>"
      ],
      "text/plain": [
       "            Apples  Bananas\n",
       "2017 Sales      35       21\n",
       "2018 Sales      41       34"
      ]
     },
     "execution_count": 8,
     "metadata": {},
     "output_type": "execute_result"
    }
   ],
   "source": [
    "fruit_sales = pd.DataFrame({'Apples':[35,41],'Bananas':[21,34]},index=['2017 Sales','2018 Sales'])\n",
    "fruit_sales"
   ]
  },
  {
   "cell_type": "markdown",
   "id": "e852345a",
   "metadata": {},
   "source": [
    "## （3）using a list to create dataframe"
   ]
  },
  {
   "cell_type": "code",
   "execution_count": 9,
   "id": "f9baaf99",
   "metadata": {},
   "outputs": [
    {
     "data": {
      "text/html": [
       "<div>\n",
       "<style scoped>\n",
       "    .dataframe tbody tr th:only-of-type {\n",
       "        vertical-align: middle;\n",
       "    }\n",
       "\n",
       "    .dataframe tbody tr th {\n",
       "        vertical-align: top;\n",
       "    }\n",
       "\n",
       "    .dataframe thead th {\n",
       "        text-align: right;\n",
       "    }\n",
       "</style>\n",
       "<table border=\"1\" class=\"dataframe\">\n",
       "  <thead>\n",
       "    <tr style=\"text-align: right;\">\n",
       "      <th></th>\n",
       "      <th>Name</th>\n",
       "      <th>Age</th>\n",
       "    </tr>\n",
       "  </thead>\n",
       "  <tbody>\n",
       "    <tr>\n",
       "      <th>0</th>\n",
       "      <td>Alice</td>\n",
       "      <td>25</td>\n",
       "    </tr>\n",
       "    <tr>\n",
       "      <th>1</th>\n",
       "      <td>Bob</td>\n",
       "      <td>30</td>\n",
       "    </tr>\n",
       "    <tr>\n",
       "      <th>2</th>\n",
       "      <td>Charlie</td>\n",
       "      <td>35</td>\n",
       "    </tr>\n",
       "  </tbody>\n",
       "</table>\n",
       "</div>"
      ],
      "text/plain": [
       "      Name  Age\n",
       "0    Alice   25\n",
       "1      Bob   30\n",
       "2  Charlie   35"
      ]
     },
     "execution_count": 9,
     "metadata": {},
     "output_type": "execute_result"
    }
   ],
   "source": [
    "# 从列表创建DataFrame\n",
    "data = [['Alice', 25], ['Bob', 30], ['Charlie', 35]]\n",
    "df = pd.DataFrame(data, columns=['Name', 'Age'])\n",
    "df"
   ]
  },
  {
   "cell_type": "markdown",
   "id": "53ed8ddd",
   "metadata": {},
   "source": [
    "## （4）using a dictionary to create dataframe"
   ]
  },
  {
   "cell_type": "code",
   "execution_count": 10,
   "id": "df72e906",
   "metadata": {},
   "outputs": [
    {
     "data": {
      "text/html": [
       "<div>\n",
       "<style scoped>\n",
       "    .dataframe tbody tr th:only-of-type {\n",
       "        vertical-align: middle;\n",
       "    }\n",
       "\n",
       "    .dataframe tbody tr th {\n",
       "        vertical-align: top;\n",
       "    }\n",
       "\n",
       "    .dataframe thead th {\n",
       "        text-align: right;\n",
       "    }\n",
       "</style>\n",
       "<table border=\"1\" class=\"dataframe\">\n",
       "  <thead>\n",
       "    <tr style=\"text-align: right;\">\n",
       "      <th></th>\n",
       "      <th>Name</th>\n",
       "      <th>Age</th>\n",
       "    </tr>\n",
       "  </thead>\n",
       "  <tbody>\n",
       "    <tr>\n",
       "      <th>0</th>\n",
       "      <td>Alice</td>\n",
       "      <td>25</td>\n",
       "    </tr>\n",
       "    <tr>\n",
       "      <th>1</th>\n",
       "      <td>Bob</td>\n",
       "      <td>30</td>\n",
       "    </tr>\n",
       "    <tr>\n",
       "      <th>2</th>\n",
       "      <td>Charlie</td>\n",
       "      <td>35</td>\n",
       "    </tr>\n",
       "  </tbody>\n",
       "</table>\n",
       "</div>"
      ],
      "text/plain": [
       "      Name  Age\n",
       "0    Alice   25\n",
       "1      Bob   30\n",
       "2  Charlie   35"
      ]
     },
     "execution_count": 10,
     "metadata": {},
     "output_type": "execute_result"
    }
   ],
   "source": [
    "# 从字典创建DataFrame\n",
    "data = {'Name': ['Alice', 'Bob', 'Charlie'],\n",
    "        'Age': [25, 30, 35]}\n",
    "df = pd.DataFrame(data)\n",
    "df"
   ]
  },
  {
   "cell_type": "markdown",
   "id": "ffddd7c7",
   "metadata": {},
   "source": [
    "## (5) using numpy array to create dataframe"
   ]
  },
  {
   "cell_type": "code",
   "execution_count": 13,
   "id": "c6bbcdb8",
   "metadata": {
    "scrolled": true
   },
   "outputs": [
    {
     "data": {
      "text/html": [
       "<div>\n",
       "<style scoped>\n",
       "    .dataframe tbody tr th:only-of-type {\n",
       "        vertical-align: middle;\n",
       "    }\n",
       "\n",
       "    .dataframe tbody tr th {\n",
       "        vertical-align: top;\n",
       "    }\n",
       "\n",
       "    .dataframe thead th {\n",
       "        text-align: right;\n",
       "    }\n",
       "</style>\n",
       "<table border=\"1\" class=\"dataframe\">\n",
       "  <thead>\n",
       "    <tr style=\"text-align: right;\">\n",
       "      <th></th>\n",
       "      <th>A</th>\n",
       "      <th>B</th>\n",
       "      <th>C</th>\n",
       "    </tr>\n",
       "  </thead>\n",
       "  <tbody>\n",
       "    <tr>\n",
       "      <th>0</th>\n",
       "      <td>1</td>\n",
       "      <td>2</td>\n",
       "      <td>3</td>\n",
       "    </tr>\n",
       "    <tr>\n",
       "      <th>1</th>\n",
       "      <td>4</td>\n",
       "      <td>5</td>\n",
       "      <td>6</td>\n",
       "    </tr>\n",
       "  </tbody>\n",
       "</table>\n",
       "</div>"
      ],
      "text/plain": [
       "   A  B  C\n",
       "0  1  2  3\n",
       "1  4  5  6"
      ]
     },
     "execution_count": 13,
     "metadata": {},
     "output_type": "execute_result"
    }
   ],
   "source": [
    "# 使用NumPy数组创建DataFrame\n",
    "data = np.array([[1, 2, 3], [4, 5, 6]])\n",
    "df = pd.DataFrame(data, columns=['A', 'B', 'C'])\n",
    "df"
   ]
  },
  {
   "cell_type": "markdown",
   "id": "81720d73",
   "metadata": {},
   "source": [
    "## (6) Data type\n",
    "`type()` returns the type of the object (any object in python)  \n",
    "\n",
    "`.dtype` returns the element type in a numpy array"
   ]
  },
  {
   "cell_type": "code",
   "execution_count": 3,
   "id": "522f13c1",
   "metadata": {},
   "outputs": [
    {
     "name": "stdout",
     "output_type": "stream",
     "text": [
      "<class 'pandas.core.series.Series'>\n",
      "datetime64[ns]\n"
     ]
    }
   ],
   "source": [
    "\n",
    "# 创建一个示例 DataFrame\n",
    "data = {'date': ['2023-10-23', '2023-10-24', '2023-10-25']}\n",
    "df = pd.DataFrame(data)\n",
    "\n",
    "# 将 \"date\" 列转换为 datetime 格式\n",
    "df['date'] = pd.to_datetime(df['date'])\n",
    "\n",
    "# 打印 Pandas Series 对象的类型\n",
    "print(type(df.date))  # 输出: <class 'pandas.core.series.Series'>\n",
    "\n",
    "# 打印 Series 中数据的数据类型\n",
    "print(df.date.dtype)  # 输出: datetime64[ns]\n"
   ]
  },
  {
   "cell_type": "markdown",
   "id": "f6e36400",
   "metadata": {},
   "source": [
    "# 2. Reading and Storing files--csv/xls/xlsx"
   ]
  },
  {
   "cell_type": "markdown",
   "id": "037b963d",
   "metadata": {},
   "source": [
    "### (1) `read_csv` 用于从逗号分隔值（CSV）文件中读取数据。\n",
    "语法示例：`pandas.read_csv(filepath_or_buffer, sep=',', header='infer',index_col=0 ...)`  \n",
    "`filepath_or_buffer` 是 CSV 文件的路径或 URL。  \n",
    "`sep` 参数表示分隔符，默认为逗号，但你可以指定不同的分隔符。  \n",
    "`header` 参数表示是否使用第一行作为列名，通常设置为 'infer'，表示自动检测。  \n",
    "`index_col=0` 表示设置index列不是默认的数值行标签(0,1,2,...)\n",
    "其他参数允许你指定数据的编码、日期格式等。"
   ]
  },
  {
   "cell_type": "markdown",
   "id": "31f52ba5",
   "metadata": {},
   "source": [
    "### (2) `read_excel`  用于从 Excel 文件中读取数据的函数\n",
    "`io`: Excel 文件的路径或 URL  \n",
    "`sheet_name`: 要读取的工作表的名称或索引，默认为 0（第一个工作表）。  \n",
    "`header`: 用作列名的行，默认为 0（第一行）。  \n",
    "`names`: 可选，用于指定列名的列表，如果不指定将使用 Excel 文件中的列名。  \n",
    "`index_col`: 可选，用于指定作为行标签的列，默认为 None。  \n",
    "`usecols`: 可选，用于指定要读取的列的列表。"
   ]
  },
  {
   "cell_type": "markdown",
   "id": "3c429d26",
   "metadata": {},
   "source": [
    "### (3) `.to_csv()`   `.to_excel()` 用于将dataframe文件存储与本地 作为csv或excel文件  "
   ]
  },
  {
   "cell_type": "markdown",
   "id": "c6ddcb4a",
   "metadata": {},
   "source": [
    "### (4). pd.read_html()\n",
    "使用pandas的read_html函数直接获取指定url网页中的所有表格,它会搜索 HTML 中的 `<table>` 标签，并尝试将它们解析为 DataFrame 对象。这个函数特别适合用于快速提取网页上格式良好的表格数据，而无需进行复杂的 HTML 解析或爬虫编程。\n",
    "\n",
    "如果 HTML 中包含多个表格，read_html() 会返回一个 DataFrame **列表**，列表中的每个元素 对应一个表格。\n",
    "\n",
    "灵活性：该函数可以处理来自网页 URL 或本地 HTML 文件的内容，也可以处理已经加载到字符串变量中的 HTML 内容。\n",
    "- `read_html('url')`:获取指定网页url的内容\n",
    "- `response=requests.get()`\\\n",
    "`read_html(response.text)`:获取通过get()得到的requests对象内容的text字符串形式,并转换为df\n",
    "\n",
    "\n",
    "\n",
    "\n",
    "#### 限制\n",
    "- 只限表格：read_html() 只能提取 `<table>` 标签内的数据，无法处理其他类型的 HTML 内容或结构。\n",
    "- 格式依赖：对于复杂或格式不规则的表格，read_html() 可能无法正确解析，或者需要额外的清洗和格式化工作。\n",
    "- 不含复杂互动：无法处理 JavaScript 生成或动态加载的内容，仅适用于静态 HTML 页面中的表格。"
   ]
  },
  {
   "cell_type": "markdown",
   "id": "c8fe75c8",
   "metadata": {},
   "source": [
    "#   读取数据库文件`read_sql_query`"
   ]
  },
  {
   "cell_type": "code",
   "execution_count": 29,
   "id": "80e2da0b",
   "metadata": {},
   "outputs": [
    {
     "name": "stdout",
     "output_type": "stream",
     "text": [
      "Names of all tables in the dataset\n",
      "                   name\n",
      "0      spatial_ref_sys\n",
      "1   spatialite_history\n",
      "2      sqlite_sequence\n",
      "3     geometry_columns\n",
      "4  spatial_ref_sys_aux \n",
      "\n",
      "spatialite_history:\n",
      "    event_id        table_name geometry_column  \\\n",
      "0         1   spatial_ref_sys            None   \n",
      "1         2  geometry_columns            None   \n",
      "2         3  geometry_columns            None   \n",
      "3         4  geometry_columns            None   \n",
      "4         5  geometry_columns            None   \n",
      "\n",
      "                                               event  \\\n",
      "0                         table successfully created   \n",
      "1                         table successfully created   \n",
      "2  trigger 'geometry_columns_f_table_name_insert'...   \n",
      "3  trigger 'geometry_columns_f_table_name_update'...   \n",
      "4  trigger 'geometry_columns_f_geometry_column_in...   \n",
      "\n",
      "                  timestamp ver_sqlite ver_splite  \n",
      "0  2017-05-17T22:00:26.772Z      3.9.2  4.4.0-RC0  \n",
      "1  2017-05-17T22:00:26.796Z      3.9.2  4.4.0-RC0  \n",
      "2  2017-05-17T22:00:26.796Z      3.9.2  4.4.0-RC0  \n",
      "3  2017-05-17T22:00:26.796Z      3.9.2  4.4.0-RC0  \n",
      "4  2017-05-17T22:00:26.797Z      3.9.2  4.4.0-RC0  \n"
     ]
    }
   ],
   "source": [
    "#使用 sqlite3 库连接到你的 SQLite 文件：\n",
    "conn = sqlite3.connect(\"E:/Programming/Dataset_prac/million_us_wildfires/FPA_FOD_20170508.sqlite\")\n",
    "# 编写 SQL 查询，以从数据库中检索数据。例如，如果你有一个名为 \"my_table\" 的表，你可以执行以下查询：\n",
    "query = \"SELECT * FROM my_table;\"\n",
    "# 如果你不确定数据库中有哪些表，你可以使用以下查询来列出所有表的名称：\n",
    "query = \"SELECT name FROM sqlite_master WHERE type='table';\"\n",
    "# 使用 Pandas 的 read_sql_query 函数执行查询并将结果读取到 DataFrame 中：\n",
    "table_name = pd.read_sql_query(query, conn)\n",
    "print('Names of all tables in the dataset\\n',table_name.head(),'\\n')\n",
    "\n",
    "#选取某一个标存入dataframe\n",
    "query='SELECT * FROM spatialite_history'\n",
    "df1=pd.read_sql_query(query, conn)\n",
    "print('spatialite_history:\\n',df1.head())\n",
    "conn.close()\n"
   ]
  },
  {
   "cell_type": "markdown",
   "id": "7ffe5fba",
   "metadata": {},
   "source": [
    "# 3. Dataframe:  Indexing，Selecting，Assigning"
   ]
  },
  {
   "cell_type": "code",
   "execution_count": 30,
   "id": "67749848",
   "metadata": {
    "scrolled": true
   },
   "outputs": [
    {
     "data": {
      "text/html": [
       "<div>\n",
       "<style scoped>\n",
       "    .dataframe tbody tr th:only-of-type {\n",
       "        vertical-align: middle;\n",
       "    }\n",
       "\n",
       "    .dataframe tbody tr th {\n",
       "        vertical-align: top;\n",
       "    }\n",
       "\n",
       "    .dataframe thead th {\n",
       "        text-align: right;\n",
       "    }\n",
       "</style>\n",
       "<table border=\"1\" class=\"dataframe\">\n",
       "  <thead>\n",
       "    <tr style=\"text-align: right;\">\n",
       "      <th></th>\n",
       "      <th>Unnamed: 0</th>\n",
       "      <th>country</th>\n",
       "      <th>description</th>\n",
       "      <th>designation</th>\n",
       "      <th>points</th>\n",
       "      <th>price</th>\n",
       "      <th>province</th>\n",
       "      <th>region_1</th>\n",
       "      <th>region_2</th>\n",
       "      <th>taster_name</th>\n",
       "      <th>taster_twitter_handle</th>\n",
       "      <th>title</th>\n",
       "      <th>variety</th>\n",
       "      <th>winery</th>\n",
       "    </tr>\n",
       "  </thead>\n",
       "  <tbody>\n",
       "    <tr>\n",
       "      <th>0</th>\n",
       "      <td>0</td>\n",
       "      <td>Italy</td>\n",
       "      <td>Aromas include tropical fruit, broom, brimston...</td>\n",
       "      <td>Vulkà Bianco</td>\n",
       "      <td>87</td>\n",
       "      <td>NaN</td>\n",
       "      <td>Sicily &amp; Sardinia</td>\n",
       "      <td>Etna</td>\n",
       "      <td>NaN</td>\n",
       "      <td>Kerin O’Keefe</td>\n",
       "      <td>@kerinokeefe</td>\n",
       "      <td>Nicosia 2013 Vulkà Bianco  (Etna)</td>\n",
       "      <td>White Blend</td>\n",
       "      <td>Nicosia</td>\n",
       "    </tr>\n",
       "    <tr>\n",
       "      <th>1</th>\n",
       "      <td>1</td>\n",
       "      <td>Portugal</td>\n",
       "      <td>This is ripe and fruity, a wine that is smooth...</td>\n",
       "      <td>Avidagos</td>\n",
       "      <td>87</td>\n",
       "      <td>15.0</td>\n",
       "      <td>Douro</td>\n",
       "      <td>NaN</td>\n",
       "      <td>NaN</td>\n",
       "      <td>Roger Voss</td>\n",
       "      <td>@vossroger</td>\n",
       "      <td>Quinta dos Avidagos 2011 Avidagos Red (Douro)</td>\n",
       "      <td>Portuguese Red</td>\n",
       "      <td>Quinta dos Avidagos</td>\n",
       "    </tr>\n",
       "    <tr>\n",
       "      <th>2</th>\n",
       "      <td>2</td>\n",
       "      <td>US</td>\n",
       "      <td>Tart and snappy, the flavors of lime flesh and...</td>\n",
       "      <td>NaN</td>\n",
       "      <td>87</td>\n",
       "      <td>14.0</td>\n",
       "      <td>Oregon</td>\n",
       "      <td>Willamette Valley</td>\n",
       "      <td>Willamette Valley</td>\n",
       "      <td>Paul Gregutt</td>\n",
       "      <td>@paulgwine</td>\n",
       "      <td>Rainstorm 2013 Pinot Gris (Willamette Valley)</td>\n",
       "      <td>Pinot Gris</td>\n",
       "      <td>Rainstorm</td>\n",
       "    </tr>\n",
       "    <tr>\n",
       "      <th>3</th>\n",
       "      <td>3</td>\n",
       "      <td>US</td>\n",
       "      <td>Pineapple rind, lemon pith and orange blossom ...</td>\n",
       "      <td>Reserve Late Harvest</td>\n",
       "      <td>87</td>\n",
       "      <td>13.0</td>\n",
       "      <td>Michigan</td>\n",
       "      <td>Lake Michigan Shore</td>\n",
       "      <td>NaN</td>\n",
       "      <td>Alexander Peartree</td>\n",
       "      <td>NaN</td>\n",
       "      <td>St. Julian 2013 Reserve Late Harvest Riesling ...</td>\n",
       "      <td>Riesling</td>\n",
       "      <td>St. Julian</td>\n",
       "    </tr>\n",
       "    <tr>\n",
       "      <th>4</th>\n",
       "      <td>4</td>\n",
       "      <td>US</td>\n",
       "      <td>Much like the regular bottling from 2012, this...</td>\n",
       "      <td>Vintner's Reserve Wild Child Block</td>\n",
       "      <td>87</td>\n",
       "      <td>65.0</td>\n",
       "      <td>Oregon</td>\n",
       "      <td>Willamette Valley</td>\n",
       "      <td>Willamette Valley</td>\n",
       "      <td>Paul Gregutt</td>\n",
       "      <td>@paulgwine</td>\n",
       "      <td>Sweet Cheeks 2012 Vintner's Reserve Wild Child...</td>\n",
       "      <td>Pinot Noir</td>\n",
       "      <td>Sweet Cheeks</td>\n",
       "    </tr>\n",
       "  </tbody>\n",
       "</table>\n",
       "</div>"
      ],
      "text/plain": [
       "   Unnamed: 0   country                                        description  \\\n",
       "0           0     Italy  Aromas include tropical fruit, broom, brimston...   \n",
       "1           1  Portugal  This is ripe and fruity, a wine that is smooth...   \n",
       "2           2        US  Tart and snappy, the flavors of lime flesh and...   \n",
       "3           3        US  Pineapple rind, lemon pith and orange blossom ...   \n",
       "4           4        US  Much like the regular bottling from 2012, this...   \n",
       "\n",
       "                          designation  points  price           province  \\\n",
       "0                        Vulkà Bianco      87    NaN  Sicily & Sardinia   \n",
       "1                            Avidagos      87   15.0              Douro   \n",
       "2                                 NaN      87   14.0             Oregon   \n",
       "3                Reserve Late Harvest      87   13.0           Michigan   \n",
       "4  Vintner's Reserve Wild Child Block      87   65.0             Oregon   \n",
       "\n",
       "              region_1           region_2         taster_name  \\\n",
       "0                 Etna                NaN       Kerin O’Keefe   \n",
       "1                  NaN                NaN          Roger Voss   \n",
       "2    Willamette Valley  Willamette Valley        Paul Gregutt   \n",
       "3  Lake Michigan Shore                NaN  Alexander Peartree   \n",
       "4    Willamette Valley  Willamette Valley        Paul Gregutt   \n",
       "\n",
       "  taster_twitter_handle                                              title  \\\n",
       "0          @kerinokeefe                  Nicosia 2013 Vulkà Bianco  (Etna)   \n",
       "1            @vossroger      Quinta dos Avidagos 2011 Avidagos Red (Douro)   \n",
       "2           @paulgwine       Rainstorm 2013 Pinot Gris (Willamette Valley)   \n",
       "3                   NaN  St. Julian 2013 Reserve Late Harvest Riesling ...   \n",
       "4           @paulgwine   Sweet Cheeks 2012 Vintner's Reserve Wild Child...   \n",
       "\n",
       "          variety               winery  \n",
       "0     White Blend              Nicosia  \n",
       "1  Portuguese Red  Quinta dos Avidagos  \n",
       "2      Pinot Gris            Rainstorm  \n",
       "3        Riesling           St. Julian  \n",
       "4      Pinot Noir         Sweet Cheeks  "
      ]
     },
     "execution_count": 30,
     "metadata": {},
     "output_type": "execute_result"
    }
   ],
   "source": [
    "# Dataset: wine dataset with decription and region..\n",
    "import pandas as pd\n",
    "df=pd.read_csv(\"E:\\Programming\\Dataset_prac\\winemag_data\\winemag-data-130k-v2.csv\")\n",
    "df.head()\n"
   ]
  },
  {
   "cell_type": "markdown",
   "id": "29ead41d",
   "metadata": {},
   "source": [
    "<big>`DataFrame.rename(index={'old_name or number':'new_name'}, columns={'old_name':'new_name'}, inplace=False)`  </big>\n",
    "\n",
    "index：用于指定新的行标签，可以是字典、函数、映射或索引对象。这个参数允许你对行标签进行重命名。  \n",
    "columns：用于指定新的列标签，也可以是字典、函数、映射或索引对象。这个参数允许你对列标签进行重命名。"
   ]
  },
  {
   "cell_type": "code",
   "execution_count": 108,
   "id": "2df3b68b",
   "metadata": {},
   "outputs": [
    {
     "data": {
      "text/html": [
       "<div>\n",
       "<style scoped>\n",
       "    .dataframe tbody tr th:only-of-type {\n",
       "        vertical-align: middle;\n",
       "    }\n",
       "\n",
       "    .dataframe tbody tr th {\n",
       "        vertical-align: top;\n",
       "    }\n",
       "\n",
       "    .dataframe thead th {\n",
       "        text-align: right;\n",
       "    }\n",
       "</style>\n",
       "<table border=\"1\" class=\"dataframe\">\n",
       "  <thead>\n",
       "    <tr style=\"text-align: right;\">\n",
       "      <th></th>\n",
       "      <th>OldName1</th>\n",
       "      <th>Time</th>\n",
       "    </tr>\n",
       "  </thead>\n",
       "  <tbody>\n",
       "    <tr>\n",
       "      <th>0</th>\n",
       "      <td>1</td>\n",
       "      <td>4</td>\n",
       "    </tr>\n",
       "    <tr>\n",
       "      <th>1</th>\n",
       "      <td>2</td>\n",
       "      <td>5</td>\n",
       "    </tr>\n",
       "    <tr>\n",
       "      <th>2</th>\n",
       "      <td>3</td>\n",
       "      <td>6</td>\n",
       "    </tr>\n",
       "  </tbody>\n",
       "</table>\n",
       "</div>"
      ],
      "text/plain": [
       "   OldName1  Time\n",
       "0         1     4\n",
       "1         2     5\n",
       "2         3     6"
      ]
     },
     "execution_count": 108,
     "metadata": {},
     "output_type": "execute_result"
    }
   ],
   "source": [
    "data = {'OldName1': [1, 2, 3], 'OldName2': [4, 5, 6]}\n",
    "df = pd.DataFrame(data)\n",
    "\n",
    "df.rename(columns={'OldName2':'Time'})"
   ]
  },
  {
   "cell_type": "markdown",
   "id": "3a9116d2",
   "metadata": {},
   "source": [
    "## 1. query and modify"
   ]
  },
  {
   "cell_type": "code",
   "execution_count": 86,
   "id": "fe0dbea2",
   "metadata": {},
   "outputs": [
    {
     "name": "stdout",
     "output_type": "stream",
     "text": [
      "0       Italy\n",
      "1    Portugal\n",
      "2          US\n",
      "3          US\n",
      "4          US\n",
      "Name: country, dtype: object\n",
      "0       Italy\n",
      "1    Portugal\n",
      "2          US\n",
      "3          US\n",
      "4          US\n",
      "Name: country, dtype: object\n",
      "  country  price\n",
      "2      US   14.0\n",
      "3      US   13.0\n",
      "4      US   65.0\n"
     ]
    }
   ],
   "source": [
    "print(df.country.head())\n",
    "print(df['country'].head()) #same as df.country\n",
    "print(df[['country','price']][2:5]) #df[col][row]"
   ]
  },
  {
   "cell_type": "markdown",
   "id": "a6b3f9ad",
   "metadata": {},
   "source": [
    "## 2. `loc[]` and `iloc[]` \n",
    "  <big>`loc[行索引名称或条件，列索引名称]`； `iloc[行索引位置，列索引位置]`\\\n",
    "  注意：iloc只接受数字num作为index参数，若是需要输入列名，应该用loc[]\\\n",
    "  当两者都以num作为index行参数，iloc与python计数相同[0:3]表示（0，1，2）； loc[0:3]表示（0，1，2，3）\n",
    "\n",
    "`iloc` uses the Python stdlib indexing scheme, where the first element of the range is included and the last one excluded. `loc`, meanwhile, indexes inclusively.\n",
    "\n",
    "This is particularly confusing when the DataFrame index is a simple numerical list, e.g. 0,...,1000. In this case `df.iloc[0:1000]` will return 1000 entries, while `df.loc[0:1000]` return 1001 of them! To get 1000 elements using loc, you will need to go one lower and ask for df.iloc[0:999]."
   ]
  },
  {
   "cell_type": "code",
   "execution_count": 3,
   "id": "8795c23b",
   "metadata": {},
   "outputs": [
    {
     "data": {
      "text/html": [
       "<div>\n",
       "<style scoped>\n",
       "    .dataframe tbody tr th:only-of-type {\n",
       "        vertical-align: middle;\n",
       "    }\n",
       "\n",
       "    .dataframe tbody tr th {\n",
       "        vertical-align: top;\n",
       "    }\n",
       "\n",
       "    .dataframe thead th {\n",
       "        text-align: right;\n",
       "    }\n",
       "</style>\n",
       "<table border=\"1\" class=\"dataframe\">\n",
       "  <thead>\n",
       "    <tr style=\"text-align: right;\">\n",
       "      <th></th>\n",
       "      <th>price</th>\n",
       "      <th>region_1</th>\n",
       "    </tr>\n",
       "  </thead>\n",
       "  <tbody>\n",
       "    <tr>\n",
       "      <th>0</th>\n",
       "      <td>NaN</td>\n",
       "      <td>Etna</td>\n",
       "    </tr>\n",
       "    <tr>\n",
       "      <th>1</th>\n",
       "      <td>15.0</td>\n",
       "      <td>NaN</td>\n",
       "    </tr>\n",
       "    <tr>\n",
       "      <th>2</th>\n",
       "      <td>14.0</td>\n",
       "      <td>Willamette Valley</td>\n",
       "    </tr>\n",
       "    <tr>\n",
       "      <th>3</th>\n",
       "      <td>13.0</td>\n",
       "      <td>Lake Michigan Shore</td>\n",
       "    </tr>\n",
       "  </tbody>\n",
       "</table>\n",
       "</div>"
      ],
      "text/plain": [
       "   price             region_1\n",
       "0    NaN                 Etna\n",
       "1   15.0                  NaN\n",
       "2   14.0    Willamette Valley\n",
       "3   13.0  Lake Michigan Shore"
      ]
     },
     "execution_count": 3,
     "metadata": {},
     "output_type": "execute_result"
    }
   ],
   "source": [
    "df.loc[0:3,['price','region_1']]"
   ]
  },
  {
   "cell_type": "markdown",
   "id": "31ff57c7",
   "metadata": {},
   "source": [
    "###   **条件切片 slicing**\n",
    "   - `.loc[[行条件],[列名]]`\n",
    "   - `.loc[df.col.isin([list])]` 用于根据某一列的值是否包含在指定列表中，来筛选数据。"
   ]
  },
  {
   "cell_type": "code",
   "execution_count": 88,
   "id": "b874960b",
   "metadata": {},
   "outputs": [
    {
     "data": {
      "text/html": [
       "<div>\n",
       "<style scoped>\n",
       "    .dataframe tbody tr th:only-of-type {\n",
       "        vertical-align: middle;\n",
       "    }\n",
       "\n",
       "    .dataframe tbody tr th {\n",
       "        vertical-align: top;\n",
       "    }\n",
       "\n",
       "    .dataframe thead th {\n",
       "        text-align: right;\n",
       "    }\n",
       "</style>\n",
       "<table border=\"1\" class=\"dataframe\">\n",
       "  <thead>\n",
       "    <tr style=\"text-align: right;\">\n",
       "      <th></th>\n",
       "      <th>country</th>\n",
       "      <th>winery</th>\n",
       "    </tr>\n",
       "  </thead>\n",
       "  <tbody>\n",
       "    <tr>\n",
       "      <th>0</th>\n",
       "      <td>Italy</td>\n",
       "      <td>Nicosia</td>\n",
       "    </tr>\n",
       "    <tr>\n",
       "      <th>6</th>\n",
       "      <td>Italy</td>\n",
       "      <td>Terre di Giurfo</td>\n",
       "    </tr>\n",
       "    <tr>\n",
       "      <th>13</th>\n",
       "      <td>Italy</td>\n",
       "      <td>Masseria Setteporte</td>\n",
       "    </tr>\n",
       "  </tbody>\n",
       "</table>\n",
       "</div>"
      ],
      "text/plain": [
       "   country               winery\n",
       "0    Italy              Nicosia\n",
       "6    Italy      Terre di Giurfo\n",
       "13   Italy  Masseria Setteporte"
      ]
     },
     "execution_count": 88,
     "metadata": {},
     "output_type": "execute_result"
    }
   ],
   "source": [
    "#select col_ country and winery, where country is Italy\n",
    "df.loc[(df['country']=='Italy'),['country','winery']].head(3)"
   ]
  },
  {
   "cell_type": "code",
   "execution_count": 89,
   "id": "a16492e6",
   "metadata": {},
   "outputs": [
    {
     "data": {
      "text/html": [
       "<div>\n",
       "<style scoped>\n",
       "    .dataframe tbody tr th:only-of-type {\n",
       "        vertical-align: middle;\n",
       "    }\n",
       "\n",
       "    .dataframe tbody tr th {\n",
       "        vertical-align: top;\n",
       "    }\n",
       "\n",
       "    .dataframe thead th {\n",
       "        text-align: right;\n",
       "    }\n",
       "</style>\n",
       "<table border=\"1\" class=\"dataframe\">\n",
       "  <thead>\n",
       "    <tr style=\"text-align: right;\">\n",
       "      <th></th>\n",
       "      <th>Unnamed: 0</th>\n",
       "      <th>country</th>\n",
       "      <th>description</th>\n",
       "      <th>designation</th>\n",
       "      <th>points</th>\n",
       "      <th>price</th>\n",
       "      <th>province</th>\n",
       "      <th>region_1</th>\n",
       "      <th>region_2</th>\n",
       "      <th>taster_name</th>\n",
       "      <th>taster_twitter_handle</th>\n",
       "      <th>title</th>\n",
       "      <th>variety</th>\n",
       "      <th>winery</th>\n",
       "    </tr>\n",
       "  </thead>\n",
       "  <tbody>\n",
       "    <tr>\n",
       "      <th>0</th>\n",
       "      <td>0</td>\n",
       "      <td>Italy</td>\n",
       "      <td>Aromas include tropical fruit, broom, brimston...</td>\n",
       "      <td>Vulkà Bianco</td>\n",
       "      <td>87</td>\n",
       "      <td>NaN</td>\n",
       "      <td>Sicily &amp; Sardinia</td>\n",
       "      <td>Etna</td>\n",
       "      <td>NaN</td>\n",
       "      <td>Kerin O’Keefe</td>\n",
       "      <td>@kerinokeefe</td>\n",
       "      <td>Nicosia 2013 Vulkà Bianco  (Etna)</td>\n",
       "      <td>White Blend</td>\n",
       "      <td>Nicosia</td>\n",
       "    </tr>\n",
       "    <tr>\n",
       "      <th>6</th>\n",
       "      <td>6</td>\n",
       "      <td>Italy</td>\n",
       "      <td>Here's a bright, informal red that opens with ...</td>\n",
       "      <td>Belsito</td>\n",
       "      <td>87</td>\n",
       "      <td>16.0</td>\n",
       "      <td>Sicily &amp; Sardinia</td>\n",
       "      <td>Vittoria</td>\n",
       "      <td>NaN</td>\n",
       "      <td>Kerin O’Keefe</td>\n",
       "      <td>@kerinokeefe</td>\n",
       "      <td>Terre di Giurfo 2013 Belsito Frappato (Vittoria)</td>\n",
       "      <td>Frappato</td>\n",
       "      <td>Terre di Giurfo</td>\n",
       "    </tr>\n",
       "    <tr>\n",
       "      <th>7</th>\n",
       "      <td>7</td>\n",
       "      <td>France</td>\n",
       "      <td>This dry and restrained wine offers spice in p...</td>\n",
       "      <td>NaN</td>\n",
       "      <td>87</td>\n",
       "      <td>24.0</td>\n",
       "      <td>Alsace</td>\n",
       "      <td>Alsace</td>\n",
       "      <td>NaN</td>\n",
       "      <td>Roger Voss</td>\n",
       "      <td>@vossroger</td>\n",
       "      <td>Trimbach 2012 Gewurztraminer (Alsace)</td>\n",
       "      <td>Gewürztraminer</td>\n",
       "      <td>Trimbach</td>\n",
       "    </tr>\n",
       "  </tbody>\n",
       "</table>\n",
       "</div>"
      ],
      "text/plain": [
       "   Unnamed: 0 country                                        description  \\\n",
       "0           0   Italy  Aromas include tropical fruit, broom, brimston...   \n",
       "6           6   Italy  Here's a bright, informal red that opens with ...   \n",
       "7           7  France  This dry and restrained wine offers spice in p...   \n",
       "\n",
       "    designation  points  price           province  region_1 region_2  \\\n",
       "0  Vulkà Bianco      87    NaN  Sicily & Sardinia      Etna      NaN   \n",
       "6       Belsito      87   16.0  Sicily & Sardinia  Vittoria      NaN   \n",
       "7           NaN      87   24.0             Alsace    Alsace      NaN   \n",
       "\n",
       "     taster_name taster_twitter_handle  \\\n",
       "0  Kerin O’Keefe          @kerinokeefe   \n",
       "6  Kerin O’Keefe          @kerinokeefe   \n",
       "7     Roger Voss            @vossroger   \n",
       "\n",
       "                                              title         variety  \\\n",
       "0                 Nicosia 2013 Vulkà Bianco  (Etna)     White Blend   \n",
       "6  Terre di Giurfo 2013 Belsito Frappato (Vittoria)        Frappato   \n",
       "7             Trimbach 2012 Gewurztraminer (Alsace)  Gewürztraminer   \n",
       "\n",
       "            winery  \n",
       "0          Nicosia  \n",
       "6  Terre di Giurfo  \n",
       "7         Trimbach  "
      ]
     },
     "execution_count": 89,
     "metadata": {},
     "output_type": "execute_result"
    }
   ],
   "source": [
    "#select country is in Italy or France\n",
    "df.loc[df.country.isin(['Italy','France'])].head(3)"
   ]
  },
  {
   "cell_type": "markdown",
   "id": "589d651f",
   "metadata": {},
   "source": [
    "## 3. `.set_index('')` set special column as the index col"
   ]
  },
  {
   "cell_type": "code",
   "execution_count": 5,
   "id": "a2a0ee50",
   "metadata": {},
   "outputs": [
    {
     "data": {
      "text/html": [
       "<div>\n",
       "<style scoped>\n",
       "    .dataframe tbody tr th:only-of-type {\n",
       "        vertical-align: middle;\n",
       "    }\n",
       "\n",
       "    .dataframe tbody tr th {\n",
       "        vertical-align: top;\n",
       "    }\n",
       "\n",
       "    .dataframe thead th {\n",
       "        text-align: right;\n",
       "    }\n",
       "</style>\n",
       "<table border=\"1\" class=\"dataframe\">\n",
       "  <thead>\n",
       "    <tr style=\"text-align: right;\">\n",
       "      <th></th>\n",
       "      <th>Unnamed: 0</th>\n",
       "      <th>country</th>\n",
       "      <th>description</th>\n",
       "      <th>designation</th>\n",
       "      <th>points</th>\n",
       "      <th>price</th>\n",
       "      <th>province</th>\n",
       "      <th>region_1</th>\n",
       "      <th>region_2</th>\n",
       "      <th>taster_name</th>\n",
       "      <th>taster_twitter_handle</th>\n",
       "      <th>variety</th>\n",
       "      <th>winery</th>\n",
       "    </tr>\n",
       "    <tr>\n",
       "      <th>title</th>\n",
       "      <th></th>\n",
       "      <th></th>\n",
       "      <th></th>\n",
       "      <th></th>\n",
       "      <th></th>\n",
       "      <th></th>\n",
       "      <th></th>\n",
       "      <th></th>\n",
       "      <th></th>\n",
       "      <th></th>\n",
       "      <th></th>\n",
       "      <th></th>\n",
       "      <th></th>\n",
       "    </tr>\n",
       "  </thead>\n",
       "  <tbody>\n",
       "    <tr>\n",
       "      <th>Nicosia 2013 Vulkà Bianco  (Etna)</th>\n",
       "      <td>0</td>\n",
       "      <td>Italy</td>\n",
       "      <td>Aromas include tropical fruit, broom, brimston...</td>\n",
       "      <td>Vulkà Bianco</td>\n",
       "      <td>87</td>\n",
       "      <td>NaN</td>\n",
       "      <td>Sicily &amp; Sardinia</td>\n",
       "      <td>Etna</td>\n",
       "      <td>NaN</td>\n",
       "      <td>Kerin O’Keefe</td>\n",
       "      <td>@kerinokeefe</td>\n",
       "      <td>White Blend</td>\n",
       "      <td>Nicosia</td>\n",
       "    </tr>\n",
       "    <tr>\n",
       "      <th>Quinta dos Avidagos 2011 Avidagos Red (Douro)</th>\n",
       "      <td>1</td>\n",
       "      <td>Portugal</td>\n",
       "      <td>This is ripe and fruity, a wine that is smooth...</td>\n",
       "      <td>Avidagos</td>\n",
       "      <td>87</td>\n",
       "      <td>15.0</td>\n",
       "      <td>Douro</td>\n",
       "      <td>NaN</td>\n",
       "      <td>NaN</td>\n",
       "      <td>Roger Voss</td>\n",
       "      <td>@vossroger</td>\n",
       "      <td>Portuguese Red</td>\n",
       "      <td>Quinta dos Avidagos</td>\n",
       "    </tr>\n",
       "    <tr>\n",
       "      <th>Rainstorm 2013 Pinot Gris (Willamette Valley)</th>\n",
       "      <td>2</td>\n",
       "      <td>US</td>\n",
       "      <td>Tart and snappy, the flavors of lime flesh and...</td>\n",
       "      <td>NaN</td>\n",
       "      <td>87</td>\n",
       "      <td>14.0</td>\n",
       "      <td>Oregon</td>\n",
       "      <td>Willamette Valley</td>\n",
       "      <td>Willamette Valley</td>\n",
       "      <td>Paul Gregutt</td>\n",
       "      <td>@paulgwine</td>\n",
       "      <td>Pinot Gris</td>\n",
       "      <td>Rainstorm</td>\n",
       "    </tr>\n",
       "  </tbody>\n",
       "</table>\n",
       "</div>"
      ],
      "text/plain": [
       "                                               Unnamed: 0   country  \\\n",
       "title                                                                 \n",
       "Nicosia 2013 Vulkà Bianco  (Etna)                       0     Italy   \n",
       "Quinta dos Avidagos 2011 Avidagos Red (Douro)           1  Portugal   \n",
       "Rainstorm 2013 Pinot Gris (Willamette Valley)           2        US   \n",
       "\n",
       "                                                                                     description  \\\n",
       "title                                                                                              \n",
       "Nicosia 2013 Vulkà Bianco  (Etna)              Aromas include tropical fruit, broom, brimston...   \n",
       "Quinta dos Avidagos 2011 Avidagos Red (Douro)  This is ripe and fruity, a wine that is smooth...   \n",
       "Rainstorm 2013 Pinot Gris (Willamette Valley)  Tart and snappy, the flavors of lime flesh and...   \n",
       "\n",
       "                                                designation  points  price  \\\n",
       "title                                                                        \n",
       "Nicosia 2013 Vulkà Bianco  (Etna)              Vulkà Bianco      87    NaN   \n",
       "Quinta dos Avidagos 2011 Avidagos Red (Douro)      Avidagos      87   15.0   \n",
       "Rainstorm 2013 Pinot Gris (Willamette Valley)           NaN      87   14.0   \n",
       "\n",
       "                                                        province  \\\n",
       "title                                                              \n",
       "Nicosia 2013 Vulkà Bianco  (Etna)              Sicily & Sardinia   \n",
       "Quinta dos Avidagos 2011 Avidagos Red (Douro)              Douro   \n",
       "Rainstorm 2013 Pinot Gris (Willamette Valley)             Oregon   \n",
       "\n",
       "                                                        region_1  \\\n",
       "title                                                              \n",
       "Nicosia 2013 Vulkà Bianco  (Etna)                           Etna   \n",
       "Quinta dos Avidagos 2011 Avidagos Red (Douro)                NaN   \n",
       "Rainstorm 2013 Pinot Gris (Willamette Valley)  Willamette Valley   \n",
       "\n",
       "                                                        region_2  \\\n",
       "title                                                              \n",
       "Nicosia 2013 Vulkà Bianco  (Etna)                            NaN   \n",
       "Quinta dos Avidagos 2011 Avidagos Red (Douro)                NaN   \n",
       "Rainstorm 2013 Pinot Gris (Willamette Valley)  Willamette Valley   \n",
       "\n",
       "                                                 taster_name  \\\n",
       "title                                                          \n",
       "Nicosia 2013 Vulkà Bianco  (Etna)              Kerin O’Keefe   \n",
       "Quinta dos Avidagos 2011 Avidagos Red (Douro)     Roger Voss   \n",
       "Rainstorm 2013 Pinot Gris (Willamette Valley)   Paul Gregutt   \n",
       "\n",
       "                                              taster_twitter_handle  \\\n",
       "title                                                                 \n",
       "Nicosia 2013 Vulkà Bianco  (Etna)                      @kerinokeefe   \n",
       "Quinta dos Avidagos 2011 Avidagos Red (Douro)            @vossroger   \n",
       "Rainstorm 2013 Pinot Gris (Willamette Valley)           @paulgwine    \n",
       "\n",
       "                                                      variety  \\\n",
       "title                                                           \n",
       "Nicosia 2013 Vulkà Bianco  (Etna)                 White Blend   \n",
       "Quinta dos Avidagos 2011 Avidagos Red (Douro)  Portuguese Red   \n",
       "Rainstorm 2013 Pinot Gris (Willamette Valley)      Pinot Gris   \n",
       "\n",
       "                                                            winery  \n",
       "title                                                               \n",
       "Nicosia 2013 Vulkà Bianco  (Etna)                          Nicosia  \n",
       "Quinta dos Avidagos 2011 Avidagos Red (Douro)  Quinta dos Avidagos  \n",
       "Rainstorm 2013 Pinot Gris (Willamette Valley)            Rainstorm  "
      ]
     },
     "execution_count": 5,
     "metadata": {},
     "output_type": "execute_result"
    }
   ],
   "source": [
    "df.set_index('title').head(3)"
   ]
  },
  {
   "cell_type": "markdown",
   "id": "70625818",
   "metadata": {},
   "source": [
    "## 4. `.isnull()` and `notnull()`  \n",
    "   highlight values which are (or are not) empty (NaN)."
   ]
  },
  {
   "cell_type": "code",
   "execution_count": 7,
   "id": "53ee1384",
   "metadata": {},
   "outputs": [
    {
     "data": {
      "text/html": [
       "<div>\n",
       "<style scoped>\n",
       "    .dataframe tbody tr th:only-of-type {\n",
       "        vertical-align: middle;\n",
       "    }\n",
       "\n",
       "    .dataframe tbody tr th {\n",
       "        vertical-align: top;\n",
       "    }\n",
       "\n",
       "    .dataframe thead th {\n",
       "        text-align: right;\n",
       "    }\n",
       "</style>\n",
       "<table border=\"1\" class=\"dataframe\">\n",
       "  <thead>\n",
       "    <tr style=\"text-align: right;\">\n",
       "      <th></th>\n",
       "      <th>Unnamed: 0</th>\n",
       "      <th>country</th>\n",
       "      <th>description</th>\n",
       "      <th>designation</th>\n",
       "      <th>points</th>\n",
       "      <th>price</th>\n",
       "      <th>province</th>\n",
       "      <th>region_1</th>\n",
       "      <th>region_2</th>\n",
       "      <th>taster_name</th>\n",
       "      <th>taster_twitter_handle</th>\n",
       "      <th>title</th>\n",
       "      <th>variety</th>\n",
       "      <th>winery</th>\n",
       "    </tr>\n",
       "  </thead>\n",
       "  <tbody>\n",
       "    <tr>\n",
       "      <th>0</th>\n",
       "      <td>0</td>\n",
       "      <td>Italy</td>\n",
       "      <td>Aromas include tropical fruit, broom, brimston...</td>\n",
       "      <td>Vulkà Bianco</td>\n",
       "      <td>87</td>\n",
       "      <td>NaN</td>\n",
       "      <td>Sicily &amp; Sardinia</td>\n",
       "      <td>Etna</td>\n",
       "      <td>NaN</td>\n",
       "      <td>Kerin O’Keefe</td>\n",
       "      <td>@kerinokeefe</td>\n",
       "      <td>Nicosia 2013 Vulkà Bianco  (Etna)</td>\n",
       "      <td>White Blend</td>\n",
       "      <td>Nicosia</td>\n",
       "    </tr>\n",
       "    <tr>\n",
       "      <th>13</th>\n",
       "      <td>13</td>\n",
       "      <td>Italy</td>\n",
       "      <td>This is dominated by oak and oak-driven aromas...</td>\n",
       "      <td>Rosso</td>\n",
       "      <td>87</td>\n",
       "      <td>NaN</td>\n",
       "      <td>Sicily &amp; Sardinia</td>\n",
       "      <td>Etna</td>\n",
       "      <td>NaN</td>\n",
       "      <td>Kerin O’Keefe</td>\n",
       "      <td>@kerinokeefe</td>\n",
       "      <td>Masseria Setteporte 2012 Rosso  (Etna)</td>\n",
       "      <td>Nerello Mascalese</td>\n",
       "      <td>Masseria Setteporte</td>\n",
       "    </tr>\n",
       "    <tr>\n",
       "      <th>30</th>\n",
       "      <td>30</td>\n",
       "      <td>France</td>\n",
       "      <td>Red cherry fruit comes laced with light tannin...</td>\n",
       "      <td>Nouveau</td>\n",
       "      <td>86</td>\n",
       "      <td>NaN</td>\n",
       "      <td>Beaujolais</td>\n",
       "      <td>Beaujolais-Villages</td>\n",
       "      <td>NaN</td>\n",
       "      <td>Roger Voss</td>\n",
       "      <td>@vossroger</td>\n",
       "      <td>Domaine de la Madone 2012 Nouveau  (Beaujolais...</td>\n",
       "      <td>Gamay</td>\n",
       "      <td>Domaine de la Madone</td>\n",
       "    </tr>\n",
       "  </tbody>\n",
       "</table>\n",
       "</div>"
      ],
      "text/plain": [
       "    Unnamed: 0 country                                        description  \\\n",
       "0            0   Italy  Aromas include tropical fruit, broom, brimston...   \n",
       "13          13   Italy  This is dominated by oak and oak-driven aromas...   \n",
       "30          30  France  Red cherry fruit comes laced with light tannin...   \n",
       "\n",
       "     designation  points  price           province             region_1  \\\n",
       "0   Vulkà Bianco      87    NaN  Sicily & Sardinia                 Etna   \n",
       "13         Rosso      87    NaN  Sicily & Sardinia                 Etna   \n",
       "30       Nouveau      86    NaN         Beaujolais  Beaujolais-Villages   \n",
       "\n",
       "   region_2    taster_name taster_twitter_handle  \\\n",
       "0       NaN  Kerin O’Keefe          @kerinokeefe   \n",
       "13      NaN  Kerin O’Keefe          @kerinokeefe   \n",
       "30      NaN     Roger Voss            @vossroger   \n",
       "\n",
       "                                                title            variety  \\\n",
       "0                   Nicosia 2013 Vulkà Bianco  (Etna)        White Blend   \n",
       "13             Masseria Setteporte 2012 Rosso  (Etna)  Nerello Mascalese   \n",
       "30  Domaine de la Madone 2012 Nouveau  (Beaujolais...              Gamay   \n",
       "\n",
       "                  winery  \n",
       "0                Nicosia  \n",
       "13   Masseria Setteporte  \n",
       "30  Domaine de la Madone  "
      ]
     },
     "execution_count": 7,
     "metadata": {},
     "output_type": "execute_result"
    }
   ],
   "source": [
    "df.loc[df.price.isnull()].head(3)"
   ]
  },
  {
   "cell_type": "markdown",
   "id": "ab7deb78",
   "metadata": {},
   "source": [
    "\n",
    "## 5. Add columns"
   ]
  },
  {
   "cell_type": "code",
   "execution_count": 97,
   "id": "5d0dbe22",
   "metadata": {},
   "outputs": [
    {
     "data": {
      "text/html": [
       "<div>\n",
       "<style scoped>\n",
       "    .dataframe tbody tr th:only-of-type {\n",
       "        vertical-align: middle;\n",
       "    }\n",
       "\n",
       "    .dataframe tbody tr th {\n",
       "        vertical-align: top;\n",
       "    }\n",
       "\n",
       "    .dataframe thead th {\n",
       "        text-align: right;\n",
       "    }\n",
       "</style>\n",
       "<table border=\"1\" class=\"dataframe\">\n",
       "  <thead>\n",
       "    <tr style=\"text-align: right;\">\n",
       "      <th></th>\n",
       "      <th>price</th>\n",
       "      <th>new_price</th>\n",
       "    </tr>\n",
       "  </thead>\n",
       "  <tbody>\n",
       "    <tr>\n",
       "      <th>0</th>\n",
       "      <td>NaN</td>\n",
       "      <td>NaN</td>\n",
       "    </tr>\n",
       "    <tr>\n",
       "      <th>1</th>\n",
       "      <td>15.0</td>\n",
       "      <td>12.0</td>\n",
       "    </tr>\n",
       "    <tr>\n",
       "      <th>2</th>\n",
       "      <td>14.0</td>\n",
       "      <td>11.2</td>\n",
       "    </tr>\n",
       "  </tbody>\n",
       "</table>\n",
       "</div>"
      ],
      "text/plain": [
       "   price  new_price\n",
       "0    NaN        NaN\n",
       "1   15.0       12.0\n",
       "2   14.0       11.2"
      ]
     },
     "execution_count": 97,
     "metadata": {},
     "output_type": "execute_result"
    }
   ],
   "source": [
    "df['new_price']=df['price']*0.8\n",
    "df[['price','new_price']].head(3)"
   ]
  },
  {
   "cell_type": "markdown",
   "id": "16bf8739",
   "metadata": {},
   "source": [
    "## 6. Delet data \n",
    "<big>`DataFrame.drop(labels, axis=0, index=None, columns=None, level=None, inplace=False, errors='raise')`\n",
    "\n",
    "通常，最常用的是labels、axis和inplace参数，其中labels是要删除的标签，axis指定要删除的轴，inplace控制是否在原始DataFrame上进行修改。\n"
   ]
  },
  {
   "cell_type": "markdown",
   "id": "54c3bdcf",
   "metadata": {},
   "source": [
    "## 7. Rename row/cols\n",
    "DataFrame.rename() 方法用于重命名DataFrame的行索引、列标签或它们的组合。以下是DataFrame.rename() 方法的基本语法："
   ]
  },
  {
   "cell_type": "code",
   "execution_count": 26,
   "id": "4a2868bf",
   "metadata": {},
   "outputs": [
    {
     "name": "stdout",
     "output_type": "stream",
     "text": [
      "   A  B\n",
      "0  1  4\n",
      "1  2  5\n",
      "2  3  6\n",
      "   X  Y\n",
      "0  1  4\n",
      "1  2  5\n",
      "2  3  6\n",
      "      X  Y\n",
      "row1  1  4\n",
      "row2  2  5\n",
      "row3  3  6\n",
      "      X  Y\n",
      "ROW1  1  4\n",
      "ROW2  2  5\n",
      "ROW3  3  6\n",
      "      x  y\n",
      "row1  1  4\n",
      "row2  2  5\n",
      "row3  3  6\n"
     ]
    }
   ],
   "source": [
    "# 创建一个示例DataFrame\n",
    "data = {'A': [1, 2, 3], 'B': [4, 5, 6]}\n",
    "df = pd.DataFrame(data)\n",
    "print(df)\n",
    "\n",
    "# 重命名列标签\n",
    "df.rename(columns={'A': 'X', 'B': 'Y'}, inplace=True)\n",
    "print(df)\n",
    "\n",
    "# 重命名行索引\n",
    "df.rename(index={0: 'row1', 1: 'row2', 2: 'row3'}, inplace=True)\n",
    "print(df)\n",
    "\n",
    "print(df.rename(index=str.upper)) # 大写index名称\n",
    "print(df.rename(columns=lambda x: x.lower())) # 小写col名称"
   ]
  },
  {
   "cell_type": "markdown",
   "id": "3344b726",
   "metadata": {},
   "source": [
    "\n",
    "\n",
    "# 4. Summary Funtions and Maps"
   ]
  },
  {
   "cell_type": "markdown",
   "id": "0298657b",
   "metadata": {},
   "source": [
    "## 1. Summary function\n",
    "\n",
    "`.describe()` return the high-level summary of one or more columns.  \n",
    "- 指定参数`include='all'`，可以得到所有列的汇总统计信息。如果不指定，只会对数值列进行汇总统计。\n",
    "    \n",
    "`.mean()` return the mean of a series of num  \n",
    "    \n",
    "`.unique()` to see a list of unique values  \n",
    "    \n",
    "`.value_counts()` return the counts of specified col\n",
    "    \n",
    " `.idxmax()` return the index of the maximum value\n"
   ]
  },
  {
   "cell_type": "code",
   "execution_count": 6,
   "id": "05e4fe5f",
   "metadata": {},
   "outputs": [
    {
     "data": {
      "text/plain": [
       "count    120975.000000\n",
       "mean         35.363389\n",
       "std          41.022218\n",
       "min           4.000000\n",
       "25%          17.000000\n",
       "50%          25.000000\n",
       "75%          42.000000\n",
       "max        3300.000000\n",
       "Name: price, dtype: float64"
      ]
     },
     "execution_count": 6,
     "metadata": {},
     "output_type": "execute_result"
    }
   ],
   "source": [
    "df.price.describe()  #for numbs"
   ]
  },
  {
   "cell_type": "code",
   "execution_count": 5,
   "id": "29077d21",
   "metadata": {},
   "outputs": [
    {
     "data": {
      "text/plain": [
       "count     129908\n",
       "unique        43\n",
       "top           US\n",
       "freq       54504\n",
       "Name: country, dtype: object"
      ]
     },
     "execution_count": 5,
     "metadata": {},
     "output_type": "execute_result"
    }
   ],
   "source": [
    "df.country.describe()  #for strings"
   ]
  },
  {
   "cell_type": "code",
   "execution_count": 7,
   "id": "3b9018c5",
   "metadata": {},
   "outputs": [
    {
     "data": {
      "text/plain": [
       "88.44713820775404"
      ]
     },
     "execution_count": 7,
     "metadata": {},
     "output_type": "execute_result"
    }
   ],
   "source": [
    "df.points.mean()"
   ]
  },
  {
   "cell_type": "code",
   "execution_count": 12,
   "id": "326bcde7",
   "metadata": {},
   "outputs": [
    {
     "data": {
      "text/plain": [
       "array(['Italy', 'Portugal', 'US', 'Spain', 'France', 'Germany',\n",
       "       'Argentina', 'Chile', 'Australia', 'Austria'], dtype=object)"
      ]
     },
     "execution_count": 12,
     "metadata": {},
     "output_type": "execute_result"
    }
   ],
   "source": [
    "df['country'].unique()[0:10]"
   ]
  },
  {
   "cell_type": "code",
   "execution_count": 16,
   "id": "983fd4db",
   "metadata": {},
   "outputs": [
    {
     "data": {
      "text/plain": [
       "US          54504\n",
       "France      22093\n",
       "Italy       19540\n",
       "Spain        6645\n",
       "Portugal     5691\n",
       "Name: country, dtype: int64"
      ]
     },
     "execution_count": 16,
     "metadata": {},
     "output_type": "execute_result"
    }
   ],
   "source": [
    "df.country.value_counts()[0:5]"
   ]
  },
  {
   "cell_type": "markdown",
   "id": "397fa900",
   "metadata": {},
   "source": [
    "  <big>`idxmax()` returns the index of max value in specified columns  </big>  \n",
    "  try to find the most_bargain wine (using 'title')---> highest points-price ratio"
   ]
  },
  {
   "cell_type": "code",
   "execution_count": 46,
   "id": "e19c784f",
   "metadata": {},
   "outputs": [
    {
     "data": {
      "text/plain": [
       "'Bandit NV Merlot (California)'"
      ]
     },
     "execution_count": 46,
     "metadata": {},
     "output_type": "execute_result"
    }
   ],
   "source": [
    "bargain_idx=(df.points/df.price).idxmax()\n",
    "bargain_wine=df.loc[bargain_idx,'title']\n",
    "bargain_wine"
   ]
  },
  {
   "cell_type": "markdown",
   "id": "b6e11c9b",
   "metadata": {},
   "source": [
    "## 2. Map and Apply\n",
    "\n",
    "1. apply 方法：\\\n",
    "`DataFrame.apply(func, axis=0, raw=False, result_type=None, args=(), **kwds)`\\\n",
    "`Series.apply(func, convert_dtype=True, args=(), **kwds)`\n",
    "\n",
    "apply 方法用于在DataFrame的行或列上执行函数操作。\n",
    "它可以用于DataFrame的每一行或每一列，你可以通过指定axis参数来控制是在行上还是列上执行操作。默认情况下，axis=0，表示在列上执行操作。\n",
    "apply 可以接受一个自定义的函数，该函数将作用于每个元素，并返回一个Series或DataFrame，结果的形状可以不同于原始数据。\n",
    "apply 还可以接受一个lambda函数或NumPy函数。\n",
    "通常用于执行更复杂的操作，例如对整列进行聚合、变换等。\n",
    "\n",
    "2. map 方法：\\\n",
    "`Series.map(arg, na_action=None)`\n",
    "\n",
    "map 方法用于Series对象，并且通常用于在Series上执行映射操作。\n",
    "它接受一个映射字典或一个函数，将每个元素映射到另一个值。\n",
    "通常用于将一列的元素映射为另一列的值，例如将类别标签映射为数值。"
   ]
  },
  {
   "cell_type": "markdown",
   "id": "e486cdc2",
   "metadata": {},
   "source": [
    "### Mapping\n",
    "\n",
    "<big>`map(function, sequence)` can be a function or a method, the result is same.</big>\n",
    "\n",
    "<big>`new_series=dataframe['col_name'].map(function)`  using `.map()` apply the function to the specified column and store it in the new_series\n",
    "** THE funtion can be defined by `def` or using simple annonymous function:`lambda arg: expression`   \n",
    "    \n",
    "    \n",
    "    \n",
    "\n",
    "\n",
    "    \n",
    " <big>`.apply(function,axis=)`, axis='columns'表示按行使用function； axis=‘rows’表示按列使用function\n",
    "  \n",
    "Note that map() and apply() return new, transformed Series and DataFrames, respectively. They don't modify the original data they're called on. If we look at the first row of reviews, we can see that it still has its original points value.</big>"
   ]
  },
  {
   "cell_type": "code",
   "execution_count": 27,
   "id": "91f2c644",
   "metadata": {},
   "outputs": [
    {
     "data": {
      "text/plain": [
       "0          NaN\n",
       "1   -20.363389\n",
       "2   -21.363389\n",
       "3   -22.363389\n",
       "4    29.636611\n",
       "Name: price, dtype: float64"
      ]
     },
     "execution_count": 27,
     "metadata": {},
     "output_type": "execute_result"
    }
   ],
   "source": [
    "mean_price=df.price.mean() #35.36\n",
    "df.price.map(lambda x:x-mean_price).head()  # 对price每行都计算该行`price - mean_price`"
   ]
  },
  {
   "cell_type": "code",
   "execution_count": 36,
   "id": "08e60b6d",
   "metadata": {},
   "outputs": [
    {
     "data": {
      "text/plain": [
       "0          NaN\n",
       "1   -20.363389\n",
       "2   -21.363389\n",
       "3   -22.363389\n",
       "4    29.636611\n",
       "Name: price, dtype: float64"
      ]
     },
     "execution_count": 36,
     "metadata": {},
     "output_type": "execute_result"
    }
   ],
   "source": [
    "def remean_price(row):\n",
    "    row.price = row.price - mean_price\n",
    "    return row\n",
    "df.apply(remean_price, axis='columns')['price'].head() #返回一个新的dataframe，且其中price列被修改为减去mean_price后的值"
   ]
  },
  {
   "cell_type": "code",
   "execution_count": 39,
   "id": "17d2c1a4",
   "metadata": {},
   "outputs": [
    {
     "data": {
      "text/plain": [
       "0          NaN\n",
       "1   -20.363389\n",
       "2   -21.363389\n",
       "3   -22.363389\n",
       "4    29.636611\n",
       "Name: price, dtype: float64"
      ]
     },
     "execution_count": 39,
     "metadata": {},
     "output_type": "execute_result"
    }
   ],
   "source": [
    "# a faster way to show the mean price for each row\n",
    "mean_price=df.price.mean()\n",
    "(df.price-mean_price)[0:5]"
   ]
  },
  {
   "cell_type": "code",
   "execution_count": 42,
   "id": "ce36f200",
   "metadata": {},
   "outputs": [
    {
     "data": {
      "text/plain": [
       "0                Italy : Etna\n",
       "1                         NaN\n",
       "2      US : Willamette Valley\n",
       "3    US : Lake Michigan Shore\n",
       "4      US : Willamette Valley\n",
       "dtype: object"
      ]
     },
     "execution_count": 42,
     "metadata": {},
     "output_type": "execute_result"
    }
   ],
   "source": [
    "# an easy way of combining two string columns\n",
    "(df.country + ' : ' + df.region_1)[0:5]"
   ]
  },
  {
   "cell_type": "markdown",
   "id": "e53d6907",
   "metadata": {},
   "source": [
    "<big>__EX1__:`.map()`</big>\n",
    "\n",
    "Create a Series `descriptor_counts` counting how many times each of these two words appears in the `description` column in the dataset. (For simplicity, let's ignore the capitalized versions of these words.)  \n",
    " \n",
    " Hint: Use a map to check each description for the string tropical, then count up the number of times this is True. Repeat this for fruity. Finally, create a Series combining the two values.\n",
    "\n"
   ]
  },
  {
   "cell_type": "code",
   "execution_count": 55,
   "id": "688fe03e",
   "metadata": {
    "scrolled": true
   },
   "outputs": [
    {
     "name": "stdout",
     "output_type": "stream",
     "text": [
      "0     True\n",
      "1    False\n",
      "2    False\n",
      "3    False\n",
      "4    False\n",
      "Name: description, dtype: bool\n",
      "3607\n"
     ]
    },
    {
     "data": {
      "text/plain": [
       "tropical    3607\n",
       "fruity      9090\n",
       "dtype: int64"
      ]
     },
     "execution_count": 55,
     "metadata": {},
     "output_type": "execute_result"
    }
   ],
   "source": [
    "tropical=df.description.map(lambda desc:'tropical' in desc)\n",
    "fruity=df.description.map(lambda desc:'fruity' in desc)\n",
    "print(tropical.head()) # a Bool sereies\n",
    "print(tropical.sum()) # if true-->count+1\n",
    "\n",
    "count_tropical=tropical.sum()\n",
    "count_fruity=fruity.sum()\n",
    "\n",
    "description_counts = pd.Series([count_tropical,count_fruity],index=['tropical','fruity'])\n",
    "description_counts"
   ]
  },
  {
   "cell_type": "markdown",
   "id": "8a0f9418",
   "metadata": {},
   "source": [
    "### apply()\n",
    "\n",
    "<big>`object.apply(function)`</big>\n",
    "\n",
    "__EX2__. A score of 95 or higher counts as 3 stars, a score of at least 85 but less than 95 is 2 stars. Any other score is 1 star.\n",
    "\n",
    "Also, the Canadian Vintners Association bought a lot of ads on the site, so any wines from Canada should automatically get 3 stars, regardless of points.\n",
    "\n",
    "Create a series star_ratings with the number of stars corresponding to each review in the dataset.\n",
    "\n",
    "<font color=\"red\"><big>__apply() is only a method in Pandas, while map() is a built-in function or method__</big></font>\n"
   ]
  },
  {
   "cell_type": "code",
   "execution_count": 82,
   "id": "dbd55c56",
   "metadata": {},
   "outputs": [
    {
     "data": {
      "text/plain": [
       "0         2\n",
       "1         2\n",
       "2         2\n",
       "3         2\n",
       "4         2\n",
       "         ..\n",
       "129966    2\n",
       "129967    2\n",
       "129968    2\n",
       "129969    2\n",
       "129970    2\n",
       "Length: 129971, dtype: int64"
      ]
     },
     "execution_count": 82,
     "metadata": {},
     "output_type": "execute_result"
    }
   ],
   "source": [
    "def stars(row):\n",
    "    if row.country == 'Canada':\n",
    "        return 3\n",
    "    elif row.points >= 95:\n",
    "        return 3\n",
    "    elif row.points >= 85:\n",
    "        return 2\n",
    "    else:\n",
    "        return 1\n",
    "\n",
    "star_ratings = df.apply(stars, axis='columns')\n",
    "star_ratings"
   ]
  },
  {
   "cell_type": "markdown",
   "id": "770828cf",
   "metadata": {},
   "source": [
    "# 5. Grouping and Sorting"
   ]
  },
  {
   "cell_type": "markdown",
   "id": "c209b275",
   "metadata": {},
   "source": [
    "## 1. Groupwise analysis  \n",
    "`.groupby('col_name')` make the dataframe grouped by specified columns as you wish.  \n",
    "`.groupby().apply(function)` apply the specified function to the grouped data  \n",
    "`.groupby().agg([fun1,fun2])` apply each function list to all the grouped data  \n",
    "\n",
    "**groupby()**之后得到一个**GroupBy**对象，无法对该对象之间进行sort_values操作，因为该对象可以包含多个组，每个组内都有多个数据点。如果你想对每个组内的数据进行排序，你需要在每个组上应用排序函数，而不是在整个数据集上进行排序。  \n",
    "即groupby之后需要进行聚合（agg,apply,max,mean, size()等）来处理每个组内的数据，然后再根据需要进行排序。  \n",
    "\n",
    "如果你使用了类似mean、max这样的聚合函数，你将得到一个Series，其中索引是分组的标签，值是聚合的结果。  \n",
    "如果你使用了agg（）或apply（）进行多个聚合函数，你将得到一个DataFrame，其中索引是分组的标签，列是不同聚合函数的结果\n",
    "也可以使用`.reset_index()`,这样就可以得到一个新的dataframe，其中包含了之前的index和聚合结果"
   ]
  },
  {
   "cell_type": "code",
   "execution_count": 41,
   "id": "fafb5cd1",
   "metadata": {},
   "outputs": [
    {
     "data": {
      "text/html": [
       "<div>\n",
       "<style scoped>\n",
       "    .dataframe tbody tr th:only-of-type {\n",
       "        vertical-align: middle;\n",
       "    }\n",
       "\n",
       "    .dataframe tbody tr th {\n",
       "        vertical-align: top;\n",
       "    }\n",
       "\n",
       "    .dataframe thead th {\n",
       "        text-align: right;\n",
       "    }\n",
       "</style>\n",
       "<table border=\"1\" class=\"dataframe\">\n",
       "  <thead>\n",
       "    <tr style=\"text-align: right;\">\n",
       "      <th></th>\n",
       "      <th></th>\n",
       "      <th>Unnamed: 0</th>\n",
       "      <th>country</th>\n",
       "      <th>description</th>\n",
       "      <th>designation</th>\n",
       "      <th>points</th>\n",
       "      <th>price</th>\n",
       "      <th>province</th>\n",
       "      <th>region_1</th>\n",
       "      <th>region_2</th>\n",
       "      <th>taster_name</th>\n",
       "      <th>taster_twitter_handle</th>\n",
       "      <th>title</th>\n",
       "      <th>variety</th>\n",
       "      <th>winery</th>\n",
       "    </tr>\n",
       "    <tr>\n",
       "      <th>country</th>\n",
       "      <th>province</th>\n",
       "      <th></th>\n",
       "      <th></th>\n",
       "      <th></th>\n",
       "      <th></th>\n",
       "      <th></th>\n",
       "      <th></th>\n",
       "      <th></th>\n",
       "      <th></th>\n",
       "      <th></th>\n",
       "      <th></th>\n",
       "      <th></th>\n",
       "      <th></th>\n",
       "      <th></th>\n",
       "      <th></th>\n",
       "    </tr>\n",
       "  </thead>\n",
       "  <tbody>\n",
       "    <tr>\n",
       "      <th rowspan=\"2\" valign=\"top\">Argentina</th>\n",
       "      <th>Mendoza Province</th>\n",
       "      <td>82754</td>\n",
       "      <td>Argentina</td>\n",
       "      <td>If the color doesn't tell the full story, the ...</td>\n",
       "      <td>Nicasia Vineyard</td>\n",
       "      <td>97</td>\n",
       "      <td>120.0</td>\n",
       "      <td>Mendoza Province</td>\n",
       "      <td>Mendoza</td>\n",
       "      <td>NaN</td>\n",
       "      <td>Michael Schachner</td>\n",
       "      <td>@wineschach</td>\n",
       "      <td>Bodega Catena Zapata 2006 Nicasia Vineyard Mal...</td>\n",
       "      <td>Malbec</td>\n",
       "      <td>Bodega Catena Zapata</td>\n",
       "    </tr>\n",
       "    <tr>\n",
       "      <th>Other</th>\n",
       "      <td>78303</td>\n",
       "      <td>Argentina</td>\n",
       "      <td>Take note, this could be the best wine Colomé ...</td>\n",
       "      <td>Reserva</td>\n",
       "      <td>95</td>\n",
       "      <td>90.0</td>\n",
       "      <td>Other</td>\n",
       "      <td>Salta</td>\n",
       "      <td>NaN</td>\n",
       "      <td>Michael Schachner</td>\n",
       "      <td>@wineschach</td>\n",
       "      <td>Colomé 2010 Reserva Malbec (Salta)</td>\n",
       "      <td>Malbec</td>\n",
       "      <td>Colomé</td>\n",
       "    </tr>\n",
       "    <tr>\n",
       "      <th>Armenia</th>\n",
       "      <th>Armenia</th>\n",
       "      <td>66146</td>\n",
       "      <td>Armenia</td>\n",
       "      <td>Deep salmon in color, this wine offers a bouqu...</td>\n",
       "      <td>Estate Bottled</td>\n",
       "      <td>88</td>\n",
       "      <td>15.0</td>\n",
       "      <td>Armenia</td>\n",
       "      <td>NaN</td>\n",
       "      <td>NaN</td>\n",
       "      <td>Mike DeSimone</td>\n",
       "      <td>@worldwineguys</td>\n",
       "      <td>Van Ardi 2015 Estate Bottled Rosé (Armenia)</td>\n",
       "      <td>Rosé</td>\n",
       "      <td>Van Ardi</td>\n",
       "    </tr>\n",
       "  </tbody>\n",
       "</table>\n",
       "</div>"
      ],
      "text/plain": [
       "                            Unnamed: 0    country  \\\n",
       "country   province                                  \n",
       "Argentina Mendoza Province       82754  Argentina   \n",
       "          Other                  78303  Argentina   \n",
       "Armenia   Armenia                66146    Armenia   \n",
       "\n",
       "                                                                  description  \\\n",
       "country   province                                                              \n",
       "Argentina Mendoza Province  If the color doesn't tell the full story, the ...   \n",
       "          Other             Take note, this could be the best wine Colomé ...   \n",
       "Armenia   Armenia           Deep salmon in color, this wine offers a bouqu...   \n",
       "\n",
       "                                 designation  points  price          province  \\\n",
       "country   province                                                              \n",
       "Argentina Mendoza Province  Nicasia Vineyard      97  120.0  Mendoza Province   \n",
       "          Other                      Reserva      95   90.0             Other   \n",
       "Armenia   Armenia             Estate Bottled      88   15.0           Armenia   \n",
       "\n",
       "                           region_1 region_2        taster_name  \\\n",
       "country   province                                                \n",
       "Argentina Mendoza Province  Mendoza      NaN  Michael Schachner   \n",
       "          Other               Salta      NaN  Michael Schachner   \n",
       "Armenia   Armenia               NaN      NaN      Mike DeSimone   \n",
       "\n",
       "                           taster_twitter_handle  \\\n",
       "country   province                                 \n",
       "Argentina Mendoza Province           @wineschach   \n",
       "          Other                      @wineschach   \n",
       "Armenia   Armenia                 @worldwineguys   \n",
       "\n",
       "                                                                        title  \\\n",
       "country   province                                                              \n",
       "Argentina Mendoza Province  Bodega Catena Zapata 2006 Nicasia Vineyard Mal...   \n",
       "          Other                            Colomé 2010 Reserva Malbec (Salta)   \n",
       "Armenia   Armenia                 Van Ardi 2015 Estate Bottled Rosé (Armenia)   \n",
       "\n",
       "                           variety                winery  \n",
       "country   province                                        \n",
       "Argentina Mendoza Province  Malbec  Bodega Catena Zapata  \n",
       "          Other             Malbec                Colomé  \n",
       "Armenia   Armenia             Rosé              Van Ardi  "
      ]
     },
     "execution_count": 41,
     "metadata": {},
     "output_type": "execute_result"
    }
   ],
   "source": [
    "df.groupby(['country', 'province']).apply(lambda df: df.loc[df.points.idxmax()]).head(3)\n",
    "# this code will group the df by country then by province, and retrun the max_points_row of each group"
   ]
  },
  {
   "cell_type": "code",
   "execution_count": 20,
   "id": "cf5a4ba9",
   "metadata": {},
   "outputs": [
    {
     "data": {
      "text/html": [
       "<div>\n",
       "<style scoped>\n",
       "    .dataframe tbody tr th:only-of-type {\n",
       "        vertical-align: middle;\n",
       "    }\n",
       "\n",
       "    .dataframe tbody tr th {\n",
       "        vertical-align: top;\n",
       "    }\n",
       "\n",
       "    .dataframe thead th {\n",
       "        text-align: right;\n",
       "    }\n",
       "</style>\n",
       "<table border=\"1\" class=\"dataframe\">\n",
       "  <thead>\n",
       "    <tr style=\"text-align: right;\">\n",
       "      <th></th>\n",
       "      <th>len</th>\n",
       "      <th>min</th>\n",
       "      <th>max</th>\n",
       "    </tr>\n",
       "    <tr>\n",
       "      <th>country</th>\n",
       "      <th></th>\n",
       "      <th></th>\n",
       "      <th></th>\n",
       "    </tr>\n",
       "  </thead>\n",
       "  <tbody>\n",
       "    <tr>\n",
       "      <th>Argentina</th>\n",
       "      <td>3800</td>\n",
       "      <td>4.0</td>\n",
       "      <td>230.0</td>\n",
       "    </tr>\n",
       "    <tr>\n",
       "      <th>Armenia</th>\n",
       "      <td>2</td>\n",
       "      <td>14.0</td>\n",
       "      <td>15.0</td>\n",
       "    </tr>\n",
       "    <tr>\n",
       "      <th>Australia</th>\n",
       "      <td>2329</td>\n",
       "      <td>5.0</td>\n",
       "      <td>850.0</td>\n",
       "    </tr>\n",
       "  </tbody>\n",
       "</table>\n",
       "</div>"
      ],
      "text/plain": [
       "            len   min    max\n",
       "country                     \n",
       "Argentina  3800   4.0  230.0\n",
       "Armenia       2  14.0   15.0\n",
       "Australia  2329   5.0  850.0"
      ]
     },
     "execution_count": 20,
     "metadata": {},
     "output_type": "execute_result"
    }
   ],
   "source": [
    "df.groupby('country').price.agg([len,min,max]).head(3)\n",
    "# group by country, apply len(get the count of specified column), min, max to the price col"
   ]
  },
  {
   "cell_type": "markdown",
   "id": "044bce68",
   "metadata": {},
   "source": [
    "<big>`.groupby().size()` 返回分组后各组的大小（每个组有多少条数据）  \n",
    "`.groupby('col_name')['col_name'].count()` 与size()结果一致</big>"
   ]
  },
  {
   "cell_type": "code",
   "execution_count": 9,
   "id": "a23ad786",
   "metadata": {},
   "outputs": [
    {
     "name": "stdout",
     "output_type": "stream",
     "text": [
      "Category\n",
      "A    3\n",
      "B    2\n",
      "dtype: int64\n",
      "Category\n",
      "A    3\n",
      "B    2\n",
      "Name: Category, dtype: int64\n"
     ]
    }
   ],
   "source": [
    "data = {'Category': ['A', 'A', 'B', 'B', 'A'],\n",
    "        'Value': [10, 20, 15, 25, 30]}\n",
    "df = pd.DataFrame(data)\n",
    "\n",
    "# 使用.groupby()方法对'Category'列进行分组，并使用.size()方法计算每个组的大小\n",
    "group_sizes = df.groupby('Category').size()\n",
    "print(group_sizes)\n",
    "#使用count（）方法计算每个组大小\n",
    "group_sizes=df.groupby('Category')['Category'].count()\n",
    "print(group_sizes)"
   ]
  },
  {
   "cell_type": "markdown",
   "id": "60047135",
   "metadata": {},
   "source": [
    "## 2. agg() method to aggregate\n",
    "<big>`df[['col1','col2']].agg([func1,func2])` apply func1 and func2 respectively in both col1 and col2  </big>\n",
    "    \n",
    "<big>`df.agg({'col1': func1, 'col2': [func2,func3]})` apply func1 on col1, func2 and func3 on col2</big>\n",
    "    \n",
    "    \n",
    "    \n"
   ]
  },
  {
   "cell_type": "markdown",
   "id": "3f1fc1cc",
   "metadata": {},
   "source": [
    "## 3. apply() method to aggregate  \n",
    "<big>`df[['col1','cpol2']].apply(function)` apply can only use one function on multiple columns</big>\n",
    "\n",
    "\n"
   ]
  },
  {
   "cell_type": "markdown",
   "id": "3657ad60",
   "metadata": {},
   "source": [
    "## 4. transform() method to aggregate\n",
    "<big>`transform()` 方法在 Pandas 中用于执行聚合操作，但与 agg() 或 groupby() 不同，它会将聚合的结果返回到原始数据的每个行，而不是返回一个汇总的数据帧。这可以在对原始数据的每一行应用聚合操作时非常有用。</big>"
   ]
  },
  {
   "cell_type": "code",
   "execution_count": 50,
   "id": "304ad143",
   "metadata": {},
   "outputs": [
    {
     "data": {
      "text/html": [
       "<div>\n",
       "<style scoped>\n",
       "    .dataframe tbody tr th:only-of-type {\n",
       "        vertical-align: middle;\n",
       "    }\n",
       "\n",
       "    .dataframe tbody tr th {\n",
       "        vertical-align: top;\n",
       "    }\n",
       "\n",
       "    .dataframe thead th {\n",
       "        text-align: right;\n",
       "    }\n",
       "</style>\n",
       "<table border=\"1\" class=\"dataframe\">\n",
       "  <thead>\n",
       "    <tr style=\"text-align: right;\">\n",
       "      <th></th>\n",
       "      <th>Category</th>\n",
       "      <th>Value</th>\n",
       "      <th>Mean</th>\n",
       "    </tr>\n",
       "  </thead>\n",
       "  <tbody>\n",
       "    <tr>\n",
       "      <th>0</th>\n",
       "      <td>A</td>\n",
       "      <td>5</td>\n",
       "      <td>18.333333</td>\n",
       "    </tr>\n",
       "    <tr>\n",
       "      <th>1</th>\n",
       "      <td>B</td>\n",
       "      <td>15</td>\n",
       "      <td>47.500000</td>\n",
       "    </tr>\n",
       "    <tr>\n",
       "      <th>2</th>\n",
       "      <td>A</td>\n",
       "      <td>20</td>\n",
       "      <td>18.333333</td>\n",
       "    </tr>\n",
       "    <tr>\n",
       "      <th>3</th>\n",
       "      <td>B</td>\n",
       "      <td>80</td>\n",
       "      <td>47.500000</td>\n",
       "    </tr>\n",
       "    <tr>\n",
       "      <th>4</th>\n",
       "      <td>A</td>\n",
       "      <td>30</td>\n",
       "      <td>18.333333</td>\n",
       "    </tr>\n",
       "  </tbody>\n",
       "</table>\n",
       "</div>"
      ],
      "text/plain": [
       "  Category  Value       Mean\n",
       "0        A      5  18.333333\n",
       "1        B     15  47.500000\n",
       "2        A     20  18.333333\n",
       "3        B     80  47.500000\n",
       "4        A     30  18.333333"
      ]
     },
     "execution_count": 50,
     "metadata": {},
     "output_type": "execute_result"
    }
   ],
   "source": [
    "data = {\n",
    "    'Category': ['A', 'B', 'A', 'B', 'A'],\n",
    "    'Value': [5, 15, 20, 80, 30]\n",
    "}\n",
    "df = pd.DataFrame(data)\n",
    "\n",
    "# 使用 transform 计算每个类别的均值，并将结果添加为新列 'Mean'\n",
    "df['Mean'] = df.groupby('Category')['Value'].transform('mean')\n",
    "df"
   ]
  },
  {
   "cell_type": "code",
   "execution_count": 52,
   "id": "8d58e8ce",
   "metadata": {},
   "outputs": [
    {
     "data": {
      "text/plain": [
       "Category\n",
       "A    18.333333\n",
       "B    47.500000\n",
       "Name: Value, dtype: float64"
      ]
     },
     "execution_count": 52,
     "metadata": {},
     "output_type": "execute_result"
    }
   ],
   "source": [
    "# 可以看到 agg执行mean函数后，返回一个series，是分组后的汇总表示，而transform会直接添加一个新的列，每一行计算对应group的mean\n",
    "agg_result = df.groupby('Category')['Value'].agg('mean')\n",
    "agg_result"
   ]
  },
  {
   "cell_type": "markdown",
   "id": "449675e3",
   "metadata": {},
   "source": [
    "## 5. Multi-indexes\n",
    "<big>`.set_index(['col1','col2'])` 可直接得到一个重新设置过multi-index的dataframe  \n",
    "也可以用groupby对多列分组，会产生multi-index的**Series**  \n",
    "multi-indexs is a type in Pandas, you can check it by `type()`  \n",
    "the multi-index method you will use most often is the one for converting back to a regular index, the `reset_index()` method:</big>"
   ]
  },
  {
   "cell_type": "code",
   "execution_count": 36,
   "id": "8d7e428e",
   "metadata": {},
   "outputs": [
    {
     "name": "stdout",
     "output_type": "stream",
     "text": [
      "original\n",
      "    Year  Quarter  Sales\n",
      "0  2021        1    100\n",
      "1  2021        2    120\n",
      "2  2022        1     90\n",
      "3  2022        2    110\n",
      "multi-index\n",
      "               Sales\n",
      "Year Quarter       \n",
      "2021 1          100\n",
      "     2          120\n",
      "2022 1           90\n",
      "     2          110\n",
      "\n",
      "    Year  Quarter  Sales\n",
      "0  2021        1    100\n",
      "1  2021        2    120\n",
      "2  2022        1     90\n",
      "3  2022        2    110\n"
     ]
    }
   ],
   "source": [
    "import pandas as pd\n",
    "\n",
    "# 创建一个具有多重索引的示例数据帧\n",
    "data = {'Year': [2021, 2021, 2022, 2022],\n",
    "        'Quarter': [1, 2, 1, 2],\n",
    "        'Sales': [100, 120, 90, 110]}\n",
    "df = pd.DataFrame(data)\n",
    "print('original\\n',df)\n",
    "df.set_index(['Year', 'Quarter'], inplace=True)\n",
    "print('multi-index\\n',df)\n",
    "\n",
    "\n",
    "# 使用 reset_index 重置索引\n",
    "df_reset = df.reset_index()\n",
    "\n",
    "# 现在 df_reset 具有默认整数索引，并且多重索引信息已移至列\n",
    "print('\\n',df_reset) # 此时与original dataframe相同\n"
   ]
  },
  {
   "cell_type": "markdown",
   "id": "d8237346",
   "metadata": {},
   "source": [
    "## 6. Sorting\n",
    "\n",
    "    \n",
    "<big>`.sort_values(by='',ascending=T/F)` will get data **value** in the order by specified column and we can sort data by more than one column at a time</big>"
   ]
  },
  {
   "cell_type": "code",
   "execution_count": 10,
   "id": "2094b41c",
   "metadata": {},
   "outputs": [
    {
     "name": "stdout",
     "output_type": "stream",
     "text": [
      "      Name  Age  Salary\n",
      "0    Alice   25   50000\n",
      "1      Bob   30   60000\n",
      "2  Charlie   22   45000\n",
      "3    David   35   70000\n",
      "4     Jack   30    2000\n"
     ]
    },
    {
     "data": {
      "text/html": [
       "<div>\n",
       "<style scoped>\n",
       "    .dataframe tbody tr th:only-of-type {\n",
       "        vertical-align: middle;\n",
       "    }\n",
       "\n",
       "    .dataframe tbody tr th {\n",
       "        vertical-align: top;\n",
       "    }\n",
       "\n",
       "    .dataframe thead th {\n",
       "        text-align: right;\n",
       "    }\n",
       "</style>\n",
       "<table border=\"1\" class=\"dataframe\">\n",
       "  <thead>\n",
       "    <tr style=\"text-align: right;\">\n",
       "      <th></th>\n",
       "      <th>Name</th>\n",
       "      <th>Age</th>\n",
       "      <th>Salary</th>\n",
       "    </tr>\n",
       "  </thead>\n",
       "  <tbody>\n",
       "    <tr>\n",
       "      <th>4</th>\n",
       "      <td>Jack</td>\n",
       "      <td>30</td>\n",
       "      <td>2000</td>\n",
       "    </tr>\n",
       "    <tr>\n",
       "      <th>2</th>\n",
       "      <td>Charlie</td>\n",
       "      <td>22</td>\n",
       "      <td>45000</td>\n",
       "    </tr>\n",
       "    <tr>\n",
       "      <th>0</th>\n",
       "      <td>Alice</td>\n",
       "      <td>25</td>\n",
       "      <td>50000</td>\n",
       "    </tr>\n",
       "    <tr>\n",
       "      <th>1</th>\n",
       "      <td>Bob</td>\n",
       "      <td>30</td>\n",
       "      <td>60000</td>\n",
       "    </tr>\n",
       "    <tr>\n",
       "      <th>3</th>\n",
       "      <td>David</td>\n",
       "      <td>35</td>\n",
       "      <td>70000</td>\n",
       "    </tr>\n",
       "  </tbody>\n",
       "</table>\n",
       "</div>"
      ],
      "text/plain": [
       "      Name  Age  Salary\n",
       "4     Jack   30    2000\n",
       "2  Charlie   22   45000\n",
       "0    Alice   25   50000\n",
       "1      Bob   30   60000\n",
       "3    David   35   70000"
      ]
     },
     "execution_count": 10,
     "metadata": {},
     "output_type": "execute_result"
    }
   ],
   "source": [
    "# 创建一个示例数据帧\n",
    "data = {'Name': ['Alice', 'Bob', 'Charlie', 'David','Jack'],\n",
    "        'Age': [25, 30, 22, 35,30],\n",
    "        'Salary': [50000, 60000, 45000, 70000,2000]}\n",
    "df = pd.DataFrame(data)\n",
    "print(df)\n",
    "\n",
    "# 使用 sort_values 对数据帧按照 'Age' 列进行升序排序\n",
    "df_sorted = df.sort_values(by='Salary')\n",
    "\n",
    "# 打印排序后的数据帧\n",
    "df_sorted"
   ]
  },
  {
   "cell_type": "code",
   "execution_count": 41,
   "id": "d494e5e5",
   "metadata": {},
   "outputs": [
    {
     "data": {
      "text/html": [
       "<div>\n",
       "<style scoped>\n",
       "    .dataframe tbody tr th:only-of-type {\n",
       "        vertical-align: middle;\n",
       "    }\n",
       "\n",
       "    .dataframe tbody tr th {\n",
       "        vertical-align: top;\n",
       "    }\n",
       "\n",
       "    .dataframe thead th {\n",
       "        text-align: right;\n",
       "    }\n",
       "</style>\n",
       "<table border=\"1\" class=\"dataframe\">\n",
       "  <thead>\n",
       "    <tr style=\"text-align: right;\">\n",
       "      <th></th>\n",
       "      <th>Name</th>\n",
       "      <th>Age</th>\n",
       "      <th>Salary</th>\n",
       "    </tr>\n",
       "  </thead>\n",
       "  <tbody>\n",
       "    <tr>\n",
       "      <th>2</th>\n",
       "      <td>Charlie</td>\n",
       "      <td>22</td>\n",
       "      <td>45000</td>\n",
       "    </tr>\n",
       "    <tr>\n",
       "      <th>0</th>\n",
       "      <td>Alice</td>\n",
       "      <td>25</td>\n",
       "      <td>50000</td>\n",
       "    </tr>\n",
       "    <tr>\n",
       "      <th>4</th>\n",
       "      <td>Jack</td>\n",
       "      <td>30</td>\n",
       "      <td>2000</td>\n",
       "    </tr>\n",
       "    <tr>\n",
       "      <th>1</th>\n",
       "      <td>Bob</td>\n",
       "      <td>30</td>\n",
       "      <td>60000</td>\n",
       "    </tr>\n",
       "    <tr>\n",
       "      <th>3</th>\n",
       "      <td>David</td>\n",
       "      <td>35</td>\n",
       "      <td>70000</td>\n",
       "    </tr>\n",
       "  </tbody>\n",
       "</table>\n",
       "</div>"
      ],
      "text/plain": [
       "      Name  Age  Salary\n",
       "2  Charlie   22   45000\n",
       "0    Alice   25   50000\n",
       "4     Jack   30    2000\n",
       "1      Bob   30   60000\n",
       "3    David   35   70000"
      ]
     },
     "execution_count": 41,
     "metadata": {},
     "output_type": "execute_result"
    }
   ],
   "source": [
    "df.sort_values(by=['Age','Salary'])"
   ]
  },
  {
   "cell_type": "markdown",
   "id": "7d10acfa",
   "metadata": {},
   "source": [
    "# 6. DataFrame Concatation\n"
   ]
  },
  {
   "cell_type": "markdown",
   "id": "ccd5e990",
   "metadata": {},
   "source": [
    "## 1. concat 堆叠合并\n",
    "<big>`.concat(objs, axis=0, join='outer', ignore_index=False)`  </big>\n",
    "\n",
    "objs：要拼接的数据结构，通常是一个包含多个数据帧或 Series 的列表。\n",
    "\n",
    "axis：指定拼接的轴，可以是 0（默认，按行拼接,纵向堆叠）   或 1（按列拼接，横向堆叠）。\n",
    "\n",
    "join：指定如何处理不匹配的索引（行或列标签），可以是 'inner'（只保留共同的标签）或 'outer'（保留所有标签，默认值）。\n",
    "\n",
    "ignore_index：如果设置为 True，则将忽略拼接后的数据结构中的索引，并创建一个新的整数索引。"
   ]
  },
  {
   "cell_type": "code",
   "execution_count": 116,
   "id": "705fde7f",
   "metadata": {},
   "outputs": [
    {
     "name": "stdout",
     "output_type": "stream",
     "text": [
      "   A  B\n",
      "0  1  3\n",
      "1  2  4 \n",
      "    A  B\n",
      "0  5  7\n",
      "1  6  8 \n",
      "\n",
      "   A  B\n",
      "0  1  3\n",
      "1  2  4\n",
      "0  5  7\n",
      "1  6  8\n",
      "   A  B  A  B\n",
      "0  1  3  5  7\n",
      "1  2  4  6  8\n",
      "   A  B\n",
      "0  1  3\n",
      "1  2  4\n",
      "2  5  7\n",
      "3  6  8\n"
     ]
    }
   ],
   "source": [
    "# 创建两个示例数据帧\n",
    "data1 = {'A': [1, 2], 'B': [3, 4]}\n",
    "data2 = {'A': [5, 6], 'B': [7, 8]}\n",
    "df1 = pd.DataFrame(data1)\n",
    "df2 = pd.DataFrame(data2)\n",
    "\n",
    "print(df1,'\\n',df2,'\\n')\n",
    "\n",
    "# 在行方向拼接两个数据帧\n",
    "result1 = pd.concat([df1, df2], axis=0)\n",
    "print(result1)\n",
    "# 在列方向拼接两个数据帧\n",
    "result2 = pd.concat([df1, df2], axis=1)\n",
    "print(result2)\n",
    "# 忽略原始索引，创建新的整数索引\n",
    "result3 = pd.concat([df1, df2], ignore_index=True)\n",
    "print(result3)"
   ]
  },
  {
   "cell_type": "markdown",
   "id": "cbd5b7a2",
   "metadata": {},
   "source": [
    "## 2. Merge 主键合并\n",
    "\n",
    "<big>`merged_df = df1.merge(df2,how='inner' on='key')` </big>  \n",
    "\n",
    "merge： merge 是 Pandas 中用于合并数据的功能非常强大的函数，它允许你基于一个或多个键（通常是列）将两个数据框连接起来。你可以指定连接的方式（内连接、外连接、左连接、右连接）以及连接键。这使得你可以根据共享的列将数据框连接在一起，类似于 SQL 中的 JOIN 操作。\n",
    "\n",
    "df1：左侧的数据框，通常是要合并的主数据框。\n",
    "\n",
    "df2：右侧的数据框，通常是要与主数据框合并的数据框。\n",
    "\n",
    "how：指定合并方式，可以是 'inner'（只保留共同的标签）或 'outer'（保留所有标签，默认值）、'left'（左连接）、'right'（右连接）。\n",
    "\n",
    "on：用于指定连接键的列名。如果两个数据框具有相同的列名，可以只指定一个列名，它将用作连接键。\n"
   ]
  },
  {
   "cell_type": "code",
   "execution_count": 125,
   "id": "5cd00fbe",
   "metadata": {},
   "outputs": [
    {
     "name": "stdout",
     "output_type": "stream",
     "text": [
      "   EmployeeID     Name  DepartmentID\n",
      "0           1    Alice           101\n",
      "1           2      Bob           102\n",
      "2           3  Charlie           101\n",
      "3           4    David           103\n",
      "   DepartmentID DepartmentName\n",
      "0           101             HR\n",
      "1           102        Finance\n",
      "2           103             IT\n",
      "3           104      Marketing\n",
      "   EmployeeID     Name  DepartmentID DepartmentName\n",
      "0           1    Alice           101             HR\n",
      "1           3  Charlie           101             HR\n",
      "2           2      Bob           102        Finance\n",
      "3           4    David           103             IT\n"
     ]
    }
   ],
   "source": [
    "# 创建示例数据帧 df1（员工信息）\n",
    "data1 = {'EmployeeID': [1, 2, 3, 4],\n",
    "         'Name': ['Alice', 'Bob', 'Charlie', 'David'],\n",
    "         'DepartmentID': [101, 102, 101, 103]}\n",
    "\n",
    "df1 = pd.DataFrame(data1)\n",
    "print(df1)\n",
    "\n",
    "# 创建示例数据帧 df2（部门信息）\n",
    "data2 = {'DepartmentID': [101, 102, 103, 104],\n",
    "         'DepartmentName': ['HR', 'Finance', 'IT', 'Marketing']}\n",
    "\n",
    "df2 = pd.DataFrame(data2)\n",
    "print(df2)\n",
    "\n",
    "# 使用 merge 函数进行合并\n",
    "merged_df = df1.merge(df2, on='DepartmentID', how='inner')\n",
    "\n",
    "print(merged_df)"
   ]
  },
  {
   "cell_type": "markdown",
   "id": "b14a681b",
   "metadata": {},
   "source": [
    "## 3. join() 主键合并\n",
    "<big>`DataFrame.join(other, on=None, how='left', lsuffix='', rsuffix='', sort=False)`</big>\n",
    "\n",
    "other：要连接的另一个数据帧。dataframe或Series\n",
    "\n",
    "on：用于连接的列或索引名称。默认情况下，join 方法使用两个数据帧的索引进行连接。\n",
    "\n",
    "how：连接方式，可以是 'left'、'right'、'inner' 或 'outer'。默认是 'left'，表示左连接。\n",
    "\n",
    "lsuffix 和 rsuffix：用于处理重叠列名的后缀。如果两个数据帧具有相同的列名，可以使用这些参数来添加后缀以区分它们。\n",
    "\n",
    "sort：默认为 False。如果设置为 True，则在连接之前会对索引进行排序。\n"
   ]
  },
  {
   "cell_type": "code",
   "execution_count": 131,
   "id": "953f0630",
   "metadata": {},
   "outputs": [
    {
     "name": "stdout",
     "output_type": "stream",
     "text": [
      "   A  B\n",
      "X  1  4\n",
      "Y  2  5\n",
      "Z  3  6 \n",
      "\n",
      "   C   D\n",
      "X  7  10\n",
      "Y  8  11\n",
      "Z  9  12 \n",
      "\n",
      "   A  B  C   D\n",
      "X  1  4  7  10\n",
      "Y  2  5  8  11\n",
      "Z  3  6  9  12\n"
     ]
    }
   ],
   "source": [
    "\n",
    "# 创建示例数据帧 df1\n",
    "data1 = {'A': [1, 2, 3], 'B': [4, 5, 6]}\n",
    "df1 = pd.DataFrame(data1, index=['X', 'Y', 'Z'])\n",
    "print(df1,'\\n')\n",
    "\n",
    "# 创建示例数据帧 df2\n",
    "data2 = {'C': [7, 8, 9], 'D': [10, 11, 12]}\n",
    "df2 = pd.DataFrame(data2, index=['X', 'Y', 'Z'])\n",
    "print(df2,'\\n')\n",
    "\n",
    "# 使用 join 方法连接两个数据帧\n",
    "result = df1.join(df2, how='right')\n",
    "\n",
    "print(result)\n"
   ]
  }
 ],
 "metadata": {
  "kernelspec": {
   "display_name": "Python 3 (ipykernel)",
   "language": "python",
   "name": "python3"
  },
  "language_info": {
   "codemirror_mode": {
    "name": "ipython",
    "version": 3
   },
   "file_extension": ".py",
   "mimetype": "text/x-python",
   "name": "python",
   "nbconvert_exporter": "python",
   "pygments_lexer": "ipython3",
   "version": "3.9.12"
  }
 },
 "nbformat": 4,
 "nbformat_minor": 5
}
