{
 "cells": [
  {
   "cell_type": "markdown",
   "id": "d5cedeba",
   "metadata": {},
   "source": [
    "# WEEK 2 \n",
    "## PART 1-String\n",
    "\n"
   ]
  },
  {
   "cell_type": "raw",
   "id": "175d2540",
   "metadata": {},
   "source": [
    "1.concatenate strings\n",
    "operator \"*\" can repeat the string；\n",
    "operation \"+\" can concatenate two strings"
   ]
  },
  {
   "cell_type": "code",
   "execution_count": 1,
   "id": "8930db08",
   "metadata": {},
   "outputs": [
    {
     "name": "stdout",
     "output_type": "stream",
     "text": [
      "s1+s2: I love LSY.She's a pretty puppy.\n",
      "s1,s2: I love LSY. She's a pretty puppy.\n",
      "s3*3: LSYLSYLSY\n"
     ]
    }
   ],
   "source": [
    "s1='I love LSY.'\n",
    "s2=\"She's a pretty puppy.\"\n",
    "print(\"s1+s2:\",s1+s2)\n",
    "print(\"s1,s2:\",s1,s2)\n",
    "\n",
    "s3=\"LSY\"\n",
    "print(\"s3*3:\",s3*3)"
   ]
  },
  {
   "cell_type": "raw",
   "id": "03efed5e",
   "metadata": {},
   "source": [
    "2.Methods"
   ]
  },
  {
   "cell_type": "code",
   "execution_count": 4,
   "id": "7e461b48",
   "metadata": {},
   "outputs": [
    {
     "name": "stdout",
     "output_type": "stream",
     "text": [
      " I LOVE LSY   \n",
      " i love lsy   \n",
      " I Love Lsy   \n",
      " I love LSY\n",
      "I love LSY   \n",
      "I love LSY\n"
     ]
    },
    {
     "data": {
      "text/plain": [
       "14"
      ]
     },
     "execution_count": 4,
     "metadata": {},
     "output_type": "execute_result"
    }
   ],
   "source": [
    "s1=\" I love LSY   \"\n",
    "print(s1.upper())\n",
    "print(s1.lower())\n",
    "print(s1.title())\n",
    "# strip can move the spaces\n",
    "print(s1.rstrip())\n",
    "print(s1.lstrip())\n",
    "print(s1.strip())\n",
    "len(s1)"
   ]
  },
  {
   "cell_type": "markdown",
   "id": "cf817ee7",
   "metadata": {},
   "source": [
    "## PART 2 Branching and conditionals"
   ]
  },
  {
   "cell_type": "raw",
   "id": "8f271ab0",
   "metadata": {},
   "source": [
    "Nested conditionals\n",
    "if condition1:\n",
    "    do something\n",
    "else:\n",
    "    if condition2:\n",
    "        do sth\n",
    "    else:\n",
    "        do sth\n",
    "elif condition3:\n",
    "    do sth"
   ]
  },
  {
   "cell_type": "markdown",
   "id": "f454b684",
   "metadata": {},
   "source": [
    "## PART3 Iteration and Loops"
   ]
  },
  {
   "cell_type": "raw",
   "id": "b599bc21",
   "metadata": {},
   "source": [
    "1.while loops"
   ]
  },
  {
   "cell_type": "code",
   "execution_count": 5,
   "id": "e2f4ff19",
   "metadata": {},
   "outputs": [
    {
     "name": "stdout",
     "output_type": "stream",
     "text": [
      "You're in the Lost Forest. Go left or right?left\n",
      "You go out of the Forest!\n"
     ]
    }
   ],
   "source": [
    "n=input(\"You're in the Lost Forest. Go left or right?\")\n",
    "i=0\n",
    "while n==\"right\":\n",
    "    n=input(\"You're in the Lost Forest. Go left or right?\")\n",
    "    if i>=3:\n",
    "        break\n",
    "    i=i+1\n",
    "print(\"You go out of the Forest!\")\n"
   ]
  },
  {
   "cell_type": "raw",
   "id": "9d4a4ac9",
   "metadata": {},
   "source": [
    "2.for loops"
   ]
  },
  {
   "cell_type": "code",
   "execution_count": 7,
   "id": "e2df1d12",
   "metadata": {},
   "outputs": [
    {
     "name": "stdout",
     "output_type": "stream",
     "text": [
      "there's an letter 'a'.\n",
      "there's an letter 'a'.\n",
      "A\n",
      "a\n"
     ]
    }
   ],
   "source": [
    "string=\"A random text\"\n",
    "for index in range(len(string)):\n",
    "    if string.lower()[index]=='a':\n",
    "        print(\"there's an letter 'a'.\")\n",
    "\n",
    "for char in string:\n",
    "    if char=='a' or char =='A':\n",
    "        print(char)\n",
    "\n",
    "\n"
   ]
  },
  {
   "cell_type": "markdown",
   "id": "bb64818d",
   "metadata": {},
   "source": [
    "3.\"break\" can skip remaining expression in the innermost loop3."
   ]
  },
  {
   "cell_type": "code",
   "execution_count": 8,
   "id": "a7c19b47",
   "metadata": {},
   "outputs": [
    {
     "name": "stdout",
     "output_type": "stream",
     "text": [
      "6\n",
      "5\n",
      "4\n"
     ]
    }
   ],
   "source": [
    "x = 6\n",
    "while x: #x>0\n",
    "    print(x)\n",
    "    x -= 1\n",
    "    if x == 3:\n",
    "        break"
   ]
  },
  {
   "cell_type": "markdown",
   "id": "10d0b97a",
   "metadata": {},
   "source": [
    "4.\"continune\" make the next iteration of the loop"
   ]
  },
  {
   "cell_type": "code",
   "execution_count": 9,
   "id": "23e6652f",
   "metadata": {},
   "outputs": [
    {
     "name": "stdout",
     "output_type": "stream",
     "text": [
      "1\n",
      "3\n",
      "5\n",
      "7\n",
      "9\n"
     ]
    }
   ],
   "source": [
    "count=0\n",
    "while count<10:\n",
    "    count=count+1\n",
    "    if count%2==0:\n",
    "        continue    #if it is evens, go to next loop and skip the rest of block\n",
    "    print(count)    #only when it is odd, this line is expressing"
   ]
  }
 ],
 "metadata": {
  "kernelspec": {
   "display_name": "Python 3 (ipykernel)",
   "language": "python",
   "name": "python3"
  },
  "language_info": {
   "codemirror_mode": {
    "name": "ipython",
    "version": 3
   },
   "file_extension": ".py",
   "mimetype": "text/x-python",
   "name": "python",
   "nbconvert_exporter": "python",
   "pygments_lexer": "ipython3",
   "version": "3.9.12"
  }
 },
 "nbformat": 4,
 "nbformat_minor": 5
}
