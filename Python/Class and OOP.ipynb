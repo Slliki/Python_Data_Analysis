{
 "cells": [
  {
   "cell_type": "markdown",
   "id": "3f2d15ee",
   "metadata": {},
   "source": [
    "# Object Oriented Programming (OOP)\n",
    "Object Oriented Programming (OOP) is a [design pattern](https://en.wikipedia.org/wiki/Design_Patterns) in software development. The key to OOP is that think about objects as collections of both data and the methods that operate on the data\n",
    "\n",
    "OOP provides some advantages over other design patterns such as:\n",
    "\n",
    "1. **Modularity**: Helps us to troubleshoot our program easier. For example, if the *Vehicle* object broke down, we know the problem must be in the Vehicle class!\n",
    "2. **Reusability**: OOP allows us to resue methods and attributes of other objects through *inheritance*. This makes our code cleaner and more readable.\n",
    "3. **Flexibility**: Polymorphism allows us to have an object in different forms. For example, if we have a parent class \"Person\", and a child class \"Student\", the \"Student\" inherits all the moethods and attributes from the parent class \"Person\", however, \"Student\" may have its own implementation of methods. Polymorphism deals with how the program decides which methods it should use.\n",
    "4. **Effective problem solving**: With OOP, we can break down our software into smaller pieces, which makes problem solving easier.\n",
    "\n",
    "**Object** and **class** are the main concept of OOP. We can think of a class as a \"blueprint\" for objects.\n"
   ]
  },
  {
   "cell_type": "markdown",
   "id": "6ce7eb04",
   "metadata": {},
   "source": [
    "# 1. Class\n",
    "Using `class class_name:` to define a class in Python.\\\n",
    "\n",
    "A class can have a constructor which is called whenever an instance of the class is created. In python, **\\_\\_init\\_\\_** method is an initialiser which is used to instantiate objects. The **self** parameter refers to the object itself. (**self** is similar to **this** in C++ and Java)  \n",
    "\n",
    "## 1. Attributes\n",
    "`__init__` method will be automatically called every time when the class is called.\n",
    "\n",
    "- **类属性（class attribute）**是与类本身关联的属性，而不是与类的实例（对象）关联的。它们通常在类的内部定义，位于类定义的顶层，类的所有实例都共享这些属性。类属性在所有类的实例之间保持一致，即对类属性的修改将影响到所有类的实例。通常用于存储与类本身相关的信息，例如类的描述或类的常量。你可以通过类名或实例来访问类属性。  \n",
    "\n",
    "- **实例属性（instance attribute）**是与类的实例（对象）关联的属性，每个类的实例都可以具有不同的属性值。通常在构造函数 __init__ 中定义，用于初始化对象的特征和属性。每个类的实例都有自己的一组实例属性，它们可以不同于其他实例。实例属性在对象创建时分配，并且它们通常用于存储对象的状态和数据。你可以通过实例来访问实例属性。\n",
    "\n",
    "修改类属性：类属性的值可以从类的外部函数或模块中进行修改。这是因为类属性与类本身相关联，而类可以在整个程序中被多个部分访问。如果你需要修改类属性的值，可以通过类名来访问和修改它。\\\n",
    "\n"
   ]
  },
  {
   "cell_type": "markdown",
   "id": "1ec823d5",
   "metadata": {},
   "source": [
    "## 2. Methods\n",
    "\n",
    "- **类方法（class method）**: `@classmethod` 装饰器用于定义一个类方法。类方法与实例方法不同，它们不需要访问实例的属性或状态，而是与类本身相关。因此，在类方法中，通常使用 cls 作为第一个参数，而不是 self\\\n",
    "ps：类方法可以是普通函数形式，也可以用return来返回你想要的结果\n",
    "\n",
    "- **实例方法（instance method）** `def `通过内部构造其他函数来create实例方法。实例属性用于存储对象的状态和特征，每个对象可以有不同的属性值。实例方法用于定义对象的行为和操作，它们允许对象执行特定的任务和操作，并访问对象的属性。\n",
    "\n",
    "**`__str__` method**:返回一个描述对象的字符串。这个字符串可以包含对象的属性信息或其他有关对象的有用信息。通过自定义 __str__ 方法，你可以更好地控制对象的字符串表示，以便在输出或日志中更容易理解对象的内容。"
   ]
  },
  {
   "cell_type": "code",
   "execution_count": 47,
   "id": "09138d57",
   "metadata": {},
   "outputs": [
    {
     "name": "stdout",
     "output_type": "stream",
     "text": [
      "Name: Alice, Salary: 50000, Company: ABC Corp\n",
      "Name: George, Salary: 50000, Company: ABC Corp\n",
      "Name: Bob, Salary: 60000, Company: XYZ Inc\n",
      "This is a str method!\n"
     ]
    }
   ],
   "source": [
    "class Employee:\n",
    "    company = \"ABC Corp\"  # 类属性\n",
    "\n",
    "    def __init__(self, name, salary):\n",
    "        self.name = name  # 实例属性\n",
    "        self.salary = salary  # 实例属性\n",
    "\n",
    "    def display_info(self):  # 实例方法\n",
    "        return f\"Name: {self.name}, Salary: {self.salary}, Company: {self.company}\"\n",
    "\n",
    "    @classmethod\n",
    "    def set_company(cls, new_company):  # 类方法: 该方法效果是修改类属性company\n",
    "        cls.company = new_company\n",
    "        \n",
    "    def __str__(self):\n",
    "        return 'This is a str method!'\n",
    "\n",
    "# 创建两个 Employee 实例\n",
    "employee1 = Employee(\"Alice\", 50000)\n",
    "employee2 = Employee(\"Bob\", 60000)\n",
    "\n",
    "# 调用实例方法\n",
    "print(employee1.display_info())  # 输出：Name: Alice, Salary: 50000, Company: ABC Corp\n",
    "\n",
    "# 修改实例属性\n",
    "employee1.name='George'\n",
    "print(employee1.display_info())\n",
    "# 或者在class内部建立一个新method： set_name() 用于改变name这个属性\n",
    "\n",
    "# 使用类方法来修改类属性\n",
    "Employee.set_company(\"XYZ Inc\")\n",
    "\n",
    "# 查看修改后的类属性\n",
    "print(employee2.display_info())  # 输出：Name: Bob, Salary: 60000, Company: XYZ Inc\n",
    "\n",
    "# 查看str方法\n",
    "print(employee1)\n"
   ]
  },
  {
   "cell_type": "markdown",
   "id": "2e72d636",
   "metadata": {},
   "source": [
    "## 3. Inheritance\n",
    "We use inheritance when we want to inherit all attributes and methods of another class. The newly formed class is called **child**, and the class which the child is derived from is called **parent**. The child class can override (modify the current arrtibutes and methods) and extend (add new attributes and methods) the parent class. <br>\n",
    "To inherit a class, we create new class with its own name and put the name of the parent class in parentheses.  \n",
    "`super()` 一般用于`super()__init__()`来调用父类的构造函数（init）；\\\n",
    "此外也可以用于调用父类的任何方法：`child_methode=super().parents_method()`\n",
    "\n",
    "`class child_class(parent_class):`"
   ]
  },
  {
   "cell_type": "code",
   "execution_count": 49,
   "id": "12e95d79",
   "metadata": {},
   "outputs": [
    {
     "name": "stdout",
     "output_type": "stream",
     "text": [
      "Hello, my name is Eve and I am 20 years old.\n",
      "Eve is studying.\n"
     ]
    }
   ],
   "source": [
    "# create parent class\n",
    "class Person:\n",
    "    def __init__(self, name, age):\n",
    "        self.name = name\n",
    "        self.age = age\n",
    "    \n",
    "    def greet(self):\n",
    "        print(f\"Hello, my name is {self.name} and I am {self.age} years old.\")\n",
    "\n",
    "        \n",
    "# create child class\n",
    "class Student(Person):\n",
    "    def __init__(self, name, age, student_id):\n",
    "        super().__init__(name, age)  # 用 super().__init__() 调用父类构造方法\n",
    "        self.student_id = student_id  # 新属性\n",
    "\n",
    "    def study(self):  #子类自己的method\n",
    "        print(f\"{self.name} is studying.\")\n",
    "\n",
    "student1 = Student(\"Eve\", 20, \"12345\")\n",
    "student1.greet()  # 调用从父类继承的方法\n",
    "student1.study()  # 调用子类自己定义的方法"
   ]
  },
  {
   "cell_type": "markdown",
   "id": "fef31fa5",
   "metadata": {},
   "source": [
    "## 4. Modifying/Adding attributes\n",
    "\n",
    "### 1. Modify\n",
    "we can use built-in fucntions to access and modify attributes of instances. <br>\n",
    "**`getattr(obj, 'name'[, default])`** − access the attribute of object.<br>\n",
    "**`hasattr(obj,'name')`** − check whether an attribute exists or not.<br>\n",
    "**`setattr(obj,'name',value)`** − set an attribute. If attribute does not exist, then it would be created.<br>\n",
    "**`delattr(obj, 'name')`** − delete an attribute.<br>\n",
    "\n",
    "ps:`name` presents the name of the attribute that you wish to check\n",
    "\n",
    "### 2. Add\n",
    "You can add a new attribute outside the difination of a class (such as the 'grade');  \n",
    "or you can use `setattr()` to add a new attribute\n",
    "\n"
   ]
  },
  {
   "cell_type": "code",
   "execution_count": 19,
   "id": "9027600c",
   "metadata": {},
   "outputs": [
    {
     "name": "stdout",
     "output_type": "stream",
     "text": [
      "simple class\n"
     ]
    }
   ],
   "source": [
    "class SimpleClass:\n",
    "    def __init__(self, name=\"simple class\"):\n",
    "        self.name = name\n",
    "        \n",
    "student1 = SimpleClass()\n",
    "print(student1.name) # print \"simple class\" \n",
    "student1.name = \"Kevin\" # Change the name attribute for student1 instance\n",
    "student1.grade = \"A\"  # add a new attribute to the class (you don't need to create every attribute in advance)"
   ]
  },
  {
   "cell_type": "code",
   "execution_count": 24,
   "id": "9c7c787c",
   "metadata": {},
   "outputs": [
    {
     "data": {
      "text/plain": [
       "'Kevin'"
      ]
     },
     "execution_count": 24,
     "metadata": {},
     "output_type": "execute_result"
    }
   ],
   "source": [
    "getattr(student1,'name')"
   ]
  },
  {
   "cell_type": "code",
   "execution_count": 25,
   "id": "22e005ef",
   "metadata": {},
   "outputs": [
    {
     "data": {
      "text/plain": [
       "False"
      ]
     },
     "execution_count": 25,
     "metadata": {},
     "output_type": "execute_result"
    }
   ],
   "source": [
    "hasattr(student1,\"age\")"
   ]
  },
  {
   "cell_type": "code",
   "execution_count": 27,
   "id": "9f09b5b7",
   "metadata": {},
   "outputs": [
    {
     "data": {
      "text/plain": [
       "25"
      ]
     },
     "execution_count": 27,
     "metadata": {},
     "output_type": "execute_result"
    }
   ],
   "source": [
    "setattr(student1,'age',25)\n",
    "student1.age"
   ]
  },
  {
   "cell_type": "code",
   "execution_count": 28,
   "id": "2b3eb8b3",
   "metadata": {},
   "outputs": [
    {
     "data": {
      "text/plain": [
       "False"
      ]
     },
     "execution_count": 28,
     "metadata": {},
     "output_type": "execute_result"
    }
   ],
   "source": [
    "delattr(student1, \"age\") \n",
    "hasattr(student1,\"age\")"
   ]
  },
  {
   "cell_type": "markdown",
   "id": "f44e2035",
   "metadata": {},
   "source": [
    "## 5. Import Class as a module"
   ]
  },
  {
   "cell_type": "markdown",
   "id": "ba17ab61",
   "metadata": {},
   "source": [
    "`from class_name import method_name`\\\n",
    "`from class_name import *` : * represents import all of the methods in the class  \n"
   ]
  },
  {
   "cell_type": "markdown",
   "id": "21f47217",
   "metadata": {},
   "source": [
    "\n",
    "**Exercise 1.** Write the definition of a Point class. Objects from this class should have a\n",
    "\n",
    "    - a method show to display the coordinates of the point\n",
    "    - a method move to change these coordinates.\n",
    "    - a method dist that computes the distance between 2 points."
   ]
  },
  {
   "cell_type": "code",
   "execution_count": 44,
   "id": "41a2ee60",
   "metadata": {},
   "outputs": [
    {
     "name": "stdout",
     "output_type": "stream",
     "text": [
      "2 3\n",
      "3 3\n",
      "12 -7\n"
     ]
    },
    {
     "data": {
      "text/plain": [
       "13.45362404707371"
      ]
     },
     "execution_count": 44,
     "metadata": {},
     "output_type": "execute_result"
    }
   ],
   "source": [
    "import math\n",
    "\n",
    "class Point:\n",
    "    def __init__(self,x,y):\n",
    "        self.x=x\n",
    "        self.y=y\n",
    "        \n",
    "    def show_coordinates(self):\n",
    "        print(self.x,self.y)\n",
    "    \n",
    "    def move_coordinates(self,new_x,new_y):\n",
    "        self.x=self.x+new_x\n",
    "        self.y=self.y+new_y\n",
    "        \n",
    "    def distance_to_point(self,other_point):\n",
    "        dist=math.sqrt((self.x-other_point.x)**2+(self.y-other_point.y)**2)\n",
    "        return dist\n",
    "\n",
    "##Expected output \n",
    "\n",
    "p1 = Point(2, 3)\n",
    "p2 = Point(3, 3)\n",
    "\n",
    "p1.show_coordinates()\n",
    "#(2, 3)\n",
    "p2.show_coordinates()\n",
    "#(3, 3)\n",
    "\n",
    "p1.move_coordinates(10, -10)\n",
    "p1.show_coordinates()\n",
    "#(12, -7)\n",
    "\n",
    "p1.distance_to_point(p2)\n",
    "#13.45362404707371"
   ]
  }
 ],
 "metadata": {
  "kernelspec": {
   "display_name": "Python 3 (ipykernel)",
   "language": "python",
   "name": "python3"
  },
  "language_info": {
   "codemirror_mode": {
    "name": "ipython",
    "version": 3
   },
   "file_extension": ".py",
   "mimetype": "text/x-python",
   "name": "python",
   "nbconvert_exporter": "python",
   "pygments_lexer": "ipython3",
   "version": "3.9.12"
  }
 },
 "nbformat": 4,
 "nbformat_minor": 5
}
