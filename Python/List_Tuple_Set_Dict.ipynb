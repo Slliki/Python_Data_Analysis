{
 "cells": [
  {
   "cell_type": "markdown",
   "metadata": {},
   "source": [
    "# EMATM0048: Software Development Programming and Algorithms (SDPA)\n",
    "# `Tutorial 3`\n",
    "\n",
    "\n",
    "In this tutorial we will learn more about compound data types in Python, that includes: \n",
    "\n",
    "* Tuples\n",
    "* Lists\n",
    "* Dictionaries\n",
    "* Sets\n",
    "* Useful methods with looping\n"
   ]
  },
  {
   "cell_type": "markdown",
   "metadata": {},
   "source": [
    "# 1. Tuples:\n",
    "Tuples are ordered and immutable, which means you are not allowed to change a value of an element in a tuple.\n",
    "Tuple can have a mix of elements types\n"
   ]
  },
  {
   "cell_type": "markdown",
   "metadata": {},
   "source": [
    "tuples can be concatenated:"
   ]
  },
  {
   "cell_type": "code",
   "execution_count": 1,
   "metadata": {},
   "outputs": [
    {
     "name": "stdout",
     "output_type": "stream",
     "text": [
      "((1, 'two', 3), 3.25)\n",
      "(1, 'two', 3, (1, 'two', 3), 3.25)\n"
     ]
    }
   ],
   "source": [
    "t1=(1,'two',3)\n",
    "t2=(t1,3.25)\n",
    "print(t2)\n",
    "print(t1+t2)"
   ]
  },
  {
   "cell_type": "markdown",
   "metadata": {},
   "source": [
    "looping through tuple values"
   ]
  },
  {
   "cell_type": "code",
   "execution_count": 2,
   "metadata": {},
   "outputs": [
    {
     "name": "stdout",
     "output_type": "stream",
     "text": [
      "1\n",
      "two\n",
      "3\n"
     ]
    }
   ],
   "source": [
    "for t in t1:\n",
    "    print(t)"
   ]
  },
  {
   "cell_type": "markdown",
   "metadata": {},
   "source": [
    "# 2. Lists\n",
    "lists are ordered sequences of information, accessible by index.\n",
    "using [] to denote a list\n",
    "usually, homogeneous(all elements are the same type)\n",
    "can contain mixed types(not commmon)"
   ]
  },
  {
   "cell_type": "markdown",
   "metadata": {},
   "source": [
    "## 2.1 Interating over a list"
   ]
  },
  {
   "cell_type": "code",
   "execution_count": 4,
   "metadata": {},
   "outputs": [
    {
     "name": "stdout",
     "output_type": "stream",
     "text": [
      "8\n",
      "8\n"
     ]
    }
   ],
   "source": [
    "L=[2,1,5]\n",
    "\n",
    "total=0\n",
    "for i in range(len(L)):\n",
    "    total=total+L[i]\n",
    "print(total)\n",
    "\n",
    "total= 0\n",
    "for l in L:\n",
    "    total=total+l\n",
    "print(total)"
   ]
  },
  {
   "cell_type": "markdown",
   "metadata": {},
   "source": [
    "## 2.2 methods in list"
   ]
  },
  {
   "cell_type": "code",
   "execution_count": null,
   "metadata": {},
   "outputs": [],
   "source": [
    ".append()  #在末尾添加元素\n",
    ".insert(i,'x')  #在位置i添加元素x\n",
    ".pop()  #弹出末尾元素，返回弹出的元素\n",
    ".pop(index) # 弹出指定位置元素，返回弹出的元素\n",
    ".remove(element)  #删去某元素，若该元素多次出现，只删除第一个出现的\n",
    "sorted(list)  # 按字母排序，不改变原list\n",
    ".sort() #按字母排序原列表\n",
    ".reverse()  #反向排序\n",
    ".count(element)  #计算列表中某元素出现的次数"
   ]
  },
  {
   "cell_type": "markdown",
   "metadata": {},
   "source": [
    "## 2.3 Lists comprehension\n",
    "new_list = [expression for item in iterable if condition]"
   ]
  },
  {
   "cell_type": "code",
   "execution_count": 6,
   "metadata": {},
   "outputs": [
    {
     "name": "stdout",
     "output_type": "stream",
     "text": [
      "[1, 4, 9, 16, 25, 36]\n",
      "[1, 4, 9, 16, 25, 36]\n"
     ]
    }
   ],
   "source": [
    "squares=[]\n",
    "for x in range(1,7):\n",
    "    square=x**2\n",
    "    squares.append(square)\n",
    "print(squares)\n",
    "\n",
    "squares=[x**2 for x in range(1,7)]\n",
    "print(squares)"
   ]
  },
  {
   "cell_type": "markdown",
   "metadata": {},
   "source": [
    "## 2.4 cloning\n",
    "when using '=', it will clone the original list, and new list changes with the ori-list\n",
    "when using'[:]',it will create a new list that won't change with the ori-list"
   ]
  },
  {
   "cell_type": "code",
   "execution_count": 9,
   "metadata": {},
   "outputs": [
    {
     "name": "stdout",
     "output_type": "stream",
     "text": [
      "['apple', 'pizza']\n",
      "['apple', 'pizza', 'water']\n"
     ]
    }
   ],
   "source": [
    "list1=['apple','pizza']\n",
    "#clon this list\n",
    "list2=list1\n",
    "print(list2)\n",
    "\n",
    "list1.append('water')\n",
    "print(list2)\n",
    "#list2 will change if list1 changes"
   ]
  },
  {
   "cell_type": "code",
   "execution_count": 10,
   "metadata": {},
   "outputs": [
    {
     "name": "stdout",
     "output_type": "stream",
     "text": [
      "['apple', 'pizza']\n"
     ]
    }
   ],
   "source": [
    "list1=['apple','pizza']\n",
    "list2=list1[:]\n",
    "\n",
    "list1.append('water')\n",
    "print(list2)\n",
    "#if list2 is sliced from list1, it will not change with list1"
   ]
  },
  {
   "cell_type": "markdown",
   "metadata": {},
   "source": [
    "# 3. Dictionaries\n",
    "Dictionaries are mapping type objects which map a hashable value to arbitrary objects. \n",
    "In other words, dictionaries are a set of key:value pairs where keys are unique. \n",
    "Dictionaries are mutable.\n",
    "Unlike sequence types (list and tuples), which are indexed by a range of numbers, \n",
    "dictionaries are indexed by keys, which can be any immutable types such as strings and numbers."
   ]
  },
  {
   "cell_type": "markdown",
   "metadata": {},
   "source": [
    "## 3.1 access and mutate a dict"
   ]
  },
  {
   "cell_type": "code",
   "execution_count": 24,
   "metadata": {},
   "outputs": [
    {
     "name": "stdout",
     "output_type": "stream",
     "text": [
      "{'jack': 10, 'claire': 90}\n",
      "{'jack': 10, 'claire': 90, 'brown': 66}\n"
     ]
    }
   ],
   "source": [
    "dict={'jack':10,\n",
    "       'claire':19}\n",
    "dict['jack']\n",
    "dict.get('jack')\n",
    "\n",
    "#mutate:\n",
    "dict['claire']=90\n",
    "print(dict)\n",
    "\n",
    "#add k-v\n",
    "dict['brown']=66\n",
    "print(dict)"
   ]
  },
  {
   "cell_type": "markdown",
   "metadata": {},
   "source": [
    "## 3.2 dict operations"
   ]
  },
  {
   "cell_type": "code",
   "execution_count": 31,
   "metadata": {},
   "outputs": [
    {
     "name": "stdout",
     "output_type": "stream",
     "text": [
      "{'claire': 19, 'brown': 66}\n",
      "{'claire': 19}\n",
      "dict_keys(['jack', 'claire', 'brown'])\n",
      "dict_values([10, 19, 66])\n"
     ]
    }
   ],
   "source": [
    "dict={'jack':10,\n",
    "       'claire':19,\n",
    "      'brown':66}\n",
    "\n",
    "#test if key or value in dictionary\n",
    "'jack' in dict  #True\n",
    "90 in dict.values()  #True\n",
    "\n",
    "#delete k-v\n",
    "del dict['jack']\n",
    "print(dict)\n",
    "\n",
    "dict.pop('brown')\n",
    "print(dict)\n",
    "\n",
    "#get the keys or values:\n",
    "dict={'jack':10,\n",
    "       'claire':19,\n",
    "      'brown':66}\n",
    "print(dict.keys())\n",
    "print(dict.values())\n"
   ]
  },
  {
   "cell_type": "markdown",
   "metadata": {},
   "source": [
    "## 3.3 for loop in dictionary\n",
    "use dict.item()--->return both keys and values"
   ]
  },
  {
   "cell_type": "code",
   "execution_count": 38,
   "metadata": {},
   "outputs": [
    {
     "name": "stdout",
     "output_type": "stream",
     "text": [
      "\n",
      "Username: ej2020\n",
      "\tFull name: Anna William\n",
      "\tcourse: Sdpa\n",
      "\n",
      "Username: ms8040\n",
      "\tFull name: Marie Adam\n",
      "\tcourse: Visan\n"
     ]
    }
   ],
   "source": [
    "students = {\n",
    "    'ej2020': {\n",
    "        'first': 'Anna',\n",
    "        'last': 'William',\n",
    "        'course': 'SDPA'\n",
    "                },\n",
    "    'ms8040': {\n",
    "        'first': 'Marie',\n",
    "        'last': 'Adam',\n",
    "        'course': 'VISAN'\n",
    "            },}\n",
    "\n",
    "for st_key, student_info in students.items():\n",
    "    print(\"\\nUsername: \" + st_key)\n",
    "    full_name = student_info['first'] + \" \" + student_info['last']\n",
    "    course = student_info['course']\n",
    "    print(\"\\tFull name: \" + full_name.title())\n",
    "    print(\"\\tcourse: \" + course.title())\n"
   ]
  },
  {
   "cell_type": "markdown",
   "metadata": {},
   "source": [
    "## 3.4 unpacking and merging dict"
   ]
  },
  {
   "cell_type": "code",
   "execution_count": 44,
   "metadata": {},
   "outputs": [
    {
     "name": "stdout",
     "output_type": "stream",
     "text": [
      "one two three\n",
      "1 2 3\n",
      "('one', 1) ('two', 2) ('three', 3)\n"
     ]
    }
   ],
   "source": [
    "# unpacking\n",
    "\n",
    "dict={'one':1,'two':2,'three':3}\n",
    "\n",
    "# unpack keys\n",
    "a,b,c=dict\n",
    "print(a,b,c)\n",
    "\n",
    "# unpack values\n",
    "a,b,c=dict.values()\n",
    "print(a,b,c)\n",
    "\n",
    "# unpack key-value\n",
    "a,b,c=dict.items()\n",
    "print(a,b,c)"
   ]
  },
  {
   "cell_type": "code",
   "execution_count": 50,
   "metadata": {},
   "outputs": [
    {
     "name": "stdout",
     "output_type": "stream",
     "text": [
      "{'one': 1, 'two': 2, 'three': 3, 'a': 'A', 'b': 'B'}\n"
     ]
    }
   ],
   "source": [
    "# merging\n",
    "\n",
    "dict1={'one':1,'two':2,'three':3}\n",
    "dict2={'a':'A','b':'B'}\n",
    "combination={**dict1,**dict2}\n",
    "print(combination)"
   ]
  },
  {
   "cell_type": "markdown",
   "metadata": {},
   "source": [
    "# 4. Sets\n",
    "Set objects are unordered collection of hashable unique/distinct items.\n",
    "Sets have very useful\n",
    "applications such as: membership testing, eliminating duplicates from a sequence, and computing\n",
    "mathematical operations on sets such as intersection, union, difference, and symmetric\n",
    "difference. Unlike list and tuples, set doesn’t support indexing, slicing. This is because sets are\n",
    "unordered and do not record element position in order of insertation.\n",
    "\n"
   ]
  },
  {
   "cell_type": "code",
   "execution_count": 57,
   "metadata": {},
   "outputs": [
    {
     "name": "stdout",
     "output_type": "stream",
     "text": [
      "{1, 2, 3}\n"
     ]
    }
   ],
   "source": [
    "empty_set1=set()\n",
    "set_from_list=set([1,2,3]) #{1, 2, 3}\n",
    "basket={'orange','banana','apple'}\n"
   ]
  },
  {
   "cell_type": "markdown",
   "metadata": {},
   "source": [
    "## 4.1 sets operations"
   ]
  },
  {
   "cell_type": "code",
   "execution_count": 61,
   "metadata": {},
   "outputs": [
    {
     "name": "stdout",
     "output_type": "stream",
     "text": [
      "{1, 2, 3, 4, 5}\n",
      "{3}\n",
      "{1, 2}\n",
      "{1, 2, 4, 5}\n"
     ]
    }
   ],
   "source": [
    "set1={1,2,3}\n",
    "set2={3,4,5}\n",
    "\n",
    "print(set1|set2)  #union\n",
    "print(set1&set2)  #intersection\n",
    "print(set1-set2)  #difference\n",
    "print(set1^set2)  #symmetric difference"
   ]
  },
  {
   "cell_type": "markdown",
   "metadata": {},
   "source": [
    "# 5. Useful Sequence Operations\n"
   ]
  },
  {
   "cell_type": "markdown",
   "metadata": {},
   "source": [
    "## 5.1 Unpacking\n",
    "Iterable datatypes can be unpacked into separate variables (or other datatypes). Care must be\n",
    "taken for the number of variables in the list to equal the number of variables to unpack to. This\n",
    "can be seen in lists or tuples (seen below):"
   ]
  },
  {
   "cell_type": "code",
   "execution_count": 52,
   "metadata": {},
   "outputs": [
    {
     "name": "stdout",
     "output_type": "stream",
     "text": [
      "<class 'tuple'>\n",
      "apple , banana , pear , grape , pineapple\n",
      "<class 'str'>\n"
     ]
    }
   ],
   "source": [
    "fruit = 'apple', 'banana', 'pear', 'grape', 'pineapple' # create tuple of fruits\n",
    "print(type(fruit))\n",
    "a, b, c, d, e = fruit # Unpack tuple into separate variables\n",
    "print(a,',',b,',',c,',',d,',',e) # show the separated variables\n",
    "print(type(a)) # print the type of the variables."
   ]
  },
  {
   "cell_type": "markdown",
   "metadata": {},
   "source": [
    "## 5.2 Zipping\n",
    "Zip is a function which returns a zip object. Zip function returns an iterator of tuples such that\n",
    "the i-th tuple contains the i-th item from each of sequences which are zipped together."
   ]
  },
  {
   "cell_type": "code",
   "execution_count": 54,
   "metadata": {},
   "outputs": [
    {
     "name": "stdout",
     "output_type": "stream",
     "text": [
      "<zip object at 0x000001C5DBD2F200>\n",
      "[('a', 1), ('b', 2), ('c', 3)]\n"
     ]
    }
   ],
   "source": [
    "list1 = ['a', 'b', 'c']\n",
    "list2 = [1, 2, 3]\n",
    "zipped = zip(list1, list2)\n",
    "print(zipped)\n",
    "print(list(zipped))"
   ]
  },
  {
   "cell_type": "markdown",
   "metadata": {},
   "source": [
    "Note: Iterables are objects capable of returning their members one at a time. This includes all sequence\n",
    "types (lists, strings, tuples) and some non-sequence types (dictionary). However, as sets aren’t ordered,\n",
    "this would be ill advised as the elements are paired randomly!"
   ]
  },
  {
   "cell_type": "markdown",
   "metadata": {},
   "source": [
    "## 5.3 Enumerate\n",
    "Enumerate is a built-in function that allows you to get the index of an element in a sequence while\n",
    "we are looping through it. You can think of enumerate as a for loop with a counter."
   ]
  },
  {
   "cell_type": "code",
   "execution_count": 59,
   "metadata": {},
   "outputs": [
    {
     "name": "stdout",
     "output_type": "stream",
     "text": [
      "Index in the list: 0 , Color: blue\n",
      "Index in the list: 1 , Color: black\n",
      "Index in the list: 2 , Color: yellow\n",
      "Index in the list: 3 , Color: red\n",
      "Index in the list: 4 , Color: white\n"
     ]
    }
   ],
   "source": [
    "colors = ['blue', 'black','yellow', 'red', 'white']\n",
    "for index, color in enumerate(colors):\n",
    "    print('Index in the list:', index, ', Color:', color)"
   ]
  },
  {
   "cell_type": "markdown",
   "metadata": {},
   "source": [
    "\n",
    "\n",
    "\n",
    "\n",
    "\n",
    "\n",
    "# <font color='Blue'> Bonus challenging problems </font>\n",
    "Don't worry about doing these bonus problems. In most cases, challenge questions ask you to think more critically or use more advanced algorithms.\n",
    "\n"
   ]
  },
  {
   "cell_type": "markdown",
   "metadata": {},
   "source": [
    "## 1.__ Flipping Dictionaries\n",
    "I asked our course staff what their favorite animal is and they gave me these answers:\n",
    "\n"
   ]
  },
  {
   "cell_type": "code",
   "execution_count": 2,
   "metadata": {},
   "outputs": [],
   "source": [
    "fav_animals = {\n",
    "    'Kevin': 'horse',\n",
    "    'Fanqi': 'Alpaca',\n",
    "    'Jack': 'dog',\n",
    "    'Ayush': 'dog',\n",
    "    'Zahraa': 'Alpaca',\n",
    "    'Ioana': 'cat',\n",
    "    'Edgardo': 'cat'\n",
    "}"
   ]
  },
  {
   "cell_type": "markdown",
   "metadata": {},
   "source": [
    "In this problem, we'll reverse the fav_animals dictionary to create a new dictionary which associates animals to a list of people for whom that animal is their favorite.\n",
    "More precisely, write a function that properly reverses the keys and values of a dictionary - each key (originally a value) should map to a collection of values (originally keys) that mapped to it.\n",
    "\n",
    "\n",
    "For example,\n",
    "=> {\"Alpaca\": [\"Zahraa\", \"Fanqi\"], \"horse\": [\"Kevin\"], \"dog\":[\"Jack\", \"Ayush\"], \"cat\":[Ioana, Edgardo]}\n",
    "\n",
    "Another example: "
   ]
  },
  {
   "cell_type": "code",
   "execution_count": null,
   "metadata": {},
   "outputs": [],
   "source": [
    "flip_dict={\"CA\": \"US\", \"NY\": \"US\", \"ON\": \"CA\"}\n",
    "# => {\"US\": [\"CA\", \"NY\"], \"CA\": [\"ON\"]}"
   ]
  },
  {
   "cell_type": "markdown",
   "metadata": {},
   "source": [
    "Note: there is a data structure in the collections module from the standard library called defaultdict which provides exactly this sort of functionality. However, in this question try to solve it using loops instead of calling defaultdict. \n"
   ]
  },
  {
   "cell_type": "code",
   "execution_count": 9,
   "metadata": {},
   "outputs": [
    {
     "name": "stdout",
     "output_type": "stream",
     "text": [
      "{'horse': ['Kevin'], 'Alpaca': ['Fanqi', 'Zahraa'], 'dog': ['Jack', 'Ayush'], 'cat': ['Ioana', 'Edgardo']}\n"
     ]
    }
   ],
   "source": [
    "#Sol 1: using if not in judge if the value is in the new dict\n",
    "#创建一个空字典，遍历原字典的k-v对（.item()）,当原字典的value没出现在新字典中，将该value对应key值存入新字典作为value\n",
    "reverse_dict={}\n",
    "for key,value in fav_animals.items():\n",
    "    # if value not in new dict, set a new key-value\n",
    "    if value not in reverse_dict:\n",
    "        reverse_dict[value]=[key] #创建一个列表，以原字典key值作为新字典value\n",
    "    # if value is already in the new dict, append\n",
    "    else:\n",
    "        reverse_dict[value].append(key)\n",
    "print(reverse_dict)"
   ]
  },
  {
   "cell_type": "code",
   "execution_count": 12,
   "metadata": {},
   "outputs": [
    {
     "name": "stdout",
     "output_type": "stream",
     "text": [
      "{'horse': ['Kevin'], 'Alpaca': ['Fanqi', 'Zahraa'], 'dog': ['Jack', 'Ayush'], 'cat': ['Ioana', 'Edgardo']}\n"
     ]
    }
   ],
   "source": [
    "# Sol 2: using .setdefault()\n",
    "# setdefault(key，default_value). 该方法第一个参数传入查找的键，若该key存在，则返回对应value；\n",
    "# 若该key不存在，则在dict中添加新的k-v对，用参数1作为key，参数2作为对应value\n",
    "reserve_dict={}\n",
    "for key, value in fav_animals.items():\n",
    "    # 传入value（原dict的key）作为参数1，若new dict中存在则不修改k-v对，否则添加新k-v对，value为一个空list\n",
    "    # 当new dict存在该key，则对应value用append方法添加值（设置过new dict的value为一个list）\n",
    "    reserve_dict.setdefault(value,[]).append(key)\n",
    "\n",
    "print(reserve_dict)"
   ]
  },
  {
   "cell_type": "code",
   "execution_count": 14,
   "metadata": {},
   "outputs": [
    {
     "name": "stdout",
     "output_type": "stream",
     "text": [
      "{'cat': ['Ioana', 'Edgardo'], 'Alpaca': ['Fanqi', 'Zahraa'], 'dog': ['Jack', 'Ayush'], 'horse': ['Kevin']}\n"
     ]
    }
   ],
   "source": [
    "#Sol 3: 使用 dict comprehension\n",
    "reverse_dict = {value: [key for key, val in fav_animals.items() if val == value] for value in set(fav_animals.values())}\n",
    "print(reverse_dict)"
   ]
  },
  {
   "cell_type": "code",
   "execution_count": 6,
   "metadata": {},
   "outputs": [
    {
     "name": "stdout",
     "output_type": "stream",
     "text": [
      "defaultdict(<class 'list'>, {'horse': ['Kevin'], 'Alpaca': ['Fanqi', 'Zahraa'], 'dog': ['Jack', 'Ayush'], 'cat': ['Ioana', 'Edgardo']})\n",
      "{'horse': ['Kevin'], 'Alpaca': ['Fanqi', 'Zahraa'], 'dog': ['Jack', 'Ayush'], 'cat': ['Ioana', 'Edgardo']}\n"
     ]
    }
   ],
   "source": [
    "#Another sol using defaultdict\n",
    "from collections import defaultdict\n",
    "\n",
    "# 创建一个 defaultdict，将默认值类型设置为列表\n",
    "reverse_dict = defaultdict(list)\n",
    "\n",
    "\n",
    "# 使用循环填充 reverse_dict\n",
    "for key, value in fav_animals.items():\n",
    "    reverse_dict[value].append(key)\n",
    "\n",
    "# 将 defaultdict 转换为普通的字典\n",
    "print(reverse_dict)\n",
    "\n",
    "reverse_dict = dict(reverse_dict)\n",
    "\n",
    "print(reverse_dict)"
   ]
  },
  {
   "cell_type": "markdown",
   "metadata": {},
   "source": [
    "\n",
    "\n",
    "## 2.__ Write a Python program to count the occurrences of each word in a given sentence from user input.\n",
    "\n",
    "Example: 'the quick brown fox jumps over the lazy dog.'\n",
    "\n",
    "__Expected output:__ {'the': 2, 'jumps': 1, 'brown': 1, 'lazy': 1, 'fox': 1, 'over': 1, 'quick': 1, 'dog.': 1} \n",
    "\n"
   ]
  },
  {
   "cell_type": "code",
   "execution_count": 106,
   "metadata": {},
   "outputs": [
    {
     "name": "stdout",
     "output_type": "stream",
     "text": [
      "['the', 'quick', 'brown', 'fox', 'jumps', 'over', 'the', 'lazy', 'dog']\n",
      "{'the': 2, 'quick': 1, 'brown': 1, 'fox': 1, 'jumps': 1, 'over': 1, 'lazy': 1, 'dog': 1}\n"
     ]
    }
   ],
   "source": [
    "#Sol\n",
    "sentence='the quick brown fox jumps over the lazy dog.'\n",
    "sentence=sentence.strip('.').lower()\n",
    "words=sentence.split()\n",
    "print(word)\n",
    "\n",
    "count={}#设置count为一个字典，key为出现过的word，value为该word出现次数\n",
    "for word in words:\n",
    "    if word in count:\n",
    "        count[word]+=1\n",
    "    else:\n",
    "        count[word]=1\n",
    "        \n",
    "print(count)\n"
   ]
  },
  {
   "cell_type": "markdown",
   "metadata": {},
   "source": [
    "\n",
    "\n",
    " ## 3.__Write a Python program to compute element-wise sum of given tuples.\n",
    "\n",
    "\n",
    "x = (1,2,3,4)\n",
    "y = (3,5,2,1)\n",
    "z = (2,2,3,1)\n",
    "results: (6, 9, 8, 6)"
   ]
  },
  {
   "cell_type": "markdown",
   "metadata": {},
   "source": [
    "注意，元组相加只是表示两个元组元素集合在一个元组内，若需要相加必须保证每个元组内元素是可迭代对象，使用tuple（（，））"
   ]
  },
  {
   "cell_type": "code",
   "execution_count": 21,
   "metadata": {},
   "outputs": [
    {
     "name": "stdout",
     "output_type": "stream",
     "text": [
      "(1, 2)\n"
     ]
    }
   ],
   "source": [
    "a=tuple((1,))\n",
    "b=tuple((2,))\n",
    "print(a+b)"
   ]
  },
  {
   "cell_type": "code",
   "execution_count": 20,
   "metadata": {},
   "outputs": [
    {
     "name": "stdout",
     "output_type": "stream",
     "text": [
      "[(1, 3, 2), (2, 5, 2), (3, 2, 3), (4, 1, 1)]\n",
      "(1, 2)\n",
      "(6, 9, 8, 6)\n"
     ]
    }
   ],
   "source": [
    "#Sol \n",
    "x = (1,2,3,4)\n",
    "y = (3,5,2,1)\n",
    "z = (2,2,3,1) \n",
    "zipped=zip(x,y,z)\n",
    "print(list(zipped))\n",
    "\n",
    "\n",
    "result=tuple()  #tuple\n",
    "for i in range(len(x)):\n",
    "    element_sum = x[i] + y[i] + z[i]\n",
    "    result += (element_sum,)  #循环四次，每次为tuple-result增加一个元素（element_sum）\n",
    "                            # 注意，这里 + 表示tuple的相加\n",
    "\n",
    "print(result)\n",
    "\n",
    "# 即使只有一个元素的元组，也需要在元素后面加上逗号，以区分它是一个元组而不是一个普通的数值或变量。\n",
    "\n",
    "# 这是因为在Python中，用括号包围一个表达式并不总是表示创建一个元组。括号还可以表示数学运算、函数调用等。例如，(2 + 3) 表示数学运算，而不是一个元组。\n",
    "\n",
    "# 为了明确告诉Python你要创建一个包含单个元素的元组，你需要在元素后面加上逗号，即使只有一个元素。这是Python语法的规定。"
   ]
  },
  {
   "cell_type": "code",
   "execution_count": 120,
   "metadata": {},
   "outputs": [
    {
     "name": "stdout",
     "output_type": "stream",
     "text": [
      "(6, 9, 8, 6)\n"
     ]
    }
   ],
   "source": [
    "result = tuple(sum(values) for values in zip(x, y, z))\n",
    "# print(result)"
   ]
  },
  {
   "cell_type": "markdown",
   "metadata": {},
   "source": [
    "## References and resources: \n",
    "- https://docs.python.org/3/tutorial/datastructures.html\n",
    "- https://www.programiz.com/python-programming/set"
   ]
  }
 ],
 "metadata": {
  "kernelspec": {
   "display_name": "Python 3 (ipykernel)",
   "language": "python",
   "name": "python3"
  },
  "language_info": {
   "codemirror_mode": {
    "name": "ipython",
    "version": 3
   },
   "file_extension": ".py",
   "mimetype": "text/x-python",
   "name": "python",
   "nbconvert_exporter": "python",
   "pygments_lexer": "ipython3",
   "version": "3.9.12"
  }
 },
 "nbformat": 4,
 "nbformat_minor": 4
}
