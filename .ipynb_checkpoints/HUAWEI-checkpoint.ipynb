{
 "cells": [
  {
   "metadata": {},
   "cell_type": "markdown",
   "source": [
    "# 1. 均匀任务调度\n",
    "- K个计算节点，每个节点当前负载数T，每个节点cpu核心数C，一个cpu核心的最大负载数200；\n",
    "- 节点总负载数=节点cpu核心数*200=200C；\n",
    "- 节点的cpu负载=节点当前负载数/节点总负载数；\n",
    "\n",
    "由于节点容易宕机，需要设计调度算法，将宕机节点的负载均匀分配到其他节点上，使得所有节点的cpu负载保持一致。给定宕机节点的负载数N，求每个节点应该新增的负载数。\n",
    "\n",
    "若宕机节点的负载数超出了所有节点总负载数，不进行重新分配，每个节点新增任务数为0。\n",
    "\n",
    "输入描述：\n",
    "- N: 宕机节点的负载数\n",
    "- K: 计算节点数\n",
    "- C: 每个节点cpu核心数\n",
    "- T: 每个节点当前负载数\n",
    "\n",
    "输出描述：\n",
    "- 每个节点应该新增的负载数 [x1, x2, ..., xk]\n"
   ],
   "id": "9b18fad53d2a7232"
  },
  {
   "metadata": {
    "ExecuteTime": {
     "end_time": "2024-09-29T09:16:24.734551Z",
     "start_time": "2024-09-29T09:16:24.714039Z"
    }
   },
   "cell_type": "code",
   "source": [
    "N1=1180\n",
    "K1=3\n",
    "C1=[45,28,45]\n",
    "T1=[6750,4200,6750]\n",
    "\n",
    "N2=500\n",
    "K2=3\n",
    "C2=[2,2,2]\n",
    "T2=[200,300,400]\n",
    "\n",
    "# 新的测试用例\n",
    "N3 = 11\n",
    "K3 = 2\n",
    "C3 = [1, 1]\n",
    "T3 = [50, 50]"
   ],
   "id": "a3632aee340d05bd",
   "outputs": [],
   "execution_count": 1
  },
  {
   "metadata": {
    "ExecuteTime": {
     "end_time": "2024-09-14T06:05:25.567198Z",
     "start_time": "2024-09-14T06:05:25.557222Z"
    }
   },
   "cell_type": "code",
   "source": [
    "# original code\n",
    "def distribution_load(N,K,C,T):\n",
    "    max_load = [c*200 for c in C] # 每个节点最大负载数\n",
    "    total_capacity = sum(max_load) # 所有节点总负载能力\n",
    "    current_total_load = sum(T) # 所有节点当前负载数\n",
    "    \n",
    "    print(f'max_load={max_load}, total_capacity={total_capacity}, current_total_load={current_total_load}')\n",
    "    print(f'capacity_needed={current_total_load+N}' )\n",
    "    \n",
    "    if current_total_load+N > total_capacity: # 宕机节点的负载数超出了所有节点总负载数\n",
    "        print('capacity_needed > total_capacity')\n",
    "        return [0]*K\n",
    "    \n",
    "    # 平均分配到每个节点的负载数\n",
    "    total_load_after_distribution = current_total_load + N # 所有节点重新分配后的总负载数\n",
    "    average_load = total_load_after_distribution / sum(C) # 平均每个核心的负载数\n",
    "    \n",
    "    addtional_load = [0]*K # 每个节点应该新增的负载数\n",
    "    for i in range(K):\n",
    "        addtional_load[i] = int(average_load * C[i] - T[i]) # 节点i应该新增的负载数=每个节点分配后的平均负载数-节点当前负载数=每个核心平均负载数*核心数-节点当前负载数\n",
    "            \n",
    "    return addtional_load\n",
    "\n",
    "print(distribution_load(N1,K1,C1,T1))\n",
    "print(distribution_load(N2,K2,C2,T2))\n",
    "print(distribution_load(N3,K3,C3,T3)) # 正确输出为[6, 5]，这里为[5, 5]，少了一个负载"
   ],
   "id": "16212e8c322a9f5c",
   "outputs": [
    {
     "name": "stdout",
     "output_type": "stream",
     "text": [
      "max_load=[9000, 5600, 9000], total_capacity=23600, current_total_load=17700\n",
      "capacity_needed=18880\n",
      "[450, 280, 450]\n",
      "max_load=[400, 400, 400], total_capacity=1200, current_total_load=900\n",
      "capacity_needed=1400\n",
      "capacity_needed > total_capacity\n",
      "[0, 0, 0]\n",
      "max_load=[200, 200], total_capacity=400, current_total_load=100\n",
      "capacity_needed=111\n",
      "[5, 5]\n"
     ]
    }
   ],
   "execution_count": 14
  },
  {
   "metadata": {},
   "cell_type": "markdown",
   "source": [
    "上面代码大多情况没问题，但由于`addtional_load[i] = int(average_load * C[i] - T[i])`，会导致出现小数的时候负载直接被省略，导致最终分配后总负载没有达到需求。\n",
    "下面代码考虑了出现小数时候的情况，并在最终分配时，按照小数部分大小，将剩余负载分配给对应节点。"
   ],
   "id": "4000f7ee12b38f39"
  },
  {
   "metadata": {
    "ExecuteTime": {
     "end_time": "2024-09-14T06:30:44.027440Z",
     "start_time": "2024-09-14T06:30:44.012773Z"
    }
   },
   "cell_type": "code",
   "source": [
    "def distribution_load(N, K, C, T):\n",
    "    max_load = [c * 200 for c in C]  # 每个节点最大负载数\n",
    "    total_capacity = sum(max_load)  # 所有节点总负载能力\n",
    "    current_total_load = sum(T)  # 所有节点当前负载数\n",
    "\n",
    "    if current_total_load + N > total_capacity:  # 宕机节点的负载数超出了所有节点总负载数\n",
    "        return [0] * K\n",
    "\n",
    "    # 计算分配后平均每个核心的负载数\n",
    "    average_load_per_core = (current_total_load + N) / sum(C)\n",
    "    # 计算每个节点需要达到的总负载数（含小数部分）\n",
    "    target_load = [average_load_per_core * c for c in C]\n",
    "    # 计算每个节点需要增加的负载数（含小数部分）\n",
    "    additional_load_float = [target - t for target, t in zip(target_load, T)]\n",
    "    # 取每个节点需要增加的负载数的整数部分\n",
    "    additional_load_int = [int(x) for x in additional_load_float]\n",
    "    # 计算已分配的负载总和\n",
    "    total_assigned = sum(additional_load_int)\n",
    "    # 计算剩余需要分配的负载单位\n",
    "    remaining = int(round(N - total_assigned))\n",
    "    \n",
    "    print(f'additional_load_float={additional_load_float}, additional_load_int={additional_load_int}, total_assigned={total_assigned}, remaining={remaining}')\n",
    "\n",
    "    # 计算每个节点需要增加的负载数的小数部分和对应的索引\n",
    "    fractional_parts = [(x - int(x), i) for i, x in enumerate(additional_load_float)]\n",
    "    print(f'fractional_parts={fractional_parts}')\n",
    "    # 按小数部分从大到小排序，如果小数部分相同，索引小的节点优先\n",
    "    fractional_parts.sort(key=lambda x: (-x[0], x[1])) # -x[0]表示对第一个元素即小数部分降序排序，x[1]表示对第二个元素即索引升序排序\n",
    "    print(f'fractional_parts_sorted={fractional_parts}')\n",
    "\n",
    "    # 依次将剩余的负载单位分配给小数部分最大的节点\n",
    "    # fractional_parts[i][1]=第i个元素的第1个元素，这里为第i个元素的idx\n",
    "    for i in range(remaining): \n",
    "        idx = fractional_parts[i % K][1]  # i一定从0开始，则第一个循环idx一定为fractional_parts[0][1]，即小数部分最大的节点，然后依次按照排序后的顺序分配\n",
    "        additional_load_int[idx] += 1\n",
    "\n",
    "    return additional_load_int\n",
    "\n",
    "\n",
    "print(distribution_load(N1,K1,C1,T1))\n",
    "print(distribution_load(N2,K2,C2,T2))\n",
    "print(distribution_load(N3,K3,C3,T3)) # 正确输出为[6, 5]，这里为[6, 5]，正确输出了"
   ],
   "id": "e22aa2a238a3e9d8",
   "outputs": [
    {
     "name": "stdout",
     "output_type": "stream",
     "text": [
      "additional_load_float=[450.0, 280.0, 450.0], additional_load_int=[450, 280, 450], total_assigned=1180, remaining=0\n",
      "fractional_parts=[(0.0, 0), (0.0, 1), (0.0, 2)]\n",
      "fractional_parts_sorted=[(0.0, 0), (0.0, 1), (0.0, 2)]\n",
      "[450, 280, 450]\n",
      "[0, 0, 0]\n",
      "additional_load_float=[5.5, 5.5], additional_load_int=[5, 5], total_assigned=10, remaining=1\n",
      "fractional_parts=[(0.5, 0), (0.5, 1)]\n",
      "fractional_parts_sorted=[(0.5, 0), (0.5, 1)]\n",
      "[6, 5]\n"
     ]
    }
   ],
   "execution_count": 31
  },
  {
   "metadata": {},
   "cell_type": "markdown",
   "source": [
    "我们希望将剩余的负载单位分配给那些最“需要”它们的节点。小数部分越大的节点，表示其实际需要的负载数越接近下一个整数，因此优先分配给它们，可以使负载更均衡。\n",
    "当平均分配后出现小数部分，先分配整数部分，然后将所有小数部分加和，得到剩余的负载单位，按照小数部分从大到小排序，将剩余的负载单位依次分配给小数部分最大的节点。（通过对小数部分排序实现）"
   ],
   "id": "67d04b10954c45ba"
  },
  {
   "metadata": {},
   "cell_type": "markdown",
   "source": [
    "# 2.切换工作目录\n",
    "Linux系统绝对路径是从根目录开始的完整路径，即以‘/’开头，相对路径是从当前工作目录开始的路径，以‘.'或者‘..’开头。某用户用’cd 相对路径'命令切换工作目录，输出命令后的工作目录。\n",
    "\n",
    "输入描述：\n",
    "- 第一行：当前工作目录绝对路径\n",
    "- 第二行：切换工作目录命令\n",
    "\n",
    "输出描述：\n",
    "- 第一行：切换工作目录后的绝对路径 最简洁格式\n",
    "- 第二行：执行命令过程中经过的最深目录层级数\n"
   ],
   "id": "baeb826036d5fa6b"
  },
  {
   "metadata": {
    "ExecuteTime": {
     "end_time": "2024-09-14T11:11:02.413465Z",
     "start_time": "2024-09-14T11:11:02.405430Z"
    }
   },
   "cell_type": "code",
   "source": [
    "current_path1='/home/hello'\n",
    "command1='cd .././/world' \n",
    "# 执行 '..'返回上一级目录，路径从 /home/hello 变为 /home。\n",
    "# 忽略 '.' 和 '//','//'在linux等同于‘/’，即‘/world’表示进入home下的world目录。\n",
    "# 最终路径为 /home/world，最深目录层级数为2\n",
    "\n",
    "current_path2='/home/hello'\n",
    "command2='cd world/.../../.'\n",
    "# 进入 world 目录，路径从 /home/hello 变为 /home/hello/world。\n",
    "# 进入 world 下的 ... 目录，路径从 /home/hello/world 变为 /home/hello/world/...\n",
    "# ‘..’表示返回到 world 目录。路径从 /home/hello/world/... 变为 /home/hello/world\n",
    "# .表示不进行操作。最终路径为 /home/hello/world，最深目录层级数为4"
   ],
   "id": "518fa0103c0c9f66",
   "outputs": [],
   "execution_count": 48
  },
  {
   "metadata": {
    "ExecuteTime": {
     "end_time": "2024-09-14T11:11:04.351575Z",
     "start_time": "2024-09-14T11:11:04.339081Z"
    }
   },
   "cell_type": "code",
   "source": [
    "def simplify_path(path):\n",
    "    stack = [] # 用于存储有效路径\n",
    "    parts = path.split('/')\n",
    "    \n",
    "    for part in parts:\n",
    "        if part == '' or part == '.': # 忽略空路径和当前路径\n",
    "            continue\n",
    "        elif part == '..': # 将原路径的‘..’（返回上一级目录）执行，并删去对应路径内容\n",
    "            if stack:\n",
    "                stack.pop() # 删除最后一个路径\n",
    "        else:\n",
    "            stack.append(part)\n",
    "    \n",
    "    return '/' + '/'.join(stack) # /绝对路径+有效路径（将有效路径用‘/’连接）得到最终路径\n",
    "\n",
    "\n",
    "def process_cd_command(current_path, cd_command):\n",
    "    commands = cd_command.split('/')\n",
    "    path = current_path\n",
    "    deepest_level = path.count('/')  # 记录当前路径的最大深度\n",
    "    traversed_paths = []\n",
    "    \n",
    "    for command in commands:\n",
    "        if command == '' or command == '.':\n",
    "            continue\n",
    "        elif command == '..': # 当命令是返回上一级目录\n",
    "            # 返回上一级目录，除非已经在根目录\n",
    "            if path != '/':\n",
    "                path = '/'.join(path.split('/')[:-1]) # 从根目录开始，去掉最后一个目录\n",
    "                if path == '':  # 如果路径变为空，表示已经回到根目录\n",
    "                    path = '/'\n",
    "        else: # 当命令是进入新目录\n",
    "            if path == '/': # 如果原路径是根目录，直接输出/ + command路径为新路径\n",
    "                path = f\"/{command}\"\n",
    "            else:   # 否则，原路径+command路径为新路径\n",
    "                path = f\"{path}/{command}\"\n",
    "        \n",
    "        # 追踪遍历过的路径并更新最大深度\n",
    "        traversed_paths.append(path) # 记录遍历过的路径\n",
    "        current_depth = path.count('/')\n",
    "        deepest_level = max(deepest_level, current_depth) # 更新最大深度\n",
    "    \n",
    "    print(path)\n",
    "    simplified_path = simplify_path(path)\n",
    "    print(simplified_path)\n",
    "    return simplified_path, deepest_level\n",
    "\n",
    "\n",
    "current_path1=current_path1.strip()\n",
    "command1=command1.strip()[3:]\n",
    "\n",
    "current_path2=current_path2.strip()\n",
    "command2=command2.strip()[3:]\n",
    "\n",
    "\n",
    "print(process_cd_command(current_path1, command1))\n",
    "print(process_cd_command(current_path2, command2))"
   ],
   "id": "ff633ae2f0c23a89",
   "outputs": [
    {
     "name": "stdout",
     "output_type": "stream",
     "text": [
      "/home/world\n",
      "/home/world\n",
      "('/home/world', 2)\n",
      "/home/hello/world\n",
      "/home/hello/world\n",
      "('/home/hello/world', 4)\n"
     ]
    }
   ],
   "execution_count": 49
  },
  {
   "metadata": {},
   "cell_type": "markdown",
   "source": [
    "# 3. 最大带宽\n",
    "输入：\n",
    "- n: 交换机数量\n",
    "- ports: 每台交换机的端口数\n",
    "- bandwidths: 每台交换机的端口带宽\n",
    "- k: 可以选择的交换机数量\n",
    "\n",
    "输出：\n",
    "- 最大带宽=端口总数*所有交换机的最小带宽"
   ],
   "id": "d25201177e9322a0"
  },
  {
   "metadata": {},
   "cell_type": "markdown",
   "source": [
    "### 1. 暴力枚举\n",
    "- 遍历所有可能的交换机组合，计算每个组合的带宽值，找到最大的带宽值。\n",
    "- 时间复杂度：O(C(n, k)*k)，其中 C(n, k) 是从 n 个元素中选择 k 个元素的组合数,k表示对于每个组合，计算端口总数和最小带宽的时间复杂度。"
   ],
   "id": "b71a0a2e065863df"
  },
  {
   "metadata": {
    "ExecuteTime": {
     "end_time": "2024-09-14T12:36:36.344868Z",
     "start_time": "2024-09-14T12:36:36.328923Z"
    }
   },
   "cell_type": "code",
   "source": [
    "from itertools import combinations\n",
    "\n",
    "\n",
    "def max_bandwidth(n, ports, bandwidths, k):\n",
    "    max_value = 0\n",
    "    # 遍历所有可能选择的k台交换机组合\n",
    "    for combo in combinations(range(n), k):\n",
    "        # combo为k个交换机的索引组合，比如[(0, 1), (0, 2), (1, 2)],这是n=3, k=2的情况\n",
    "        # 计算端口总数和最小带宽\n",
    "        total_ports = sum(ports[i] for i in combo) # 第一次循环，combo=(0, 1)，这里为total_ports=ports[0]+ports[1]\n",
    "        min_bandwidth = min(bandwidths[i] for i in combo) # 第一次循环，combo=(0, 1)，这里为min_bandwidth=min(bandwidths[0], bandwidths[1])\n",
    "        # 计算当前组合的带宽值\n",
    "        current_value = total_ports * min_bandwidth\n",
    "        # 更新最大带宽值\n",
    "        max_value = max(max_value, current_value)\n",
    "    \n",
    "    # 考虑单台交换机带宽最大值\n",
    "    for i in range(n):\n",
    "        single_switch_value = ports[i] * bandwidths[i]\n",
    "        max_value = max(max_value, single_switch_value)\n",
    "\n",
    "    return max_value\n",
    "\n",
    "# 测试用例\n",
    "n1 = 6\n",
    "ports1 = [20, 100, 30, 10, 50, 80]\n",
    "bandwidths1 = [50, 40, 30, 90, 70, 20]\n",
    "k1 = 2\n",
    "\n",
    "n2 = 5\n",
    "ports2=[100, 20, 50, 50, 80]\n",
    "bandwidths2 = [100, 10, 20, 20, 20]\n",
    "k2 = 3\n",
    "\n",
    "\n",
    "print(max_bandwidth(n1, ports1, bandwidths1, k1))\n",
    "print('\\n')\n",
    "print(max_bandwidth(n2, ports2, bandwidths2, k2))\n",
    "\n",
    "n3=7\n",
    "ports3 = [100,80,70,60,50,40,30]\n",
    "bandwidths3=[10,20,25,30,35,40,80]\n",
    "k3=3\n",
    "print(max_bandwidth(n3, ports3, bandwidths3, k3)) "
   ],
   "id": "9269b3bfaf1b114f",
   "outputs": [
    {
     "name": "stdout",
     "output_type": "stream",
     "text": [
      "6000\n",
      "\n",
      "\n",
      "10000\n",
      "4500\n"
     ]
    }
   ],
   "execution_count": 90
  },
  {
   "metadata": {},
   "cell_type": "markdown",
   "source": [
    "### 2. 贪心算法\n",
    "- 在每个可能的最小带宽值下，只选择端口数最大的前k 台交换机，可能无法找到全局最优解。\n",
    "- 时间复杂度：O(nlogn*m)，其中 n 是交换机数量,m是不同的带宽值数量"
   ],
   "id": "27bfca4d1ae26078"
  },
  {
   "metadata": {
    "ExecuteTime": {
     "end_time": "2024-09-14T12:36:20.424887Z",
     "start_time": "2024-09-14T12:36:20.409938Z"
    }
   },
   "cell_type": "code",
   "source": [
    "def max_bandwidth(n, ports, bandwidths, k):\n",
    "    # 配对端口数和带宽\n",
    "    switches = list(zip(ports, bandwidths))\n",
    "    \n",
    "    # 按带宽降序排序\n",
    "    unique_bandwidths = sorted(set(bandwidths), reverse=True)\n",
    "    \n",
    "    print(f'switches={switches}, unique_bandwidths={unique_bandwidths}')\n",
    "    \n",
    "    max_total_bandwidth = 0\n",
    "    best_combination = []\n",
    "    \n",
    "    # 从大到小遍历带宽值，为了找出最优带宽和端口组合\n",
    "    for b in unique_bandwidths: \n",
    "        eligible_switches = [s for s in switches if s[1] >= b] # 选择带宽不小于当前带宽值的交换机\n",
    "        eligible_switches.sort(key=lambda x: (x[0], x[1]), reverse=True) # 按端口数降序排序,如果端口数相同，按带宽降序排序\n",
    "        \n",
    "        selected_switches = eligible_switches[:k] # 选择排序后的组合中的前k个\n",
    "        total_ports = sum(s[0] for s in selected_switches) # 计算总端口数\n",
    "        min_bandwidth = min(s[1] for s in selected_switches) # 计算当前最小带宽\n",
    "        current_bandwidth = total_ports * min_bandwidth # 计算当前带宽\n",
    "\n",
    "        if current_bandwidth > max_total_bandwidth: # 如果当前带宽大于最大带宽\n",
    "            max_total_bandwidth = current_bandwidth  # 更新最大带宽值\n",
    "            best_combination = selected_switches.copy()  # 保存对应的组合\n",
    "    \n",
    "    return max_total_bandwidth, best_combination\n",
    "\n",
    "# Test case 1\n",
    "n1 = 6\n",
    "ports1 = [20, 100, 30, 10, 50, 80]\n",
    "bandwidths1 = [50, 40, 30, 90, 70, 20]\n",
    "k1 = 2\n",
    "print(max_bandwidth(n1, ports1, bandwidths1, k1))  # Output: 6000\n",
    "\n",
    "# Test case 2\n",
    "n2 = 5\n",
    "ports2 = [100, 20, 50, 50, 80]\n",
    "bandwidths2 = [100, 10, 20, 20, 20]\n",
    "k2 = 3\n",
    "print(max_bandwidth(n2, ports2, bandwidths2, k2))  # Output: 10000\n",
    "\n",
    "n3=7\n",
    "ports3 = [100,80,70,60,50,40,30]\n",
    "bandwidths3=[10,20,25,30,35,40,80]\n",
    "k3=3\n",
    "print(max_bandwidth(n3, ports3, bandwidths3, k3))  \n"
   ],
   "id": "4a5077f3cf40107a",
   "outputs": [
    {
     "name": "stdout",
     "output_type": "stream",
     "text": [
      "switches=[(20, 50), (100, 40), (30, 30), (10, 90), (50, 70), (80, 20)], unique_bandwidths=[90, 70, 50, 40, 30, 20]\n",
      "(6000, [(100, 40), (50, 70)])\n",
      "switches=[(100, 100), (20, 10), (50, 20), (50, 20), (80, 20)], unique_bandwidths=[100, 20, 10]\n",
      "(10000, [(100, 100)])\n",
      "switches=[(100, 10), (80, 20), (70, 25), (60, 30), (50, 35), (40, 40), (30, 80)], unique_bandwidths=[80, 40, 35, 30, 25, 20, 10]\n",
      "(4500, [(60, 30), (50, 35), (40, 40)])\n"
     ]
    }
   ],
   "execution_count": 89
  },
  {
   "metadata": {},
   "cell_type": "markdown",
   "source": [
    "- 代码的核心思路是枚举所有可能的最小带宽值，对于每个带宽值，找到带宽不小于该值的交换机组合，使得总带宽最大。\n",
    "- 通过排序和筛选，优先选择端口数最多的交换机。\n",
    "- 最终，找到使总带宽最大的交换机组合。\n",
    "\n",
    "**为什么要从大到小遍历带宽值？**\n",
    "\n",
    "1. **覆盖所有可能的最小带宽值**：\n",
    "\n",
    "   - 我们的问题是要选择最多 \\( k \\) 台交换机，使得**端口总数乘以最小带宽**的值最大。\n",
    "   - 最小带宽在计算总带宽时起着关键作用，因此我们需要考虑所有可能的最小带宽值。\n",
    "\n",
    "2. **保证找到最优解**：\n",
    "\n",
    "   - 从大的带宽值开始遍历，可以优先考虑高带宽的交换机组合。\n",
    "   - 高带宽虽然可能对应的交换机数量少，但如果端口总数足够大，可能直接得到最大总带宽。\n",
    "\n",
    "3. **逐步放宽带宽限制**：\n",
    "\n",
    "   - 当以较高的带宽值开始时，符合条件的交换机可能较少。\n",
    "   - 随着带宽值的降低，符合条件的交换机增多，我们可以选择更多的交换机来增加端口总数，但最小带宽也会降低。\n",
    "   - 这种方式可以在高带宽和大端口总数之间找到最佳平衡。"
   ],
   "id": "3890e9d69e89d440"
  }
 ],
 "metadata": {
  "kernelspec": {
   "display_name": "Python 3",
   "language": "python",
   "name": "python3"
  },
  "language_info": {
   "codemirror_mode": {
    "name": "ipython",
    "version": 2
   },
   "file_extension": ".py",
   "mimetype": "text/x-python",
   "name": "python",
   "nbconvert_exporter": "python",
   "pygments_lexer": "ipython2",
   "version": "2.7.6"
  }
 },
 "nbformat": 4,
 "nbformat_minor": 5
}
