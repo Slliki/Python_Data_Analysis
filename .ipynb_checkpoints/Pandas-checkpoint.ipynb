{
 "cells": [
  {
   "cell_type": "markdown",
   "id": "710cf042",
   "metadata": {},
   "source": [
    "# Pandas practice 1  \n",
    "## Dataframe Basic"
   ]
  },
  {
   "cell_type": "code",
   "execution_count": 3,
   "id": "3c61f1e6",
   "metadata": {},
   "outputs": [],
   "source": [
    "import pandas as pd\n",
    "import sqlite3"
   ]
  },
  {
   "cell_type": "markdown",
   "id": "1896e33b",
   "metadata": {},
   "source": [
    "# 1. Creating，Reading，Writing Dataframe"
   ]
  },
  {
   "cell_type": "markdown",
   "id": "4b62c671",
   "metadata": {},
   "source": [
    "### (1) using `pd.DataFrame({'col_name':[],..},index=['index_name',])` to create dataframe"
   ]
  },
  {
   "cell_type": "code",
   "execution_count": 8,
   "id": "32a87ebe",
   "metadata": {},
   "outputs": [
    {
     "data": {
      "text/html": [
       "<div>\n",
       "<style scoped>\n",
       "    .dataframe tbody tr th:only-of-type {\n",
       "        vertical-align: middle;\n",
       "    }\n",
       "\n",
       "    .dataframe tbody tr th {\n",
       "        vertical-align: top;\n",
       "    }\n",
       "\n",
       "    .dataframe thead th {\n",
       "        text-align: right;\n",
       "    }\n",
       "</style>\n",
       "<table border=\"1\" class=\"dataframe\">\n",
       "  <thead>\n",
       "    <tr style=\"text-align: right;\">\n",
       "      <th></th>\n",
       "      <th>Apples</th>\n",
       "      <th>Bananas</th>\n",
       "    </tr>\n",
       "  </thead>\n",
       "  <tbody>\n",
       "    <tr>\n",
       "      <th>2017 Sales</th>\n",
       "      <td>35</td>\n",
       "      <td>21</td>\n",
       "    </tr>\n",
       "    <tr>\n",
       "      <th>2018 Sales</th>\n",
       "      <td>41</td>\n",
       "      <td>34</td>\n",
       "    </tr>\n",
       "  </tbody>\n",
       "</table>\n",
       "</div>"
      ],
      "text/plain": [
       "            Apples  Bananas\n",
       "2017 Sales      35       21\n",
       "2018 Sales      41       34"
      ]
     },
     "execution_count": 8,
     "metadata": {},
     "output_type": "execute_result"
    }
   ],
   "source": [
    "fruit_sales = pd.DataFrame({'Apples':[35,41],'Bananas':[21,34]},index=['2017 Sales','2018 Sales'])\n",
    "fruit_sales"
   ]
  },
  {
   "cell_type": "markdown",
   "id": "e03549a7",
   "metadata": {},
   "source": [
    "### (2) using `pd.Series([],index=[],name=)` to create series"
   ]
  },
  {
   "cell_type": "code",
   "execution_count": 9,
   "id": "c1a17c12",
   "metadata": {},
   "outputs": [
    {
     "data": {
      "text/plain": [
       "Flour     4 cups\n",
       "Milk       1 cup\n",
       "Eggs     2 large\n",
       "Spam       1 can\n",
       "Name: Dinner, dtype: object"
      ]
     },
     "execution_count": 9,
     "metadata": {},
     "output_type": "execute_result"
    }
   ],
   "source": [
    "ingredients = pd.Series(['4 cups', '1 cup', '2 large', '1 can'],index=['Flour','Milk','Eggs','Spam'],name='Dinner')\n",
    "ingredients"
   ]
  },
  {
   "cell_type": "markdown",
   "id": "f6e36400",
   "metadata": {},
   "source": [
    "# Reading and Storing files--csv/xls/xlsx"
   ]
  },
  {
   "cell_type": "markdown",
   "id": "037b963d",
   "metadata": {},
   "source": [
    "### (1) `read_csv` 用于从逗号分隔值（CSV）文件中读取数据。\n",
    "语法示例：`pandas.read_csv(filepath_or_buffer, sep=',', header='infer',index_col=0 ...)`  \n",
    "`filepath_or_buffer` 是 CSV 文件的路径或 URL。  \n",
    "`sep` 参数表示分隔符，默认为逗号，但你可以指定不同的分隔符。  \n",
    "`header` 参数表示是否使用第一行作为列名，通常设置为 'infer'，表示自动检测。  \n",
    "`index_col=0` 表示设置index列不是默认的数值行标签(0,1,2,...)\n",
    "其他参数允许你指定数据的编码、日期格式等。"
   ]
  },
  {
   "cell_type": "markdown",
   "id": "31f52ba5",
   "metadata": {},
   "source": [
    "### (2) `read_excel`  用于从 Excel 文件中读取数据的函数\n",
    "`io`: Excel 文件的路径或 URL  \n",
    "`sheet_name`: 要读取的工作表的名称或索引，默认为 0（第一个工作表）。  \n",
    "`header`: 用作列名的行，默认为 0（第一行）。  \n",
    "`names`: 可选，用于指定列名的列表，如果不指定将使用 Excel 文件中的列名。  \n",
    "`index_col`: 可选，用于指定作为行标签的列，默认为 None。  \n",
    "`usecols`: 可选，用于指定要读取的列的列表。"
   ]
  },
  {
   "cell_type": "markdown",
   "id": "3c429d26",
   "metadata": {},
   "source": [
    "### (2) `.to_csv()`   `.to_excel()` 用于将dataframe文件存储与本地 作为csv或excel文件  "
   ]
  },
  {
   "cell_type": "markdown",
   "id": "c8fe75c8",
   "metadata": {},
   "source": [
    "#   读取数据库文件`read_sql_query`"
   ]
  },
  {
   "cell_type": "code",
   "execution_count": 31,
   "id": "80e2da0b",
   "metadata": {},
   "outputs": [
    {
     "name": "stdout",
     "output_type": "stream",
     "text": [
      "Names of all tables in the dataset\n",
      "                   name\n",
      "0      spatial_ref_sys\n",
      "1   spatialite_history\n",
      "2      sqlite_sequence\n",
      "3     geometry_columns\n",
      "4  spatial_ref_sys_aux \n",
      "\n",
      "spatialite_history:\n",
      "    event_id        table_name geometry_column  \\\n",
      "0         1   spatial_ref_sys            None   \n",
      "1         2  geometry_columns            None   \n",
      "2         3  geometry_columns            None   \n",
      "3         4  geometry_columns            None   \n",
      "4         5  geometry_columns            None   \n",
      "\n",
      "                                               event  \\\n",
      "0                         table successfully created   \n",
      "1                         table successfully created   \n",
      "2  trigger 'geometry_columns_f_table_name_insert'...   \n",
      "3  trigger 'geometry_columns_f_table_name_update'...   \n",
      "4  trigger 'geometry_columns_f_geometry_column_in...   \n",
      "\n",
      "                  timestamp ver_sqlite ver_splite  \n",
      "0  2017-05-17T22:00:26.772Z      3.9.2  4.4.0-RC0  \n",
      "1  2017-05-17T22:00:26.796Z      3.9.2  4.4.0-RC0  \n",
      "2  2017-05-17T22:00:26.796Z      3.9.2  4.4.0-RC0  \n",
      "3  2017-05-17T22:00:26.796Z      3.9.2  4.4.0-RC0  \n",
      "4  2017-05-17T22:00:26.797Z      3.9.2  4.4.0-RC0  \n"
     ]
    }
   ],
   "source": [
    "#使用 sqlite3 库连接到你的 SQLite 文件：\n",
    "conn = sqlite3.connect(\"E:/Programming/Dataset_prac/million_us_wildfires/FPA_FOD_20170508.sqlite\")\n",
    "# 编写 SQL 查询，以从数据库中检索数据。例如，如果你有一个名为 \"my_table\" 的表，你可以执行以下查询：\n",
    "query = \"SELECT * FROM my_table;\"\n",
    "# 如果你不确定数据库中有哪些表，你可以使用以下查询来列出所有表的名称：\n",
    "query = \"SELECT name FROM sqlite_master WHERE type='table';\"\n",
    "# 使用 Pandas 的 read_sql_query 函数执行查询并将结果读取到 DataFrame 中：\n",
    "table_name = pd.read_sql_query(query, conn)\n",
    "print('Names of all tables in the dataset\\n',table_name.head(),'\\n')\n",
    "\n",
    "#选取某一个标存入dataframe\n",
    "query='SELECT * FROM spatialite_history'\n",
    "df1=pd.read_sql_query(query, conn)\n",
    "print('spatialite_history:\\n',df1.head())\n",
    "conn.close()\n"
   ]
  },
  {
   "cell_type": "markdown",
   "id": "7ffe5fba",
   "metadata": {},
   "source": [
    "# 2. Dataframe Indexing，Selecting，Assigning"
   ]
  },
  {
   "cell_type": "code",
   "execution_count": 4,
   "id": "67749848",
   "metadata": {},
   "outputs": [
    {
     "data": {
      "text/html": [
       "<div>\n",
       "<style scoped>\n",
       "    .dataframe tbody tr th:only-of-type {\n",
       "        vertical-align: middle;\n",
       "    }\n",
       "\n",
       "    .dataframe tbody tr th {\n",
       "        vertical-align: top;\n",
       "    }\n",
       "\n",
       "    .dataframe thead th {\n",
       "        text-align: right;\n",
       "    }\n",
       "</style>\n",
       "<table border=\"1\" class=\"dataframe\">\n",
       "  <thead>\n",
       "    <tr style=\"text-align: right;\">\n",
       "      <th></th>\n",
       "      <th>Unnamed: 0</th>\n",
       "      <th>country</th>\n",
       "      <th>description</th>\n",
       "      <th>designation</th>\n",
       "      <th>points</th>\n",
       "      <th>price</th>\n",
       "      <th>province</th>\n",
       "      <th>region_1</th>\n",
       "      <th>region_2</th>\n",
       "      <th>taster_name</th>\n",
       "      <th>taster_twitter_handle</th>\n",
       "      <th>title</th>\n",
       "      <th>variety</th>\n",
       "      <th>winery</th>\n",
       "    </tr>\n",
       "  </thead>\n",
       "  <tbody>\n",
       "    <tr>\n",
       "      <th>0</th>\n",
       "      <td>0</td>\n",
       "      <td>Italy</td>\n",
       "      <td>Aromas include tropical fruit, broom, brimston...</td>\n",
       "      <td>Vulkà Bianco</td>\n",
       "      <td>87</td>\n",
       "      <td>NaN</td>\n",
       "      <td>Sicily &amp; Sardinia</td>\n",
       "      <td>Etna</td>\n",
       "      <td>NaN</td>\n",
       "      <td>Kerin O’Keefe</td>\n",
       "      <td>@kerinokeefe</td>\n",
       "      <td>Nicosia 2013 Vulkà Bianco  (Etna)</td>\n",
       "      <td>White Blend</td>\n",
       "      <td>Nicosia</td>\n",
       "    </tr>\n",
       "    <tr>\n",
       "      <th>1</th>\n",
       "      <td>1</td>\n",
       "      <td>Portugal</td>\n",
       "      <td>This is ripe and fruity, a wine that is smooth...</td>\n",
       "      <td>Avidagos</td>\n",
       "      <td>87</td>\n",
       "      <td>15.0</td>\n",
       "      <td>Douro</td>\n",
       "      <td>NaN</td>\n",
       "      <td>NaN</td>\n",
       "      <td>Roger Voss</td>\n",
       "      <td>@vossroger</td>\n",
       "      <td>Quinta dos Avidagos 2011 Avidagos Red (Douro)</td>\n",
       "      <td>Portuguese Red</td>\n",
       "      <td>Quinta dos Avidagos</td>\n",
       "    </tr>\n",
       "    <tr>\n",
       "      <th>2</th>\n",
       "      <td>2</td>\n",
       "      <td>US</td>\n",
       "      <td>Tart and snappy, the flavors of lime flesh and...</td>\n",
       "      <td>NaN</td>\n",
       "      <td>87</td>\n",
       "      <td>14.0</td>\n",
       "      <td>Oregon</td>\n",
       "      <td>Willamette Valley</td>\n",
       "      <td>Willamette Valley</td>\n",
       "      <td>Paul Gregutt</td>\n",
       "      <td>@paulgwine</td>\n",
       "      <td>Rainstorm 2013 Pinot Gris (Willamette Valley)</td>\n",
       "      <td>Pinot Gris</td>\n",
       "      <td>Rainstorm</td>\n",
       "    </tr>\n",
       "    <tr>\n",
       "      <th>3</th>\n",
       "      <td>3</td>\n",
       "      <td>US</td>\n",
       "      <td>Pineapple rind, lemon pith and orange blossom ...</td>\n",
       "      <td>Reserve Late Harvest</td>\n",
       "      <td>87</td>\n",
       "      <td>13.0</td>\n",
       "      <td>Michigan</td>\n",
       "      <td>Lake Michigan Shore</td>\n",
       "      <td>NaN</td>\n",
       "      <td>Alexander Peartree</td>\n",
       "      <td>NaN</td>\n",
       "      <td>St. Julian 2013 Reserve Late Harvest Riesling ...</td>\n",
       "      <td>Riesling</td>\n",
       "      <td>St. Julian</td>\n",
       "    </tr>\n",
       "    <tr>\n",
       "      <th>4</th>\n",
       "      <td>4</td>\n",
       "      <td>US</td>\n",
       "      <td>Much like the regular bottling from 2012, this...</td>\n",
       "      <td>Vintner's Reserve Wild Child Block</td>\n",
       "      <td>87</td>\n",
       "      <td>65.0</td>\n",
       "      <td>Oregon</td>\n",
       "      <td>Willamette Valley</td>\n",
       "      <td>Willamette Valley</td>\n",
       "      <td>Paul Gregutt</td>\n",
       "      <td>@paulgwine</td>\n",
       "      <td>Sweet Cheeks 2012 Vintner's Reserve Wild Child...</td>\n",
       "      <td>Pinot Noir</td>\n",
       "      <td>Sweet Cheeks</td>\n",
       "    </tr>\n",
       "  </tbody>\n",
       "</table>\n",
       "</div>"
      ],
      "text/plain": [
       "   Unnamed: 0   country                                        description  \\\n",
       "0           0     Italy  Aromas include tropical fruit, broom, brimston...   \n",
       "1           1  Portugal  This is ripe and fruity, a wine that is smooth...   \n",
       "2           2        US  Tart and snappy, the flavors of lime flesh and...   \n",
       "3           3        US  Pineapple rind, lemon pith and orange blossom ...   \n",
       "4           4        US  Much like the regular bottling from 2012, this...   \n",
       "\n",
       "                          designation  points  price           province  \\\n",
       "0                        Vulkà Bianco      87    NaN  Sicily & Sardinia   \n",
       "1                            Avidagos      87   15.0              Douro   \n",
       "2                                 NaN      87   14.0             Oregon   \n",
       "3                Reserve Late Harvest      87   13.0           Michigan   \n",
       "4  Vintner's Reserve Wild Child Block      87   65.0             Oregon   \n",
       "\n",
       "              region_1           region_2         taster_name  \\\n",
       "0                 Etna                NaN       Kerin O’Keefe   \n",
       "1                  NaN                NaN          Roger Voss   \n",
       "2    Willamette Valley  Willamette Valley        Paul Gregutt   \n",
       "3  Lake Michigan Shore                NaN  Alexander Peartree   \n",
       "4    Willamette Valley  Willamette Valley        Paul Gregutt   \n",
       "\n",
       "  taster_twitter_handle                                              title  \\\n",
       "0          @kerinokeefe                  Nicosia 2013 Vulkà Bianco  (Etna)   \n",
       "1            @vossroger      Quinta dos Avidagos 2011 Avidagos Red (Douro)   \n",
       "2           @paulgwine       Rainstorm 2013 Pinot Gris (Willamette Valley)   \n",
       "3                   NaN  St. Julian 2013 Reserve Late Harvest Riesling ...   \n",
       "4           @paulgwine   Sweet Cheeks 2012 Vintner's Reserve Wild Child...   \n",
       "\n",
       "          variety               winery  \n",
       "0     White Blend              Nicosia  \n",
       "1  Portuguese Red  Quinta dos Avidagos  \n",
       "2      Pinot Gris            Rainstorm  \n",
       "3        Riesling           St. Julian  \n",
       "4      Pinot Noir         Sweet Cheeks  "
      ]
     },
     "execution_count": 4,
     "metadata": {},
     "output_type": "execute_result"
    }
   ],
   "source": [
    "# Dataset: wine dataset with decription and region..\n",
    "df=pd.read_csv(\"E:\\Programming\\Dataset_prac\\winemag_data\\winemag-data-130k-v2.csv\")\n",
    "df.head()\n"
   ]
  },
  {
   "cell_type": "markdown",
   "id": "3a9116d2",
   "metadata": {},
   "source": [
    "## 1. query and modify"
   ]
  },
  {
   "cell_type": "code",
   "execution_count": 86,
   "id": "fe0dbea2",
   "metadata": {},
   "outputs": [
    {
     "name": "stdout",
     "output_type": "stream",
     "text": [
      "0       Italy\n",
      "1    Portugal\n",
      "2          US\n",
      "3          US\n",
      "4          US\n",
      "Name: country, dtype: object\n",
      "0       Italy\n",
      "1    Portugal\n",
      "2          US\n",
      "3          US\n",
      "4          US\n",
      "Name: country, dtype: object\n",
      "  country  price\n",
      "2      US   14.0\n",
      "3      US   13.0\n",
      "4      US   65.0\n"
     ]
    }
   ],
   "source": [
    "print(df.country.head())\n",
    "print(df['country'].head()) #same as df.country\n",
    "print(df[['country','price']][2:5]) #df[col][row]"
   ]
  },
  {
   "cell_type": "markdown",
   "id": "a6b3f9ad",
   "metadata": {},
   "source": [
    "## 2. `loc[]` and `iloc[]` \n",
    "     loc[行索引名称或条件，列索引名称]； iloc[行索引位置，列索引位置]\n",
    "     注意：iloc只接受数字num作为index参数，若是需要输入列名，应该用loc[]\n",
    "\n",
    "`iloc` uses the Python stdlib indexing scheme, where the first element of the range is included and the last one excluded. `loc`, meanwhile, indexes inclusively.\n",
    "\n",
    "This is particularly confusing when the DataFrame index is a simple numerical list, e.g. 0,...,1000. In this case `df.iloc[0:1000]` will return 1000 entries, while `df.loc[0:1000]` return 1001 of them! To get 1000 elements using loc, you will need to go one lower and ask for df.iloc[0:999]."
   ]
  },
  {
   "cell_type": "code",
   "execution_count": 87,
   "id": "8795c23b",
   "metadata": {},
   "outputs": [
    {
     "name": "stdout",
     "output_type": "stream",
     "text": [
      "   price             region_1\n",
      "0    NaN                 Etna\n",
      "1   15.0                  NaN\n",
      "2   14.0    Willamette Valley\n",
      "3   13.0  Lake Michigan Shore\n"
     ]
    }
   ],
   "source": [
    "print(df.loc[0:3,['price','region_1']])"
   ]
  },
  {
   "cell_type": "markdown",
   "id": "31ff57c7",
   "metadata": {},
   "source": [
    "    条件切片 slicing"
   ]
  },
  {
   "cell_type": "code",
   "execution_count": 88,
   "id": "b874960b",
   "metadata": {},
   "outputs": [
    {
     "data": {
      "text/html": [
       "<div>\n",
       "<style scoped>\n",
       "    .dataframe tbody tr th:only-of-type {\n",
       "        vertical-align: middle;\n",
       "    }\n",
       "\n",
       "    .dataframe tbody tr th {\n",
       "        vertical-align: top;\n",
       "    }\n",
       "\n",
       "    .dataframe thead th {\n",
       "        text-align: right;\n",
       "    }\n",
       "</style>\n",
       "<table border=\"1\" class=\"dataframe\">\n",
       "  <thead>\n",
       "    <tr style=\"text-align: right;\">\n",
       "      <th></th>\n",
       "      <th>country</th>\n",
       "      <th>winery</th>\n",
       "    </tr>\n",
       "  </thead>\n",
       "  <tbody>\n",
       "    <tr>\n",
       "      <th>0</th>\n",
       "      <td>Italy</td>\n",
       "      <td>Nicosia</td>\n",
       "    </tr>\n",
       "    <tr>\n",
       "      <th>6</th>\n",
       "      <td>Italy</td>\n",
       "      <td>Terre di Giurfo</td>\n",
       "    </tr>\n",
       "    <tr>\n",
       "      <th>13</th>\n",
       "      <td>Italy</td>\n",
       "      <td>Masseria Setteporte</td>\n",
       "    </tr>\n",
       "  </tbody>\n",
       "</table>\n",
       "</div>"
      ],
      "text/plain": [
       "   country               winery\n",
       "0    Italy              Nicosia\n",
       "6    Italy      Terre di Giurfo\n",
       "13   Italy  Masseria Setteporte"
      ]
     },
     "execution_count": 88,
     "metadata": {},
     "output_type": "execute_result"
    }
   ],
   "source": [
    "#select col_ country and winery, where country is Italy\n",
    "df.loc[(df['country']=='Italy'),['country','winery']].head(3)"
   ]
  },
  {
   "cell_type": "code",
   "execution_count": 89,
   "id": "a16492e6",
   "metadata": {},
   "outputs": [
    {
     "data": {
      "text/html": [
       "<div>\n",
       "<style scoped>\n",
       "    .dataframe tbody tr th:only-of-type {\n",
       "        vertical-align: middle;\n",
       "    }\n",
       "\n",
       "    .dataframe tbody tr th {\n",
       "        vertical-align: top;\n",
       "    }\n",
       "\n",
       "    .dataframe thead th {\n",
       "        text-align: right;\n",
       "    }\n",
       "</style>\n",
       "<table border=\"1\" class=\"dataframe\">\n",
       "  <thead>\n",
       "    <tr style=\"text-align: right;\">\n",
       "      <th></th>\n",
       "      <th>Unnamed: 0</th>\n",
       "      <th>country</th>\n",
       "      <th>description</th>\n",
       "      <th>designation</th>\n",
       "      <th>points</th>\n",
       "      <th>price</th>\n",
       "      <th>province</th>\n",
       "      <th>region_1</th>\n",
       "      <th>region_2</th>\n",
       "      <th>taster_name</th>\n",
       "      <th>taster_twitter_handle</th>\n",
       "      <th>title</th>\n",
       "      <th>variety</th>\n",
       "      <th>winery</th>\n",
       "    </tr>\n",
       "  </thead>\n",
       "  <tbody>\n",
       "    <tr>\n",
       "      <th>0</th>\n",
       "      <td>0</td>\n",
       "      <td>Italy</td>\n",
       "      <td>Aromas include tropical fruit, broom, brimston...</td>\n",
       "      <td>Vulkà Bianco</td>\n",
       "      <td>87</td>\n",
       "      <td>NaN</td>\n",
       "      <td>Sicily &amp; Sardinia</td>\n",
       "      <td>Etna</td>\n",
       "      <td>NaN</td>\n",
       "      <td>Kerin O’Keefe</td>\n",
       "      <td>@kerinokeefe</td>\n",
       "      <td>Nicosia 2013 Vulkà Bianco  (Etna)</td>\n",
       "      <td>White Blend</td>\n",
       "      <td>Nicosia</td>\n",
       "    </tr>\n",
       "    <tr>\n",
       "      <th>6</th>\n",
       "      <td>6</td>\n",
       "      <td>Italy</td>\n",
       "      <td>Here's a bright, informal red that opens with ...</td>\n",
       "      <td>Belsito</td>\n",
       "      <td>87</td>\n",
       "      <td>16.0</td>\n",
       "      <td>Sicily &amp; Sardinia</td>\n",
       "      <td>Vittoria</td>\n",
       "      <td>NaN</td>\n",
       "      <td>Kerin O’Keefe</td>\n",
       "      <td>@kerinokeefe</td>\n",
       "      <td>Terre di Giurfo 2013 Belsito Frappato (Vittoria)</td>\n",
       "      <td>Frappato</td>\n",
       "      <td>Terre di Giurfo</td>\n",
       "    </tr>\n",
       "    <tr>\n",
       "      <th>7</th>\n",
       "      <td>7</td>\n",
       "      <td>France</td>\n",
       "      <td>This dry and restrained wine offers spice in p...</td>\n",
       "      <td>NaN</td>\n",
       "      <td>87</td>\n",
       "      <td>24.0</td>\n",
       "      <td>Alsace</td>\n",
       "      <td>Alsace</td>\n",
       "      <td>NaN</td>\n",
       "      <td>Roger Voss</td>\n",
       "      <td>@vossroger</td>\n",
       "      <td>Trimbach 2012 Gewurztraminer (Alsace)</td>\n",
       "      <td>Gewürztraminer</td>\n",
       "      <td>Trimbach</td>\n",
       "    </tr>\n",
       "  </tbody>\n",
       "</table>\n",
       "</div>"
      ],
      "text/plain": [
       "   Unnamed: 0 country                                        description  \\\n",
       "0           0   Italy  Aromas include tropical fruit, broom, brimston...   \n",
       "6           6   Italy  Here's a bright, informal red that opens with ...   \n",
       "7           7  France  This dry and restrained wine offers spice in p...   \n",
       "\n",
       "    designation  points  price           province  region_1 region_2  \\\n",
       "0  Vulkà Bianco      87    NaN  Sicily & Sardinia      Etna      NaN   \n",
       "6       Belsito      87   16.0  Sicily & Sardinia  Vittoria      NaN   \n",
       "7           NaN      87   24.0             Alsace    Alsace      NaN   \n",
       "\n",
       "     taster_name taster_twitter_handle  \\\n",
       "0  Kerin O’Keefe          @kerinokeefe   \n",
       "6  Kerin O’Keefe          @kerinokeefe   \n",
       "7     Roger Voss            @vossroger   \n",
       "\n",
       "                                              title         variety  \\\n",
       "0                 Nicosia 2013 Vulkà Bianco  (Etna)     White Blend   \n",
       "6  Terre di Giurfo 2013 Belsito Frappato (Vittoria)        Frappato   \n",
       "7             Trimbach 2012 Gewurztraminer (Alsace)  Gewürztraminer   \n",
       "\n",
       "            winery  \n",
       "0          Nicosia  \n",
       "6  Terre di Giurfo  \n",
       "7         Trimbach  "
      ]
     },
     "execution_count": 89,
     "metadata": {},
     "output_type": "execute_result"
    }
   ],
   "source": [
    "#select country is in Italy or France\n",
    "df.loc[df.country.isin(['Italy','France'])].head(3)"
   ]
  },
  {
   "cell_type": "markdown",
   "id": "589d651f",
   "metadata": {},
   "source": [
    "## 3. `.set_index('')` set special column as the index col"
   ]
  },
  {
   "cell_type": "code",
   "execution_count": 90,
   "id": "a2a0ee50",
   "metadata": {},
   "outputs": [
    {
     "data": {
      "text/html": [
       "<div>\n",
       "<style scoped>\n",
       "    .dataframe tbody tr th:only-of-type {\n",
       "        vertical-align: middle;\n",
       "    }\n",
       "\n",
       "    .dataframe tbody tr th {\n",
       "        vertical-align: top;\n",
       "    }\n",
       "\n",
       "    .dataframe thead th {\n",
       "        text-align: right;\n",
       "    }\n",
       "</style>\n",
       "<table border=\"1\" class=\"dataframe\">\n",
       "  <thead>\n",
       "    <tr style=\"text-align: right;\">\n",
       "      <th></th>\n",
       "      <th>Unnamed: 0</th>\n",
       "      <th>country</th>\n",
       "      <th>description</th>\n",
       "      <th>designation</th>\n",
       "      <th>points</th>\n",
       "      <th>price</th>\n",
       "      <th>province</th>\n",
       "      <th>region_1</th>\n",
       "      <th>region_2</th>\n",
       "      <th>taster_name</th>\n",
       "      <th>taster_twitter_handle</th>\n",
       "      <th>variety</th>\n",
       "      <th>winery</th>\n",
       "    </tr>\n",
       "    <tr>\n",
       "      <th>title</th>\n",
       "      <th></th>\n",
       "      <th></th>\n",
       "      <th></th>\n",
       "      <th></th>\n",
       "      <th></th>\n",
       "      <th></th>\n",
       "      <th></th>\n",
       "      <th></th>\n",
       "      <th></th>\n",
       "      <th></th>\n",
       "      <th></th>\n",
       "      <th></th>\n",
       "      <th></th>\n",
       "    </tr>\n",
       "  </thead>\n",
       "  <tbody>\n",
       "    <tr>\n",
       "      <th>Nicosia 2013 Vulkà Bianco  (Etna)</th>\n",
       "      <td>0</td>\n",
       "      <td>Italy</td>\n",
       "      <td>Aromas include tropical fruit, broom, brimston...</td>\n",
       "      <td>Vulkà Bianco</td>\n",
       "      <td>87</td>\n",
       "      <td>NaN</td>\n",
       "      <td>Sicily &amp; Sardinia</td>\n",
       "      <td>Etna</td>\n",
       "      <td>NaN</td>\n",
       "      <td>Kerin O’Keefe</td>\n",
       "      <td>@kerinokeefe</td>\n",
       "      <td>White Blend</td>\n",
       "      <td>Nicosia</td>\n",
       "    </tr>\n",
       "    <tr>\n",
       "      <th>Quinta dos Avidagos 2011 Avidagos Red (Douro)</th>\n",
       "      <td>1</td>\n",
       "      <td>Portugal</td>\n",
       "      <td>This is ripe and fruity, a wine that is smooth...</td>\n",
       "      <td>Avidagos</td>\n",
       "      <td>87</td>\n",
       "      <td>15.0</td>\n",
       "      <td>Douro</td>\n",
       "      <td>NaN</td>\n",
       "      <td>NaN</td>\n",
       "      <td>Roger Voss</td>\n",
       "      <td>@vossroger</td>\n",
       "      <td>Portuguese Red</td>\n",
       "      <td>Quinta dos Avidagos</td>\n",
       "    </tr>\n",
       "  </tbody>\n",
       "</table>\n",
       "</div>"
      ],
      "text/plain": [
       "                                               Unnamed: 0   country  \\\n",
       "title                                                                 \n",
       "Nicosia 2013 Vulkà Bianco  (Etna)                       0     Italy   \n",
       "Quinta dos Avidagos 2011 Avidagos Red (Douro)           1  Portugal   \n",
       "\n",
       "                                                                                     description  \\\n",
       "title                                                                                              \n",
       "Nicosia 2013 Vulkà Bianco  (Etna)              Aromas include tropical fruit, broom, brimston...   \n",
       "Quinta dos Avidagos 2011 Avidagos Red (Douro)  This is ripe and fruity, a wine that is smooth...   \n",
       "\n",
       "                                                designation  points  price  \\\n",
       "title                                                                        \n",
       "Nicosia 2013 Vulkà Bianco  (Etna)              Vulkà Bianco      87    NaN   \n",
       "Quinta dos Avidagos 2011 Avidagos Red (Douro)      Avidagos      87   15.0   \n",
       "\n",
       "                                                        province region_1  \\\n",
       "title                                                                       \n",
       "Nicosia 2013 Vulkà Bianco  (Etna)              Sicily & Sardinia     Etna   \n",
       "Quinta dos Avidagos 2011 Avidagos Red (Douro)              Douro      NaN   \n",
       "\n",
       "                                              region_2    taster_name  \\\n",
       "title                                                                   \n",
       "Nicosia 2013 Vulkà Bianco  (Etna)                  NaN  Kerin O’Keefe   \n",
       "Quinta dos Avidagos 2011 Avidagos Red (Douro)      NaN     Roger Voss   \n",
       "\n",
       "                                              taster_twitter_handle  \\\n",
       "title                                                                 \n",
       "Nicosia 2013 Vulkà Bianco  (Etna)                      @kerinokeefe   \n",
       "Quinta dos Avidagos 2011 Avidagos Red (Douro)            @vossroger   \n",
       "\n",
       "                                                      variety  \\\n",
       "title                                                           \n",
       "Nicosia 2013 Vulkà Bianco  (Etna)                 White Blend   \n",
       "Quinta dos Avidagos 2011 Avidagos Red (Douro)  Portuguese Red   \n",
       "\n",
       "                                                            winery  \n",
       "title                                                               \n",
       "Nicosia 2013 Vulkà Bianco  (Etna)                          Nicosia  \n",
       "Quinta dos Avidagos 2011 Avidagos Red (Douro)  Quinta dos Avidagos  "
      ]
     },
     "execution_count": 90,
     "metadata": {},
     "output_type": "execute_result"
    }
   ],
   "source": [
    "df.set_index('title').head(2)"
   ]
  },
  {
   "cell_type": "markdown",
   "id": "70625818",
   "metadata": {},
   "source": [
    "## 4. `.isnull()` and `notnull()`  \n",
    "##     highlight values which are (or are not) empty (NaN)."
   ]
  },
  {
   "cell_type": "code",
   "execution_count": 91,
   "id": "53ee1384",
   "metadata": {},
   "outputs": [
    {
     "data": {
      "text/html": [
       "<div>\n",
       "<style scoped>\n",
       "    .dataframe tbody tr th:only-of-type {\n",
       "        vertical-align: middle;\n",
       "    }\n",
       "\n",
       "    .dataframe tbody tr th {\n",
       "        vertical-align: top;\n",
       "    }\n",
       "\n",
       "    .dataframe thead th {\n",
       "        text-align: right;\n",
       "    }\n",
       "</style>\n",
       "<table border=\"1\" class=\"dataframe\">\n",
       "  <thead>\n",
       "    <tr style=\"text-align: right;\">\n",
       "      <th></th>\n",
       "      <th>Unnamed: 0</th>\n",
       "      <th>country</th>\n",
       "      <th>description</th>\n",
       "      <th>designation</th>\n",
       "      <th>points</th>\n",
       "      <th>price</th>\n",
       "      <th>province</th>\n",
       "      <th>region_1</th>\n",
       "      <th>region_2</th>\n",
       "      <th>taster_name</th>\n",
       "      <th>taster_twitter_handle</th>\n",
       "      <th>title</th>\n",
       "      <th>variety</th>\n",
       "      <th>winery</th>\n",
       "    </tr>\n",
       "  </thead>\n",
       "  <tbody>\n",
       "    <tr>\n",
       "      <th>1</th>\n",
       "      <td>1</td>\n",
       "      <td>Portugal</td>\n",
       "      <td>This is ripe and fruity, a wine that is smooth...</td>\n",
       "      <td>Avidagos</td>\n",
       "      <td>87</td>\n",
       "      <td>15.0</td>\n",
       "      <td>Douro</td>\n",
       "      <td>NaN</td>\n",
       "      <td>NaN</td>\n",
       "      <td>Roger Voss</td>\n",
       "      <td>@vossroger</td>\n",
       "      <td>Quinta dos Avidagos 2011 Avidagos Red (Douro)</td>\n",
       "      <td>Portuguese Red</td>\n",
       "      <td>Quinta dos Avidagos</td>\n",
       "    </tr>\n",
       "    <tr>\n",
       "      <th>2</th>\n",
       "      <td>2</td>\n",
       "      <td>US</td>\n",
       "      <td>Tart and snappy, the flavors of lime flesh and...</td>\n",
       "      <td>NaN</td>\n",
       "      <td>87</td>\n",
       "      <td>14.0</td>\n",
       "      <td>Oregon</td>\n",
       "      <td>Willamette Valley</td>\n",
       "      <td>Willamette Valley</td>\n",
       "      <td>Paul Gregutt</td>\n",
       "      <td>@paulgwine</td>\n",
       "      <td>Rainstorm 2013 Pinot Gris (Willamette Valley)</td>\n",
       "      <td>Pinot Gris</td>\n",
       "      <td>Rainstorm</td>\n",
       "    </tr>\n",
       "    <tr>\n",
       "      <th>3</th>\n",
       "      <td>3</td>\n",
       "      <td>US</td>\n",
       "      <td>Pineapple rind, lemon pith and orange blossom ...</td>\n",
       "      <td>Reserve Late Harvest</td>\n",
       "      <td>87</td>\n",
       "      <td>13.0</td>\n",
       "      <td>Michigan</td>\n",
       "      <td>Lake Michigan Shore</td>\n",
       "      <td>NaN</td>\n",
       "      <td>Alexander Peartree</td>\n",
       "      <td>NaN</td>\n",
       "      <td>St. Julian 2013 Reserve Late Harvest Riesling ...</td>\n",
       "      <td>Riesling</td>\n",
       "      <td>St. Julian</td>\n",
       "    </tr>\n",
       "  </tbody>\n",
       "</table>\n",
       "</div>"
      ],
      "text/plain": [
       "   Unnamed: 0   country                                        description  \\\n",
       "1           1  Portugal  This is ripe and fruity, a wine that is smooth...   \n",
       "2           2        US  Tart and snappy, the flavors of lime flesh and...   \n",
       "3           3        US  Pineapple rind, lemon pith and orange blossom ...   \n",
       "\n",
       "            designation  points  price  province             region_1  \\\n",
       "1              Avidagos      87   15.0     Douro                  NaN   \n",
       "2                   NaN      87   14.0    Oregon    Willamette Valley   \n",
       "3  Reserve Late Harvest      87   13.0  Michigan  Lake Michigan Shore   \n",
       "\n",
       "            region_2         taster_name taster_twitter_handle  \\\n",
       "1                NaN          Roger Voss            @vossroger   \n",
       "2  Willamette Valley        Paul Gregutt           @paulgwine    \n",
       "3                NaN  Alexander Peartree                   NaN   \n",
       "\n",
       "                                               title         variety  \\\n",
       "1      Quinta dos Avidagos 2011 Avidagos Red (Douro)  Portuguese Red   \n",
       "2      Rainstorm 2013 Pinot Gris (Willamette Valley)      Pinot Gris   \n",
       "3  St. Julian 2013 Reserve Late Harvest Riesling ...        Riesling   \n",
       "\n",
       "                winery  \n",
       "1  Quinta dos Avidagos  \n",
       "2            Rainstorm  \n",
       "3           St. Julian  "
      ]
     },
     "execution_count": 91,
     "metadata": {},
     "output_type": "execute_result"
    }
   ],
   "source": [
    "df.loc[df.price.notnull()].head(3)"
   ]
  },
  {
   "cell_type": "markdown",
   "id": "ab7deb78",
   "metadata": {},
   "source": [
    "\n",
    "## 5. Add data using `.loc[]`"
   ]
  },
  {
   "cell_type": "code",
   "execution_count": 97,
   "id": "5d0dbe22",
   "metadata": {},
   "outputs": [
    {
     "data": {
      "text/html": [
       "<div>\n",
       "<style scoped>\n",
       "    .dataframe tbody tr th:only-of-type {\n",
       "        vertical-align: middle;\n",
       "    }\n",
       "\n",
       "    .dataframe tbody tr th {\n",
       "        vertical-align: top;\n",
       "    }\n",
       "\n",
       "    .dataframe thead th {\n",
       "        text-align: right;\n",
       "    }\n",
       "</style>\n",
       "<table border=\"1\" class=\"dataframe\">\n",
       "  <thead>\n",
       "    <tr style=\"text-align: right;\">\n",
       "      <th></th>\n",
       "      <th>price</th>\n",
       "      <th>new_price</th>\n",
       "    </tr>\n",
       "  </thead>\n",
       "  <tbody>\n",
       "    <tr>\n",
       "      <th>0</th>\n",
       "      <td>NaN</td>\n",
       "      <td>NaN</td>\n",
       "    </tr>\n",
       "    <tr>\n",
       "      <th>1</th>\n",
       "      <td>15.0</td>\n",
       "      <td>12.0</td>\n",
       "    </tr>\n",
       "    <tr>\n",
       "      <th>2</th>\n",
       "      <td>14.0</td>\n",
       "      <td>11.2</td>\n",
       "    </tr>\n",
       "  </tbody>\n",
       "</table>\n",
       "</div>"
      ],
      "text/plain": [
       "   price  new_price\n",
       "0    NaN        NaN\n",
       "1   15.0       12.0\n",
       "2   14.0       11.2"
      ]
     },
     "execution_count": 97,
     "metadata": {},
     "output_type": "execute_result"
    }
   ],
   "source": [
    "df['new_price']=df['price']*0.8\n",
    "df[['price','new_price']].head(3)"
   ]
  },
  {
   "cell_type": "markdown",
   "id": "16bf8739",
   "metadata": {},
   "source": [
    "## 6. Delet data using `.drop(labels,axis=0/1)`  0:row, 1:col."
   ]
  },
  {
   "cell_type": "markdown",
   "id": "3344b726",
   "metadata": {},
   "source": [
    "\n",
    "\n",
    "# 2. Summary Funtions and Maps"
   ]
  },
  {
   "cell_type": "markdown",
   "id": "0298657b",
   "metadata": {},
   "source": [
    "## 1. Summary function\n",
    "\n",
    "<big>`.describe()` return the high-level summary of one or more columns.  \n",
    "`.mean()` return the mean of a series of num  \n",
    "`.unique()` to see a list of unique values \n",
    "`.value_counts()` return the counts of specified col</big>\n"
   ]
  },
  {
   "cell_type": "code",
   "execution_count": 6,
   "id": "05e4fe5f",
   "metadata": {},
   "outputs": [
    {
     "data": {
      "text/plain": [
       "count    120975.000000\n",
       "mean         35.363389\n",
       "std          41.022218\n",
       "min           4.000000\n",
       "25%          17.000000\n",
       "50%          25.000000\n",
       "75%          42.000000\n",
       "max        3300.000000\n",
       "Name: price, dtype: float64"
      ]
     },
     "execution_count": 6,
     "metadata": {},
     "output_type": "execute_result"
    }
   ],
   "source": [
    "df.price.describe()  #for numbs"
   ]
  },
  {
   "cell_type": "code",
   "execution_count": 5,
   "id": "29077d21",
   "metadata": {},
   "outputs": [
    {
     "data": {
      "text/plain": [
       "count     129908\n",
       "unique        43\n",
       "top           US\n",
       "freq       54504\n",
       "Name: country, dtype: object"
      ]
     },
     "execution_count": 5,
     "metadata": {},
     "output_type": "execute_result"
    }
   ],
   "source": [
    "df.country.describe()  #for strings"
   ]
  },
  {
   "cell_type": "code",
   "execution_count": 7,
   "id": "3b9018c5",
   "metadata": {},
   "outputs": [
    {
     "data": {
      "text/plain": [
       "88.44713820775404"
      ]
     },
     "execution_count": 7,
     "metadata": {},
     "output_type": "execute_result"
    }
   ],
   "source": [
    "df.points.mean()"
   ]
  },
  {
   "cell_type": "code",
   "execution_count": 12,
   "id": "326bcde7",
   "metadata": {},
   "outputs": [
    {
     "data": {
      "text/plain": [
       "array(['Italy', 'Portugal', 'US', 'Spain', 'France', 'Germany',\n",
       "       'Argentina', 'Chile', 'Australia', 'Austria'], dtype=object)"
      ]
     },
     "execution_count": 12,
     "metadata": {},
     "output_type": "execute_result"
    }
   ],
   "source": [
    "df['country'].unique()[0:10]"
   ]
  },
  {
   "cell_type": "code",
   "execution_count": 16,
   "id": "983fd4db",
   "metadata": {},
   "outputs": [
    {
     "data": {
      "text/plain": [
       "US          54504\n",
       "France      22093\n",
       "Italy       19540\n",
       "Spain        6645\n",
       "Portugal     5691\n",
       "Name: country, dtype: int64"
      ]
     },
     "execution_count": 16,
     "metadata": {},
     "output_type": "execute_result"
    }
   ],
   "source": [
    "df.country.value_counts()[0:5]"
   ]
  },
  {
   "cell_type": "markdown",
   "id": "397fa900",
   "metadata": {},
   "source": [
    "  <big>`idxmax()` returns the index of max value in specified columns  </big>  \n",
    "  try to find the most_bargain wine (using 'title')---> highest points-price ratio"
   ]
  },
  {
   "cell_type": "code",
   "execution_count": 46,
   "id": "e19c784f",
   "metadata": {},
   "outputs": [
    {
     "data": {
      "text/plain": [
       "'Bandit NV Merlot (California)'"
      ]
     },
     "execution_count": 46,
     "metadata": {},
     "output_type": "execute_result"
    }
   ],
   "source": [
    "bargain_idx=(df.points/df.price).idxmax()\n",
    "bargain_wine=df.loc[bargain_idx,'title']\n",
    "bargain_wine"
   ]
  },
  {
   "cell_type": "markdown",
   "id": "e486cdc2",
   "metadata": {},
   "source": [
    "## 2. Mapping\n",
    "\n",
    "<big>`map(function, sequence)` can be a function or a method, the result is same.</big>\n",
    "\n",
    "<big>`new_series=dataframe['col_name'].map(function)`  using `.map()` apply the function to the specified column and store it in the new_series\n",
    "** THE funtion can be defined by `def` or using simple annonymous function:`lambda arg: expression`    \n",
    "\n",
    "`.apply(function,axis=)`, axis='columns'表示按行使用function； axis=‘rows’表示按列使用function\n",
    "  \n",
    "Note that map() and apply() return new, transformed Series and DataFrames, respectively. They don't modify the original data they're called on. If we look at the first row of reviews, we can see that it still has its original points value.</big>"
   ]
  },
  {
   "cell_type": "code",
   "execution_count": 27,
   "id": "91f2c644",
   "metadata": {},
   "outputs": [
    {
     "data": {
      "text/plain": [
       "0          NaN\n",
       "1   -20.363389\n",
       "2   -21.363389\n",
       "3   -22.363389\n",
       "4    29.636611\n",
       "Name: price, dtype: float64"
      ]
     },
     "execution_count": 27,
     "metadata": {},
     "output_type": "execute_result"
    }
   ],
   "source": [
    "mean_price=df.price.mean() #35.36\n",
    "df.price.map(lambda x:x-mean_price).head()  # 对price每行都计算该行`price - mean_price`"
   ]
  },
  {
   "cell_type": "code",
   "execution_count": 36,
   "id": "08e60b6d",
   "metadata": {},
   "outputs": [
    {
     "data": {
      "text/plain": [
       "0          NaN\n",
       "1   -20.363389\n",
       "2   -21.363389\n",
       "3   -22.363389\n",
       "4    29.636611\n",
       "Name: price, dtype: float64"
      ]
     },
     "execution_count": 36,
     "metadata": {},
     "output_type": "execute_result"
    }
   ],
   "source": [
    "def remean_price(row):\n",
    "    row.price = row.price - mean_price\n",
    "    return row\n",
    "df.apply(remean_price, axis='columns')['price'].head() #返回一个新的dataframe，且其中points列被修改为减去mean_points后的值"
   ]
  },
  {
   "cell_type": "code",
   "execution_count": 39,
   "id": "17d2c1a4",
   "metadata": {},
   "outputs": [
    {
     "data": {
      "text/plain": [
       "0          NaN\n",
       "1   -20.363389\n",
       "2   -21.363389\n",
       "3   -22.363389\n",
       "4    29.636611\n",
       "Name: price, dtype: float64"
      ]
     },
     "execution_count": 39,
     "metadata": {},
     "output_type": "execute_result"
    }
   ],
   "source": [
    "# a faster way to show the mean price for each row\n",
    "mean_price=df.price.mean()\n",
    "(df.price-mean_price)[0:5]"
   ]
  },
  {
   "cell_type": "code",
   "execution_count": 42,
   "id": "ce36f200",
   "metadata": {},
   "outputs": [
    {
     "data": {
      "text/plain": [
       "0                Italy : Etna\n",
       "1                         NaN\n",
       "2      US : Willamette Valley\n",
       "3    US : Lake Michigan Shore\n",
       "4      US : Willamette Valley\n",
       "dtype: object"
      ]
     },
     "execution_count": 42,
     "metadata": {},
     "output_type": "execute_result"
    }
   ],
   "source": [
    "# an easy way of combining two string columns\n",
    "(df.country + ' : ' + df.region_1)[0:5]"
   ]
  },
  {
   "cell_type": "markdown",
   "id": "e53d6907",
   "metadata": {},
   "source": [
    "<big>EX1:`.map()`</big>\n",
    "\n",
    "Create a Series `descriptor_counts` counting how many times each of these two words appears in the `description` column in the dataset. (For simplicity, let's ignore the capitalized versions of these words.)  \n",
    " \n",
    " Hint: Use a map to check each description for the string tropical, then count up the number of times this is True. Repeat this for fruity. Finally, create a Series combining the two values.\n",
    "\n"
   ]
  },
  {
   "cell_type": "code",
   "execution_count": 55,
   "id": "688fe03e",
   "metadata": {
    "scrolled": true
   },
   "outputs": [
    {
     "name": "stdout",
     "output_type": "stream",
     "text": [
      "0     True\n",
      "1    False\n",
      "2    False\n",
      "3    False\n",
      "4    False\n",
      "Name: description, dtype: bool\n",
      "3607\n"
     ]
    },
    {
     "data": {
      "text/plain": [
       "tropical    3607\n",
       "fruity      9090\n",
       "dtype: int64"
      ]
     },
     "execution_count": 55,
     "metadata": {},
     "output_type": "execute_result"
    }
   ],
   "source": [
    "tropical=df.description.map(lambda desc:'tropical' in desc)\n",
    "fruity=df.description.map(lambda desc:'fruity' in desc)\n",
    "print(tropical.head()) # a Bool sereies\n",
    "print(tropical.sum()) # if true-->count+1\n",
    "\n",
    "count_tropical=tropical.sum()\n",
    "count_fruity=fruity.sum()\n",
    "\n",
    "description_counts = pd.Series([count_tropical,count_fruity],index=['tropical','fruity'])\n",
    "description_counts"
   ]
  },
  {
   "cell_type": "markdown",
   "id": "8a0f9418",
   "metadata": {},
   "source": [
    "<big>EX2:`.apply()`</big>\n",
    "\n",
    "A score of 95 or higher counts as 3 stars, a score of at least 85 but less than 95 is 2 stars. Any other score is 1 star.\n",
    "\n",
    "Also, the Canadian Vintners Association bought a lot of ads on the site, so any wines from Canada should automatically get 3 stars, regardless of points.\n",
    "\n",
    "Create a series star_ratings with the number of stars corresponding to each review in the dataset."
   ]
  },
  {
   "cell_type": "code",
   "execution_count": 82,
   "id": "dbd55c56",
   "metadata": {},
   "outputs": [
    {
     "data": {
      "text/plain": [
       "0         2\n",
       "1         2\n",
       "2         2\n",
       "3         2\n",
       "4         2\n",
       "         ..\n",
       "129966    2\n",
       "129967    2\n",
       "129968    2\n",
       "129969    2\n",
       "129970    2\n",
       "Length: 129971, dtype: int64"
      ]
     },
     "execution_count": 82,
     "metadata": {},
     "output_type": "execute_result"
    }
   ],
   "source": [
    "def stars(row):\n",
    "    if row.country == 'Canada':\n",
    "        return 3\n",
    "    elif row.points >= 95:\n",
    "        return 3\n",
    "    elif row.points >= 85:\n",
    "        return 2\n",
    "    else:\n",
    "        return 1\n",
    "\n",
    "star_ratings = df.apply(stars, axis='columns')\n",
    "star_ratings"
   ]
  }
 ],
 "metadata": {
  "kernelspec": {
   "display_name": "Python 3 (ipykernel)",
   "language": "python",
   "name": "python3"
  },
  "language_info": {
   "codemirror_mode": {
    "name": "ipython",
    "version": 3
   },
   "file_extension": ".py",
   "mimetype": "text/x-python",
   "name": "python",
   "nbconvert_exporter": "python",
   "pygments_lexer": "ipython3",
   "version": "3.9.12"
  }
 },
 "nbformat": 4,
 "nbformat_minor": 5
}
