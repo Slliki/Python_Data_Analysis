{
 "cells": [
  {
   "cell_type": "markdown",
   "source": [
    "# Feature Engineering\n",
    "\n",
    "## 特征工程的目标\n",
    "\n",
    "特征工程的目标很简单：就是为了使您的数据更适合机器学习模型的特征。这可能意味着让您的数据更易于预测，也可能意味着使您的数据更易于理解。\n",
    "\n",
    "\n",
    "你可能会进行特征工程来：\n",
    "\n",
    "- 改进模型的预测性能\n",
    "- 减少计算或数据需求\n",
    "- 提高结果的可解释性\n",
    "\n",
    "\n",
    "\n",
    "## 特征工程的方法\n",
    "- 特征转换：将特征转换为更适合模型的形式。\n",
    "    - 将分类特征转换为数字特征，比如one-hot编码\n",
    "    - 将数字特征转换为分类特征，比如分箱 binning。 \n",
    "        - `pd.cut()`用于自定义的或者等宽的区间分箱优先保证区间大小相同\n",
    "        - `pd.qcut()`用于分位数分箱优先保证每个箱子的数据量相同\n",
    "- 特征生成：从现有特征中生成新特征，使模型更容易学习\n",
    "- 特征选择：选择最有用的特征，以便减少数据和模型的开销\n",
    "\n",
    "\n",
    "\n"
   ],
   "metadata": {
    "collapsed": false
   },
   "id": "91dc73a4f99850e3"
  },
  {
   "cell_type": "code",
   "execution_count": 3,
   "outputs": [],
   "source": [
    "# import packages \n",
    "import pandas as pd\n",
    "import numpy as np\n",
    "import matplotlib.pyplot as plt\n",
    "%matplotlib inline\n",
    "import seaborn as sns"
   ],
   "metadata": {
    "collapsed": false,
    "ExecuteTime": {
     "end_time": "2023-12-12T14:22:54.944315500Z",
     "start_time": "2023-12-12T14:22:54.905999700Z"
    }
   },
   "id": "855ef3acf95c0712"
  },
  {
   "cell_type": "markdown",
   "source": [
    "# 1. BaseLine Model\n",
    "BaseLine Model是指在没有进行任何特征工程的情况下，直接使用原始数据进行建模，得到的模型称为BaseLine Model。\n",
    "一般来说，我们的目标是在BaseLine Model的基础上，通过特征工程，使得模型的效果有所提升。\n",
    "\n",
    "Baseline Model一般使用最简单的模型，比如线性回归、逻辑回归、决策树等等。当模型完成后，使用一个评价指标来评价模型的效果，比如回归问题中常用的MSE、MAE、R2等，分类问题中常用的AUC、KS、F1等。\n",
    "\n",
    "在得到Baseline Model的效果后，我们就可以进行特征工程，将特征进行组合、转换、筛选等等，然后再次训练模型，得到新的模型效果。如果新的模型效果比Baseline Model的效果要好，那么说明我们的特征工程是有效的。\n",
    "\n",
    "在进行特征工程和模型优化时，是否应该保持与基线模型相同的算法，这取决于你的目标和实验设计。通常，有两种主要的方法：\n",
    "\n",
    "1. **保持相同算法，改变特征选择**：这种方法的优点在于它可以让你直接评估特征工程的效果。如果你在特征工程之后仍然使用随机森林算法，那么任何性能上的提升或下降都可以直接归因于新特征的影响。这样做有助于理解哪些特征是有用的，哪些可能不是。\n",
    "\n",
    "2. **改变算法和特征选择**：另一种方法是在特征工程之后尝试不同的算法。这种方法可以帮助你找到最适合新特征集的模型。有时，新的特征可能更适合不同类型的算法。例如，一些特征可能对某些模型（如基于树的模型）更有效，而对其他模型（如线性模型）效果不佳。\n",
    "\n",
    "在实际操作中，你可以先采用第一种方法，只改变特征选择，以评估这些新特征对模型性能的影响。一旦确定了有效的特征集，再尝试不同的算法，以找到最佳的模型配置。这种迭代方法可以帮助你更全面地理解数据，并找到最优的模型。\n"
   ],
   "metadata": {
    "collapsed": false
   },
   "id": "b1a77d98df3a6d6"
  },
  {
   "cell_type": "markdown",
   "source": [
    "# 2. Mutual Information (MI)\n",
    "当处理一个新数据集，可能有很多特征，此时我们需要构建一个`feature utility metric`，来帮助我们选择最有用的特征。这个metric可以用来衡量每个特征与目标变量之间的相关性. \n",
    "\n",
    "同时，使用MI得分可以为我们找到最有用的特征提供指导。\n",
    "\n",
    "***\n",
    "---\n",
    "## 2.1 Definition of Mutual Information\n",
    "相互信息（Mutual Information, MI）是一种衡量两个变量之间共享信息量的度量。它告诉我们一个变量包含关于另一个变量的多少信息。在数据科学和信息论中，这是一个非常重要的概念，用于理解变量之间的关系和依赖性。\n",
    "\n",
    "与相关性不同，相互信息可以捕获任何类型的依赖性，包括线性和非线性关系。它是一个非负值，如果两个变量独立，则相互信息为零。相互信息的值越大，表示两个变量之间的依赖性越强。\n",
    "\n",
    "相互信息定义为两个变量的联合分布和各自独立分布的相对熵（或称KL散度）。用公式表示：\n",
    "\n",
    "MI(X; Y) = ∑_{x ∈ X} ∑_{y ∈ Y} p(x, y) log( p(x, y) / (p(x) p(y)) )\n",
    "\n",
    "其中，\\( p(x, y) \\) 是X和Y的联合概率分布，\\( p(x) \\) 和 \\( p(y) \\) 是X和Y的边缘概率分布。\n",
    "\n",
    "相互信息的几个关键特点包括：\n",
    "1. **非负性**：相互信息的值总是非负的，即 \\( MI(X;Y) \\geq 0 \\)。\n",
    "2. **对称性**：相互信息是对称的，即 \\( MI(X;Y) = MI(Y;X) \\)。\n",
    "3. **信息量衡量**：如果X和Y独立，则 \\( MI(X;Y) = 0 \\)。这意味着一个变量对另一个变量没有提供任何信息。\n",
    "4. **应用**：在数据科学中，相互信息可以用于特征选择、建模变量间的依赖关系、信息论分析等。\n",
    "\n",
    "\n",
    "\n",
    "\n",
    "\n",
    "\n",
    "\n"
   ],
   "metadata": {
    "collapsed": false
   },
   "id": "24e375698d41b15b"
  },
  {
   "cell_type": "markdown",
   "source": [
    "## 2.2 Mutual Information for Feature Selection\n",
    "\n",
    "1. **单变量预测潜力**：\n",
    "   - 相互信息可以帮助你理解一个特征作为单独预测目标变量的相对潜力。\n",
    "   - 这意味着，如果一个特征与目标变量之间的相互信息值较高，它可能是一个好的预测因子。\n",
    "\n",
    "2. **特征间交互的局限性**：\n",
    "   - 有些特征可能在与其他特征交互时非常有信息量，但如果单独考虑可能就不那么有用。\n",
    "   - 相互信息无法检测特征之间的交互作用。它是一种单变量度量方法，只能评估单个特征与目标变量之间的信息共享程度。\n",
    "   - 这意味着即使一个特征单独看来与目标变量的相互信息低，它可能在与其他特征结合时变得重要。\n",
    "\n",
    "3. **特征的实际用途与模型的关系**：\n",
    "   - 特征的实际有效性取决于你用它的模型。一个特征只有在其与目标变量的关系是模型能够学习到的情况下才有用。\n",
    "   - 即使一个特征的相互信息得分很高，并不意味着你的模型就一定能有效地利用这些信息。\n",
    "   - 在某些情况下，可能需要先对特征进行转换（如规范化、分箱、编码等），以使其与目标的关联更明显，从而更好地被模型利用。\n",
    "\n",
    "- `mutual_info_classif`：用于分类问题, 评估离散目标变量\n",
    "- `mutual_info_regression`：用于回归问题, 评估连续目标变量\n",
    "\n",
    "得到MI Scores后，可以绘制成barplot，以便于观察特征的重要性。"
   ],
   "metadata": {
    "collapsed": false
   },
   "id": "1a0ad085f7d2e97"
  },
  {
   "cell_type": "code",
   "execution_count": 39,
   "outputs": [
    {
     "name": "stdout",
     "output_type": "stream",
     "text": [
      "feature2    0.005029\n",
      "feature1    0.000000\n",
      "feature3    0.000000\n",
      "Name: MI Scores (Classif), dtype: float64\n",
      "feature1    0.173375\n",
      "feature2    0.015219\n",
      "feature3    0.000000\n",
      "Name: MI Scores (Regress), dtype: float64\n"
     ]
    }
   ],
   "source": [
    "from sklearn.feature_selection import mutual_info_classif, mutual_info_regression\n",
    "\n",
    "# 生成一些模拟数据\n",
    "np.random.seed(0)\n",
    "\n",
    "# 离散特征\n",
    "X_classif = pd.DataFrame({'feature1': np.random.randint(0, 4, 100),\n",
    "                          'feature2': np.random.randint(0, 3, 100),\n",
    "                          'feature3': np.random.rand(100)})\n",
    "y_classif = np.random.randint(0, 2, 100)  # 二分类目标变量\n",
    "\n",
    "# 连续特征\n",
    "X_regress = pd.DataFrame({'feature1': np.random.rand(100),\n",
    "                          'feature2': np.random.rand(100),\n",
    "                          'feature3': np.random.randint(0, 5, 100)})\n",
    "y_regress = np.random.rand(100) * 100  # 连续目标变量\n",
    "\n",
    "# 使用 mutual_info_classif\n",
    "mi_scores_classif = mutual_info_classif(X_classif, y_classif)\n",
    "mi_scores_classif = pd.Series(mi_scores_classif, index=X_classif.columns, name=\"MI Scores (Classif)\")\n",
    "mi_scores_classif = mi_scores_classif.sort_values(ascending=False)\n",
    "\n",
    "# 使用 mutual_info_regression\n",
    "mi_scores_regress = mutual_info_regression(X_regress, y_regress)\n",
    "mi_scores_regress = pd.Series(mi_scores_regress, index=X_regress.columns, name=\"MI Scores (Regress)\")\n",
    "mi_scores_regress = mi_scores_regress.sort_values(ascending=False)\n",
    "\n",
    "print(mi_scores_classif)\n",
    "print(mi_scores_regress)\n",
    "\n"
   ],
   "metadata": {
    "collapsed": false,
    "ExecuteTime": {
     "end_time": "2023-12-11T23:50:14.365202300Z",
     "start_time": "2023-12-11T23:50:14.295617500Z"
    }
   },
   "id": "3f54c24881173d58"
  },
  {
   "cell_type": "markdown",
   "source": [
    "将生成MI并转换成降序Series的函数以及绘制barplot的函数分别封装起来，方便后续使用。"
   ],
   "metadata": {
    "collapsed": false
   },
   "id": "f692616f46335c55"
  },
  {
   "cell_type": "code",
   "execution_count": 40,
   "outputs": [],
   "source": [
    "# 生成MI并转换成降序Series\n",
    "def make_mi_scores(X, y):\n",
    "    X = X.copy()\n",
    "    for colname in X.select_dtypes([\"object\", \"category\"]):\n",
    "        X[colname], _ = X[colname].factorize()\n",
    "    # All discrete features should now have integer dtypes\n",
    "    discrete_features = [pd.api.types.is_integer_dtype(t) for t in X.dtypes]\n",
    "    mi_scores = mutual_info_regression(X, y, discrete_features=discrete_features, random_state=0)\n",
    "    mi_scores = pd.Series(mi_scores, name=\"MI Scores\", index=X.columns)\n",
    "    mi_scores = mi_scores.sort_values(ascending=False)\n",
    "    return mi_scores\n",
    "\n",
    "# 绘制barplot\n",
    "def plot_mi_scores(scores):\n",
    "    scores = scores.sort_values(ascending=True)\n",
    "    width = np.arange(len(scores))\n",
    "    ticks = list(scores.index)\n",
    "    plt.barh(width, scores) # plt.barh()绘制水平条形图\n",
    "    plt.yticks(width, ticks)\n",
    "    plt.title(\"Mutual Information Scores\")"
   ],
   "metadata": {
    "collapsed": false,
    "ExecuteTime": {
     "end_time": "2023-12-11T23:50:14.389170300Z",
     "start_time": "2023-12-11T23:50:14.357201600Z"
    }
   },
   "id": "6f9bb47e8d6b911"
  },
  {
   "cell_type": "markdown",
   "source": [
    "## 2.3 Discrete and Continuous Features\n",
    "\n",
    "1. **离散特征与连续特征的不同处理**：\n",
    "   - 在scikit-learn中，用于计算相互信息的算法会根据特征是离散的还是连续的来采用不同的处理方式。\n",
    "   - 离散特征和连续特征在信息量的计算和统计性质上有所不同，因此需要不同的方法来处理。\n",
    "\n",
    "2. **如何识别离散和连续特征**：\n",
    "   - 作为一个经验法则，任何具有浮点数（`float`）数据类型的特征都被视为非离散（即连续特征）。\n",
    "   - 而分类特征，通常是对象（`object`）或分类（`categorical`）数据类型，可以通过给它们进行`编码`来作为离散特征处理。\n",
    "\n",
    "3. **标签编码 Label encoding**：\n",
    "   - 标签编码是一种将分类数据转换为数值形式的方法，这使得算法能够更有效地处理这些数据。\n",
    "   - 在标签编码中，每个类别都被赋予一个唯一的整数值。例如，如果有一个分类特征有三个类别“红色”、“蓝色”和“绿色”，它们可能分别被编码为0、1和2。\n",
    "\n",
    "4. **独热编码 One-Hot encoding**：\n",
    "   - 独热编码是一种将分类数据转换为数值形式的方法，这使得算法能够更有效地处理这些数据。\n",
    "   - 在独热编码中，为每一个类别创建一个新的二进制列，用0和1表示该类别是否出现。\n",
    "   - 例如，如果有一个分类特征有三个类别“红色”、“蓝色”和“绿色”，它们可能分别被编码为[1,0,0]、[0,1,0]和[0,0,1]。"
   ],
   "metadata": {
    "collapsed": false
   },
   "id": "32a6ea4e5fb29c2c"
  },
  {
   "cell_type": "code",
   "execution_count": 38,
   "outputs": [
    {
     "name": "stdout",
     "output_type": "stream",
     "text": [
      "   Color Size  SizeEncoded\n",
      "0    Red    S            2\n",
      "1   Blue    M            1\n",
      "2  Green    L            0\n",
      "3   Blue   XL            3\n",
      "4    Red    S            2\n"
     ]
    }
   ],
   "source": [
    "# LabelEncoder用于标签编码\n",
    "from sklearn.preprocessing import OneHotEncoder, LabelEncoder\n",
    "# 创建一个示例数据框\n",
    "df = pd.DataFrame({\n",
    "    'Color': ['Red', 'Blue', 'Green', 'Blue', 'Red'],\n",
    "    'Size': ['S', 'M', 'L', 'XL', 'S']\n",
    "})\n",
    "\n",
    "# LabelEncoder用于标签编码\n",
    "# 创建LabelEncoder对象\n",
    "label_encoder = LabelEncoder()\n",
    "# 对'Size'列进行标签编码\n",
    "df['SizeEncoded'] = label_encoder.fit_transform(df['Size'])\n",
    "print(df)"
   ],
   "metadata": {
    "collapsed": false,
    "ExecuteTime": {
     "end_time": "2023-12-11T23:50:14.310712900Z",
     "start_time": "2023-12-11T23:50:14.280367400Z"
    }
   },
   "id": "16331e0e3c93d3a7"
  },
  {
   "cell_type": "code",
   "execution_count": 37,
   "outputs": [
    {
     "name": "stdout",
     "output_type": "stream",
     "text": [
      "   Color Size  Color_Blue  Color_Green  Color_Red\n",
      "0    Red    S         0.0          0.0        1.0\n",
      "1   Blue    M         1.0          0.0        0.0\n",
      "2  Green    L         0.0          1.0        0.0\n",
      "3   Blue   XL         1.0          0.0        0.0\n",
      "4    Red    S         0.0          0.0        1.0\n"
     ]
    }
   ],
   "source": [
    "# OneHotEncoder用于独热编码\n",
    "\n",
    "\n",
    "# 创建一个示例数据框\n",
    "df = pd.DataFrame({\n",
    "    'Color': ['Red', 'Blue', 'Green', 'Blue', 'Red'],\n",
    "    'Size': ['S', 'M', 'L', 'XL', 'S']\n",
    "})\n",
    "\n",
    "# OneHotEncoder用于独热编码\n",
    "# 创建OneHotEncoder对象，设置sparse=False以返回一个数组而不是稀疏矩阵\n",
    "encoder = OneHotEncoder(sparse=False)\n",
    "# 对'Color'列进行独热编码，得到numpy数组\n",
    "encoded_colors = encoder.fit_transform(df[['Color']])\n",
    "\n",
    "# print('encoded_colors:\\n',encoded_colors)\n",
    "# encoded_colors:\n",
    "#  [[0. 0. 1.]\n",
    "#  [1. 0. 0.]\n",
    "#  [0. 1. 0.]\n",
    "#  [1. 0. 0.]\n",
    "#  [0. 0. 1.]]\n",
    "\n",
    "# 将独热编码的结果转换为数据框，添加到原数据框中\n",
    "df_encoded = pd.concat([df, pd.DataFrame(encoded_colors, columns=encoder.get_feature_names_out())], axis=1)\n",
    "# 独热编码的结果是一个numpy数组，不能直接添加到数据框中,需要先转换为数据框\n",
    "# encoder.get_feature_names_out()用于获取独热编码后的列名\n",
    "print(df_encoded)\n"
   ],
   "metadata": {
    "collapsed": false,
    "ExecuteTime": {
     "end_time": "2023-12-11T23:50:14.278303900Z",
     "start_time": "2023-12-11T23:50:14.234185300Z"
    }
   },
   "id": "7383c0c0d7a6cb25"
  },
  {
   "cell_type": "markdown",
   "source": [
    "# 3. Create Features\n",
    "## 3.1 Mathematical Transformations\n",
    "即数学变换，比如对数、指数、平方、比例等等，将几个原始特征进行数学变换，得到新的特征。\n",
    "   - 可以使用可视化来找出数学变换的方法，比如当特征分布出现偏态时，可以使用对数变换来使其更加接近正态分布。\n",
    "   - 对数变换：需要注意原始特征中不能有0或负数，因此需要先对原始特征进行平移或缩放。比如，如果特征中有0，可以先对特征加上一个较小的常数，比如0.001，然后再进行对数变换。或者使用`np.log1p()`函数，它表示log(1+x)，可以避免对0进行对数变换。\n",
    "   - Box-Cox变换：一种更通用的数学变换方法，它可以处理任何类型的分布。它的原理是通过使用不同的指数来处理数据，从而使数据更加接近正态分布。Box-Cox变换的一个重要限制是它只能用于正值数据。因此，如果数据包含负值，则需要先对数据进行平移或缩放，使其所有值都为正值。Box-Cox变换的另一个限制是它的指数参数λ必须是任意实数。这意味着你需要尝试不同的值来找到最佳的转换。"
   ],
   "metadata": {
    "collapsed": false
   },
   "id": "2653c0a5cbe9f4ad"
  },
  {
   "cell_type": "code",
   "execution_count": 41,
   "outputs": [
    {
     "data": {
      "text/plain": "<Figure size 1400x600 with 2 Axes>",
      "image/png": "[encoded data removed]"
     },
     "metadata": {},
     "output_type": "display_data"
    }
   ],
   "source": [
    "# 创建一个假设的风速数据集，其中包含100个正值\n",
    "np.random.seed(0)\n",
    "wind_speed = np.random.lognormal(mean=2, sigma=0.4, size=1000) # 生成一个对数正态分布的数据集，存在左偏，需要进行对数变换\n",
    "\n",
    "# 创建一个DataFrame来存储风速及其对数转换的值\n",
    "wind_df = pd.DataFrame({'WindSpeed': wind_speed,\n",
    "                        'LogWindSpeed': np.log1p(wind_speed)})\n",
    "\n",
    "# 绘制原始风速的分布\n",
    "plt.figure(figsize=(14, 6))\n",
    "plt.subplot(1, 2, 1)\n",
    "sns.kdeplot(wind_df['WindSpeed'], fill=True)\n",
    "plt.title('Original Wind Speed Distribution')\n",
    "\n",
    "# 绘制对数转换后风速的分布\n",
    "plt.subplot(1, 2, 2)\n",
    "sns.kdeplot(wind_df['LogWindSpeed'], fill=True)\n",
    "plt.title('Log-transformed Wind Speed Distribution')\n",
    "\n",
    "plt.tight_layout()\n",
    "plt.show()\n"
   ],
   "metadata": {
    "collapsed": false,
    "ExecuteTime": {
     "end_time": "2023-12-11T23:50:14.677405800Z",
     "start_time": "2023-12-11T23:50:14.367712Z"
    }
   },
   "id": "9033a8df1f0a1c74"
  },
  {
   "cell_type": "markdown",
   "source": [
    "## 3.2 Counts\n",
    "用于聚合多个二元特征并创建一个计数特征，这种类型的特征表示某事物的存在（标记为1或True）或缺失（标记为0或False）。\n",
    "\n",
    "这种方法的优势是能够将多个相关的二元特征简化为一个数值特征，这对于模型训练可能是有益的，因为它减少了特征的数量，同时保留了关键信息。\n",
    "\n",
    "在此示例中，这些特征用于描述交通事故数据集中是否有某些道路对象（如十字路口、铁路道口等）靠近事故现场。"
   ],
   "metadata": {
    "collapsed": false
   },
   "id": "1bcdc5cc069bb7ee"
  },
  {
   "cell_type": "code",
   "execution_count": 42,
   "outputs": [
    {
     "data": {
      "text/plain": "   Amenity   Bump  Crossing  GiveWay  Junction  NoExit  Railway  Roundabout  \\\n0    False  False     False    False     False   False    False       False   \n1    False  False     False    False     False    True    False       False   \n2     True  False     False    False     False   False    False       False   \n3    False  False     False    False      True   False    False       False   \n4     True  False      True    False     False   False    False       False   \n\n   Station   Stop  TrafficCalming  TrafficSignal  RoadwayFeatures  \n0    False  False           False          False                0  \n1    False  False           False           True                2  \n2     True  False           False          False                2  \n3    False  False           False          False                1  \n4    False  False           False          False                2  ",
      "text/html": "<div>\n<style scoped>\n    .dataframe tbody tr th:only-of-type {\n        vertical-align: middle;\n    }\n\n    .dataframe tbody tr th {\n        vertical-align: top;\n    }\n\n    .dataframe thead th {\n        text-align: right;\n    }\n</style>\n<table border=\"1\" class=\"dataframe\">\n  <thead>\n    <tr style=\"text-align: right;\">\n      <th></th>\n      <th>Amenity</th>\n      <th>Bump</th>\n      <th>Crossing</th>\n      <th>GiveWay</th>\n      <th>Junction</th>\n      <th>NoExit</th>\n      <th>Railway</th>\n      <th>Roundabout</th>\n      <th>Station</th>\n      <th>Stop</th>\n      <th>TrafficCalming</th>\n      <th>TrafficSignal</th>\n      <th>RoadwayFeatures</th>\n    </tr>\n  </thead>\n  <tbody>\n    <tr>\n      <th>0</th>\n      <td>False</td>\n      <td>False</td>\n      <td>False</td>\n      <td>False</td>\n      <td>False</td>\n      <td>False</td>\n      <td>False</td>\n      <td>False</td>\n      <td>False</td>\n      <td>False</td>\n      <td>False</td>\n      <td>False</td>\n      <td>0</td>\n    </tr>\n    <tr>\n      <th>1</th>\n      <td>False</td>\n      <td>False</td>\n      <td>False</td>\n      <td>False</td>\n      <td>False</td>\n      <td>True</td>\n      <td>False</td>\n      <td>False</td>\n      <td>False</td>\n      <td>False</td>\n      <td>False</td>\n      <td>True</td>\n      <td>2</td>\n    </tr>\n    <tr>\n      <th>2</th>\n      <td>True</td>\n      <td>False</td>\n      <td>False</td>\n      <td>False</td>\n      <td>False</td>\n      <td>False</td>\n      <td>False</td>\n      <td>False</td>\n      <td>True</td>\n      <td>False</td>\n      <td>False</td>\n      <td>False</td>\n      <td>2</td>\n    </tr>\n    <tr>\n      <th>3</th>\n      <td>False</td>\n      <td>False</td>\n      <td>False</td>\n      <td>False</td>\n      <td>True</td>\n      <td>False</td>\n      <td>False</td>\n      <td>False</td>\n      <td>False</td>\n      <td>False</td>\n      <td>False</td>\n      <td>False</td>\n      <td>1</td>\n    </tr>\n    <tr>\n      <th>4</th>\n      <td>True</td>\n      <td>False</td>\n      <td>True</td>\n      <td>False</td>\n      <td>False</td>\n      <td>False</td>\n      <td>False</td>\n      <td>False</td>\n      <td>False</td>\n      <td>False</td>\n      <td>False</td>\n      <td>False</td>\n      <td>2</td>\n    </tr>\n  </tbody>\n</table>\n</div>"
     },
     "execution_count": 42,
     "metadata": {},
     "output_type": "execute_result"
    }
   ],
   "source": [
    "# 假设的交通事故数据集\n",
    "data = {\n",
    "    \"Amenity\": [False, False, True, False, True, False, False, True, False, False],\n",
    "    \"Bump\": [False, False, False, False, False, False, False, False, False, False],\n",
    "    \"Crossing\": [False, False, False, False, True, False, True, False, False, False],\n",
    "    \"GiveWay\": [False, False, False, False, False, False, False, False, True, False],\n",
    "    \"Junction\": [False, False, False, True, False, True, False, False, False, False],\n",
    "    \"NoExit\": [False, True, False, False, False, False, False, False, False, True],\n",
    "    \"Railway\": [False, False, False, False, False, False, True, False, False, False],\n",
    "    \"Roundabout\": [False, False, False, False, False, True, False, False, False, False],\n",
    "    \"Station\": [False, False, True, False, False, False, False, False, False, False],\n",
    "    \"Stop\": [False, False, False, False, False, False, False, True, False, False],\n",
    "    \"TrafficCalming\": [False, False, False, False, False, False, False, False, False, False],\n",
    "    \"TrafficSignal\": [False, True, False, False, False, False, False, False, False, False]\n",
    "}\n",
    "\n",
    "accidents = pd.DataFrame(data)\n",
    "\n",
    "# 列出所有道路特征\n",
    "roadway_features = [\"Amenity\", \"Bump\", \"Crossing\", \"GiveWay\",\n",
    "                    \"Junction\", \"NoExit\", \"Railway\", \"Roundabout\",\n",
    "                    \"Station\", \"Stop\", \"TrafficCalming\", \"TrafficSignal\"]\n",
    "\n",
    "# 计算每条记录中存在的道路特征的总数\n",
    "accidents[\"RoadwayFeatures\"] = accidents[roadway_features].sum(axis=1)\n",
    "\n",
    "# 显示数据框的前10行，最后一列为新生成的特征，表示每条记录中存在的这些道路特征的总数\n",
    "accidents.head(5)\n"
   ],
   "metadata": {
    "collapsed": false,
    "ExecuteTime": {
     "end_time": "2023-12-11T23:50:14.806411Z",
     "start_time": "2023-12-11T23:50:14.681697100Z"
    }
   },
   "id": "9d977323927b9407"
  },
  {
   "cell_type": "markdown",
   "source": [
    "## 3.3 Building-Up and Breaking-Down Features\n",
    "- **Building-Up**：将多个特征组合成一个新的特征\n",
    "- **Breaking-Down**：将一个特征分解成多个特征\n",
    "\n",
    "一般可以用str accessor来进行字符串的处理，比如使用str.split()来将一个字符串特征分解成多个特征。\n",
    "\n",
    "或者使用`str1`+`str2`来将两个字符串特征组合成一个新的特征。\n",
    "\n"
   ],
   "metadata": {
    "collapsed": false
   },
   "id": "7ebb7f0e641d070e"
  },
  {
   "cell_type": "markdown",
   "source": [
    "## 3.4 Group Transforms\n",
    "`groupby()`函数可以用于对数据进行分组，然后对每个组应用一个函数，最后将结果合并成一个数据框。\n",
    "\n",
    "在 Pandas 中，`groupby()` 后可以跟随 `apply()`, `agg()` 或 `transform()`，这些函数都用于对分组数据进行某种操作，但它们各有特点和适用场景。\n",
    "\n",
    "### 1. `apply()`\n",
    "- `apply()` 函数对每个分组应用一个函数，可以是预定义的、匿名的或自定义的函数。这个函数可以返回一个标量、系列或数据框。\n",
    "- `apply()` 是这三个函数中最灵活的，可以用于复杂的操作，如：返回多列的数据框或基于整个分组数据的计算。\n",
    "- 但是，`apply()` 通常比 `agg()` 和 `transform()` 慢，特别是在处理大数据集时。\n",
    "\n",
    "### 2. `agg()`\n",
    "- `agg()`（或 `aggregate()`）函数用于应用一个或多个聚合操作到每个分组。聚合操作返回的是每个组的单个结果（如：`sum`, `mean`, `min`, `max` 等）。\n",
    "- 使用 `agg()` 可以一次性对同一列应用多个聚合函数，或对不同列应用不同的聚合函数。\n",
    "- `agg()` 适用于当你需要对数据分组进行简单的缩减（reduction）或汇总操作时。\n",
    "\n",
    "### 3. `transform()`\n",
    "- `transform()` 函数将一个函数应用于每个分组，然后将结果放回原来的索引位置上。返回的对象与组大小相同。\n",
    "- 这对于标准化数据或填充 NaN 值非常有用，因为它允许保留数据的原始形状。\n",
    "- `transform()` 适用于需要保留输入数据形状的转换操作。\n",
    "\n",
    "每个函数都有其特定的用途，选择哪个函数取决于你的具体需求。\n",
    "\n",
    "在 Pandas 中，`apply`、`agg` 和 `transform` 的行为确实有所不同，尤其是在处理多列数据时。这些差异主要是因为它们处理聚合操作和返回结果的方式不同。\n",
    "\n",
    "1. **`apply()`**：\n",
    "   - `apply()` 函数在分组上应用传递给它的函数，并且可以返回一个标量、系列或数据框。它在分组上应用函数，就像它在一个小型的数据框上操作一样。\n",
    "   - 当使用 `lambda x: x.sum()` 时，`apply()` 对每个分组的数据框执行了 `sum()` 操作。在这个过程中，数值列被相加，而字符串列则被连接在一起，因为 `sum()` 对于字符串的默认行为是字符串连接。\n",
    "\n",
    "2. **`agg()` 和 `transform()`**：\n",
    "   - `agg()` 和 `transform()` 函数更专注于执行特定的聚合操作。当你指定 `sum` 作为聚合函数时，这两个函数只对数值列进行求和操作，并忽略非数值列。\n",
    "   - 由于 `agg()` 和 `transform()` 在执行 `sum` 时不对字符串列进行操作，因此它们不会像 `apply()` 那样将字符串连接起来。\n",
    "\n",
    "这就解释了为什么使用 `apply` 时会得到与 `agg` 和 `transform` 不同的结果。`apply` 对每个列都执行了 `sum()` 操作（包括字符串的连接），而 `agg` 和 `transform` 只对数值列执行求和。\n",
    "\n",
    "简而言之，`apply` 在处理多列数据时的行为更为通用和灵活，但这也意味着它的行为可能会与 `agg` 和 `transform` 不同，特别是在涉及到混合类型数据时（比如同时包含字符串和数字的情况）。"
   ],
   "metadata": {
    "collapsed": false
   },
   "id": "a963491502dee82"
  },
  {
   "cell_type": "code",
   "execution_count": 43,
   "outputs": [
    {
     "name": "stdout",
     "output_type": "stream",
     "text": [
      "  Category  Data\n",
      "0        A     1\n",
      "1        A     2\n",
      "2        B     3\n",
      "3        B     4\n",
      "4        C     5\n",
      "5        C     6\n",
      "\n",
      "apply:\n",
      "           Data\n",
      "Category      \n",
      "A            3\n",
      "B            7\n",
      "C           11\n",
      "\n",
      "apply2:\n",
      "          Category  Data\n",
      "Category               \n",
      "A              AA     3\n",
      "B              BB     7\n",
      "C              CC    11\n",
      "\n",
      "agg:\n",
      "           Data\n",
      "Category      \n",
      "A            3\n",
      "B            7\n",
      "C           11\n",
      "\n",
      "transform:\n",
      "    Data\n",
      "0     3\n",
      "1     3\n",
      "2     7\n",
      "3     7\n",
      "4    11\n",
      "5    11\n"
     ]
    }
   ],
   "source": [
    "df = pd.DataFrame({\n",
    "    'Category': ['A', 'A', 'B', 'B', 'C', 'C'],\n",
    "    'Data': [1, 2, 3, 4, 5, 6]\n",
    "})\n",
    "print(df)\n",
    "\n",
    "# 使用 apply()\n",
    "result_apply = df.groupby('Category').apply('sum')\n",
    "\n",
    "result2_apply= df.groupby('Category').apply(lambda x: x.sum())\n",
    "# x是包含 'Category' 和 'Data' 两个列的小数据框，对每个类别 'A', 'B', 'C' 分别进行操作。当你对这样的数据框调用 sum() 方法时，它会对所有列进行求和。\n",
    "# 对于数值列‘Data’，直接相加，得到3,7,11；对于字符串列‘Category’，进行拼接，得到AA,BB,CC\n",
    "\n",
    "# 使用 agg()\n",
    "result_agg = df.groupby('Category').agg('sum') # agg('sum')和agg(lambda x: x.sum())是等价的\n",
    "\n",
    "# 使用 transform()\n",
    "result_transform = df.groupby('Category').transform('sum') # transform('sum')和transform(lambda x: x.sum())是等价的\n",
    "\n",
    "print('\\napply:\\n',result_apply)\n",
    "print('\\napply2:\\n',result2_apply)\n",
    "print('\\nagg:\\n',result_agg)\n",
    "print('\\ntransform:\\n',result_transform)\n"
   ],
   "metadata": {
    "collapsed": false,
    "ExecuteTime": {
     "end_time": "2023-12-11T23:50:14.806411Z",
     "start_time": "2023-12-11T23:50:14.707900800Z"
    }
   },
   "id": "cb556f6c392cec02"
  },
  {
   "cell_type": "markdown",
   "source": [
    "# 4. Clustering\n",
    "Clustering是一种无监督学习方法，它将数据分成不同的组，每个组称为一个cluster。每个cluster中的数据点都有一些共同的特征，而不同的cluster之间的数据点具有不同的特征。\n",
    "在特征工程中，我们可以使用聚类来创建新的特征，这些特征可以帮助模型更好地理解数据。\n",
    "\n",
    "## 4.1 K-Means Clustering\n",
    "使用K-Means聚类算法，将数据分成K个cluster，每个cluster的中心点称为centroid。K-Means算法的目标是最小化每个数据点到其所属cluster的centroid的距离之和，这个距离一般为Euclidean距离。\n",
    "\n",
    "- `.fit_predict()`：用于训练模型并预测每个数据点所属的cluster\n",
    "- `.fit_transform()`：用于训练模型并将数据转换为每个数据点到其所属cluster的centroid的距离distance\n"
   ],
   "metadata": {
    "collapsed": false
   },
   "id": "f3941220b53f7dc4"
  },
  {
   "cell_type": "code",
   "execution_count": 92,
   "outputs": [
    {
     "name": "stdout",
     "output_type": "stream",
     "text": [
      "   Feature_1  Feature_2  Categories\n",
      "0  -7.338988  -7.729954           2\n",
      "1  -7.740041  -7.264665           2\n",
      "2  -1.686653   7.793442           0\n",
      "3   4.422198   3.071947           1\n",
      "4  -8.917752  -7.888196           2\n",
      "   Feature_1  Feature_2  Cluster_Labels\n",
      "0  -7.338988  -7.729954               1\n",
      "1  -7.740041  -7.264665               1\n",
      "2  -1.686653   7.793442               2\n",
      "3   4.422198   3.071947               0\n",
      "4  -8.917752  -7.888196               1 \n",
      "\n",
      "distance:\n",
      " [[15.522625    0.87384313 17.42111457]\n",
      " [15.55503779  0.90100321 17.08911972]\n",
      " [ 8.65069655 15.66471908  1.5680663 ]\n",
      " [ 1.10996953 15.13105904  9.24334253]\n",
      " [16.87347954  2.22581816 18.06045041]]\n"
     ]
    },
    {
     "data": {
      "text/plain": "<Figure size 640x480 with 1 Axes>",
      "image/png": "[encoded data removed]"
     },
     "metadata": {},
     "output_type": "display_data"
    }
   ],
   "source": [
    "from sklearn.cluster import KMeans\n",
    "from sklearn.datasets import make_blobs\n",
    "\n",
    "# 生成一些样本数据,make_blobs用于生成聚类数据,centers表示聚类中心的个数,n_features表示特征的个数即列数\n",
    "x, y = make_blobs(n_samples=300, centers=3, n_features=2, random_state=42)\n",
    "df=pd.DataFrame(x,columns=['Feature_1','Feature_2'])\n",
    "df['Categories']=y\n",
    "print(df.head(5))\n",
    "\n",
    "# 初始化KMeans\n",
    "kmeans = KMeans(n_clusters=3, random_state=42)\n",
    "\n",
    "# 使用fit_predict方法,得到每个数据点的聚类标签\n",
    "labels = kmeans.fit_predict(df[['Feature_1', 'Feature_2']])\n",
    "# 将聚类标签加入到数据框中\n",
    "df['Cluster_Labels'] = labels\n",
    "print(df[['Feature_1','Feature_2','Cluster_Labels']].head(5),'\\n')\n",
    "# kmeans得到的聚类标签是0,1,2,不一定与原始数据的类别标签相同,但是同一个类别的数据点的聚类标签是相同的\n",
    "\n",
    "# 使用fit_transform方法,得到每个数据点到其所属cluster的centroid的距离\n",
    "distance = kmeans.fit_transform(df[['Feature_1', 'Feature_2']])\n",
    "print('distance:\\n',distance[:5])\n",
    "\n",
    "# 绘制聚类结果\n",
    "plt.scatter(df[['Feature_1']], df[['Feature_2']], c=labels, cmap='viridis')\n",
    "plt.title(\"KMeans Clustering\")\n",
    "plt.xlabel(\"Feature 0\")\n",
    "plt.ylabel(\"Feature 1\")\n",
    "plt.show()"
   ],
   "metadata": {
    "collapsed": false,
    "ExecuteTime": {
     "end_time": "2023-12-12T01:27:06.537233700Z",
     "start_time": "2023-12-12T01:27:06.342754100Z"
    }
   },
   "id": "ed8d61a0dcca8568"
  },
  {
   "cell_type": "markdown",
   "source": [
    "## 4.2 DBSCAN Clustering\n",
    "不同于K-Means，DBSCAN是一种基于密度的聚类算法，它将数据分成不同的cluster，每个cluster的数据点具有相似的密度。\n",
    "\n",
    "DBSCAN聚类算法在处理数据时不需要指定cluster的个数，它会自动识别出数据中的cluster个数。\n",
    "\n",
    "DBSCAN 算法的工作原理如下：\n",
    "\n",
    "1. **密度的定义**：对于每个点，算法计算其邻域内的点数。邻域由一个半径 `eps` 定义，这是一个距离阈值，它确定在多大的范围内搜索其他点。\n",
    "\n",
    "2. **核心点**：如果一个点的 `eps`-邻域内有超过某个指定数量（`min_samples`）的点，那么这个点就被认为是一个核心点。这意味着它位于一个密集区域的中心。\n",
    "\n",
    "3. **直接密度可达**：如果一个点在核心点的邻域内，那么它是直接密度可达的。这些点被分配到核心点所在的聚类中。\n",
    "\n",
    "4. **密度可达**：如果有一系列的点，每个点都是直接密度可达的（从第一个核心点开始），那么聚类会扩展到这些点。\n",
    "\n",
    "5. **噪声**：不属于任何核心点邻域的点被认为是噪声。\n",
    "\n",
    "在这张图片上，通过 DBSCAN 聚类算法，那些紧密聚集在一起的点（即在 `eps` 阈值内互相邻近）被识别为聚类的一部分，而那些相对孤立的点被认为是噪声。这就是为什么我们看到不同颜色的点聚集在一起形成不同的聚类，每种颜色代表一个不同的密度聚类。"
   ],
   "metadata": {
    "collapsed": false
   },
   "id": "97d1e4c90a50285a"
  },
  {
   "cell_type": "code",
   "execution_count": 96,
   "outputs": [
    {
     "data": {
      "text/plain": "<Figure size 640x480 with 1 Axes>",
      "image/png": "[encoded data removed]"
     },
     "metadata": {},
     "output_type": "display_data"
    }
   ],
   "source": [
    "from sklearn.cluster import DBSCAN\n",
    "from sklearn.datasets import make_blobs\n",
    "\n",
    "# 生成一些模拟数据,make_moons用于生成\n",
    "X, y = make_blobs(n_samples=300, centers=3,n_features=2, random_state=42)\n",
    "\n",
    "# 初始化 DBSCAN\n",
    "dbscan = DBSCAN(eps=0.4, min_samples=5)\n",
    "\n",
    "# 拟合模型\n",
    "labels = dbscan.fit_predict(X)\n",
    "\n",
    "# 可视化结果\n",
    "plt.scatter(X[:, 0], X[:, 1], c=labels, cmap='viridis')\n",
    "plt.title(\"DBSCAN Clustering\")\n",
    "plt.xlabel(\"Feature 0\")\n",
    "plt.ylabel(\"Feature 1\")\n",
    "plt.show()"
   ],
   "metadata": {
    "collapsed": false,
    "ExecuteTime": {
     "end_time": "2023-12-12T01:31:19.490003800Z",
     "start_time": "2023-12-12T01:31:19.325824200Z"
    }
   },
   "id": "f1117a6268204d73"
  },
  {
   "cell_type": "markdown",
   "source": [
    "# 5. Principal Component Analysis (PCA)\n",
    "主成分分析（PCA）是一种无监督学习方法，它可以将数据从高维空间降维到低维空间，同时保留数据中的大部分信息。\n",
    "\n",
    "## 5.1 PCA（主成分分析）原理\n",
    "\n",
    "主成分分析（PCA）是一种统计方法，用于通过线性变换将数据转换到新的坐标系统中，使得数据在新坐标轴（主成分）上的投影方差最大。PCA的关键步骤如下：\n",
    "\n",
    "1. **标准化数据**：对数据进行标准化处理，使各个特征的均值为0，方差为1。\n",
    "2. **计算协方差矩阵**：通过数据点的标准化值计算协方差矩阵。协方差矩阵反映了数据各维度之间的相关性。\n",
    "3. **计算特征值和特征向量**：对协方差矩阵进行特征分解，得到特征值和对应的特征向量。\n",
    "4. **选择主成分**：根据特征值的大小选择最重要的几个特征向量。这些特征向量定义了新的空间，其中数据的方差最大。\n",
    "5. **数据降维**：使用选定的主成分将原始数据转换到新的空间中。\n",
    "\n",
    "### 应用场景\n",
    "\n",
    "1. **数据降维**：在处理具有大量特征的数据集时，PCA可以减少特征的数量，同时尽可能保留数据的重要信息。\n",
    "2. **噪声过滤**：去除数据中的噪声，并找出数据的主要趋势。\n",
    "3. **可视化**：将多维数据降至二维或三维，便于可视化。\n",
    "4. **特征提取和数据压缩**：在模式识别和机器学习中作为特征提取工具，有助于提高算法效率和减少计算成本。\n",
    "\n",
    "### Python 代码示例\n",
    "\n",
    "以下是一个使用Python中的`sklearn`库进行PCA的简单示例：\n",
    "\n",
    "- `PCA(n_components)`：用于指定主成分的个数，即降维后的维度.\n",
    "- `fit_transform()`：用于拟合模型并将数据转换到主成分坐标系中.\n",
    "- `components_`：用于获取主成分（特征向量）.\n",
    "- `explained_variance_ratio_`：用于获取解释的方差比例，即每个主成分解释的方差占总方差的比例.\n",
    "\n",
    "可以看到原本数据为3*2矩阵，经过PCA降维后，第二列变为一个0向量，即所有信息都可以由第一列给出。\n",
    "\n"
   ],
   "metadata": {
    "collapsed": false
   },
   "id": "16e64a041e8e4470"
  },
  {
   "cell_type": "code",
   "execution_count": 134,
   "outputs": [
    {
     "name": "stdout",
     "output_type": "stream",
     "text": [
      "原数据（三维）：\n",
      " [[1 2]\n",
      " [3 4]\n",
      " [5 6]]\n",
      "主成分（特征向量）:\n",
      " [[ 0.70710678  0.70710678]\n",
      " [ 0.70710678 -0.70710678]]\n",
      "        PC1  PC2\n",
      "0 -1.732051  0.0\n",
      "1  0.000000  0.0\n",
      "2  1.732051  0.0\n"
     ]
    }
   ],
   "source": [
    "from sklearn.decomposition import PCA\n",
    "from sklearn.preprocessing import StandardScaler\n",
    "\n",
    "# 示例数据\n",
    "X = np.array([[1, 2], [3, 4], [5, 6]])\n",
    "print('原数据（三维）：\\n',X)\n",
    "\n",
    "# 数据标准化\n",
    "scaler = StandardScaler()\n",
    "X_scaled = scaler.fit_transform(X)\n",
    "\n",
    "# 应用PCA,指定主成分的个数为2; n_components<=min(n_samples,n_features),n_samples为样本个数，即行数，n_features为特征个数，即列数\n",
    "pca = PCA(n_components=2)\n",
    "pca.fit(X_scaled)\n",
    "\n",
    "# 输出主成分\n",
    "print(\"主成分（特征向量）:\\n\", pca.components_)\n",
    "\n",
    "# 输出解释的方差比例\n",
    "# print(\"解释的方差比例:\", pca.explained_variance_ratio_)\n",
    "# 解释的方差比例: [1.00000000e+00 4.10865055e-33],第一个主成分解释了100%的方差，第二个主成分解释了0%的方差\n",
    "\n",
    "# 将数据转换到主成分坐标系\n",
    "X_pca = pca.transform(X_scaled)\n",
    "# print(\"转换后的数据:\\n\", X_pca)\n",
    "\n",
    "# 将转换后的数据转换为DataFrame，列名为PC1,PC2\n",
    "component_names = [f\"PC{i+1}\" for i in range(X_pca.shape[1])]\n",
    "X_pca = pd.DataFrame(X_pca, columns=component_names)\n",
    "print(X_pca.head())"
   ],
   "metadata": {
    "collapsed": false,
    "ExecuteTime": {
     "end_time": "2023-12-12T11:05:14.254286200Z",
     "start_time": "2023-12-12T11:05:14.223263300Z"
    }
   },
   "id": "6322b814322cad49"
  },
  {
   "cell_type": "markdown",
   "source": [
    "#### 载荷矩阵 Loadings\n",
    "载荷矩阵显示了原始特征与主成分之间的关系。pca.components_提供了一个载荷矩阵，其中的每一行对应一个主成分，每一列对应一个原始特征。这个矩阵被转置（.T），使得行变成原始特征，列变成主成分。最后，创建一个新的DataFrame loadings 来存储这个矩阵，并打印出来。\n",
    "\n",
    "载荷值（loadings）显示了每个原始特征对每个主成分的贡献程度，可以帮助理解每个主成分背后的意义。\n",
    "- 正载荷（Positive Loadings）: 当载荷为正数时，这意味着原始特征与对应的主成分正相关。即当该特征的值增加时，主成分的值也倾向于增加。\n",
    "- 负载荷（Negative Loadings）: 当载荷为负数时，表示原始特征与对应的主成分负相关。即当该特征的值增加时，主成分的值倾向于减少。"
   ],
   "metadata": {
    "collapsed": false
   },
   "id": "7399dc979ba299af"
  },
  {
   "cell_type": "code",
   "execution_count": 136,
   "outputs": [
    {
     "name": "stdout",
     "output_type": "stream",
     "text": [
      "载荷矩阵：\n",
      "                    PC1       PC2\n",
      "ori-feature1  0.707107  0.707107\n",
      "ori-feature2  0.707107 -0.707107\n"
     ]
    }
   ],
   "source": [
    "loadings = pd.DataFrame(\n",
    "    pca.components_.T,  # transpose the matrix of loadings\n",
    "    columns=component_names,  # so the columns are the principal components\n",
    "    index=['ori-feature1','ori-feature2']  # and the rows are the original features\n",
    ")\n",
    "print('载荷矩阵：\\n',loadings)"
   ],
   "metadata": {
    "collapsed": false,
    "ExecuteTime": {
     "end_time": "2023-12-12T11:06:46.850863700Z",
     "start_time": "2023-12-12T11:06:46.825085Z"
    }
   },
   "id": "fa0d07b36290881"
  },
  {
   "cell_type": "markdown",
   "source": [
    "#### 可视化主成分\n",
    "图一为解释变量的方差比例，图二为累计方差比例。"
   ],
   "metadata": {
    "collapsed": false
   },
   "id": "e98dcf4586373691"
  },
  {
   "cell_type": "code",
   "execution_count": 125,
   "outputs": [
    {
     "data": {
      "text/plain": "<Figure size 800x480 with 2 Axes>",
      "image/png": "[encoded data removed]"
     },
     "metadata": {},
     "output_type": "display_data"
    }
   ],
   "source": [
    "def plot_variance(pca, width=8, dpi=100):\n",
    "    # Create figure\n",
    "    fig, axs = plt.subplots(1, 2)\n",
    "    n = pca.n_components_\n",
    "    grid = np.arange(1, n + 1)\n",
    "    # Explained variance\n",
    "    evr = pca.explained_variance_ratio_ # 解释的方差比例\n",
    "    axs[0].bar(grid, evr)\n",
    "    axs[0].set(\n",
    "        xlabel=\"Component\", title=\"% Explained Variance\", ylim=(0.0, 1.0)\n",
    "    )\n",
    "    # Cumulative Variance\n",
    "    cv = np.cumsum(evr) # 累计方差比例，np.cumsum()函数用于累加数组中的元素\n",
    "    axs[1].plot(np.r_[0, grid], np.r_[0, cv], \"o-\")\n",
    "    axs[1].set(\n",
    "        xlabel=\"Component\", title=\"% Cumulative Variance\", ylim=(0.0, 1.0)\n",
    "    )\n",
    "    # Set up figure\n",
    "    fig.set(figwidth=8, dpi=100)\n",
    "    return axs\n",
    "\n",
    "plot_variance(pca);"
   ],
   "metadata": {
    "collapsed": false,
    "ExecuteTime": {
     "end_time": "2023-12-12T10:53:05.573876100Z",
     "start_time": "2023-12-12T10:53:05.453300300Z"
    }
   },
   "id": "66a666f99b262a59"
  },
  {
   "cell_type": "markdown",
   "source": [
    "## 5.2 PCA for Feature Engineering\n",
    "### Using Cases\n",
    "\n",
    "第一种方式是将其作为**描述性技术**使用。由于成分告诉你关于变异的信息，你可以计算主成分和目标变量的互信息（MI）得分，看看哪种类型的变异最能预测你的目标。这可能会给你一些创造特征的想法——例如，如果“大小”很重要，可以考虑“高度”和“直径”的乘积；如果“形状”重要，可以考虑“高度”和“直径”的比率。你甚至可以尝试对一个或多个高得分的成分进行聚类。\n",
    "\n",
    "第二种方式是将成分本身**作为特征**使用。因为成分直接暴露了数据的变异结构，它们往往比原始特征更有信息性。以下是一些使用案例：\n",
    "- 降维：当你的特征高度冗余（特别是多重共线性时），PCA会将冗余分配到一个或多个接近零方差的成分中，然后你可以删除这些成分，因为它们几乎不包含信息。\n",
    "- 异常检测：不寻常的变异，如果不从原始特征中明显显示出来，通常会出现在低方差成分中。在异常或离群值检测任务中，这些成分可能非常有信息性。\n",
    "- 降噪：传感器读数的集合通常会共享一些常见的背景噪声。PCA有时可以将（有信息的）信号收集到更少的特征中，同时保留噪声，从而提高信噪比。\n",
    "- 去相关：一些机器学习算法难以处理高度相关的特征。PCA将相关特征转换为不相关的成分，这可能更容易被你的算法处理。\n",
    "\n",
    "### Best Practices\n",
    "- **标准化数据**：在使用PCA之前，需要对数据进行标准化处理。\n",
    "- **使用numeric features**：PCA只能用于数值特征，因此需要将分类特征转换为数值特征。\n",
    "- **处理outliers**：PCA对outliers非常敏感，因此需要在使用PCA之前处理outliers。"
   ],
   "metadata": {
    "collapsed": false
   },
   "id": "fbb6adbda14fbd4f"
  },
  {
   "cell_type": "markdown",
   "source": [
    "# 6. Target Encoding\n",
    "目标编码是一种处理分类特征的编码技术，常用于机器学习中。它的核心思想是用某种从目标变量（如分类的标签或回归的值）中衍生出的数值来替换原始分类特征的每个类别。这种编码方法特别适用于那些类别较多的分类特征。\n",
    "\n",
    "在目标编码中，常见的操作是计算每个类别相对于目标变量的平均值。例如，在处理房价预测问题时，我们可以将“城市”这个分类特征进行目标编码，方法是计算每个城市中所有房屋的平均价格，然后用这个平均价格来替换原来的城市名称。这样，原本是名义上的分类变量就被转换成了数值型变量，其中包含了关于目标变量的有用信息。\n",
    "\n",
    "\n",
    "目标编码的优点包括：\n",
    "1. 简化模型：它将高维的分类数据转换为低维的数值数据，减少了模型的复杂性。\n",
    "2. 提高效率：数值型特征通常比原始的分类特征更容易被模型利用。\n",
    "3. 捕捉信息：目标编码可以捕捉类别特征和目标变量之间的关系。\n",
    "\n",
    "然而，目标编码也有潜在的风险，比如过拟合。特别是在类别内数据点较少的情况下，用类别平均值来代替可能导致过于依赖这些少量的数据点，从而影响模型的泛化能力。为了缓解这个问题，可以采用正则化或平滑的方法，例如加入噪声，或者与全局平均值（所有数据的目标平均）结合使用。"
   ],
   "metadata": {
    "collapsed": false
   },
   "id": "b62dc5741c5a4eb"
  },
  {
   "cell_type": "markdown",
   "source": [
    "## 6.1 目标编码的基本步骤：\n",
    "\n",
    "1. **确定目标变量和分类特征**：首先，你需要明确哪个是目标变量（比如回归问题中的房价，分类问题中的标签等），以及哪些分类特征需要进行目标编码。\n",
    "\n",
    "2. **计算每个类别的目标均值**：对于每个类别，在训练数据集中计算该类别相对于目标变量的平均值。例如，如果你正在处理一个预测房价的问题，你可能会计算每个地区的平均房价。\n",
    "\n",
    "3. **替换特征值**：将分类特征中的每个类别替换为计算出的对应目标均值。这样，原来的分类特征就被转换为数值特征。\n",
    "\n",
    "4. **处理新数据**：在将模型应用于新数据（如测试集）时，使用在训练集上计算得到的目标均值来替换类别。如果遇到训练集中未出现的新类别，或该类别只出现过很少的次数，可以使用全局平均值（所有训练数据的目标均值）作为替换。这种方法称为`Smoothing`。\n",
    "\n",
    "5. **防止过拟合**：为了避免过拟合，可以采取一些策略，比如使用交叉验证来计算目标均值，或者对均值进行平滑处理，例如与全局均值的加权平均。\n",
    "\n",
    "6. **模型训练和验证**：在目标编码处理之后，你可以使用这些转换后的特征来训练和验证你的机器学习模型。\n",
    "\n",
    "## 6.2 Using Cases：\n",
    "\n",
    "目标编码（Target Encoding）是一种特征工程技术，特别适用于以下使用情景：\n",
    "\n",
    "1. **高基数分类特征**：当分类特征具有大量类别（即高基数）时，独热编码会产生大量的特征，导致维度灾难。目标编码可以有效地将这些类别转换为有意义的数值，减少特征数量并保留重要信息。\n",
    "\n",
    "2. **类别与目标变量有强关联**：当分类特征的类别与目标变量有明显的关联性时，目标编码可以帮助模型更好地捕捉这种关系。例如，在预测房价的任务中，某些地理位置（区域、邻里）可能与房价有很强的相关性。\n",
    "\n",
    "3. **树模型优化**：虽然决策树和基于树的模型（如随机森林、梯度提升机）可以很好地处理分类特征，但目标编码可以进一步提升这类模型的性能，特别是在处理具有许多类别的特征时。\n",
    "\n",
    "4. **缺少数据或新类别处理**：对于数据集中存在未知类别或缺少数据的情况，目标编码提供了一种处理新类别的策略，即使用全局均值或其他统计量作为替代值。\n",
    "\n",
    "5. **正则化/平滑**：在类别样本数量很少的情况下，直接计算的目标均值可能会导致过拟合。目标编码允许通过平滑这些均值（如与全局均值混合）来引入正则化，从而提高模型的泛化能力。\n",
    "\n",
    "6. **处理非线性关系**：目标编码可以将非线性关系映射为线性特征，这在使用线性模型（如线性回归、逻辑回归）时尤其有用。\n",
    "\n",
    "在使用目标编码时，需要注意避免信息泄露和过拟合。合理的做法是在交叉验证的框架下进行编码，或者在训练集上计算编码值后应用到测试集，以确保模型的有效性和可靠性。"
   ],
   "metadata": {
    "collapsed": false
   },
   "id": "d6888d9673b6abcc"
  },
  {
   "cell_type": "code",
   "execution_count": 4,
   "outputs": [
    {
     "name": "stdout",
     "output_type": "stream",
     "text": [
      "Original data:\n",
      "       RM  RM_cat  MEDV\n",
      "0  6.575     7.0  24.0\n",
      "1  6.421     6.0  21.6\n",
      "2  7.185     7.0  34.7\n",
      "3  6.998     7.0  33.4\n",
      "4  7.147     7.0  36.2\n",
      "After target encoding:\n",
      "       RM  RM_cat  RM_cat_mean  MEDV\n",
      "0  6.575     7.0    28.047200  24.0\n",
      "1  6.421     6.0    19.366026  21.6\n",
      "2  7.185     7.0    28.047200  34.7\n",
      "3  6.998     7.0    28.047200  33.4\n",
      "4  7.147     7.0    28.047200  36.2\n"
     ]
    }
   ],
   "source": [
    "# 使用boston房价数据集\n",
    "from sklearn.datasets import load_boston\n",
    "\n",
    "# 加载波士顿房价数据集\n",
    "boston = load_boston()\n",
    "boston_df = pd.DataFrame(boston.data, columns=boston.feature_names)\n",
    "boston_df['MEDV'] = boston.target # 目标变量为房价中位数 'MEDV'\n",
    "\n",
    "# 一般对于分类特征才需要进行目标编码，这里为了演示，对连续型变量 'RM' 进行目标编码\n",
    "# 使用 'RM' 特征进行示例 RM为每个住宅的平均房间数，属于连续型变量 将其离散化成分类特征\n",
    "boston_df['RM_cat'] = np.round(boston_df['RM']) # np.round()函数用于四舍五入，将连续型变量转换为离散型变量\n",
    "print('Original data:\\n',boston_df[['RM', 'RM_cat', 'MEDV']].head(5))\n",
    "\n",
    "# 计算每个 'RM_cat' 类别的 'MEDV' 平均值\n",
    "# transform()函数用于将每个类别的 'MEDV' 替换为对应的目标均值,输出于每一行\n",
    "boston_df['RM_cat_mean'] = boston_df.groupby('RM_cat')['MEDV'].transform('mean') \n",
    "\n",
    "# 显示处理后的前几行数据\n",
    "print('After target encoding:\\n',boston_df[['RM', 'RM_cat','RM_cat_mean', 'MEDV']].head(5))\n"
   ],
   "metadata": {
    "collapsed": false,
    "ExecuteTime": {
     "end_time": "2023-12-12T14:23:02.499495400Z",
     "start_time": "2023-12-12T14:23:02.454831Z"
    }
   },
   "id": "c605805f6c47a5b1"
  },
  {
   "cell_type": "markdown",
   "source": [
    "## 6.3 Smoothing and Regularization\n",
    "在目标编码中，如果某个类别的样本数量很少，那么用该类别的目标均值来替换可能会导致过拟合。为了缓解这个问题，可以采用正则化或平滑的方法，例如加入噪声，或者与全局平均值（所有数据的目标平均）结合使用。\n",
    "\n",
    "使用`MEstimateEncoder`类可以实现平滑的目标编码，它的主要参数有：\n",
    "- `cols`：需要进行目标编码的特征列表. 若不指定，则默认对所有分类特征进行目标编码。\n",
    "- `m`：平滑参数，用于控制平滑的程度。m越大，平滑程度越高，对于样本数量较少的类别，其目标均值会更接近全局均值。\n",
    "- `smoothing_strategy`：平滑策略，可选值为`mean`和`median`，默认为`mean`。如果设置为`mean`，则用全局均值替换样本数量较少的类别的目标均值；如果设置为`median`，则用全局中位数替换样本数量较少的类别的目标均值。\n",
    "- `handle_unknown`：未知类别的处理策略，可选值为`error`和`value`，默认为`value`。如果设置为`error`，则当遇到未知类别时，会抛出异常；如果设置为`value`，则会用全局均值替换未知类别的目标均值。\n",
    "- `handle_missing`：缺失值的处理策略，可选值为`error`和`value`，默认为`value`。如果设置为`error`，则当遇到缺失值时，会抛出异常；如果设置为`value`，则会用全局均值替换缺失值的目标均值。\n",
    "- `randomized`：是否使用随机化的方法来计算目标均值，可选值为`True`和`False`，默认为`False`。如果设置为`True`，则会在计算目标均值时加入随机噪声，以减少过拟合的风险。\n",
    "\n",
    "---\n",
    "\n",
    "具体来说，`m` 的值确定了在编码每个类别时，类别自身的目标均值与全局目标均值（即所有数据的目标均值）之间的权衡：\n",
    "\n",
    "- 当 `m` 很小（接近于0）时，编码更多地依赖于类别自身的目标均值。这可能在类别内有足够多的样本时效果更好，但如果某些类别的样本量很小，则可能导致过拟合。\n",
    "\n",
    "- 当 `m` 增大时，编码更多地考虑全局目标均值。这提供了一种正则化效果，减少了过拟合的风险，尤其是在某些类别样本量较小的情况下。\n",
    "\n",
    "- 一个较大的 `m` 值（例如10或更高）意味着即使类别内样本数量很少，编码值也会更倾向于全局均值。\n",
    "\n",
    "`m` 参数的合适值通常取决于具体数据集的特征，如类别的分布和样本大小。在实际应用中，可能需要通过交叉验证来确定最优的 `m` 值。通过调整 `m`，`MEstimateEncoder` 能够在降低过拟合风险和保留类别特异性信息之间找到平衡。\n"
   ],
   "metadata": {
    "collapsed": false
   },
   "id": "d320ff695737c642"
  },
  {
   "cell_type": "code",
   "execution_count": 37,
   "outputs": [
    {
     "name": "stdout",
     "output_type": "stream",
     "text": [
      "   CHAS    CHAS_ME  MEDV\n",
      "0   0.0  21.839406  24.0\n",
      "1   0.0        NaN  21.6\n",
      "2   0.0  21.839406  34.7\n",
      "3   0.0  21.839406  33.4\n",
      "4   0.0  21.839406  36.2\n"
     ]
    },
    {
     "name": "stderr",
     "output_type": "stream",
     "text": [
      "C:\\Users\\yhb\\AppData\\Local\\Programs\\Python\\Python39\\lib\\site-packages\\sklearn\\utils\\deprecation.py:87: FutureWarning: Function load_boston is deprecated; `load_boston` is deprecated in 1.0 and will be removed in 1.2.\n",
      "\n",
      "    The Boston housing prices dataset has an ethical problem. You can refer to\n",
      "    the documentation of this function for further details.\n",
      "\n",
      "    The scikit-learn maintainers therefore strongly discourage the use of this\n",
      "    dataset unless the purpose of the code is to study and educate about\n",
      "    ethical issues in data science and machine learning.\n",
      "\n",
      "    In this special case, you can fetch the dataset from the original\n",
      "    source::\n",
      "\n",
      "        import pandas as pd\n",
      "        import numpy as np\n",
      "\n",
      "        data_url = \"http://lib.stat.cmu.edu/datasets/boston\"\n",
      "        raw_df = pd.read_csv(data_url, sep=\"\\s+\", skiprows=22, header=None)\n",
      "        data = np.hstack([raw_df.values[::2, :], raw_df.values[1::2, :2]])\n",
      "        target = raw_df.values[1::2, 2]\n",
      "\n",
      "    Alternative datasets include the California housing dataset (i.e.\n",
      "    :func:`~sklearn.datasets.fetch_california_housing`) and the Ames housing\n",
      "    dataset. You can load the datasets as follows::\n",
      "\n",
      "        from sklearn.datasets import fetch_california_housing\n",
      "        housing = fetch_california_housing()\n",
      "\n",
      "    for the California housing dataset and::\n",
      "\n",
      "        from sklearn.datasets import fetch_openml\n",
      "        housing = fetch_openml(name=\"house_prices\", as_frame=True)\n",
      "\n",
      "    for the Ames housing dataset.\n",
      "  warnings.warn(msg, category=FutureWarning)\n"
     ]
    }
   ],
   "source": [
    "from sklearn.datasets import load_boston\n",
    "from category_encoders import MEstimateEncoder\n",
    "\n",
    "# 加载波士顿房价数据集\n",
    "boston = load_boston()\n",
    "boston_df = pd.DataFrame(boston.data, columns=boston.feature_names)\n",
    "boston_df['MEDV'] = boston.target\n",
    "\n",
    "# 随机分割数据集为编码集（20%）和训练集（80%）\n",
    "X_encode = boston_df.sample(frac=0.20, random_state=0)\n",
    "y_encode = X_encode.pop('MEDV')\n",
    "\n",
    "# X_train为原数据集去除编码集后的数据\n",
    "X_train = boston_df.drop(X_encode.index)\n",
    "y_train = X_train.pop('MEDV')\n",
    "\n",
    "# 创建MEstimateEncoder实例，假设m=1.0\n",
    "encoder = MEstimateEncoder(cols=['CHAS'], m=1.0)\n",
    "\n",
    "# 拟合编码器到编码分割数据\n",
    "encoder.fit(X_encode, y_encode)\n",
    "\n",
    "# 应用编码器到训练分割数据\n",
    "X_train_encoded = encoder.transform(X_train)\n",
    "\n",
    "# 将编码后的数据添加回原始DataFrame\n",
    "boston_df.loc[X_train.index, 'CHAS_ME'] = X_train_encoded['CHAS']\n",
    "\n",
    "# 打印结果\n",
    "print(boston_df[['CHAS', 'CHAS_ME', 'MEDV']].head())\n",
    "\n"
   ],
   "metadata": {
    "collapsed": false,
    "ExecuteTime": {
     "end_time": "2023-12-12T14:49:13.849522300Z",
     "start_time": "2023-12-12T14:49:13.799214400Z"
    }
   },
   "id": "85d10ca94ce50710"
  }
 ],
 "metadata": {
  "kernelspec": {
   "display_name": "Python 3",
   "language": "python",
   "name": "python3"
  },
  "language_info": {
   "codemirror_mode": {
    "name": "ipython",
    "version": 2
   },
   "file_extension": ".py",
   "mimetype": "text/x-python",
   "name": "python",
   "nbconvert_exporter": "python",
   "pygments_lexer": "ipython2",
   "version": "2.7.6"
  }
 },
 "nbformat": 4,
 "nbformat_minor": 5
}
