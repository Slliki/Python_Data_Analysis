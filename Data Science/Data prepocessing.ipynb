{
 "cells": [
  {
   "cell_type": "markdown",
   "id": "69690326",
   "metadata": {},
   "source": [
    "# Guide for Data Preprocessing\n",
    "\n",
    "It's a tutorial guide for the whole process of data analysis, which includes data cleaning, data visualization, data preprocessing, modeling, evaluation.  \n",
    "\n",
    "Deal with the missing values, outliers, duplicates.  \n",
    "Then convert the data format, process text data.\n",
    "\n"
   ]
  },
  {
   "cell_type": "markdown",
   "source": [
    "# Contents\n",
    "- Missing Values\n",
    "    - case1：NFL Play \n",
    "- Outliers\n",
    "    - case2：Star Wars Characters' Height\n",
    "- Data Scaling and Normalization\n",
    "- Parsing Data\n",
    "    - Binning\n",
    "    - DateTime type\n",
    "    - Text Data-->Str Processing\n",
    "    - Character Encodings\n"
   ],
   "metadata": {
    "collapsed": false
   },
   "id": "8992bf8804aa5a7"
  },
  {
   "cell_type": "markdown",
   "id": "d33aa892",
   "metadata": {},
   "source": [
    "# 1. Missing Values\n",
    "\n",
    "## Case 1：NFL Play\n",
    "\n",
    "The NFL Play dataframe is about all games from 2009 through 2018 (week 15) \n"
   ]
  },
  {
   "cell_type": "code",
   "execution_count": 22,
   "outputs": [
    {
     "name": "stdout",
     "output_type": "stream",
     "text": [
      "(362447, 102)\n"
     ]
    },
    {
     "data": {
      "text/html": [
       "<div>\n",
       "<style scoped>\n",
       "    .dataframe tbody tr th:only-of-type {\n",
       "        vertical-align: middle;\n",
       "    }\n",
       "\n",
       "    .dataframe tbody tr th {\n",
       "        vertical-align: top;\n",
       "    }\n",
       "\n",
       "    .dataframe thead th {\n",
       "        text-align: right;\n",
       "    }\n",
       "</style>\n",
       "<table border=\"1\" class=\"dataframe\">\n",
       "  <thead>\n",
       "    <tr style=\"text-align: right;\">\n",
       "      <th></th>\n",
       "      <th>Date</th>\n",
       "      <th>GameID</th>\n",
       "      <th>Drive</th>\n",
       "      <th>qtr</th>\n",
       "      <th>down</th>\n",
       "      <th>time</th>\n",
       "      <th>TimeUnder</th>\n",
       "      <th>TimeSecs</th>\n",
       "      <th>PlayTimeDiff</th>\n",
       "      <th>SideofField</th>\n",
       "      <th>...</th>\n",
       "      <th>yacEPA</th>\n",
       "      <th>Home_WP_pre</th>\n",
       "      <th>Away_WP_pre</th>\n",
       "      <th>Home_WP_post</th>\n",
       "      <th>Away_WP_post</th>\n",
       "      <th>Win_Prob</th>\n",
       "      <th>WPA</th>\n",
       "      <th>airWPA</th>\n",
       "      <th>yacWPA</th>\n",
       "      <th>Season</th>\n",
       "    </tr>\n",
       "  </thead>\n",
       "  <tbody>\n",
       "    <tr>\n",
       "      <th>0</th>\n",
       "      <td>2009-09-10</td>\n",
       "      <td>2009091000</td>\n",
       "      <td>1</td>\n",
       "      <td>1</td>\n",
       "      <td>NaN</td>\n",
       "      <td>15:00</td>\n",
       "      <td>15</td>\n",
       "      <td>3600.0</td>\n",
       "      <td>0.0</td>\n",
       "      <td>TEN</td>\n",
       "      <td>...</td>\n",
       "      <td>NaN</td>\n",
       "      <td>0.485675</td>\n",
       "      <td>0.514325</td>\n",
       "      <td>0.546433</td>\n",
       "      <td>0.453567</td>\n",
       "      <td>0.485675</td>\n",
       "      <td>0.060758</td>\n",
       "      <td>NaN</td>\n",
       "      <td>NaN</td>\n",
       "      <td>2009</td>\n",
       "    </tr>\n",
       "    <tr>\n",
       "      <th>1</th>\n",
       "      <td>2009-09-10</td>\n",
       "      <td>2009091000</td>\n",
       "      <td>1</td>\n",
       "      <td>1</td>\n",
       "      <td>1.0</td>\n",
       "      <td>14:53</td>\n",
       "      <td>15</td>\n",
       "      <td>3593.0</td>\n",
       "      <td>7.0</td>\n",
       "      <td>PIT</td>\n",
       "      <td>...</td>\n",
       "      <td>1.146076</td>\n",
       "      <td>0.546433</td>\n",
       "      <td>0.453567</td>\n",
       "      <td>0.551088</td>\n",
       "      <td>0.448912</td>\n",
       "      <td>0.546433</td>\n",
       "      <td>0.004655</td>\n",
       "      <td>-0.032244</td>\n",
       "      <td>0.036899</td>\n",
       "      <td>2009</td>\n",
       "    </tr>\n",
       "    <tr>\n",
       "      <th>2</th>\n",
       "      <td>2009-09-10</td>\n",
       "      <td>2009091000</td>\n",
       "      <td>1</td>\n",
       "      <td>1</td>\n",
       "      <td>2.0</td>\n",
       "      <td>14:16</td>\n",
       "      <td>15</td>\n",
       "      <td>3556.0</td>\n",
       "      <td>37.0</td>\n",
       "      <td>PIT</td>\n",
       "      <td>...</td>\n",
       "      <td>NaN</td>\n",
       "      <td>0.551088</td>\n",
       "      <td>0.448912</td>\n",
       "      <td>0.510793</td>\n",
       "      <td>0.489207</td>\n",
       "      <td>0.551088</td>\n",
       "      <td>-0.040295</td>\n",
       "      <td>NaN</td>\n",
       "      <td>NaN</td>\n",
       "      <td>2009</td>\n",
       "    </tr>\n",
       "    <tr>\n",
       "      <th>3</th>\n",
       "      <td>2009-09-10</td>\n",
       "      <td>2009091000</td>\n",
       "      <td>1</td>\n",
       "      <td>1</td>\n",
       "      <td>3.0</td>\n",
       "      <td>13:35</td>\n",
       "      <td>14</td>\n",
       "      <td>3515.0</td>\n",
       "      <td>41.0</td>\n",
       "      <td>PIT</td>\n",
       "      <td>...</td>\n",
       "      <td>-5.031425</td>\n",
       "      <td>0.510793</td>\n",
       "      <td>0.489207</td>\n",
       "      <td>0.461217</td>\n",
       "      <td>0.538783</td>\n",
       "      <td>0.510793</td>\n",
       "      <td>-0.049576</td>\n",
       "      <td>0.106663</td>\n",
       "      <td>-0.156239</td>\n",
       "      <td>2009</td>\n",
       "    </tr>\n",
       "    <tr>\n",
       "      <th>4</th>\n",
       "      <td>2009-09-10</td>\n",
       "      <td>2009091000</td>\n",
       "      <td>1</td>\n",
       "      <td>1</td>\n",
       "      <td>4.0</td>\n",
       "      <td>13:27</td>\n",
       "      <td>14</td>\n",
       "      <td>3507.0</td>\n",
       "      <td>8.0</td>\n",
       "      <td>PIT</td>\n",
       "      <td>...</td>\n",
       "      <td>NaN</td>\n",
       "      <td>0.461217</td>\n",
       "      <td>0.538783</td>\n",
       "      <td>0.558929</td>\n",
       "      <td>0.441071</td>\n",
       "      <td>0.461217</td>\n",
       "      <td>0.097712</td>\n",
       "      <td>NaN</td>\n",
       "      <td>NaN</td>\n",
       "      <td>2009</td>\n",
       "    </tr>\n",
       "  </tbody>\n",
       "</table>\n",
       "<p>5 rows × 102 columns</p>\n",
       "</div>"
      ],
      "text/plain": [
       "         Date      GameID  Drive  qtr  down   time  TimeUnder  TimeSecs  \\\n",
       "0  2009-09-10  2009091000      1    1   NaN  15:00         15    3600.0   \n",
       "1  2009-09-10  2009091000      1    1   1.0  14:53         15    3593.0   \n",
       "2  2009-09-10  2009091000      1    1   2.0  14:16         15    3556.0   \n",
       "3  2009-09-10  2009091000      1    1   3.0  13:35         14    3515.0   \n",
       "4  2009-09-10  2009091000      1    1   4.0  13:27         14    3507.0   \n",
       "\n",
       "   PlayTimeDiff SideofField  ...    yacEPA  Home_WP_pre  Away_WP_pre  \\\n",
       "0           0.0         TEN  ...       NaN     0.485675     0.514325   \n",
       "1           7.0         PIT  ...  1.146076     0.546433     0.453567   \n",
       "2          37.0         PIT  ...       NaN     0.551088     0.448912   \n",
       "3          41.0         PIT  ... -5.031425     0.510793     0.489207   \n",
       "4           8.0         PIT  ...       NaN     0.461217     0.538783   \n",
       "\n",
       "   Home_WP_post  Away_WP_post  Win_Prob       WPA    airWPA    yacWPA  Season  \n",
       "0      0.546433      0.453567  0.485675  0.060758       NaN       NaN    2009  \n",
       "1      0.551088      0.448912  0.546433  0.004655 -0.032244  0.036899    2009  \n",
       "2      0.510793      0.489207  0.551088 -0.040295       NaN       NaN    2009  \n",
       "3      0.461217      0.538783  0.510793 -0.049576  0.106663 -0.156239    2009  \n",
       "4      0.558929      0.441071  0.461217  0.097712       NaN       NaN    2009  \n",
       "\n",
       "[5 rows x 102 columns]"
      ]
     },
     "execution_count": 22,
     "metadata": {},
     "output_type": "execute_result"
    }
   ],
   "source": [
    "import pandas as pd, numpy as np\n",
    "df=pd.read_csv(\"E:\\\\Programming\\\\Dataset_prac\\\\NFL Play by Play 2009-2016 (v3).csv\",low_memory=False)\n",
    "print(df.shape)\n",
    "\n",
    "df.head()"
   ],
   "metadata": {
    "collapsed": false
   },
   "id": "2640ce89"
  },
  {
   "cell_type": "markdown",
   "source": [
    "## 1. Check how many values are missing.\n",
    "`isnull().sum()` or `isna().sum()`"
   ],
   "metadata": {
    "collapsed": false
   },
   "id": "e1bc2e0be423c18a"
  },
  {
   "cell_type": "code",
   "execution_count": 8,
   "id": "4b7e03fb",
   "metadata": {},
   "outputs": [
    {
     "data": {
      "text/plain": [
       "Date                0\n",
       "GameID              0\n",
       "Drive               0\n",
       "qtr                 0\n",
       "down            54218\n",
       "time              188\n",
       "TimeUnder           0\n",
       "TimeSecs          188\n",
       "PlayTimeDiff      374\n",
       "SideofField       450\n",
       "dtype: int64"
      ]
     },
     "execution_count": 8,
     "metadata": {},
     "output_type": "execute_result"
    }
   ],
   "source": [
    "df.isna().sum().head(10)"
   ]
  },
  {
   "cell_type": "markdown",
   "id": "8b1ca3dc",
   "metadata": {},
   "source": [
    "## 2. Figure out  why the data is missing?\n",
    "If it is missing because it is not recorded, try to fill the missing data;  \n",
    "if it is missing because there should not be such data, just drop it.\n",
    "\n",
    "`dropna(axis=0)` remove the rows(axis=0) or columns(axis=1) contain missing data  \n",
    "We can see that when removing the cols which contain missing values,the dataframe will only have 41 cols."
   ]
  },
  {
   "cell_type": "code",
   "execution_count": 10,
   "id": "9c83bf2e",
   "metadata": {},
   "outputs": [
    {
     "data": {
      "text/html": [
       "<div>\n",
       "<style scoped>\n",
       "    .dataframe tbody tr th:only-of-type {\n",
       "        vertical-align: middle;\n",
       "    }\n",
       "\n",
       "    .dataframe tbody tr th {\n",
       "        vertical-align: top;\n",
       "    }\n",
       "\n",
       "    .dataframe thead th {\n",
       "        text-align: right;\n",
       "    }\n",
       "</style>\n",
       "<table border=\"1\" class=\"dataframe\">\n",
       "  <thead>\n",
       "    <tr style=\"text-align: right;\">\n",
       "      <th></th>\n",
       "      <th>Date</th>\n",
       "      <th>GameID</th>\n",
       "      <th>Drive</th>\n",
       "      <th>qtr</th>\n",
       "      <th>TimeUnder</th>\n",
       "      <th>ydstogo</th>\n",
       "      <th>ydsnet</th>\n",
       "      <th>PlayAttempted</th>\n",
       "      <th>Yards.Gained</th>\n",
       "      <th>sp</th>\n",
       "      <th>...</th>\n",
       "      <th>Timeout_Indicator</th>\n",
       "      <th>Timeout_Team</th>\n",
       "      <th>posteam_timeouts_pre</th>\n",
       "      <th>HomeTimeouts_Remaining_Pre</th>\n",
       "      <th>AwayTimeouts_Remaining_Pre</th>\n",
       "      <th>HomeTimeouts_Remaining_Post</th>\n",
       "      <th>AwayTimeouts_Remaining_Post</th>\n",
       "      <th>ExPoint_Prob</th>\n",
       "      <th>TwoPoint_Prob</th>\n",
       "      <th>Season</th>\n",
       "    </tr>\n",
       "  </thead>\n",
       "  <tbody>\n",
       "    <tr>\n",
       "      <th>0</th>\n",
       "      <td>2009-09-10</td>\n",
       "      <td>2009091000</td>\n",
       "      <td>1</td>\n",
       "      <td>1</td>\n",
       "      <td>15</td>\n",
       "      <td>0</td>\n",
       "      <td>0</td>\n",
       "      <td>1</td>\n",
       "      <td>39</td>\n",
       "      <td>0</td>\n",
       "      <td>...</td>\n",
       "      <td>0</td>\n",
       "      <td>None</td>\n",
       "      <td>3</td>\n",
       "      <td>3</td>\n",
       "      <td>3</td>\n",
       "      <td>3</td>\n",
       "      <td>3</td>\n",
       "      <td>0.0</td>\n",
       "      <td>0.0</td>\n",
       "      <td>2009</td>\n",
       "    </tr>\n",
       "    <tr>\n",
       "      <th>1</th>\n",
       "      <td>2009-09-10</td>\n",
       "      <td>2009091000</td>\n",
       "      <td>1</td>\n",
       "      <td>1</td>\n",
       "      <td>15</td>\n",
       "      <td>10</td>\n",
       "      <td>5</td>\n",
       "      <td>1</td>\n",
       "      <td>5</td>\n",
       "      <td>0</td>\n",
       "      <td>...</td>\n",
       "      <td>0</td>\n",
       "      <td>None</td>\n",
       "      <td>3</td>\n",
       "      <td>3</td>\n",
       "      <td>3</td>\n",
       "      <td>3</td>\n",
       "      <td>3</td>\n",
       "      <td>0.0</td>\n",
       "      <td>0.0</td>\n",
       "      <td>2009</td>\n",
       "    </tr>\n",
       "    <tr>\n",
       "      <th>2</th>\n",
       "      <td>2009-09-10</td>\n",
       "      <td>2009091000</td>\n",
       "      <td>1</td>\n",
       "      <td>1</td>\n",
       "      <td>15</td>\n",
       "      <td>5</td>\n",
       "      <td>2</td>\n",
       "      <td>1</td>\n",
       "      <td>-3</td>\n",
       "      <td>0</td>\n",
       "      <td>...</td>\n",
       "      <td>0</td>\n",
       "      <td>None</td>\n",
       "      <td>3</td>\n",
       "      <td>3</td>\n",
       "      <td>3</td>\n",
       "      <td>3</td>\n",
       "      <td>3</td>\n",
       "      <td>0.0</td>\n",
       "      <td>0.0</td>\n",
       "      <td>2009</td>\n",
       "    </tr>\n",
       "    <tr>\n",
       "      <th>3</th>\n",
       "      <td>2009-09-10</td>\n",
       "      <td>2009091000</td>\n",
       "      <td>1</td>\n",
       "      <td>1</td>\n",
       "      <td>14</td>\n",
       "      <td>8</td>\n",
       "      <td>2</td>\n",
       "      <td>1</td>\n",
       "      <td>0</td>\n",
       "      <td>0</td>\n",
       "      <td>...</td>\n",
       "      <td>0</td>\n",
       "      <td>None</td>\n",
       "      <td>3</td>\n",
       "      <td>3</td>\n",
       "      <td>3</td>\n",
       "      <td>3</td>\n",
       "      <td>3</td>\n",
       "      <td>0.0</td>\n",
       "      <td>0.0</td>\n",
       "      <td>2009</td>\n",
       "    </tr>\n",
       "    <tr>\n",
       "      <th>4</th>\n",
       "      <td>2009-09-10</td>\n",
       "      <td>2009091000</td>\n",
       "      <td>1</td>\n",
       "      <td>1</td>\n",
       "      <td>14</td>\n",
       "      <td>8</td>\n",
       "      <td>2</td>\n",
       "      <td>1</td>\n",
       "      <td>0</td>\n",
       "      <td>0</td>\n",
       "      <td>...</td>\n",
       "      <td>0</td>\n",
       "      <td>None</td>\n",
       "      <td>3</td>\n",
       "      <td>3</td>\n",
       "      <td>3</td>\n",
       "      <td>3</td>\n",
       "      <td>3</td>\n",
       "      <td>0.0</td>\n",
       "      <td>0.0</td>\n",
       "      <td>2009</td>\n",
       "    </tr>\n",
       "  </tbody>\n",
       "</table>\n",
       "<p>5 rows × 41 columns</p>\n",
       "</div>"
      ],
      "text/plain": [
       "         Date      GameID  Drive  qtr  TimeUnder  ydstogo  ydsnet  \\\n",
       "0  2009-09-10  2009091000      1    1         15        0       0   \n",
       "1  2009-09-10  2009091000      1    1         15       10       5   \n",
       "2  2009-09-10  2009091000      1    1         15        5       2   \n",
       "3  2009-09-10  2009091000      1    1         14        8       2   \n",
       "4  2009-09-10  2009091000      1    1         14        8       2   \n",
       "\n",
       "   PlayAttempted  Yards.Gained  sp  ...  Timeout_Indicator  Timeout_Team  \\\n",
       "0              1            39   0  ...                  0          None   \n",
       "1              1             5   0  ...                  0          None   \n",
       "2              1            -3   0  ...                  0          None   \n",
       "3              1             0   0  ...                  0          None   \n",
       "4              1             0   0  ...                  0          None   \n",
       "\n",
       "   posteam_timeouts_pre HomeTimeouts_Remaining_Pre AwayTimeouts_Remaining_Pre  \\\n",
       "0                     3                          3                          3   \n",
       "1                     3                          3                          3   \n",
       "2                     3                          3                          3   \n",
       "3                     3                          3                          3   \n",
       "4                     3                          3                          3   \n",
       "\n",
       "   HomeTimeouts_Remaining_Post  AwayTimeouts_Remaining_Post  ExPoint_Prob  \\\n",
       "0                            3                            3           0.0   \n",
       "1                            3                            3           0.0   \n",
       "2                            3                            3           0.0   \n",
       "3                            3                            3           0.0   \n",
       "4                            3                            3           0.0   \n",
       "\n",
       "   TwoPoint_Prob  Season  \n",
       "0            0.0    2009  \n",
       "1            0.0    2009  \n",
       "2            0.0    2009  \n",
       "3            0.0    2009  \n",
       "4            0.0    2009  \n",
       "\n",
       "[5 rows x 41 columns]"
      ]
     },
     "execution_count": 10,
     "metadata": {},
     "output_type": "execute_result"
    }
   ],
   "source": [
    "df_drop_cols=df.dropna(axis=1)\n",
    "df_drop_cols.head()"
   ]
  },
  {
   "cell_type": "markdown",
   "id": "97cf921f",
   "metadata": {},
   "source": [
    "- Fill the missing data.  \n",
    "`.fillna(value, method='string'/'bfill'/'ffill', axis=1, inplace)`  \n",
    "value is the specified target to replace the missing value, you can use number, string,  \n",
    "'bfill'(use the next un-missing value), 'ffill'(use the last un-missing value)."
   ]
  },
  {
   "cell_type": "code",
   "execution_count": 12,
   "id": "1bb25044",
   "metadata": {},
   "outputs": [
    {
     "data": {
      "text/html": [
       "<div>\n",
       "<style scoped>\n",
       "    .dataframe tbody tr th:only-of-type {\n",
       "        vertical-align: middle;\n",
       "    }\n",
       "\n",
       "    .dataframe tbody tr th {\n",
       "        vertical-align: top;\n",
       "    }\n",
       "\n",
       "    .dataframe thead th {\n",
       "        text-align: right;\n",
       "    }\n",
       "</style>\n",
       "<table border=\"1\" class=\"dataframe\">\n",
       "  <thead>\n",
       "    <tr style=\"text-align: right;\">\n",
       "      <th></th>\n",
       "      <th>EPA</th>\n",
       "      <th>airEPA</th>\n",
       "      <th>yacEPA</th>\n",
       "      <th>Home_WP_pre</th>\n",
       "      <th>Away_WP_pre</th>\n",
       "      <th>Home_WP_post</th>\n",
       "      <th>Away_WP_post</th>\n",
       "      <th>Win_Prob</th>\n",
       "      <th>WPA</th>\n",
       "      <th>airWPA</th>\n",
       "      <th>yacWPA</th>\n",
       "      <th>Season</th>\n",
       "    </tr>\n",
       "  </thead>\n",
       "  <tbody>\n",
       "    <tr>\n",
       "      <th>0</th>\n",
       "      <td>2.014474</td>\n",
       "      <td>NaN</td>\n",
       "      <td>NaN</td>\n",
       "      <td>0.485675</td>\n",
       "      <td>0.514325</td>\n",
       "      <td>0.546433</td>\n",
       "      <td>0.453567</td>\n",
       "      <td>0.485675</td>\n",
       "      <td>0.060758</td>\n",
       "      <td>NaN</td>\n",
       "      <td>NaN</td>\n",
       "      <td>2009</td>\n",
       "    </tr>\n",
       "    <tr>\n",
       "      <th>1</th>\n",
       "      <td>0.077907</td>\n",
       "      <td>-1.068169</td>\n",
       "      <td>1.146076</td>\n",
       "      <td>0.546433</td>\n",
       "      <td>0.453567</td>\n",
       "      <td>0.551088</td>\n",
       "      <td>0.448912</td>\n",
       "      <td>0.546433</td>\n",
       "      <td>0.004655</td>\n",
       "      <td>-0.032244</td>\n",
       "      <td>0.036899</td>\n",
       "      <td>2009</td>\n",
       "    </tr>\n",
       "    <tr>\n",
       "      <th>2</th>\n",
       "      <td>-1.402760</td>\n",
       "      <td>NaN</td>\n",
       "      <td>NaN</td>\n",
       "      <td>0.551088</td>\n",
       "      <td>0.448912</td>\n",
       "      <td>0.510793</td>\n",
       "      <td>0.489207</td>\n",
       "      <td>0.551088</td>\n",
       "      <td>-0.040295</td>\n",
       "      <td>NaN</td>\n",
       "      <td>NaN</td>\n",
       "      <td>2009</td>\n",
       "    </tr>\n",
       "    <tr>\n",
       "      <th>3</th>\n",
       "      <td>-1.712583</td>\n",
       "      <td>3.318841</td>\n",
       "      <td>-5.031425</td>\n",
       "      <td>0.510793</td>\n",
       "      <td>0.489207</td>\n",
       "      <td>0.461217</td>\n",
       "      <td>0.538783</td>\n",
       "      <td>0.510793</td>\n",
       "      <td>-0.049576</td>\n",
       "      <td>0.106663</td>\n",
       "      <td>-0.156239</td>\n",
       "      <td>2009</td>\n",
       "    </tr>\n",
       "    <tr>\n",
       "      <th>4</th>\n",
       "      <td>2.097796</td>\n",
       "      <td>NaN</td>\n",
       "      <td>NaN</td>\n",
       "      <td>0.461217</td>\n",
       "      <td>0.538783</td>\n",
       "      <td>0.558929</td>\n",
       "      <td>0.441071</td>\n",
       "      <td>0.461217</td>\n",
       "      <td>0.097712</td>\n",
       "      <td>NaN</td>\n",
       "      <td>NaN</td>\n",
       "      <td>2009</td>\n",
       "    </tr>\n",
       "  </tbody>\n",
       "</table>\n",
       "</div>"
      ],
      "text/plain": [
       "        EPA    airEPA    yacEPA  Home_WP_pre  Away_WP_pre  Home_WP_post  \\\n",
       "0  2.014474       NaN       NaN     0.485675     0.514325      0.546433   \n",
       "1  0.077907 -1.068169  1.146076     0.546433     0.453567      0.551088   \n",
       "2 -1.402760       NaN       NaN     0.551088     0.448912      0.510793   \n",
       "3 -1.712583  3.318841 -5.031425     0.510793     0.489207      0.461217   \n",
       "4  2.097796       NaN       NaN     0.461217     0.538783      0.558929   \n",
       "\n",
       "   Away_WP_post  Win_Prob       WPA    airWPA    yacWPA  Season  \n",
       "0      0.453567  0.485675  0.060758       NaN       NaN    2009  \n",
       "1      0.448912  0.546433  0.004655 -0.032244  0.036899    2009  \n",
       "2      0.489207  0.551088 -0.040295       NaN       NaN    2009  \n",
       "3      0.538783  0.510793 -0.049576  0.106663 -0.156239    2009  \n",
       "4      0.441071  0.461217  0.097712       NaN       NaN    2009  "
      ]
     },
     "execution_count": 12,
     "metadata": {},
     "output_type": "execute_result"
    }
   ],
   "source": [
    "# get a subset to print well \n",
    "sub_df=df.loc[:,'EPA':'Season'].head()\n",
    "sub_df"
   ]
  },
  {
   "cell_type": "code",
   "execution_count": 15,
   "id": "c4e1b246",
   "metadata": {},
   "outputs": [
    {
     "data": {
      "text/html": [
       "<div>\n",
       "<style scoped>\n",
       "    .dataframe tbody tr th:only-of-type {\n",
       "        vertical-align: middle;\n",
       "    }\n",
       "\n",
       "    .dataframe tbody tr th {\n",
       "        vertical-align: top;\n",
       "    }\n",
       "\n",
       "    .dataframe thead th {\n",
       "        text-align: right;\n",
       "    }\n",
       "</style>\n",
       "<table border=\"1\" class=\"dataframe\">\n",
       "  <thead>\n",
       "    <tr style=\"text-align: right;\">\n",
       "      <th></th>\n",
       "      <th>EPA</th>\n",
       "      <th>airEPA</th>\n",
       "      <th>yacEPA</th>\n",
       "      <th>Home_WP_pre</th>\n",
       "      <th>Away_WP_pre</th>\n",
       "      <th>Home_WP_post</th>\n",
       "      <th>Away_WP_post</th>\n",
       "      <th>Win_Prob</th>\n",
       "      <th>WPA</th>\n",
       "      <th>airWPA</th>\n",
       "      <th>yacWPA</th>\n",
       "      <th>Season</th>\n",
       "    </tr>\n",
       "  </thead>\n",
       "  <tbody>\n",
       "    <tr>\n",
       "      <th>0</th>\n",
       "      <td>2.014474</td>\n",
       "      <td>-1.068169</td>\n",
       "      <td>1.146076</td>\n",
       "      <td>0.485675</td>\n",
       "      <td>0.514325</td>\n",
       "      <td>0.546433</td>\n",
       "      <td>0.453567</td>\n",
       "      <td>0.485675</td>\n",
       "      <td>0.060758</td>\n",
       "      <td>-0.032244</td>\n",
       "      <td>0.036899</td>\n",
       "      <td>2009</td>\n",
       "    </tr>\n",
       "    <tr>\n",
       "      <th>1</th>\n",
       "      <td>0.077907</td>\n",
       "      <td>-1.068169</td>\n",
       "      <td>1.146076</td>\n",
       "      <td>0.546433</td>\n",
       "      <td>0.453567</td>\n",
       "      <td>0.551088</td>\n",
       "      <td>0.448912</td>\n",
       "      <td>0.546433</td>\n",
       "      <td>0.004655</td>\n",
       "      <td>-0.032244</td>\n",
       "      <td>0.036899</td>\n",
       "      <td>2009</td>\n",
       "    </tr>\n",
       "    <tr>\n",
       "      <th>2</th>\n",
       "      <td>-1.402760</td>\n",
       "      <td>3.318841</td>\n",
       "      <td>-5.031425</td>\n",
       "      <td>0.551088</td>\n",
       "      <td>0.448912</td>\n",
       "      <td>0.510793</td>\n",
       "      <td>0.489207</td>\n",
       "      <td>0.551088</td>\n",
       "      <td>-0.040295</td>\n",
       "      <td>0.106663</td>\n",
       "      <td>-0.156239</td>\n",
       "      <td>2009</td>\n",
       "    </tr>\n",
       "    <tr>\n",
       "      <th>3</th>\n",
       "      <td>-1.712583</td>\n",
       "      <td>3.318841</td>\n",
       "      <td>-5.031425</td>\n",
       "      <td>0.510793</td>\n",
       "      <td>0.489207</td>\n",
       "      <td>0.461217</td>\n",
       "      <td>0.538783</td>\n",
       "      <td>0.510793</td>\n",
       "      <td>-0.049576</td>\n",
       "      <td>0.106663</td>\n",
       "      <td>-0.156239</td>\n",
       "      <td>2009</td>\n",
       "    </tr>\n",
       "    <tr>\n",
       "      <th>4</th>\n",
       "      <td>2.097796</td>\n",
       "      <td>0.000000</td>\n",
       "      <td>0.000000</td>\n",
       "      <td>0.461217</td>\n",
       "      <td>0.538783</td>\n",
       "      <td>0.558929</td>\n",
       "      <td>0.441071</td>\n",
       "      <td>0.461217</td>\n",
       "      <td>0.097712</td>\n",
       "      <td>0.000000</td>\n",
       "      <td>0.000000</td>\n",
       "      <td>2009</td>\n",
       "    </tr>\n",
       "  </tbody>\n",
       "</table>\n",
       "</div>"
      ],
      "text/plain": [
       "        EPA    airEPA    yacEPA  Home_WP_pre  Away_WP_pre  Home_WP_post  \\\n",
       "0  2.014474 -1.068169  1.146076     0.485675     0.514325      0.546433   \n",
       "1  0.077907 -1.068169  1.146076     0.546433     0.453567      0.551088   \n",
       "2 -1.402760  3.318841 -5.031425     0.551088     0.448912      0.510793   \n",
       "3 -1.712583  3.318841 -5.031425     0.510793     0.489207      0.461217   \n",
       "4  2.097796  0.000000  0.000000     0.461217     0.538783      0.558929   \n",
       "\n",
       "   Away_WP_post  Win_Prob       WPA    airWPA    yacWPA  Season  \n",
       "0      0.453567  0.485675  0.060758 -0.032244  0.036899    2009  \n",
       "1      0.448912  0.546433  0.004655 -0.032244  0.036899    2009  \n",
       "2      0.489207  0.551088 -0.040295  0.106663 -0.156239    2009  \n",
       "3      0.538783  0.510793 -0.049576  0.106663 -0.156239    2009  \n",
       "4      0.441071  0.461217  0.097712  0.000000  0.000000    2009  "
      ]
     },
     "execution_count": 15,
     "metadata": {},
     "output_type": "execute_result"
    }
   ],
   "source": [
    "# replace all NA's the value that comes directly after it in the same column, \n",
    "# then replace all the remaining na's with 0\n",
    "sub_df.fillna(method='bfill', axis=0).fillna(0)"
   ]
  },
  {
   "cell_type": "markdown",
   "id": "65fdb9a4",
   "metadata": {},
   "source": [
    "## 3. Imputation\n",
    "Like mentioned before, drop null or fill null are both usefull ways to impute.  \n",
    "We can also use some Machine Learning packages to apply imputation."
   ]
  },
  {
   "attachments": {
    "image.png": {
     "image/png": "[encoded data removed]"
    }
   },
   "cell_type": "markdown",
   "id": "26c5ec2e",
   "metadata": {},
   "source": [
    "- <big>An Extension To Imputation</big>  \n",
    "we can impute the missing values as before(drop or fill), then we create an additional column to describe the missing status(T/F)\n",
    "<img src=\"attachment:image.png\" alt=\"image\" style=\"width:500px;\">\n"
   ]
  },
  {
   "cell_type": "markdown",
   "id": "c44dfd6a",
   "metadata": {},
   "source": [
    "**SimpleImputer** is a sklearn function that replaces missing values with the mean value along each column.\n",
    "strategy：指定填充缺失值的策略。可选的策略有： \n",
    "- \"mean\"：使用列的平均值来填充缺失值。\n",
    "- \"median\"：使用列的中位数来填充缺失值。\n",
    "- \"most_frequent\"：使用列中出现最频繁的值来填充缺失值。\n",
    "- \"constant\"：使用指定的常数值来填充缺失值。需要同时指定 fill_value 参数。  \n",
    "\n",
    " fill_value：仅在 strategy=\"constant\" 时使用，用于指定要用于填充缺失值的常数值。  \n",
    " \n",
    " 注意，impute操作可能使得列名缺失，可以进行如下操作来恢复列名: `imputed_x.columns=ori_x.columns`\n"
   ]
  },
  {
   "cell_type": "code",
   "execution_count": 48,
   "id": "2bf14359",
   "metadata": {},
   "outputs": [
    {
     "name": "stdout",
     "output_type": "stream",
     "text": [
      "0         NaN\n",
      "1   -1.068169\n",
      "2         NaN\n",
      "3    3.318841\n",
      "4         NaN\n",
      "Name: airEPA, dtype: float64 \n",
      "           0\n",
      "0  0.526933\n",
      "1 -1.068169\n",
      "2  0.526933\n",
      "3  3.318841\n",
      "4  0.526933\n"
     ]
    }
   ],
   "source": [
    "from sklearn.impute import SimpleImputer\n",
    "\n",
    "imputer=SimpleImputer()\n",
    "imputed_df=pd.DataFrame(imputer.fit_transform(df[['airEPA']]))\n",
    "\n",
    "print(df.airEPA.head(),'\\n',imputed_df.head())\n"
   ]
  },
  {
   "cell_type": "markdown",
   "id": "c06b8350",
   "metadata": {},
   "source": [
    "# 2. Outliers 异常值处理  \n",
    "在处理 DataFrame 中的异常值时，通常需要进行数据清洗和异常值检测。以下是一些常见的方法和步骤来处理异常值：\n",
    "\n",
    "**可视化数据**： 首先，你可以使用图表和可视化工具（如箱线图、散点图等）来可视化数据分布，以识别异常值的潜在位置。\n",
    "\n",
    "**描述性统计**： 使用 Pandas 的 describe() 方法查看每列的基本统计信息，包括均值、中位数、标准差等。这可以帮助你识别异常值的存在。\n",
    "\n",
    "**箱线图**： 利用箱线图（box plot）来识别异常值。箱线图显示了数据的分布和潜在异常值。\n",
    "\n",
    "### Basic methods to detect outliers\n",
    "- Z-score（3-sigma）: z-score是一种统计方法，用于计算数据点与其均值之间的差异。它衡量的是数据点与均值之间的标准偏差，即x.mean() +/- x.std()。z-score 越大，数据点与均值之间的差异就越大，越有可能是异常值。\n",
    "- IQR: IQR（四分位距）是数据的第 75 个百分位数和第 25 个百分位数之间的差值。IQR 越大，数据点与均值之间的差异就越大，越有可能是异常值。\n",
    "    - 一般使用boxplot来可视化IQR，当数据点超过上下界时，就认为是异常值。可以通过`boxplot_stats(x)`来获取详细的IQR信息。\n",
    "- Hampel Identifier: Hampel Identifier 是一种基于中位数和中位数绝对偏差（MAD）的异常值检测方法。它使用中位数和MAD来确定数据的正常范围。当数据超出mad的3倍时均值，就认为是异常值。\n",
    "- Machine Learning: 一些机器学习算法（如孤立森林）可以用于检测异常值。这些算法可以识别异常值，而无需指定阈值。\n",
    "\n",
    "### Basic methods to deal with outliers\n",
    "- 删除异常值： 一旦识别到异常值，你可以选择删除异常值。但是，这种方法可能会导致数据丢失\n",
    "- 替换异常值： 你可以选择将异常值替换为中位数、平均值或其他统计值。这种方法可能会导致数据失真\n",
    "- 忽视异常值： 有时，你可以选择忽略异常值，而不做任何处理。这种方法可能会导致数据失真"
   ]
  },
  {
   "cell_type": "code",
   "execution_count": 1,
   "id": "8cc4a101",
   "metadata": {
    "ExecuteTime": {
     "end_time": "2023-11-24T01:18:07.198134500Z",
     "start_time": "2023-11-24T01:18:07.125067500Z"
    }
   },
   "outputs": [
    {
     "data": {
      "text/plain": "<Figure size 640x480 with 1 Axes>",
      "image/png": "[encoded data removed]"
     },
     "metadata": {},
     "output_type": "display_data"
    }
   ],
   "source": [
    "import pandas as pd\n",
    "import seaborn as sns\n",
    "\n",
    "# 创建一个示例数据帧\n",
    "data = {'A': [1, 2, 3, 4, 5, 100], 'B': [10, 20, 30, 40, 50, 200]}\n",
    "df = pd.DataFrame(data)\n",
    "\n",
    "# 使用箱线图可视化异常值\n",
    "sns.boxplot(data=df);"
   ]
  },
  {
   "cell_type": "markdown",
   "id": "aa5b33fe",
   "metadata": {},
   "source": [
    "**异常值检测方法**： 可以使用统计方法（如 Z-分数、IQR 方法）、机器学习方法（如聚类和离群点检测算法）来检测异常值。一些库，如 scipy.stats 和   scikit-learn，提供了异常值检测的工具。\n",
    "\n",
    "**处理异常值**： 一旦识别到异常值，你可以选择对其进行处理。处理方法包括删除异常值、替换为中位数或平均值、使用插值等。具体的处理方法取决于数据和分析需求。\n",
    "\n",
    "以下是一个示例，演示如何使用 Z-分数方法来检测并替换异常值："
   ]
  },
  {
   "cell_type": "code",
   "execution_count": 2,
   "id": "372fa973",
   "metadata": {},
   "outputs": [
    {
     "name": "stdout",
     "output_type": "stream",
     "text": [
      "          A         B\n",
      "0  0.502219  0.747532\n",
      "1  0.474574  0.592870\n",
      "2  0.446929  0.438208\n",
      "3  0.419284  0.283547\n",
      "4  0.391639  0.128885\n",
      "5  2.234643  2.191042\n",
      "outliers:\n",
      " 0    False\n",
      "1    False\n",
      "2    False\n",
      "3    False\n",
      "4    False\n",
      "5     True\n",
      "dtype: bool\n",
      "   A   B\n",
      "0  1  10\n",
      "1  2  20\n",
      "2  3  30\n",
      "3  4  40\n",
      "4  5  50\n"
     ]
    }
   ],
   "source": [
    "import pandas as pd\n",
    "import numpy as np\n",
    "from scipy import stats\n",
    "\n",
    "# 创建示例数据帧\n",
    "data = {'A': [1, 2, 3, 4, 5, 100], 'B': [10, 20, 30, 40, 50, 200]}\n",
    "df = pd.DataFrame(data)\n",
    "\n",
    "# 计算每列的 Z-分数\n",
    "z_scores = np.abs(stats.zscore(df))\n",
    "print(z_scores)\n",
    "\n",
    "# 设置异常值阈值\n",
    "threshold = 2\n",
    "\n",
    "# 使用 Z-分数来识别和替换异常值  当z-score > threshold, 则认为是异常值\n",
    "outliers = (z_scores > threshold).any(axis=1)\n",
    "print('outliers:\\n',outliers)\n",
    "df_no_outliers = df[-outliers]\n",
    "\n",
    "# 打印处理后的数据帧\n",
    "print(df_no_outliers)"
   ]
  },
  {
   "cell_type": "markdown",
   "id": "e3d6a723",
   "metadata": {},
   "source": [
    "使用Machine Learning算法处理异常值  \n",
    "下面是使用**孤立森林算法**的例子 （isolation forest）  \n",
    "predict 方法返回一个数组，其中 1 表示正常值，-1 表示异常值。"
   ]
  },
  {
   "cell_type": "code",
   "execution_count": 3,
   "id": "ec24ff7c",
   "metadata": {},
   "outputs": [
    {
     "name": "stdout",
     "output_type": "stream",
     "text": [
      "[ 1  1  1  1  1 -1]\n"
     ]
    },
    {
     "name": "stderr",
     "output_type": "stream",
     "text": [
      "E:\\Programming\\anaconda3\\lib\\site-packages\\sklearn\\base.py:450: UserWarning: X does not have valid feature names, but IsolationForest was fitted with feature names\n",
      "  warnings.warn(\n"
     ]
    }
   ],
   "source": [
    "import pandas as pd\n",
    "from sklearn.ensemble import IsolationForest\n",
    "\n",
    "# 创建示例数据帧，并为列指定名称\n",
    "data = {'A': [1, 2, 3, 4, 5, 100], 'B': [10, 20, 30, 40, 50, 200]}\n",
    "df = pd.DataFrame(data)\n",
    "\n",
    "# 创建孤立森林模型\n",
    "clf = IsolationForest(contamination=0.1)# contamination参数设置异常值的比例\n",
    "\n",
    "# 拟合模型\n",
    "clf.fit(df)\n",
    "\n",
    "# 预测异常值\n",
    "outliers = clf.predict(df)\n",
    "\n",
    "# 打印异常值的位置\n",
    "print(outliers)"
   ]
  },
  {
   "cell_type": "markdown",
   "source": [
    "## Case 2: Star Wars Characters' Height\n",
    "In humans, males are typically taller than females, but what about males and females in the Star Wars universe, which is inhabited by thousands of different species? Let's take a look in our dataset.\n",
    "\n",
    "使用starwars.csv数据集进行异常值检测和处理"
   ],
   "metadata": {
    "collapsed": false
   },
   "id": "9642da6157e3ef65"
  },
  {
   "cell_type": "markdown",
   "source": [
    "### 1. 总体分析\n",
    "由于重点关注outliers，所有直接dropna()进行缺失值处理\n"
   ],
   "metadata": {
    "collapsed": false
   },
   "id": "a33b979ad0c57bcf"
  },
  {
   "cell_type": "code",
   "execution_count": 10,
   "outputs": [
    {
     "data": {
      "text/plain": "                     name  height  mass     hair_color    skin_color  \\\n0          Luke Skywalker   172.0    77          blond          fair   \n3             Darth Vader   202.0   136           none         white   \n4             Leia Organa   150.0    49          brown         light   \n5               Owen Lars   178.0   120    brown, grey         light   \n6      Beru Whitesun lars   165.0    75          brown         light   \n8       Biggs Darklighter   183.0    84          black         light   \n9          Obi-Wan Kenobi   182.0    77  auburn, white          fair   \n10       Anakin Skywalker   188.0    84          blond          fair   \n13               Han Solo   180.0    80          brown          fair   \n16         Wedge Antilles   170.0    77          brown          fair   \n19              Palpatine   170.0    75           grey          pale   \n20              Boba Fett   183.0  78.2          black          fair   \n22                  Bossk   190.0   113           none         green   \n23       Lando Calrissian   177.0    79          black          dark   \n24                  Lobot   175.0    79           none         light   \n25                 Ackbar   180.0    83           none  brown mottle   \n28  Wicket Systri Warrick    88.0    20          brown         brown   \n33          Jar Jar Binks   196.0    66           none        orange   \n41             Darth Maul   175.0    80           none           red   \n43            Ayla Secura   178.0    55           none          blue   \n47             Mace Windu   188.0    84           none          dark   \n48           Ki-Adi-Mundi   198.0    82          white          pale   \n54               Plo Koon   188.0    80           none        orange   \n60        Luminara Unduli   170.0  56.2          black        yellow   \n61          Barriss Offee   166.0    50          black        yellow   \n63                  Dooku   193.0    80          white          fair   \n65             Jango Fett   183.0    79          black           tan   \n86          Padmé Amidala   165.0    45          brown         light   \n\n    eye_color birth_year  gender     homeworld       species  \n0        blue      19BBY    male      Tatooine         Human  \n3      yellow    41.9BBY    male      Tatooine         Human  \n4       brown      19BBY  female      Alderaan         Human  \n5        blue      52BBY    male      Tatooine         Human  \n6        blue      47BBY  female      Tatooine         Human  \n8       brown      24BBY    male      Tatooine         Human  \n9   blue-gray      57BBY    male       Stewjon         Human  \n10       blue    41.9BBY    male      Tatooine         Human  \n13      brown      29BBY    male      Corellia         Human  \n16      hazel      21BBY    male      Corellia         Human  \n19     yellow      82BBY    male         Naboo         Human  \n20      brown    31.5BBY    male        Kamino         Human  \n22        red      53BBY    male     Trandosha    Trandoshan  \n23      brown      31BBY    male       Socorro         Human  \n24       blue      37BBY    male        Bespin         Human  \n25     orange      41BBY    male      Mon Cala  Mon Calamari  \n28      brown       8BBY    male         Endor          Ewok  \n33     orange      52BBY    male         Naboo        Gungan  \n41     yellow      54BBY    male      Dathomir        Zabrak  \n43      hazel      48BBY  female        Ryloth       Twi'lek  \n47      brown      72BBY    male    Haruun Kal         Human  \n48     yellow      92BBY    male         Cerea        Cerean  \n54      black      22BBY    male         Dorin       Kel Dor  \n60       blue      58BBY  female        Mirial      Mirialan  \n61       blue      40BBY  female        Mirial      Mirialan  \n63      brown     102BBY    male       Serenno         Human  \n65      brown      66BBY    male  Concord Dawn         Human  \n86      brown      46BBY  female         Naboo         Human  ",
      "text/html": "<div>\n<style scoped>\n    .dataframe tbody tr th:only-of-type {\n        vertical-align: middle;\n    }\n\n    .dataframe tbody tr th {\n        vertical-align: top;\n    }\n\n    .dataframe thead th {\n        text-align: right;\n    }\n</style>\n<table border=\"1\" class=\"dataframe\">\n  <thead>\n    <tr style=\"text-align: right;\">\n      <th></th>\n      <th>name</th>\n      <th>height</th>\n      <th>mass</th>\n      <th>hair_color</th>\n      <th>skin_color</th>\n      <th>eye_color</th>\n      <th>birth_year</th>\n      <th>gender</th>\n      <th>homeworld</th>\n      <th>species</th>\n    </tr>\n  </thead>\n  <tbody>\n    <tr>\n      <th>0</th>\n      <td>Luke Skywalker</td>\n      <td>172.0</td>\n      <td>77</td>\n      <td>blond</td>\n      <td>fair</td>\n      <td>blue</td>\n      <td>19BBY</td>\n      <td>male</td>\n      <td>Tatooine</td>\n      <td>Human</td>\n    </tr>\n    <tr>\n      <th>3</th>\n      <td>Darth Vader</td>\n      <td>202.0</td>\n      <td>136</td>\n      <td>none</td>\n      <td>white</td>\n      <td>yellow</td>\n      <td>41.9BBY</td>\n      <td>male</td>\n      <td>Tatooine</td>\n      <td>Human</td>\n    </tr>\n    <tr>\n      <th>4</th>\n      <td>Leia Organa</td>\n      <td>150.0</td>\n      <td>49</td>\n      <td>brown</td>\n      <td>light</td>\n      <td>brown</td>\n      <td>19BBY</td>\n      <td>female</td>\n      <td>Alderaan</td>\n      <td>Human</td>\n    </tr>\n    <tr>\n      <th>5</th>\n      <td>Owen Lars</td>\n      <td>178.0</td>\n      <td>120</td>\n      <td>brown, grey</td>\n      <td>light</td>\n      <td>blue</td>\n      <td>52BBY</td>\n      <td>male</td>\n      <td>Tatooine</td>\n      <td>Human</td>\n    </tr>\n    <tr>\n      <th>6</th>\n      <td>Beru Whitesun lars</td>\n      <td>165.0</td>\n      <td>75</td>\n      <td>brown</td>\n      <td>light</td>\n      <td>blue</td>\n      <td>47BBY</td>\n      <td>female</td>\n      <td>Tatooine</td>\n      <td>Human</td>\n    </tr>\n    <tr>\n      <th>8</th>\n      <td>Biggs Darklighter</td>\n      <td>183.0</td>\n      <td>84</td>\n      <td>black</td>\n      <td>light</td>\n      <td>brown</td>\n      <td>24BBY</td>\n      <td>male</td>\n      <td>Tatooine</td>\n      <td>Human</td>\n    </tr>\n    <tr>\n      <th>9</th>\n      <td>Obi-Wan Kenobi</td>\n      <td>182.0</td>\n      <td>77</td>\n      <td>auburn, white</td>\n      <td>fair</td>\n      <td>blue-gray</td>\n      <td>57BBY</td>\n      <td>male</td>\n      <td>Stewjon</td>\n      <td>Human</td>\n    </tr>\n    <tr>\n      <th>10</th>\n      <td>Anakin Skywalker</td>\n      <td>188.0</td>\n      <td>84</td>\n      <td>blond</td>\n      <td>fair</td>\n      <td>blue</td>\n      <td>41.9BBY</td>\n      <td>male</td>\n      <td>Tatooine</td>\n      <td>Human</td>\n    </tr>\n    <tr>\n      <th>13</th>\n      <td>Han Solo</td>\n      <td>180.0</td>\n      <td>80</td>\n      <td>brown</td>\n      <td>fair</td>\n      <td>brown</td>\n      <td>29BBY</td>\n      <td>male</td>\n      <td>Corellia</td>\n      <td>Human</td>\n    </tr>\n    <tr>\n      <th>16</th>\n      <td>Wedge Antilles</td>\n      <td>170.0</td>\n      <td>77</td>\n      <td>brown</td>\n      <td>fair</td>\n      <td>hazel</td>\n      <td>21BBY</td>\n      <td>male</td>\n      <td>Corellia</td>\n      <td>Human</td>\n    </tr>\n    <tr>\n      <th>19</th>\n      <td>Palpatine</td>\n      <td>170.0</td>\n      <td>75</td>\n      <td>grey</td>\n      <td>pale</td>\n      <td>yellow</td>\n      <td>82BBY</td>\n      <td>male</td>\n      <td>Naboo</td>\n      <td>Human</td>\n    </tr>\n    <tr>\n      <th>20</th>\n      <td>Boba Fett</td>\n      <td>183.0</td>\n      <td>78.2</td>\n      <td>black</td>\n      <td>fair</td>\n      <td>brown</td>\n      <td>31.5BBY</td>\n      <td>male</td>\n      <td>Kamino</td>\n      <td>Human</td>\n    </tr>\n    <tr>\n      <th>22</th>\n      <td>Bossk</td>\n      <td>190.0</td>\n      <td>113</td>\n      <td>none</td>\n      <td>green</td>\n      <td>red</td>\n      <td>53BBY</td>\n      <td>male</td>\n      <td>Trandosha</td>\n      <td>Trandoshan</td>\n    </tr>\n    <tr>\n      <th>23</th>\n      <td>Lando Calrissian</td>\n      <td>177.0</td>\n      <td>79</td>\n      <td>black</td>\n      <td>dark</td>\n      <td>brown</td>\n      <td>31BBY</td>\n      <td>male</td>\n      <td>Socorro</td>\n      <td>Human</td>\n    </tr>\n    <tr>\n      <th>24</th>\n      <td>Lobot</td>\n      <td>175.0</td>\n      <td>79</td>\n      <td>none</td>\n      <td>light</td>\n      <td>blue</td>\n      <td>37BBY</td>\n      <td>male</td>\n      <td>Bespin</td>\n      <td>Human</td>\n    </tr>\n    <tr>\n      <th>25</th>\n      <td>Ackbar</td>\n      <td>180.0</td>\n      <td>83</td>\n      <td>none</td>\n      <td>brown mottle</td>\n      <td>orange</td>\n      <td>41BBY</td>\n      <td>male</td>\n      <td>Mon Cala</td>\n      <td>Mon Calamari</td>\n    </tr>\n    <tr>\n      <th>28</th>\n      <td>Wicket Systri Warrick</td>\n      <td>88.0</td>\n      <td>20</td>\n      <td>brown</td>\n      <td>brown</td>\n      <td>brown</td>\n      <td>8BBY</td>\n      <td>male</td>\n      <td>Endor</td>\n      <td>Ewok</td>\n    </tr>\n    <tr>\n      <th>33</th>\n      <td>Jar Jar Binks</td>\n      <td>196.0</td>\n      <td>66</td>\n      <td>none</td>\n      <td>orange</td>\n      <td>orange</td>\n      <td>52BBY</td>\n      <td>male</td>\n      <td>Naboo</td>\n      <td>Gungan</td>\n    </tr>\n    <tr>\n      <th>41</th>\n      <td>Darth Maul</td>\n      <td>175.0</td>\n      <td>80</td>\n      <td>none</td>\n      <td>red</td>\n      <td>yellow</td>\n      <td>54BBY</td>\n      <td>male</td>\n      <td>Dathomir</td>\n      <td>Zabrak</td>\n    </tr>\n    <tr>\n      <th>43</th>\n      <td>Ayla Secura</td>\n      <td>178.0</td>\n      <td>55</td>\n      <td>none</td>\n      <td>blue</td>\n      <td>hazel</td>\n      <td>48BBY</td>\n      <td>female</td>\n      <td>Ryloth</td>\n      <td>Twi'lek</td>\n    </tr>\n    <tr>\n      <th>47</th>\n      <td>Mace Windu</td>\n      <td>188.0</td>\n      <td>84</td>\n      <td>none</td>\n      <td>dark</td>\n      <td>brown</td>\n      <td>72BBY</td>\n      <td>male</td>\n      <td>Haruun Kal</td>\n      <td>Human</td>\n    </tr>\n    <tr>\n      <th>48</th>\n      <td>Ki-Adi-Mundi</td>\n      <td>198.0</td>\n      <td>82</td>\n      <td>white</td>\n      <td>pale</td>\n      <td>yellow</td>\n      <td>92BBY</td>\n      <td>male</td>\n      <td>Cerea</td>\n      <td>Cerean</td>\n    </tr>\n    <tr>\n      <th>54</th>\n      <td>Plo Koon</td>\n      <td>188.0</td>\n      <td>80</td>\n      <td>none</td>\n      <td>orange</td>\n      <td>black</td>\n      <td>22BBY</td>\n      <td>male</td>\n      <td>Dorin</td>\n      <td>Kel Dor</td>\n    </tr>\n    <tr>\n      <th>60</th>\n      <td>Luminara Unduli</td>\n      <td>170.0</td>\n      <td>56.2</td>\n      <td>black</td>\n      <td>yellow</td>\n      <td>blue</td>\n      <td>58BBY</td>\n      <td>female</td>\n      <td>Mirial</td>\n      <td>Mirialan</td>\n    </tr>\n    <tr>\n      <th>61</th>\n      <td>Barriss Offee</td>\n      <td>166.0</td>\n      <td>50</td>\n      <td>black</td>\n      <td>yellow</td>\n      <td>blue</td>\n      <td>40BBY</td>\n      <td>female</td>\n      <td>Mirial</td>\n      <td>Mirialan</td>\n    </tr>\n    <tr>\n      <th>63</th>\n      <td>Dooku</td>\n      <td>193.0</td>\n      <td>80</td>\n      <td>white</td>\n      <td>fair</td>\n      <td>brown</td>\n      <td>102BBY</td>\n      <td>male</td>\n      <td>Serenno</td>\n      <td>Human</td>\n    </tr>\n    <tr>\n      <th>65</th>\n      <td>Jango Fett</td>\n      <td>183.0</td>\n      <td>79</td>\n      <td>black</td>\n      <td>tan</td>\n      <td>brown</td>\n      <td>66BBY</td>\n      <td>male</td>\n      <td>Concord Dawn</td>\n      <td>Human</td>\n    </tr>\n    <tr>\n      <th>86</th>\n      <td>Padmé Amidala</td>\n      <td>165.0</td>\n      <td>45</td>\n      <td>brown</td>\n      <td>light</td>\n      <td>brown</td>\n      <td>46BBY</td>\n      <td>female</td>\n      <td>Naboo</td>\n      <td>Human</td>\n    </tr>\n  </tbody>\n</table>\n</div>"
     },
     "execution_count": 10,
     "metadata": {},
     "output_type": "execute_result"
    }
   ],
   "source": [
    "starwars = pd.read_csv(\"E:\\Programming\\Dataset_prac\\starwars(1).csv\")\n",
    "starwars=starwars.dropna()\n",
    "starwars"
   ],
   "metadata": {
    "collapsed": false,
    "ExecuteTime": {
     "end_time": "2023-11-24T01:28:52.025952100Z",
     "start_time": "2023-11-24T01:28:51.992855100Z"
    }
   },
   "id": "d1010452d55c5fd6"
  },
  {
   "cell_type": "code",
   "execution_count": 9,
   "outputs": [
    {
     "name": "stdout",
     "output_type": "stream",
     "text": [
      "<class 'pandas.core.frame.DataFrame'>\n",
      "Int64Index: 28 entries, 0 to 86\n",
      "Data columns (total 10 columns):\n",
      " #   Column      Non-Null Count  Dtype  \n",
      "---  ------      --------------  -----  \n",
      " 0   name        28 non-null     object \n",
      " 1   height      28 non-null     float64\n",
      " 2   mass        28 non-null     object \n",
      " 3   hair_color  28 non-null     object \n",
      " 4   skin_color  28 non-null     object \n",
      " 5   eye_color   28 non-null     object \n",
      " 6   birth_year  28 non-null     object \n",
      " 7   gender      28 non-null     object \n",
      " 8   homeworld   28 non-null     object \n",
      " 9   species     28 non-null     object \n",
      "dtypes: float64(1), object(9)\n",
      "memory usage: 2.4+ KB\n"
     ]
    }
   ],
   "source": [
    "starwars.info()"
   ],
   "metadata": {
    "collapsed": false,
    "ExecuteTime": {
     "end_time": "2023-11-24T01:28:40.422218400Z",
     "start_time": "2023-11-24T01:28:40.417207800Z"
    }
   },
   "id": "5b11a859dde7cb5b"
  },
  {
   "cell_type": "code",
   "execution_count": 11,
   "outputs": [
    {
     "data": {
      "text/plain": "                  name      height mass hair_color skin_color eye_color  \\\ncount               28   28.000000   28         28         28        28   \nunique              28         NaN   18          8         13         8   \ntop     Luke Skywalker         NaN   80       none       fair     brown   \nfreq                 1         NaN    4          9          7        10   \nmean               NaN  176.178571  NaN        NaN        NaN       NaN   \nstd                NaN   20.716881  NaN        NaN        NaN       NaN   \nmin                NaN   88.000000  NaN        NaN        NaN       NaN   \n25%                NaN  170.000000  NaN        NaN        NaN       NaN   \n50%                NaN  179.000000  NaN        NaN        NaN       NaN   \n75%                NaN  188.000000  NaN        NaN        NaN       NaN   \nmax                NaN  202.000000  NaN        NaN        NaN       NaN   \n\n       birth_year gender homeworld species  \ncount          28     28        28      28  \nunique         25      2        19      10  \ntop         19BBY   male  Tatooine   Human  \nfreq            2     22         6      18  \nmean          NaN    NaN       NaN     NaN  \nstd           NaN    NaN       NaN     NaN  \nmin           NaN    NaN       NaN     NaN  \n25%           NaN    NaN       NaN     NaN  \n50%           NaN    NaN       NaN     NaN  \n75%           NaN    NaN       NaN     NaN  \nmax           NaN    NaN       NaN     NaN  ",
      "text/html": "<div>\n<style scoped>\n    .dataframe tbody tr th:only-of-type {\n        vertical-align: middle;\n    }\n\n    .dataframe tbody tr th {\n        vertical-align: top;\n    }\n\n    .dataframe thead th {\n        text-align: right;\n    }\n</style>\n<table border=\"1\" class=\"dataframe\">\n  <thead>\n    <tr style=\"text-align: right;\">\n      <th></th>\n      <th>name</th>\n      <th>height</th>\n      <th>mass</th>\n      <th>hair_color</th>\n      <th>skin_color</th>\n      <th>eye_color</th>\n      <th>birth_year</th>\n      <th>gender</th>\n      <th>homeworld</th>\n      <th>species</th>\n    </tr>\n  </thead>\n  <tbody>\n    <tr>\n      <th>count</th>\n      <td>28</td>\n      <td>28.000000</td>\n      <td>28</td>\n      <td>28</td>\n      <td>28</td>\n      <td>28</td>\n      <td>28</td>\n      <td>28</td>\n      <td>28</td>\n      <td>28</td>\n    </tr>\n    <tr>\n      <th>unique</th>\n      <td>28</td>\n      <td>NaN</td>\n      <td>18</td>\n      <td>8</td>\n      <td>13</td>\n      <td>8</td>\n      <td>25</td>\n      <td>2</td>\n      <td>19</td>\n      <td>10</td>\n    </tr>\n    <tr>\n      <th>top</th>\n      <td>Luke Skywalker</td>\n      <td>NaN</td>\n      <td>80</td>\n      <td>none</td>\n      <td>fair</td>\n      <td>brown</td>\n      <td>19BBY</td>\n      <td>male</td>\n      <td>Tatooine</td>\n      <td>Human</td>\n    </tr>\n    <tr>\n      <th>freq</th>\n      <td>1</td>\n      <td>NaN</td>\n      <td>4</td>\n      <td>9</td>\n      <td>7</td>\n      <td>10</td>\n      <td>2</td>\n      <td>22</td>\n      <td>6</td>\n      <td>18</td>\n    </tr>\n    <tr>\n      <th>mean</th>\n      <td>NaN</td>\n      <td>176.178571</td>\n      <td>NaN</td>\n      <td>NaN</td>\n      <td>NaN</td>\n      <td>NaN</td>\n      <td>NaN</td>\n      <td>NaN</td>\n      <td>NaN</td>\n      <td>NaN</td>\n    </tr>\n    <tr>\n      <th>std</th>\n      <td>NaN</td>\n      <td>20.716881</td>\n      <td>NaN</td>\n      <td>NaN</td>\n      <td>NaN</td>\n      <td>NaN</td>\n      <td>NaN</td>\n      <td>NaN</td>\n      <td>NaN</td>\n      <td>NaN</td>\n    </tr>\n    <tr>\n      <th>min</th>\n      <td>NaN</td>\n      <td>88.000000</td>\n      <td>NaN</td>\n      <td>NaN</td>\n      <td>NaN</td>\n      <td>NaN</td>\n      <td>NaN</td>\n      <td>NaN</td>\n      <td>NaN</td>\n      <td>NaN</td>\n    </tr>\n    <tr>\n      <th>25%</th>\n      <td>NaN</td>\n      <td>170.000000</td>\n      <td>NaN</td>\n      <td>NaN</td>\n      <td>NaN</td>\n      <td>NaN</td>\n      <td>NaN</td>\n      <td>NaN</td>\n      <td>NaN</td>\n      <td>NaN</td>\n    </tr>\n    <tr>\n      <th>50%</th>\n      <td>NaN</td>\n      <td>179.000000</td>\n      <td>NaN</td>\n      <td>NaN</td>\n      <td>NaN</td>\n      <td>NaN</td>\n      <td>NaN</td>\n      <td>NaN</td>\n      <td>NaN</td>\n      <td>NaN</td>\n    </tr>\n    <tr>\n      <th>75%</th>\n      <td>NaN</td>\n      <td>188.000000</td>\n      <td>NaN</td>\n      <td>NaN</td>\n      <td>NaN</td>\n      <td>NaN</td>\n      <td>NaN</td>\n      <td>NaN</td>\n      <td>NaN</td>\n      <td>NaN</td>\n    </tr>\n    <tr>\n      <th>max</th>\n      <td>NaN</td>\n      <td>202.000000</td>\n      <td>NaN</td>\n      <td>NaN</td>\n      <td>NaN</td>\n      <td>NaN</td>\n      <td>NaN</td>\n      <td>NaN</td>\n      <td>NaN</td>\n      <td>NaN</td>\n    </tr>\n  </tbody>\n</table>\n</div>"
     },
     "execution_count": 11,
     "metadata": {},
     "output_type": "execute_result"
    }
   ],
   "source": [
    "starwars.describe(include='all')"
   ],
   "metadata": {
    "collapsed": false,
    "ExecuteTime": {
     "end_time": "2023-11-24T01:28:57.153468Z",
     "start_time": "2023-11-24T01:28:57.104671400Z"
    }
   },
   "id": "4e87cf663ad8049b"
  },
  {
   "cell_type": "code",
   "execution_count": 12,
   "outputs": [
    {
     "data": {
      "text/plain": "male      22\nfemale     6\nName: gender, dtype: int64"
     },
     "execution_count": 12,
     "metadata": {},
     "output_type": "execute_result"
    }
   ],
   "source": [
    "starwars.gender.value_counts()"
   ],
   "metadata": {
    "collapsed": false,
    "ExecuteTime": {
     "end_time": "2023-11-24T01:29:09.844149300Z",
     "start_time": "2023-11-24T01:29:09.816069200Z"
    }
   },
   "id": "30aa904b5d7908a"
  },
  {
   "cell_type": "code",
   "execution_count": 14,
   "outputs": [
    {
     "data": {
      "text/plain": "count     28.000000\nmean     176.178571\nstd       20.716881\nmin       88.000000\n25%      170.000000\n50%      179.000000\n75%      188.000000\nmax      202.000000\nName: height, dtype: float64"
     },
     "execution_count": 14,
     "metadata": {},
     "output_type": "execute_result"
    }
   ],
   "source": [
    "starwars.height.describe()"
   ],
   "metadata": {
    "collapsed": false,
    "ExecuteTime": {
     "end_time": "2023-11-24T01:30:43.790587800Z",
     "start_time": "2023-11-24T01:30:43.764583300Z"
    }
   },
   "id": "ce363731d4a45163"
  },
  {
   "cell_type": "markdown",
   "source": [
    "可以看到总共28个角色（去除缺失值后），男性22个，女性6个。\n",
    "身高均值176cm,最大值202cm，最小值88cm"
   ],
   "metadata": {
    "collapsed": false
   },
   "id": "cd3fe09348ba673c"
  },
  {
   "cell_type": "markdown",
   "source": [
    "## 2. 可视化分析\n"
   ],
   "metadata": {
    "collapsed": false
   },
   "id": "79b41a3009c5cd8f"
  },
  {
   "cell_type": "code",
   "execution_count": 16,
   "outputs": [],
   "source": [
    "import seaborn as sns\n",
    "import matplotlib\n",
    "import matplotlib.pyplot as plt\n",
    "%matplotlib inline\n",
    "import numpy as np\n",
    "\n",
    "sns.set_style('darkgrid')\n",
    "matplotlib.rcParams['font.size'] = 14\n",
    "matplotlib.rcParams['figure.figsize'] = (9, 5)\n",
    "matplotlib.rcParams['figure.facecolor'] = '#00000000'"
   ],
   "metadata": {
    "collapsed": false,
    "ExecuteTime": {
     "end_time": "2023-11-24T01:32:31.284078900Z",
     "start_time": "2023-11-24T01:32:31.260125500Z"
    }
   },
   "id": "bbb2748fea85248d"
  },
  {
   "cell_type": "markdown",
   "source": [
    "### 2.1 直方图"
   ],
   "metadata": {
    "collapsed": false
   },
   "id": "6f0ffcd7ffe6be59"
  },
  {
   "cell_type": "code",
   "execution_count": 26,
   "outputs": [
    {
     "data": {
      "text/plain": "<Figure size 900x500 with 1 Axes>",
      "image/png": "[encoded data removed]"
     },
     "metadata": {
      "needs_background": "light"
     },
     "output_type": "display_data"
    }
   ],
   "source": [
    "sns.histplot(starwars.height, bins=20, kde=True,color='purple');"
   ],
   "metadata": {
    "collapsed": false,
    "ExecuteTime": {
     "end_time": "2023-11-24T01:35:05.598949Z",
     "start_time": "2023-11-24T01:35:05.435538200Z"
    }
   },
   "id": "403be6160a75fa5f"
  },
  {
   "cell_type": "markdown",
   "source": [
    "### 2.2 箱线图\n",
    "`outliers = boxplot_stats(starwars.height)[0]['fliers']`"
   ],
   "metadata": {
    "collapsed": false
   },
   "id": "60a68ea5a84afa89"
  },
  {
   "cell_type": "code",
   "execution_count": 50,
   "outputs": [
    {
     "data": {
      "text/plain": "[{'mean': 176.17857142857142,\n  'iqr': 18.0,\n  'cilo': 173.65936199637963,\n  'cihi': 184.34063800362037,\n  'whishi': 202.0,\n  'whislo': 150.0,\n  'fliers': array([88.]),\n  'q1': 170.0,\n  'med': 179.0,\n  'q3': 188.0}]"
     },
     "execution_count": 50,
     "metadata": {},
     "output_type": "execute_result"
    },
    {
     "data": {
      "text/plain": "<Figure size 900x500 with 1 Axes>",
      "image/png": "[encoded data removed]"
     },
     "metadata": {
      "needs_background": "light"
     },
     "output_type": "display_data"
    }
   ],
   "source": [
    "plt.boxplot(starwars.height);\n",
    "from matplotlib.cbook import boxplot_stats  \n",
    "box_info= boxplot_stats(starwars.height)\n",
    "box_info # 其中stats表示上下限，iqr表示四分位距，fliers表示异常值（88）\n"
   ],
   "metadata": {
    "collapsed": false,
    "ExecuteTime": {
     "end_time": "2023-11-24T01:47:06.351246900Z",
     "start_time": "2023-11-24T01:47:06.260325400Z"
    }
   },
   "id": "6573bc1bcf5f7116"
  },
  {
   "cell_type": "markdown",
   "source": [
    "#### 对Gender进行分组，查看男女性别的身高的箱线图"
   ],
   "metadata": {
    "collapsed": false
   },
   "id": "98a501b196379b2d"
  },
  {
   "cell_type": "code",
   "execution_count": 45,
   "outputs": [
    {
     "data": {
      "text/plain": "[0     172.0\n 3     202.0\n 5     178.0\n 8     183.0\n 9     182.0\n 10    188.0\n 13    180.0\n 16    170.0\n 19    170.0\n 20    183.0\n 22    190.0\n 23    177.0\n 24    175.0\n 25    180.0\n 28     88.0\n 33    196.0\n 41    175.0\n 47    188.0\n 48    198.0\n 54    188.0\n 63    193.0\n 65    183.0\n Name: height, dtype: float64,\n 4     150.0\n 6     165.0\n 43    178.0\n 60    170.0\n 61    166.0\n 86    165.0\n Name: height, dtype: float64]"
     },
     "execution_count": 45,
     "metadata": {},
     "output_type": "execute_result"
    }
   ],
   "source": [
    "male_df=starwars[starwars.gender=='male']\n",
    "female_df=starwars[starwars.gender=='female']\n",
    "height_data=[male_df.height,female_df.height]\n",
    "\n",
    "height_data"
   ],
   "metadata": {
    "collapsed": false,
    "ExecuteTime": {
     "end_time": "2023-11-24T01:45:35.798625100Z",
     "start_time": "2023-11-24T01:45:35.737923600Z"
    }
   },
   "id": "d662b5690541a5b6"
  },
  {
   "cell_type": "code",
   "execution_count": 48,
   "outputs": [
    {
     "data": {
      "text/plain": "<Figure size 900x500 with 1 Axes>",
      "image/png": "[encoded data removed]"
     },
     "metadata": {
      "needs_background": "light"
     },
     "output_type": "display_data"
    }
   ],
   "source": [
    "plt.boxplot(height_data);"
   ],
   "metadata": {
    "collapsed": false,
    "ExecuteTime": {
     "end_time": "2023-11-24T01:46:36.793051400Z",
     "start_time": "2023-11-24T01:46:36.725332200Z"
    }
   },
   "id": "4f3eadaa468f1af8"
  },
  {
   "cell_type": "markdown",
   "source": [
    "### 2-3 Sigma Rule\n",
    "- 68%的数据位于均值的一个标准差范围内：x.mean() +/- x.std()\n",
    "- 95%的数据位于均值的两个标准差范围内: x.mean() +/- 2 * x.std()\n",
    "- 99.7%的数据位于均值的三个标准差范围内: x.mean() +/- 3 * x.std()\n",
    "\n",
    "即正常值应该大部分都位于均值的3个标准差范围内，如果有数据超出这个范围，就可以认为是异常值。\n"
   ],
   "metadata": {
    "collapsed": false
   },
   "id": "47ffa7cc0ec4cb8f"
  },
  {
   "cell_type": "code",
   "execution_count": 64,
   "outputs": [
    {
     "name": "stdout",
     "output_type": "stream",
     "text": [
      "114.02792878545483 238.329214071688\n"
     ]
    },
    {
     "data": {
      "text/plain": "                     name  height mass hair_color skin_color eye_color  \\\n28  Wicket Systri Warrick    88.0   20      brown      brown     brown   \n\n   birth_year gender homeworld species  \n28       8BBY   male     Endor    Ewok  ",
      "text/html": "<div>\n<style scoped>\n    .dataframe tbody tr th:only-of-type {\n        vertical-align: middle;\n    }\n\n    .dataframe tbody tr th {\n        vertical-align: top;\n    }\n\n    .dataframe thead th {\n        text-align: right;\n    }\n</style>\n<table border=\"1\" class=\"dataframe\">\n  <thead>\n    <tr style=\"text-align: right;\">\n      <th></th>\n      <th>name</th>\n      <th>height</th>\n      <th>mass</th>\n      <th>hair_color</th>\n      <th>skin_color</th>\n      <th>eye_color</th>\n      <th>birth_year</th>\n      <th>gender</th>\n      <th>homeworld</th>\n      <th>species</th>\n    </tr>\n  </thead>\n  <tbody>\n    <tr>\n      <th>28</th>\n      <td>Wicket Systri Warrick</td>\n      <td>88.0</td>\n      <td>20</td>\n      <td>brown</td>\n      <td>brown</td>\n      <td>brown</td>\n      <td>8BBY</td>\n      <td>male</td>\n      <td>Endor</td>\n      <td>Ewok</td>\n    </tr>\n  </tbody>\n</table>\n</div>"
     },
     "execution_count": 64,
     "metadata": {},
     "output_type": "execute_result"
    }
   ],
   "source": [
    "# Identify bounds\n",
    "x= starwars['height']\n",
    "\n",
    "higherBound= x.mean() + 3 * x.std()\n",
    "lowerBound= x.mean() - 3 * x.std()\n",
    "print (lowerBound,higherBound)\n",
    "\n",
    "## Identify the rows with value greater than cutoff * sd \n",
    "starwars[(starwars['height'] > higherBound)|(starwars['height'] < lowerBound)] "
   ],
   "metadata": {
    "collapsed": false,
    "ExecuteTime": {
     "end_time": "2023-11-24T01:56:20.745938600Z",
     "start_time": "2023-11-24T01:56:20.695429100Z"
    }
   },
   "id": "814b2f72b2b1854c"
  },
  {
   "cell_type": "markdown",
   "source": [
    "### Hample Identifier\n",
    "Hample boundary是一种基于中位数和中位数绝对偏差（MAD）的异常值检测方法。它使用中位数和MAD来确定数据的正常范围.\n",
    "当数据超出mad的3倍时均值，就认为是异常值。\n",
    "\n",
    "即`x.median_abs_deviation() +/- 3 * x.std()`"
   ],
   "metadata": {
    "collapsed": false
   },
   "id": "5d6348837a7e964a"
  },
  {
   "cell_type": "code",
   "execution_count": 65,
   "outputs": [
    {
     "name": "stdout",
     "output_type": "stream",
     "text": [
      "-53.15064264311658 71.15064264311658\n"
     ]
    },
    {
     "data": {
      "text/plain": "                     name  height  mass     hair_color    skin_color  \\\n0          Luke Skywalker   172.0    77          blond          fair   \n3             Darth Vader   202.0   136           none         white   \n4             Leia Organa   150.0    49          brown         light   \n5               Owen Lars   178.0   120    brown, grey         light   \n6      Beru Whitesun lars   165.0    75          brown         light   \n8       Biggs Darklighter   183.0    84          black         light   \n9          Obi-Wan Kenobi   182.0    77  auburn, white          fair   \n10       Anakin Skywalker   188.0    84          blond          fair   \n13               Han Solo   180.0    80          brown          fair   \n16         Wedge Antilles   170.0    77          brown          fair   \n19              Palpatine   170.0    75           grey          pale   \n20              Boba Fett   183.0  78.2          black          fair   \n22                  Bossk   190.0   113           none         green   \n23       Lando Calrissian   177.0    79          black          dark   \n24                  Lobot   175.0    79           none         light   \n25                 Ackbar   180.0    83           none  brown mottle   \n28  Wicket Systri Warrick    88.0    20          brown         brown   \n33          Jar Jar Binks   196.0    66           none        orange   \n41             Darth Maul   175.0    80           none           red   \n43            Ayla Secura   178.0    55           none          blue   \n47             Mace Windu   188.0    84           none          dark   \n48           Ki-Adi-Mundi   198.0    82          white          pale   \n54               Plo Koon   188.0    80           none        orange   \n60        Luminara Unduli   170.0  56.2          black        yellow   \n61          Barriss Offee   166.0    50          black        yellow   \n63                  Dooku   193.0    80          white          fair   \n65             Jango Fett   183.0    79          black           tan   \n86          Padmé Amidala   165.0    45          brown         light   \n\n    eye_color birth_year  gender     homeworld       species  \n0        blue      19BBY    male      Tatooine         Human  \n3      yellow    41.9BBY    male      Tatooine         Human  \n4       brown      19BBY  female      Alderaan         Human  \n5        blue      52BBY    male      Tatooine         Human  \n6        blue      47BBY  female      Tatooine         Human  \n8       brown      24BBY    male      Tatooine         Human  \n9   blue-gray      57BBY    male       Stewjon         Human  \n10       blue    41.9BBY    male      Tatooine         Human  \n13      brown      29BBY    male      Corellia         Human  \n16      hazel      21BBY    male      Corellia         Human  \n19     yellow      82BBY    male         Naboo         Human  \n20      brown    31.5BBY    male        Kamino         Human  \n22        red      53BBY    male     Trandosha    Trandoshan  \n23      brown      31BBY    male       Socorro         Human  \n24       blue      37BBY    male        Bespin         Human  \n25     orange      41BBY    male      Mon Cala  Mon Calamari  \n28      brown       8BBY    male         Endor          Ewok  \n33     orange      52BBY    male         Naboo        Gungan  \n41     yellow      54BBY    male      Dathomir        Zabrak  \n43      hazel      48BBY  female        Ryloth       Twi'lek  \n47      brown      72BBY    male    Haruun Kal         Human  \n48     yellow      92BBY    male         Cerea        Cerean  \n54      black      22BBY    male         Dorin       Kel Dor  \n60       blue      58BBY  female        Mirial      Mirialan  \n61       blue      40BBY  female        Mirial      Mirialan  \n63      brown     102BBY    male       Serenno         Human  \n65      brown      66BBY    male  Concord Dawn         Human  \n86      brown      46BBY  female         Naboo         Human  ",
      "text/html": "<div>\n<style scoped>\n    .dataframe tbody tr th:only-of-type {\n        vertical-align: middle;\n    }\n\n    .dataframe tbody tr th {\n        vertical-align: top;\n    }\n\n    .dataframe thead th {\n        text-align: right;\n    }\n</style>\n<table border=\"1\" class=\"dataframe\">\n  <thead>\n    <tr style=\"text-align: right;\">\n      <th></th>\n      <th>name</th>\n      <th>height</th>\n      <th>mass</th>\n      <th>hair_color</th>\n      <th>skin_color</th>\n      <th>eye_color</th>\n      <th>birth_year</th>\n      <th>gender</th>\n      <th>homeworld</th>\n      <th>species</th>\n    </tr>\n  </thead>\n  <tbody>\n    <tr>\n      <th>0</th>\n      <td>Luke Skywalker</td>\n      <td>172.0</td>\n      <td>77</td>\n      <td>blond</td>\n      <td>fair</td>\n      <td>blue</td>\n      <td>19BBY</td>\n      <td>male</td>\n      <td>Tatooine</td>\n      <td>Human</td>\n    </tr>\n    <tr>\n      <th>3</th>\n      <td>Darth Vader</td>\n      <td>202.0</td>\n      <td>136</td>\n      <td>none</td>\n      <td>white</td>\n      <td>yellow</td>\n      <td>41.9BBY</td>\n      <td>male</td>\n      <td>Tatooine</td>\n      <td>Human</td>\n    </tr>\n    <tr>\n      <th>4</th>\n      <td>Leia Organa</td>\n      <td>150.0</td>\n      <td>49</td>\n      <td>brown</td>\n      <td>light</td>\n      <td>brown</td>\n      <td>19BBY</td>\n      <td>female</td>\n      <td>Alderaan</td>\n      <td>Human</td>\n    </tr>\n    <tr>\n      <th>5</th>\n      <td>Owen Lars</td>\n      <td>178.0</td>\n      <td>120</td>\n      <td>brown, grey</td>\n      <td>light</td>\n      <td>blue</td>\n      <td>52BBY</td>\n      <td>male</td>\n      <td>Tatooine</td>\n      <td>Human</td>\n    </tr>\n    <tr>\n      <th>6</th>\n      <td>Beru Whitesun lars</td>\n      <td>165.0</td>\n      <td>75</td>\n      <td>brown</td>\n      <td>light</td>\n      <td>blue</td>\n      <td>47BBY</td>\n      <td>female</td>\n      <td>Tatooine</td>\n      <td>Human</td>\n    </tr>\n    <tr>\n      <th>8</th>\n      <td>Biggs Darklighter</td>\n      <td>183.0</td>\n      <td>84</td>\n      <td>black</td>\n      <td>light</td>\n      <td>brown</td>\n      <td>24BBY</td>\n      <td>male</td>\n      <td>Tatooine</td>\n      <td>Human</td>\n    </tr>\n    <tr>\n      <th>9</th>\n      <td>Obi-Wan Kenobi</td>\n      <td>182.0</td>\n      <td>77</td>\n      <td>auburn, white</td>\n      <td>fair</td>\n      <td>blue-gray</td>\n      <td>57BBY</td>\n      <td>male</td>\n      <td>Stewjon</td>\n      <td>Human</td>\n    </tr>\n    <tr>\n      <th>10</th>\n      <td>Anakin Skywalker</td>\n      <td>188.0</td>\n      <td>84</td>\n      <td>blond</td>\n      <td>fair</td>\n      <td>blue</td>\n      <td>41.9BBY</td>\n      <td>male</td>\n      <td>Tatooine</td>\n      <td>Human</td>\n    </tr>\n    <tr>\n      <th>13</th>\n      <td>Han Solo</td>\n      <td>180.0</td>\n      <td>80</td>\n      <td>brown</td>\n      <td>fair</td>\n      <td>brown</td>\n      <td>29BBY</td>\n      <td>male</td>\n      <td>Corellia</td>\n      <td>Human</td>\n    </tr>\n    <tr>\n      <th>16</th>\n      <td>Wedge Antilles</td>\n      <td>170.0</td>\n      <td>77</td>\n      <td>brown</td>\n      <td>fair</td>\n      <td>hazel</td>\n      <td>21BBY</td>\n      <td>male</td>\n      <td>Corellia</td>\n      <td>Human</td>\n    </tr>\n    <tr>\n      <th>19</th>\n      <td>Palpatine</td>\n      <td>170.0</td>\n      <td>75</td>\n      <td>grey</td>\n      <td>pale</td>\n      <td>yellow</td>\n      <td>82BBY</td>\n      <td>male</td>\n      <td>Naboo</td>\n      <td>Human</td>\n    </tr>\n    <tr>\n      <th>20</th>\n      <td>Boba Fett</td>\n      <td>183.0</td>\n      <td>78.2</td>\n      <td>black</td>\n      <td>fair</td>\n      <td>brown</td>\n      <td>31.5BBY</td>\n      <td>male</td>\n      <td>Kamino</td>\n      <td>Human</td>\n    </tr>\n    <tr>\n      <th>22</th>\n      <td>Bossk</td>\n      <td>190.0</td>\n      <td>113</td>\n      <td>none</td>\n      <td>green</td>\n      <td>red</td>\n      <td>53BBY</td>\n      <td>male</td>\n      <td>Trandosha</td>\n      <td>Trandoshan</td>\n    </tr>\n    <tr>\n      <th>23</th>\n      <td>Lando Calrissian</td>\n      <td>177.0</td>\n      <td>79</td>\n      <td>black</td>\n      <td>dark</td>\n      <td>brown</td>\n      <td>31BBY</td>\n      <td>male</td>\n      <td>Socorro</td>\n      <td>Human</td>\n    </tr>\n    <tr>\n      <th>24</th>\n      <td>Lobot</td>\n      <td>175.0</td>\n      <td>79</td>\n      <td>none</td>\n      <td>light</td>\n      <td>blue</td>\n      <td>37BBY</td>\n      <td>male</td>\n      <td>Bespin</td>\n      <td>Human</td>\n    </tr>\n    <tr>\n      <th>25</th>\n      <td>Ackbar</td>\n      <td>180.0</td>\n      <td>83</td>\n      <td>none</td>\n      <td>brown mottle</td>\n      <td>orange</td>\n      <td>41BBY</td>\n      <td>male</td>\n      <td>Mon Cala</td>\n      <td>Mon Calamari</td>\n    </tr>\n    <tr>\n      <th>28</th>\n      <td>Wicket Systri Warrick</td>\n      <td>88.0</td>\n      <td>20</td>\n      <td>brown</td>\n      <td>brown</td>\n      <td>brown</td>\n      <td>8BBY</td>\n      <td>male</td>\n      <td>Endor</td>\n      <td>Ewok</td>\n    </tr>\n    <tr>\n      <th>33</th>\n      <td>Jar Jar Binks</td>\n      <td>196.0</td>\n      <td>66</td>\n      <td>none</td>\n      <td>orange</td>\n      <td>orange</td>\n      <td>52BBY</td>\n      <td>male</td>\n      <td>Naboo</td>\n      <td>Gungan</td>\n    </tr>\n    <tr>\n      <th>41</th>\n      <td>Darth Maul</td>\n      <td>175.0</td>\n      <td>80</td>\n      <td>none</td>\n      <td>red</td>\n      <td>yellow</td>\n      <td>54BBY</td>\n      <td>male</td>\n      <td>Dathomir</td>\n      <td>Zabrak</td>\n    </tr>\n    <tr>\n      <th>43</th>\n      <td>Ayla Secura</td>\n      <td>178.0</td>\n      <td>55</td>\n      <td>none</td>\n      <td>blue</td>\n      <td>hazel</td>\n      <td>48BBY</td>\n      <td>female</td>\n      <td>Ryloth</td>\n      <td>Twi'lek</td>\n    </tr>\n    <tr>\n      <th>47</th>\n      <td>Mace Windu</td>\n      <td>188.0</td>\n      <td>84</td>\n      <td>none</td>\n      <td>dark</td>\n      <td>brown</td>\n      <td>72BBY</td>\n      <td>male</td>\n      <td>Haruun Kal</td>\n      <td>Human</td>\n    </tr>\n    <tr>\n      <th>48</th>\n      <td>Ki-Adi-Mundi</td>\n      <td>198.0</td>\n      <td>82</td>\n      <td>white</td>\n      <td>pale</td>\n      <td>yellow</td>\n      <td>92BBY</td>\n      <td>male</td>\n      <td>Cerea</td>\n      <td>Cerean</td>\n    </tr>\n    <tr>\n      <th>54</th>\n      <td>Plo Koon</td>\n      <td>188.0</td>\n      <td>80</td>\n      <td>none</td>\n      <td>orange</td>\n      <td>black</td>\n      <td>22BBY</td>\n      <td>male</td>\n      <td>Dorin</td>\n      <td>Kel Dor</td>\n    </tr>\n    <tr>\n      <th>60</th>\n      <td>Luminara Unduli</td>\n      <td>170.0</td>\n      <td>56.2</td>\n      <td>black</td>\n      <td>yellow</td>\n      <td>blue</td>\n      <td>58BBY</td>\n      <td>female</td>\n      <td>Mirial</td>\n      <td>Mirialan</td>\n    </tr>\n    <tr>\n      <th>61</th>\n      <td>Barriss Offee</td>\n      <td>166.0</td>\n      <td>50</td>\n      <td>black</td>\n      <td>yellow</td>\n      <td>blue</td>\n      <td>40BBY</td>\n      <td>female</td>\n      <td>Mirial</td>\n      <td>Mirialan</td>\n    </tr>\n    <tr>\n      <th>63</th>\n      <td>Dooku</td>\n      <td>193.0</td>\n      <td>80</td>\n      <td>white</td>\n      <td>fair</td>\n      <td>brown</td>\n      <td>102BBY</td>\n      <td>male</td>\n      <td>Serenno</td>\n      <td>Human</td>\n    </tr>\n    <tr>\n      <th>65</th>\n      <td>Jango Fett</td>\n      <td>183.0</td>\n      <td>79</td>\n      <td>black</td>\n      <td>tan</td>\n      <td>brown</td>\n      <td>66BBY</td>\n      <td>male</td>\n      <td>Concord Dawn</td>\n      <td>Human</td>\n    </tr>\n    <tr>\n      <th>86</th>\n      <td>Padmé Amidala</td>\n      <td>165.0</td>\n      <td>45</td>\n      <td>brown</td>\n      <td>light</td>\n      <td>brown</td>\n      <td>46BBY</td>\n      <td>female</td>\n      <td>Naboo</td>\n      <td>Human</td>\n    </tr>\n  </tbody>\n</table>\n</div>"
     },
     "execution_count": 65,
     "metadata": {},
     "output_type": "execute_result"
    }
   ],
   "source": [
    "# Identify bounds, note pandas.DataFrame.mad is deprecated since version 1.5.0\n",
    "from scipy import stats\n",
    "\n",
    "x= starwars['height']\n",
    "\n",
    "higherBound= stats.median_abs_deviation(x) + 3 * x.std()\n",
    "lowerBound= stats.median_abs_deviation(x) - 3 * x.std()\n",
    "print (lowerBound,higherBound)\n",
    "\n",
    "## Identify the rows with value greater than cutoff * sd \n",
    "starwars[(starwars['height'] > higherBound)|(starwars['height'] < lowerBound)] "
   ],
   "metadata": {
    "collapsed": false,
    "ExecuteTime": {
     "end_time": "2023-11-24T01:56:32.840112800Z",
     "start_time": "2023-11-24T01:56:32.780604800Z"
    }
   },
   "id": "991f19e6e2d5981f"
  },
  {
   "cell_type": "markdown",
   "source": [
    "可以看到，使用Hample Identifier方法，上下边界不太靠谱。"
   ],
   "metadata": {
    "collapsed": false
   },
   "id": "18ae4835103b899a"
  },
  {
   "cell_type": "markdown",
   "id": "5279a9f9",
   "metadata": {},
   "source": [
    "\n",
    "\n",
    "# 3. Data Scaling and Normalization\n",
    "- in scaling, you're changing the range of your data.\n",
    "- in normalization, you're changing the shape of the distribution of your data."
   ]
  },
  {
   "cell_type": "markdown",
   "id": "99c8915a",
   "metadata": {},
   "source": [
    "## 1. Scaling\n",
    "It means that you're transforming your data so that it fits within a specific scale, like 0-100 or 0-1. You want to scale data when you're using methods based on measures of how far apart data points are, like **support vector machines (SVM)** or **k-nearest neighbors (KNN)**. With these algorithms, a change of \"1\" in any numeric feature is given the same importance.\\\n",
    "## 2. Normalization\n",
    "It is more radical than scaling, while scaling is only change the range of data, Normalization will make the data apply to the normal distribution.  \n",
    "\n",
    "Scaling 侧重于调整数据的范围，以确保数据值在相似的尺度上，而 Normalization 侧重于确保数据的分布接近正态分布，以改善某些统计和机器学习算法的性能。"
   ]
  },
  {
   "cell_type": "markdown",
   "id": "6a144a5f",
   "metadata": {},
   "source": [
    "\n",
    "`StandardScaler` 进行数据标准化，这将使数据的均值为0，标准差为1。 \n",
    "\n",
    "`MinMaxScaler` 用于将特征缩放到指定的范围，通常是[0, 1]。它通过缩放特征的范围来进行标准化。  \n",
    "\n",
    "`RobustScaler` RobustScaler 是一种鲁棒的标准化方法，不受异常值的影响。它使用中位数和四分位距来进行标准化。\n",
    "\n",
    "`stats.boxcox(data)` Box-Cox是一种使数据更接近正态分布的方法。它特别适用于具有正偏斜或负偏斜分布的数据，通过引入一个幂函数来调整数据的分布，使其更加对称。与StandardScaler只改变数据均值和方差而不改变分布形式不同，box-cox会使得数据更趋向于正态曲线的形状。"
   ]
  },
  {
   "cell_type": "code",
   "execution_count": 14,
   "id": "b17592c2",
   "metadata": {},
   "outputs": [
    {
     "name": "stdout",
     "output_type": "stream",
     "text": [
      "StandardScaler:\n",
      " [[-1.41421356 -1.41421356]\n",
      " [-0.70710678 -0.70710678]\n",
      " [ 0.          0.        ]\n",
      " [ 0.70710678  0.70710678]\n",
      " [ 1.41421356  1.41421356]]\n",
      "MinMaxScaler:\n",
      " [[0.   0.  ]\n",
      " [0.25 0.25]\n",
      " [0.5  0.5 ]\n",
      " [0.75 0.75]\n",
      " [1.   1.  ]]\n",
      "RobustScaler:\n",
      " [[-1.  -1. ]\n",
      " [-0.5 -0.5]\n",
      " [ 0.   0. ]\n",
      " [ 0.5  0.5]\n",
      " [ 1.   1. ]]\n",
      "[[0.         0.89208537]\n",
      " [0.88891532 1.65361614]\n",
      " [1.64391667 2.34108893]\n",
      " [2.32328259 2.97826691]\n",
      " [2.95143046 3.57803422]]\n"
     ]
    }
   ],
   "source": [
    "from sklearn.preprocessing import StandardScaler, MinMaxScaler, Normalizer, RobustScaler\n",
    "import numpy as np\n",
    "\n",
    "data = [[1, 2], [2, 3], [3, 4], [4, 5], [5, 6]]\n",
    "\n",
    "std_scaler=StandardScaler()\n",
    "d1 = std_scaler.fit_transform(data)\n",
    "print('StandardScaler:\\n',d1)\n",
    "\n",
    "minmax_scaler=MinMaxScaler()\n",
    "d2=minmax_scaler.fit_transform(data)\n",
    "print('MinMaxScaler:\\n',d2)\n",
    "\n",
    "rob_scaler=RobustScaler()\n",
    "d3=rob_scaler.fit_transform(data)\n",
    "print('RobustScaler:\\n',d3)\n",
    "\n",
    "\n",
    "data_array = np.array(data)\n",
    "\n",
    "# 分别对每个特征进行 Box-Cox 转换\n",
    "# transformed_data = np.empty_like(data_array, dtype=float)\n",
    "for i in range(data_array.shape[1]):\n",
    "    transformed_data[:, i], lambda_value = stats.boxcox(data_array[:, i])\n",
    "\n",
    "print(transformed_data)"
   ]
  },
  {
   "cell_type": "markdown",
   "id": "2aa08aee",
   "metadata": {},
   "source": [
    "# 4. Parsing Data 数据解析\n",
    "\"解析数据\" 是指从原始数据中提取所需信息的过程。在数据科学和编程中，这通常涉及将原始数据转换为可操作的结构化格式，如列表、字典、DataFrame等，以便进一步分析和处理数据。解析数据是数据预处理的一部分，通常用于清洗、转换和准备数据以供分析或建模使用。"
   ]
  },
  {
   "cell_type": "markdown",
   "id": "5ee3019d",
   "metadata": {},
   "source": [
    "## 1. Binning\n",
    "\"Binning\"（有时也称为 \"bucketing\"）是一种数据预处理技术，用于减少次要观测误差的影响，将连续变量转换为分类变量，或简化复杂的连续变量。在数据分析和机器学习中，binning 常用于数据清洗、预处理，以及提升模型的稳健性。\n",
    "\n",
    "基本概念\\\n",
    "目的：通过将数据分组（分桶）来减少次要变异，从而简化模型。\\\n",
    "过程：将数据范围分割成一系列“桶”或“箱”，然后将每个数据点归入相应的桶中。\n",
    "\n",
    "类型\n",
    "等宽分箱（Equal-width binning）：\\\n",
    "将数据的范围分成具有相同宽度的区间。\\\n",
    "例如，将年龄分为0-20、21-40、41-60等。\n",
    "\n",
    "等频分箱（Equal-frequency binning）：\\\n",
    "将数据分成包含相同数量数据点的区间。\\\n",
    "例如，将一组数据分成四个部分，每部分包含相同数量的数据点。\n",
    "\n",
    "基于聚类的分箱：\\\n",
    "使用聚类算法（如 k-means）来确定最佳的分箱方式。\\\n",
    "每个“桶”代表一个聚类。\n",
    "\n",
    "\n",
    "应用\n",
    "数据可视化：在绘制柱状图或直方图时，binning 可以帮助更好地理解数据分布。\\\n",
    "数据模型：在训练机器学习模型时，binning 可以帮助处理连续变量，减少过拟合，提升模型的泛化能力。\\\n",
    "降噪：通过分组减少数据中的小波动和噪声"
   ]
  },
  {
   "cell_type": "code",
   "execution_count": 3,
   "id": "b1c427a1",
   "metadata": {},
   "outputs": [
    {
     "data": {
      "text/plain": [
       "['Youth', 'Young Adult', 'Young Adult', 'Young Adult', 'Young Adult', 'Young Adult', 'Young Adult', 'Senior', 'Senior', 'Senior']\n",
       "Categories (3, object): ['Youth' < 'Young Adult' < 'Senior']"
      ]
     },
     "execution_count": 3,
     "metadata": {},
     "output_type": "execute_result"
    }
   ],
   "source": [
    "import pandas as pd\n",
    "\n",
    "data = [15, 22, 24, 25, 35, 36, 40, 45, 55, 60]\n",
    "bins = [0, 20, 40, 60]\n",
    "labels = ['Youth', 'Young Adult', 'Senior']\n",
    "\n",
    "data_bins=pd.cut(data, bins=bins, labels=labels)\n",
    "data_bins"
   ]
  },
  {
   "cell_type": "markdown",
   "id": "03e48810",
   "metadata": {},
   "source": [
    "## 2. DateTime type\n",
    "使用 Pandas 的 pd.to_datetime 函数来将指定数据转换成`datetime`格式，方便直接进行时间相关的一些分析\n",
    "\n",
    "`pd.to_datetime(data,format='',infer_datetime_format=T/F)` 设置infer_datetime_format后可以让pandas自动根据数据进行格式判断，但速度比直接设置format要慢很多。如果不设置format，该函数将按照默认格式（常见）进行解析。\n",
    "\n",
    "当使用to_datetime进行解析后，可以对解析完成的datetime数据使用`.dt.day/month/year`进行访问单独的年月日。"
   ]
  },
  {
   "cell_type": "code",
   "execution_count": 46,
   "id": "ce43a9b6",
   "metadata": {},
   "outputs": [
    {
     "name": "stdout",
     "output_type": "stream",
     "text": [
      "         date\n",
      "0  2023-10-23\n",
      "1   2023-3-24\n",
      "2   2023-1-25 \n",
      "\n",
      "         date parsed_date\n",
      "0  2023-10-23  2023-10-23\n",
      "1   2023-3-24  2023-03-24\n",
      "2   2023-1-25  2023-01-25\n",
      "<class 'pandas.core.series.Series'>\n",
      "datetime64[ns]\n",
      "Day:\n",
      " 0    23\n",
      "1    24\n",
      "2    25\n",
      "Name: parsed_date, dtype: int64\n",
      "Month:\n",
      " 0    10\n",
      "1     3\n",
      "2     1\n",
      "Name: parsed_date, dtype: int64\n"
     ]
    }
   ],
   "source": [
    "import pandas as pd\n",
    "import seaborn as sns\n",
    "\n",
    "# 创建一个示例 DataFrame\n",
    "data = {'date': ['2023-10-23', '2023-3-24', '2023-1-25']}\n",
    "df = pd.DataFrame(data)\n",
    "print(df,'\\n')\n",
    "\n",
    "# 将 \"date\" 列转换为 datetime 格式\n",
    "df['parsed_date']=pd.to_datetime(df.date)\n",
    "\n",
    "# 现在 \"date\" 列已经是 datetime 格式\n",
    "print(df)\n",
    "print(type(df.date)) #<class 'pandas.core.series.Series'>\n",
    "print(df.parsed_date.dtype)  #datetime64[ns]\n",
    "\n",
    "#使用.dt方法进行访问\n",
    "print('Day:\\n',df['parsed_date'].dt.day)\n",
    "print('Month:\\n',df['parsed_date'].dt.month)\n",
    "\n"
   ]
  },
  {
   "cell_type": "markdown",
   "id": "8793cca9",
   "metadata": {},
   "source": [
    "## 3. 文本数据进行字符串处理（对于整个series作用）\n",
    "对于inconsistent text, 一般处理步骤为：  \n",
    "统一大小写`.str.lower()/upper()` --> 去除空格 `.str.strip()`  --> 模糊匹配 fuzzy matching\n",
    "\n",
    "**`.str`** 是 Pandas 中的一个强大属性，用于对 Series 中的文本数据进行各种字符串操作和方法调用。.str.len()方法可以应用于Series中的每个元素，确保在处理文本数据时具有一致的行为。 使用方法：先提取dataframe中的一列，对该列进行.str操作\n",
    "\n",
    "以下是一些常见的 .str 方法和使用示例：\n"
   ]
  },
  {
   "cell_type": "markdown",
   "id": "8406ae50",
   "metadata": {},
   "source": [
    "### 字符串长度：`.str.len()`"
   ]
  },
  {
   "cell_type": "code",
   "execution_count": 47,
   "id": "6bb62820",
   "metadata": {},
   "outputs": [
    {
     "name": "stdout",
     "output_type": "stream",
     "text": [
      "0    5\n",
      "1    3\n",
      "2    7\n",
      "Name: Name, dtype: int64\n"
     ]
    }
   ],
   "source": [
    "data = {'Name': ['Alice', 'Bob', 'Charlie']}\n",
    "df = pd.DataFrame(data)\n",
    "name_series = df['Name']\n",
    "\n",
    "name_lengths = name_series.str.len()\n",
    "print(name_lengths)\n"
   ]
  },
  {
   "cell_type": "markdown",
   "id": "f2988c1f",
   "metadata": {},
   "source": [
    "### 字符串拆分：`.str.split()`\n",
    "参数设置：\n",
    "- n：指定拆分的次数，如果不指定，则拆分所有字符串；若设置为1，则在遇见第一个分隔符时停止拆分。\n",
    "- expand：是否将拆分后的字符串扩展为独立的一列，如果为True，则扩展为独立的一列，如果为False，则保持原来的格式。"
   ]
  },
  {
   "cell_type": "code",
   "execution_count": 48,
   "id": "22450c1f",
   "metadata": {},
   "outputs": [
    {
     "name": "stdout",
     "output_type": "stream",
     "text": [
      "0    [apple, banana, cherry]\n",
      "dtype: object\n"
     ]
    }
   ],
   "source": [
    "text = \"apple,banana,cherry\"\n",
    "fruits = pd.Series([text])\n",
    "fruit_list = fruits.str.split(',')\n",
    "print(fruit_list)\n"
   ]
  },
  {
   "cell_type": "markdown",
   "id": "b64f29ef",
   "metadata": {},
   "source": [
    "### 字符串去除空格：`.str.strip()` 去除两侧空格"
   ]
  },
  {
   "cell_type": "code",
   "execution_count": 57,
   "id": "b87f7ebb",
   "metadata": {},
   "outputs": [
    {
     "name": "stdout",
     "output_type": "stream",
     "text": [
      "0    This is a sentence with leading and trailing\n",
      "dtype: object\n"
     ]
    }
   ],
   "source": [
    "text = \"       This is a sentence with leading and trailing  \"\n",
    "sentence = pd.Series([text])\n",
    "trimmed_sentence = sentence.str.strip()\n",
    "print(trimmed_sentence)"
   ]
  },
  {
   "cell_type": "markdown",
   "id": "7c48332a",
   "metadata": {},
   "source": [
    "### 字符串替换：`.str.replace('ori_str','new_str')`  使用空字符可以将内部空格去除"
   ]
  },
  {
   "cell_type": "code",
   "execution_count": 60,
   "id": "5669751a",
   "metadata": {},
   "outputs": [
    {
     "name": "stdout",
     "output_type": "stream",
     "text": [
      "0    I like bananas and bananas are good.\n",
      "dtype: object\n",
      "0      Thisisanexample\n",
      "1    Removeextraspaces\n",
      "2     Keepsinglespaces\n",
      "Name: Text, dtype: object\n"
     ]
    }
   ],
   "source": [
    "text = \"I like apples and apples are good.\"\n",
    "sentence = pd.Series([text])\n",
    "new_sentence = sentence.str.replace('apples', 'bananas')\n",
    "print(new_sentence)\n",
    "\n",
    "import pandas as pd\n",
    "\n",
    "data = {'Text': ['This is an example', 'Remove   extra   spaces', '  Keep  single  spaces ']}\n",
    "df = pd.DataFrame(data)\n",
    "text_series = df['Text']\n",
    "\n",
    "# 使用 .str.replace() 去除内部空格\n",
    "text_no_spaces = text_series.str.replace(' ', '')\n",
    "print(text_no_spaces)\n"
   ]
  },
  {
   "cell_type": "markdown",
   "id": "2093cd64",
   "metadata": {},
   "source": [
    "### 字符串提取：`.str.extract()` 按照正则式提取字符串"
   ]
  },
  {
   "cell_type": "code",
   "execution_count": 58,
   "id": "c3f18363",
   "metadata": {},
   "outputs": [
    {
     "name": "stdout",
     "output_type": "stream",
     "text": [
      "              0\n",
      "0  555-123-4567\n"
     ]
    }
   ],
   "source": [
    "text = \"My phone number is 555-123-4567.\"\n",
    "sentence = pd.Series([text])\n",
    "phone_numbers = sentence.str.extract(r'(\\d{3}-\\d{3}-\\d{4})')\n",
    "print(phone_numbers)\n"
   ]
  },
  {
   "cell_type": "markdown",
   "id": "70deeb82",
   "metadata": {},
   "source": [
    "### 字符串大小写转换：`.str.upper()/lower()`"
   ]
  },
  {
   "cell_type": "code",
   "execution_count": 50,
   "id": "f798d976",
   "metadata": {},
   "outputs": [
    {
     "name": "stdout",
     "output_type": "stream",
     "text": [
      "0      ALICE\n",
      "1        BOB\n",
      "2    CHARLIE\n",
      "dtype: object 0      alice\n",
      "1        bob\n",
      "2    charlie\n",
      "dtype: object\n"
     ]
    }
   ],
   "source": [
    "names = pd.Series(['Alice', 'Bob', 'Charlie'])\n",
    "uppercase_names = names.str.upper()\n",
    "lowercase_names = names.str.lower()\n",
    "\n",
    "print(uppercase_names,lowercase_names)"
   ]
  },
  {
   "cell_type": "markdown",
   "id": "985f7590",
   "metadata": {},
   "source": [
    "### Fuzzy matching:  `.fuzzywuzzy.process.extract('query_str', 'ori_str', limit=, scorer=)`\n",
    "The process of automatically finding text strings that are very similar to the target string. \\\n",
    "limit: 表示找出前多少个与目标query相似的str；  \n",
    "scorer: 使用不同得分进行相似度判断；\n",
    "\n",
    "**fuzz.ratio**：\\\n",
    "fuzz.ratio 函数用于计算两个字符串之间的相似性分数，它将两个字符串视为一个整体进行比较。\\\n",
    "这个函数比较字符串的所有字符，包括它们的顺序，以确定相似性。\\\n",
    "fuzz.ratio 适用于字符串完全匹配的情况，或者当你关心字符串的整体相似性时。\n",
    "\n",
    "**fuzz.token_sort_ratio**：\\\n",
    "fuzz.token_sort_ratio 函数也用于计算字符串之间的相似性分数，但它在比较前会先对字符串中的单词进行排序。\\\n",
    "这个函数会将字符串分割成单词，并对这些单词进行排序，然后再进行相似性比较。\\\n",
    "fuzz.token_sort_ratio 更适合处理单词顺序不同但单词内容相似的情况。例如，它可以用于处理**两个句子的相似性**，即使单词的顺序不同，也能得到合理的匹配。"
   ]
  },
  {
   "cell_type": "code",
   "execution_count": 9,
   "id": "a88bca13",
   "metadata": {
    "scrolled": true
   },
   "outputs": [
    {
     "name": "stdout",
     "output_type": "stream",
     "text": [
      "fuzz.ratio: 68\n",
      "fuzz.token_sort_ratio: 100\n"
     ]
    }
   ],
   "source": [
    "## 注意使用jupyter notebook， pip前面要加！\n",
    "# !pip install fuzzywuzzy\n",
    "# !pip install python-Levenshtein  安装这个库用于提升字符串比较性能和速度\n",
    "\n",
    "# fuzz用于比较两个字符串相似度\n",
    "from fuzzywuzzy import fuzz\n",
    "\n",
    "\n",
    "string1 = \"apple banana cherry\"\n",
    "string2 = \"banana cherry apple\"\n",
    "\n",
    "# 使用 fuzz.ratio 比较字符串相似性\n",
    "ratio1 = fuzz.ratio(string1, string2)\n",
    "print(\"fuzz.ratio:\", ratio1)\n",
    "\n",
    "# 使用 fuzz.token_sort_ratio 比较字符串相似性\n",
    "ratio2 = fuzz.token_sort_ratio(string1, string2)\n",
    "print(\"fuzz.token_sort_ratio:\", ratio2)\n"
   ]
  },
  {
   "cell_type": "code",
   "execution_count": 16,
   "id": "09c4fea6",
   "metadata": {},
   "outputs": [
    {
     "name": "stdout",
     "output_type": "stream",
     "text": [
      "[('apple', 100), ('pplea', 80), ('appppple', 77), ('date', 44)]\n",
      "[('apple', 100), ('pplea', 80), ('appppple', 77), ('date', 44)]\n"
     ]
    }
   ],
   "source": [
    "# 用process.extract（）找出一系列字符串中与目标字符串相似度最高的\n",
    "from fuzzywuzzy import process\n",
    "\n",
    "choices = [\"apple\", \"banana\", \"pplea\", 'appppple',\"date\"]\n",
    "\n",
    "result = process.extract('apple', choices, scorer=fuzz.ratio, limit=4)\n",
    "print(result)\n",
    "\n",
    "result = process.extract('apple', choices, scorer=fuzz.token_sort_ratio, limit=4)\n",
    "print(result)\n",
    "\n",
    "# 注意 fuzz.token_sort_ratio 一般用于比较两个句子的相似度。\n",
    "\n"
   ]
  },
  {
   "cell_type": "markdown",
   "id": "ccd245f1",
   "metadata": {},
   "source": [
    "# 5. Character Encodings\n",
    "\n",
    "encode:将二进制字符转换为各种人类能看懂的字符；  \n",
    "decode：转换成二进制字符  \n",
    "\n",
    "Character encodings are specific sets of rules for mapping from raw binary byte strings (that look like this: 0110100001101001) to characters that make up human-readable text (like \"hi\").   \n",
    "\n",
    "When we use a different encoding to encode the string, it may cause some lost and when decoding, we cannot find it back."
   ]
  },
  {
   "cell_type": "code",
   "execution_count": 16,
   "id": "4c716ece",
   "metadata": {},
   "outputs": [
    {
     "name": "stdout",
     "output_type": "stream",
     "text": [
      "This is the euro symbol: € <class 'str'>\n",
      "b'This is the euro symbol: \\xe2\\x82\\xac' <class 'bytes'>\n",
      "This is the euro symbol: € <class 'str'>\n",
      "\n",
      " b'This is the euro symbol: ?' <class 'bytes'>\n",
      "This is the euro symbol: ?\n"
     ]
    }
   ],
   "source": [
    "before = \"This is the euro symbol: €\"\n",
    "print(before,type(before))\n",
    "\n",
    "after=before.encode('utf-8')\n",
    "print(after,type(after))\n",
    "\n",
    "decode_after=after.decode('utf-8')\n",
    "print(decode_after,type(decode_after))\n",
    "\n",
    "\n",
    "# encode it to a different encoding, replacing characters that raise errors\n",
    "after = before.encode(\"ascii\", errors = \"replace\")\n",
    "print('\\n',after,type(after))\n",
    "\n",
    "# convert it back to utf-8\n",
    "print(after.decode(\"ascii\"))\n"
   ]
  },
  {
   "cell_type": "markdown",
   "id": "abe04efc",
   "metadata": {},
   "source": [
    "When we open a file and it turns out to be wrong with encoding problems, we can then use some tools to get the right encoding.  \n",
    "\n",
    "`detect(data)` from charset_normalizer import detect, this function can detect the encoding without open the whole file.\\\n",
    "注意，如果只输入前10000行给detect进行编码格式猜测可能会得到错误encoding， 此时可以输入更多行来进行猜测"
   ]
  },
  {
   "cell_type": "code",
   "execution_count": 32,
   "id": "fa1acbcf",
   "metadata": {},
   "outputs": [
    {
     "name": "stdout",
     "output_type": "stream",
     "text": [
      "Detected Encoding: {'encoding': 'utf-8', 'language': 'English', 'confidence': 1.0}\n",
      "\n",
      "utf-8 decode:\n",
      " This is a sample text file.\r\n",
      "这是一个示例文本文件。\r\n",
      "Ceci est un fichier texte d'exemple.\r\n",
      "これはサンプルテキストファイルです。\r\n",
      "Esto es un archivo de texto de muestra.\r\n"
     ]
    }
   ],
   "source": [
    "from charset_normalizer import detect\n",
    "\n",
    "# 打开文件并读取前 10000 字节\n",
    "with open('E:\\Programming\\Dataset_prac\\encoding_test.txt', 'rb') as file:  # rb 表示只读（r）且二进制（b）\n",
    "    data = file.read(10000)  # 前10000行存入data\n",
    "\n",
    "# 使用 charset_normalizer.detect() 检测字符编码\n",
    "encoding = detect(data)\n",
    "# 打印检测到的字符编码\n",
    "print(\"Detected Encoding:\", encoding)  # confidence表示认为100%为utf-8编码\n",
    "\n",
    "# 使用检测到的字符编码解码文本数据\n",
    "decoded_text = data.decode('utf-8')\n",
    "# 打印解码后的文本\n",
    "print('\\nutf-8 decode:\\n',decoded_text)\n"
   ]
  },
  {
   "cell_type": "code",
   "execution_count": null,
   "id": "c2e3366d",
   "metadata": {},
   "outputs": [],
   "source": []
  },
  {
   "cell_type": "code",
   "execution_count": null,
   "id": "266d77ec",
   "metadata": {},
   "outputs": [],
   "source": []
  }
 ],
 "metadata": {
  "kernelspec": {
   "display_name": "Python 3 (ipykernel)",
   "language": "python",
   "name": "python3"
  },
  "language_info": {
   "codemirror_mode": {
    "name": "ipython",
    "version": 3
   },
   "file_extension": ".py",
   "mimetype": "text/x-python",
   "name": "python",
   "nbconvert_exporter": "python",
   "pygments_lexer": "ipython3",
   "version": "3.9.12"
  }
 },
 "nbformat": 4,
 "nbformat_minor": 5
}
